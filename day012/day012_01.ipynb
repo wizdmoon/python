{
 "cells": [
  {
   "cell_type": "code",
   "execution_count": 92,
   "id": "9799c597",
   "metadata": {},
   "outputs": [
    {
     "name": "stdout",
     "output_type": "stream",
     "text": [
      "   Unnamed: 0  a   b   c   d message\n",
      "0           0  1   2   3   4   hello\n",
      "1           1  5   6   7   8   world\n",
      "2           2  8  10  11  12     foo\n",
      "3           3  9   5   2  13    gooo\n",
      "4           4  1   3   4   7    five\n"
     ]
    },
    {
     "name": "stderr",
     "output_type": "stream",
     "text": [
      "<>:4: SyntaxWarning: invalid escape sequence '\\d'\n",
      "<>:4: SyntaxWarning: invalid escape sequence '\\d'\n",
      "C:\\Users\\MOON\\AppData\\Local\\Temp\\ipykernel_4308\\621340499.py:4: SyntaxWarning: invalid escape sequence '\\d'\n",
      "  df = pd.read_csv('data\\data.csv')\n"
     ]
    }
   ],
   "source": [
    "import pandas as pd\n",
    "import numpy as np\n",
    "\n",
    "df = pd.read_csv('data\\data.csv')\n",
    "\n",
    "print(df.head())"
   ]
  },
  {
   "cell_type": "code",
   "execution_count": 7,
   "id": "73bd4b3e",
   "metadata": {},
   "outputs": [
    {
     "name": "stdout",
     "output_type": "stream",
     "text": [
      "   Unnamed: 0  a   b   c   d message\n",
      "0           0  1   2   3   4   hello\n",
      "1           1  5   6   7   8   world\n",
      "2           2  8  10  11  12     foo\n",
      "3           3  9   5   2  13    gooo\n",
      "4           4  1   3   4   7    five\n"
     ]
    },
    {
     "name": "stderr",
     "output_type": "stream",
     "text": [
      "<>:1: SyntaxWarning: invalid escape sequence '\\d'\n",
      "<>:1: SyntaxWarning: invalid escape sequence '\\d'\n",
      "C:\\Users\\MOON\\AppData\\Local\\Temp\\ipykernel_4308\\4286511575.py:1: SyntaxWarning: invalid escape sequence '\\d'\n",
      "  df2 = pd.read_excel('data\\data.xlsx', sheet_name=0)\n"
     ]
    }
   ],
   "source": [
    "df2 = pd.read_excel('data\\data.xlsx', sheet_name=0)\n",
    "print(df2.head())\n"
   ]
  },
  {
   "cell_type": "code",
   "execution_count": 9,
   "id": "b74e2dba",
   "metadata": {},
   "outputs": [
    {
     "name": "stdout",
     "output_type": "stream",
     "text": [
      "                  editor.fontSize  editor.fontWeight  \\\n",
      "*.ipynb                        19               1000   \n",
      "default                        19               1000   \n",
      "jupyter-notebook               19               1000   \n",
      "*.py                           19               1000   \n",
      "\n",
      "                  code-runner.saveFileBeforeRun  code-runner.runInTerminal  \\\n",
      "*.ipynb                                    True                       True   \n",
      "default                                    True                       True   \n",
      "jupyter-notebook                           True                       True   \n",
      "*.py                                       True                       True   \n",
      "\n",
      "                  python.linting.enabled                 python.pythonPath  \\\n",
      "*.ipynb                            False  C:\\Program Files\\python\\Python38   \n",
      "default                            False  C:\\Program Files\\python\\Python38   \n",
      "jupyter-notebook                   False  C:\\Program Files\\python\\Python38   \n",
      "*.py                               False  C:\\Program Files\\python\\Python38   \n",
      "\n",
      "                  window.zoomLevel  terminal.integrated.fontSize  \\\n",
      "*.ipynb                          0                            19   \n",
      "default                          0                            19   \n",
      "jupyter-notebook                 0                            19   \n",
      "*.py                             0                            19   \n",
      "\n",
      "                  code-runner.clearPreviousOutput  \\\n",
      "*.ipynb                                      True   \n",
      "default                                      True   \n",
      "jupyter-notebook                             True   \n",
      "*.py                                         True   \n",
      "\n",
      "                  explorer.confirm‎‎‎‎‎‎Delete  ...  \\\n",
      "*.ipynb                                  False  ...   \n",
      "default                                  False  ...   \n",
      "jupyter-notebook                         False  ...   \n",
      "*.py                                     False  ...   \n",
      "\n",
      "                                                  editor.fontFamily  \\\n",
      "*.ipynb           D2 Coding ligature, D2Coding, Consolas, 'Couri...   \n",
      "default           D2 Coding ligature, D2Coding, Consolas, 'Couri...   \n",
      "jupyter-notebook  D2 Coding ligature, D2Coding, Consolas, 'Couri...   \n",
      "*.py              D2 Coding ligature, D2Coding, Consolas, 'Couri...   \n",
      "\n",
      "                 editor.fontLigatures editor.mouseWheelZoom  \\\n",
      "*.ipynb                          True                  True   \n",
      "default                          True                  True   \n",
      "jupyter-notebook                 True                  True   \n",
      "*.py                             True                  True   \n",
      "\n",
      "                 notebook.lineNumbers explorer.confirm‎‎‎Delete  \\\n",
      "*.ipynb                            on                     False   \n",
      "default                            on                     False   \n",
      "jupyter-notebook                   on                     False   \n",
      "*.py                               on                     False   \n",
      "\n",
      "                  explorer.confirmDelete  \\\n",
      "*.ipynb                            False   \n",
      "default                            False   \n",
      "jupyter-notebook                   False   \n",
      "*.py                               False   \n",
      "\n",
      "                  security.workspace.trust.untrustedFiles  \\\n",
      "*.ipynb                                              open   \n",
      "default                                              open   \n",
      "jupyter-notebook                                     open   \n",
      "*.py                                                 open   \n",
      "\n",
      "                  editor.unicodeHighlight.nonBasicASCII  \\\n",
      "*.ipynb                                           False   \n",
      "default                                           False   \n",
      "jupyter-notebook                                  False   \n",
      "*.py                                              False   \n",
      "\n",
      "                 workbench.editor.empty.hint  files.associations  \n",
      "*.ipynb                               hidden                 NaN  \n",
      "default                               hidden                 NaN  \n",
      "jupyter-notebook                      hidden                 NaN  \n",
      "*.py                                  hidden              python  \n",
      "\n",
      "[4 rows x 35 columns]\n"
     ]
    },
    {
     "name": "stderr",
     "output_type": "stream",
     "text": [
      "<>:1: SyntaxWarning: invalid escape sequence '\\d'\n",
      "<>:1: SyntaxWarning: invalid escape sequence '\\d'\n",
      "C:\\Users\\MOON\\AppData\\Local\\Temp\\ipykernel_4308\\876330492.py:1: SyntaxWarning: invalid escape sequence '\\d'\n",
      "  df3 = pd.read_json('data\\data.json')\n"
     ]
    }
   ],
   "source": [
    "df3 = pd.read_json('data\\data.json')\n",
    "print(df3.head())\n"
   ]
  },
  {
   "cell_type": "code",
   "execution_count": null,
   "id": "fb936527",
   "metadata": {},
   "outputs": [
    {
     "name": "stdout",
     "output_type": "stream",
     "text": [
      "     name\n",
      "0  test01\n",
      "1   users\n"
     ]
    },
    {
     "name": "stderr",
     "output_type": "stream",
     "text": [
      "<>:3: SyntaxWarning: invalid escape sequence '\\d'\n",
      "<>:3: SyntaxWarning: invalid escape sequence '\\d'\n",
      "C:\\Users\\MOON\\AppData\\Local\\Temp\\ipykernel_4308\\2188132704.py:3: SyntaxWarning: invalid escape sequence '\\d'\n",
      "  conn = sqlite3.connect('data\\data.db')\n"
     ]
    }
   ],
   "source": [
    "import sqlite3\n",
    "\n",
    "conn = sqlite3.connect('data\\data.db')\n",
    "\n",
    "df4 = pd.read_sql('select * from test01', conn)\n",
    "print(df4.head())\n",
    "conn.close()\n"
   ]
  },
  {
   "cell_type": "code",
   "execution_count": 15,
   "id": "60c48130",
   "metadata": {},
   "outputs": [
    {
     "name": "stdout",
     "output_type": "stream",
     "text": [
      "📌 데이터프레임의 크기(행, 열):\n",
      "(3, 2)\n",
      "\n",
      "📌 컬러명:\n",
      "Index(['이름', '나이'], dtype='object')\n",
      "\n",
      "📌 인덱스 정보:\n",
      "RangeIndex(start=0, stop=3, step=1)\n",
      "\n",
      "📌 각 열의 데이터 타입:\n",
      "이름    object\n",
      "나이     int64\n",
      "dtype: object\n",
      "\n",
      "📌 데이터프레임을 NumPy 배열로 변환:\n",
      "[['철수' 25]\n",
      " ['영희' 30]\n",
      " ['민수' 28]]\n"
     ]
    }
   ],
   "source": [
    "df = pd.DataFrame({'이름':['철수', '영희', '민수'], '나이':[25, 30, 28]})\n",
    "\n",
    "print('📌 데이터프레임의 크기(행, 열):')\n",
    "print(df.shape)\n",
    "print('\\n📌 컬러명:')\n",
    "print(df.columns)\n",
    "print('\\n📌 인덱스 정보:')\n",
    "print(df.index)\n",
    "print('\\n📌 각 열의 데이터 타입:')\n",
    "print(df.dtypes)\n",
    "print('\\n📌 데이터프레임을 NumPy 배열로 변환:')\n",
    "print(df.values)"
   ]
  },
  {
   "cell_type": "code",
   "execution_count": 16,
   "id": "cf8d571e",
   "metadata": {},
   "outputs": [
    {
     "name": "stdout",
     "output_type": "stream",
     "text": [
      "📌 데이터프레임의 상위 3개 행 출력:\n",
      "   이름  나이\n",
      "0  철수  25\n",
      "1  영희  30\n",
      "2  민수  28\n",
      "\n",
      "📌 데이터프레임의 하위 2개 행 출력:\n",
      "   이름  나이\n",
      "1  영희  30\n",
      "2  민수  28\n",
      "\n",
      "📌 데이터프레임의 정보 출력:\n",
      "<class 'pandas.core.frame.DataFrame'>\n",
      "RangeIndex: 3 entries, 0 to 2\n",
      "Data columns (total 2 columns):\n",
      " #   Column  Non-Null Count  Dtype \n",
      "---  ------  --------------  ----- \n",
      " 0   이름      3 non-null      object\n",
      " 1   나이      3 non-null      int64 \n",
      "dtypes: int64(1), object(1)\n",
      "memory usage: 180.0+ bytes\n",
      "None\n",
      "\n",
      "📌 데이터프레임의 수치형 데이터 요약 통계량:\n",
      "              나이\n",
      "count   3.000000\n",
      "mean   27.666667\n",
      "std     2.516611\n",
      "min    25.000000\n",
      "25%    26.500000\n",
      "50%    28.000000\n",
      "75%    29.000000\n",
      "max    30.000000\n"
     ]
    }
   ],
   "source": [
    "print('📌 데이터프레임의 상위 3개 행 출력:')\n",
    "print(df.head(3))\n",
    "print('\\n📌 데이터프레임의 하위 2개 행 출력:')\n",
    "print(df.tail(2))\n",
    "print('\\n📌 데이터프레임의 정보 출력:')\n",
    "print(df.info())\n",
    "print('\\n📌 데이터프레임의 수치형 데이터 요약 통계량:')\n",
    "print(df.describe())"
   ]
  },
  {
   "cell_type": "code",
   "execution_count": 18,
   "id": "a9bab568",
   "metadata": {},
   "outputs": [
    {
     "name": "stdout",
     "output_type": "stream",
     "text": [
      "📌 특정 열 선택:\n",
      "0    철수\n",
      "1    영희\n",
      "2    민수\n",
      "Name: 이름, dtype: object\n",
      "\n",
      "📌 여러 열 선택:\n",
      "   이름  나이\n",
      "0  철수  25\n",
      "1  영희  30\n",
      "2  민수  28\n",
      "\n",
      "📌 인덱서 0번 행 선택:\n",
      "이름    철수\n",
      "나이    25\n",
      "Name: 0, dtype: object\n",
      "\n",
      "📌 두 번째 행 선택:\n",
      "이름    영희\n",
      "나이    30\n",
      "Name: 1, dtype: object\n"
     ]
    }
   ],
   "source": [
    "print('📌 특정 열 선택:')\n",
    "print(df['이름'])\n",
    "print('\\n📌 여러 열 선택:')\n",
    "print(df[['이름', '나이']])\n",
    "print('\\n📌 인덱서 0번 행 선택:')\n",
    "print(df.loc[0])\n",
    "print('\\n📌 두 번째 행 선택:')\n",
    "print(df.iloc[1])"
   ]
  },
  {
   "cell_type": "code",
   "execution_count": 19,
   "id": "db446049",
   "metadata": {},
   "outputs": [
    {
     "name": "stdout",
     "output_type": "stream",
     "text": [
      "📌 나이 기준 내림차순 정렬 결과:\n",
      "   이름  나이\n",
      "1  영희  30\n",
      "2  민수  28\n",
      "0  철수  25\n"
     ]
    }
   ],
   "source": [
    "df_sorted = df.sort_values(by='나이', ascending=False)\n",
    "print('📌 나이 기준 내림차순 정렬 결과:')\n",
    "print(df_sorted)"
   ]
  },
  {
   "cell_type": "code",
   "execution_count": 22,
   "id": "c4bc45f1",
   "metadata": {},
   "outputs": [
    {
     "name": "stdout",
     "output_type": "stream",
     "text": [
      "📌 나이 오름차순, 이름 내림차순 결과:\n",
      "   이름  나이\n",
      "1  영희  30\n",
      "2  민수  28\n",
      "0  철수  25\n"
     ]
    }
   ],
   "source": [
    "df_sorted3 = df.sort_values(by=['나이', '이름'], ascending=[False, True])\n",
    "print('📌 나이 오름차순, 이름 내림차순 결과:')\n",
    "print(df_sorted3)"
   ]
  },
  {
   "cell_type": "code",
   "execution_count": 20,
   "id": "62d49e23",
   "metadata": {},
   "outputs": [
    {
     "name": "stdout",
     "output_type": "stream",
     "text": [
      "   이름  나이\n",
      "2  민수  28\n",
      "1  영희  30\n",
      "0  철수  25\n"
     ]
    }
   ],
   "source": [
    "df_sorted_index = df.sort_index(ascending=False)\n",
    "print(df_sorted_index)\n"
   ]
  },
  {
   "cell_type": "markdown",
   "id": "595982c4",
   "metadata": {},
   "source": [
    "012일차-실습-1\n",
    "------------------------------------------------------------------\n",
    "<문제>, <배경설명>, <요구사항>, <실행결과> 를 충족하는 실습을 수행하고 결과를 제출하세요.\n",
    "------------------------------------------------------------------\n",
    "<문제>\n",
    "다음의 <보기> 자료를 딕셔너리를 기초자료로 하여 s1_jumsu 시리즈를 만드세요.\n",
    "s1_jumsu 시리즈는 데이터(요소)가 평균이고 인덱스가 이름으로 구성되도록 하세요.\n",
    "Series 를 만들면 이것을 <실행결과> 와 같이 출력하세요\n",
    "\n",
    "------------------------------------------------------------------\n",
    "<보기>\n",
    "jumsu = {\n",
    "'홍길동' : [50,60,50],\n",
    "'이순신' : [60,60,60],\n",
    "'강감찬' : [100,90,90],\n",
    "'유관순' : [80,80,90],\n",
    "'강환석' : [95,95,95],\n",
    "}\n",
    "\n",
    "------------------------------------------------------------------\n",
    "<요구사항1>\n",
    "- 실행결과와 다른 곳이 있으면 안됩니다. (소숫점 이하 2자리 표현부분)\n",
    "\n",
    "------------------------------------------------------------------\n",
    "<실행결과>\n",
    "-홍길동---이순신---강감찬---유관순---강환석-\n",
    "-53.33점--60.00점--93.33점--83.33점--95.00점-\n",
    "\n",
    "------------------------------------------------------------------\n",
    "이상의 실습결과를 techmr@daum.net; ty@doublerock.io 메일로 전송하세요.\n",
    "메일제목은 '012일차-실습-1-완료' 라고 지정하세요."
   ]
  },
  {
   "cell_type": "code",
   "execution_count": null,
   "id": "45819924",
   "metadata": {},
   "outputs": [
    {
     "name": "stdout",
     "output_type": "stream",
     "text": [
      "53.333333333333336\n"
     ]
    }
   ],
   "source": [
    "\n",
    "\n",
    "jumsu = {\n",
    "'홍길동' : [50,60,50],\n",
    "'이순신' : [60,60,60],\n",
    "'강감찬' : [100,90,90],\n",
    "'유관순' : [80,80,90],\n",
    "'강환석' : [95,95,95],\n",
    "}\n",
    "\n",
    "jumsu_avg={}\n",
    "for i in jumsu.keys():\n",
    "    jumsu_avg[i] = round(sum(jumsu[i])/len(jumsu[i]), 2)"
   ]
  },
  {
   "cell_type": "code",
   "execution_count": 88,
   "id": "e1d08db1",
   "metadata": {},
   "outputs": [
    {
     "name": "stdout",
     "output_type": "stream",
     "text": [
      "-홍길동---이순신---강감찬---유관순---강환석-\n",
      "-53.33점--60.0점--93.33점--83.33점--95.0점-\n"
     ]
    }
   ],
   "source": [
    "s1_jumsu = pd.Series(jumsu_avg.values(), index=jumsu_avg.keys())\n",
    "\n",
    "print(f'-{s1_jumsu.index[0]}---{s1_jumsu.index[1]}---{s1_jumsu.index[2]}---{s1_jumsu.index[3]}---{s1_jumsu.index[4]}-')\n",
    "print(f'-{s1_jumsu.values[0]}점--{s1_jumsu.values[1]}점--{s1_jumsu.values[2]}점--{s1_jumsu.values[3]}점--{s1_jumsu.values[4]}점-')"
   ]
  },
  {
   "cell_type": "code",
   "execution_count": 91,
   "id": "2093e87b",
   "metadata": {},
   "outputs": [
    {
     "name": "stdout",
     "output_type": "stream",
     "text": [
      "-홍길동---이순신---강감찬---유관순---강환석--\n",
      "[50, 60, 50]\n",
      "<class 'list'>\n",
      "-53.33점-[60, 60, 60]\n",
      "<class 'list'>\n",
      "-60.00점-[100, 90, 90]\n",
      "<class 'list'>\n",
      "-93.33점-[80, 80, 90]\n",
      "<class 'list'>\n",
      "-83.33점-[95, 95, 95]\n",
      "<class 'list'>\n",
      "-95.00점-"
     ]
    }
   ],
   "source": [
    "#012일차-실습-1-해답\n",
    "import numpy as np\n",
    "import pandas as pd \n",
    "#\n",
    "jumsu = {\n",
    "'홍길동' : [50,60,50],\n",
    "'이순신' : [60,60,60],\n",
    "'강감찬' : [100,90,90],\n",
    "'유관순' : [80,80,90],\n",
    "'강환석' : [95,95,95],\n",
    "}\n",
    "s1_jumsu = pd.Series(jumsu)\n",
    "for i in s1_jumsu.index:\n",
    "    print('-' + i + '-', end='-')\n",
    "print()\n",
    "for i in s1_jumsu.values:\n",
    "    print(i)           # 서비스코드\n",
    "    print(type(i))     # 서비스코드 \n",
    "    print( '-{:.2f}점-'.format( np.mean(i)), end='')  \n",
    "        # np는 numpy 라이브러리를 말함 np.mean()은 평균 함수임"
   ]
  },
  {
   "cell_type": "markdown",
   "id": "0431d743",
   "metadata": {},
   "source": [
    "012일차-실습-2\n",
    "------------------------------------------------------------------\n",
    "<문제>, <배경설명>, <요구사항>, <실행결과> 를 충족하는 실습을 수행하고 결과를 제출하세요.\n",
    "------------------------------------------------------------------\n",
    "<문제>\n",
    "다음의 <보기> 자료를 대상으로 실행결과를 충족하는 파이썬 프로그램을 노트북으로 작성하세요.\n",
    "단, 요구사항을 꼭 준수하세요.\n",
    "\n",
    "------------------------------------------------------------------\n",
    "<보기>\n",
    "jumsu = {\n",
    "'홍길동' : [50,60,50],\n",
    "'이순동' : [60,60,60],\n",
    "'강감동' : [100,90,90],\n",
    "'유관동' : [80,80,90],\n",
    "'홍길도' : [50,45,50],\n",
    "'이순도' : [80,70,66],\n",
    "'강감도' : [64,49,50],\n",
    "'유관도' : [60,50,50],\n",
    "'홍길재' : [50,45,51],\n",
    "'이순재' : [80,70,61],\n",
    "'강감재' : [64,49,51],\n",
    "'유관재' : [60,50,51],\n",
    "'강환석' : [95,95,95]\n",
    "}\n",
    "\n",
    "------------------------------------------------------------------\n",
    "<요구사항1>\n",
    "다음의 순서대로 코딩하세요.\n",
    "데이터(요소)가 평균이고 인덱스가 성명인 Series 를 만드세요.\n",
    "이 시리즈에  평균 점수가 60점 미만인 사람만 선별하여 저장하세요.\n",
    "시리즈를 <실행결과> 와 같이 출력하세요.\n",
    "\n",
    "------------------------------------------------------------------\n",
    "<실행결과>\n",
    "홍길동-홍길도-강감도-유관도-홍길재-강감재-유관재-\n",
    "53.33--48.33--54.33--53.33--48.67--54.67--53.67--\n",
    "\n",
    "\n",
    "------------------------------------------------------------------\n",
    "이상의 실습결과를 techmr@daum.net; ty@doublerock.io 메일로 전송하세요.\n",
    "메일제목은 '012일차-실습-2-완료' 라고 지정하세요."
   ]
  },
  {
   "cell_type": "code",
   "execution_count": null,
   "id": "053cd12b",
   "metadata": {},
   "outputs": [
    {
     "name": "stdout",
     "output_type": "stream",
     "text": [
      "홍길동-홍길도-강감도-유관도-홍길재-강감재-유관재-\n",
      "53.33--48.33--54.33--53.33--48.67--54.67--53.67--\n"
     ]
    }
   ],
   "source": [
    "import pandas as pd\n",
    "import numpy as np\n",
    "\n",
    "jumsu = {\n",
    "'홍길동' : [50,60,50],\n",
    "'이순동' : [60,60,60],\n",
    "'강감동' : [100,90,90],\n",
    "'유관동' : [80,80,90],\n",
    "'홍길도' : [50,45,50],\n",
    "'이순도' : [80,70,66],\n",
    "'강감도' : [64,49,50],\n",
    "'유관도' : [60,50,50],\n",
    "'홍길재' : [50,45,51],\n",
    "'이순재' : [80,70,61],\n",
    "'강감재' : [64,49,51],\n",
    "'유관재' : [60,50,51],\n",
    "'강환석' : [95,95,95]\n",
    "}\n",
    "\n",
    "jumsu_avg={}\n",
    "for i in jumsu.keys():\n",
    "    jumsu_avg[i] = round(np.mean(jumsu[i]), 2)\n",
    "\n",
    "s2_jumsu = pd.Series(jumsu_avg.values(), index=jumsu_avg.keys())\n",
    "\n",
    "for i in s2_jumsu.index:\n",
    "    if s2_jumsu[i] < 60:\n",
    "        print(i, end='-')\n",
    "print()\n",
    "for i in s2_jumsu.values:\n",
    "    if i < 60:\n",
    "        print(i, end='--')\n",
    "print()"
   ]
  },
  {
   "cell_type": "code",
   "execution_count": 104,
   "id": "c5a58fea",
   "metadata": {},
   "outputs": [
    {
     "name": "stdout",
     "output_type": "stream",
     "text": [
      "홍길동-홍길도-강감도-유관도-홍길재-강감재-유관재-\n",
      "53.33--48.33--54.33--53.33--48.67--54.67--53.67--\n"
     ]
    }
   ],
   "source": [
    "#012일차-실습-2-해답\n",
    "import numpy as np\n",
    "import pandas as pd \n",
    "#\n",
    "jumsu = {'홍길동' : [50,60,50],'이순동' : [60,60,60],'강감동' : [100,90,90],'유관동' : [80,80,90],\n",
    "'홍길도' : [50,45,50],'이순도' : [80,70,66],'강감도' : [64,49,50],'유관도' : [60,50,50],'홍길재' : [50,45,51],\n",
    "'이순재' : [80,70,61],'강감재' : [64,49,51],'유관재' : [60,50,51],'강환석' : [95,95,95]}\n",
    "# 딕셔너리의 요소중에 평균 점수가 60점 미만인 것만 필터링 하는 루틴\n",
    "jumsu2 = dict(  {   key : round(np.mean(value),2)   for key, value  in jumsu.items() if np.mean(value)<60  } )\n",
    "                                                                     # jumsu 딕셔너리의 밸류 중에서 평균이 60 미만인 것만 \n",
    "                                                                     # 뽑아낸 쌍을 items() 튜플에 할당하고 튜플의 요소를 \n",
    "                                                                     # unpacking하여 key, value 라는 변수에 할당하는 for문 \n",
    "                                                                     # items() 함수는 Key와 Value의 쌍을 튜플로 묶은 값을 dict_items  \n",
    "                                                                     # 객체로반환함. 이 구절에서는 튜플로 묶은 dict_items 객체를 \n",
    "                                                                     # in 연산자 왼쪽의  key, value에 unpacking하였다\n",
    "                           # for 문으로 발생한 key, value를 \n",
    "                           # 각각 key와 round(np.mean(value),2)의 쌍으로 구성하고 이것을\n",
    "                # dict() 형변환 함수로 변환하여 jumsu2 딕셔너리로 생성한다.\n",
    "#\n",
    "#print(type(jumsu2)) # 서비스 코드임\n",
    "#print(jumsu2)       # 서비스 코드임\n",
    "#\n",
    "jumsu3 = pd.Series(jumsu2)\n",
    "for i in jumsu3.index:\n",
    "    print(i, end=\"-\")\n",
    "print()\n",
    "for i in jumsu3:\n",
    "    print(i, end=\"--\")\n",
    "print()"
   ]
  },
  {
   "cell_type": "markdown",
   "id": "882e699f",
   "metadata": {},
   "source": [
    "012일차-실습-3\n",
    "------------------------------------------------------------------\n",
    "<문제>, <배경설명>, <요구사항>, <실행결과> 를 충족하는 실습을 수행하고 결과를 제출하세요.\n",
    "------------------------------------------------------------------\n",
    "<문제>\n",
    "<강의소스>에 나와있는 temp1 과 temp2 를 이용하여\n",
    "뺄셈 연산 이외에 다른 산술연산이 가능한지 실습해 보세요.\n",
    "\n",
    "------------------------------------------------------------------\n",
    "<강의소스>\n",
    "https://drive.google.com/file/d/1EtV093p5UXqGcH0KObpMz4m5mHTGtYaY/view?usp=sharing\n",
    "\n",
    "------------------------------------------------------------------\n",
    "<요구사항1>\n",
    "적어도 3개 이상의 연산을 시도하고 결과를 스샷하세요.\n",
    "\n",
    "------------------------------------------------------------------\n",
    "<실행결과>\n",
    "\n",
    "2021-07-01    150\n",
    "2021-07-02    157\n",
    "2021-07-03    154\n",
    "2021-07-04    173\n",
    "2021-07-05    162\n",
    "2021-07-06    164\n",
    "Freq: D, dtype: int64\n",
    "2021-07-01    5600\n",
    "2021-07-02    6150\n",
    "2021-07-03    5865\n",
    "2021-07-04    7470\n",
    "2021-07-05    6557\n",
    "2021-07-06    6699\n",
    "Freq: D, dtype: int64\n",
    "2021-07-01    1.142857\n",
    "2021-07-02    1.093333\n",
    "2021-07-03    1.231884\n",
    "2021-07-04    1.084337\n",
    "2021-07-05    1.050633\n",
    "2021-07-06    1.129870\n",
    "Freq: D, dtype: float64\n",
    "\n",
    "------------------------------------------------------------------\n",
    "이상의 실습결과를 techmr@daum.net; ty@doublerock.io 메일로 전송하세요.\n",
    "메일제목은 '012일차-실습-3-완료' 라고 지정하세요."
   ]
  },
  {
   "cell_type": "code",
   "execution_count": 106,
   "id": "f390552c",
   "metadata": {},
   "outputs": [
    {
     "name": "stderr",
     "output_type": "stream",
     "text": [
      "Matplotlib is building the font cache; this may take a moment.\n"
     ]
    }
   ],
   "source": [
    "import time\n",
    "from datetime import datetime, date\n",
    "import pandas as pd \n",
    "import numpy as np\n",
    "import matplotlib.pyplot as plt"
   ]
  },
  {
   "cell_type": "code",
   "execution_count": 107,
   "id": "bb5fabca",
   "metadata": {},
   "outputs": [
    {
     "name": "stdout",
     "output_type": "stream",
     "text": [
      "DatetimeIndex(['2021-07-01', '2021-07-02', '2021-07-03', '2021-07-04',\n",
      "               '2021-07-05', '2021-07-06'],\n",
      "              dtype='datetime64[ns]', freq='D')\n",
      "<class 'pandas.core.indexes.datetimes.DatetimeIndex'>\n"
     ]
    }
   ],
   "source": [
    "dates = pd.date_range('2021-07-01','2021-07-06')\n",
    "print(dates)\n",
    "print(type(dates))"
   ]
  },
  {
   "cell_type": "code",
   "execution_count": 108,
   "id": "aa7314dc",
   "metadata": {},
   "outputs": [
    {
     "data": {
      "text/plain": [
       "2021-07-01    80\n",
       "2021-07-02    82\n",
       "2021-07-03    85\n",
       "2021-07-04    90\n",
       "2021-07-05    83\n",
       "2021-07-06    87\n",
       "Freq: D, dtype: int64"
      ]
     },
     "execution_count": 108,
     "metadata": {},
     "output_type": "execute_result"
    }
   ],
   "source": [
    "temps1 = pd.Series([80,82,85,90,83,87], index =dates)\n",
    "temps1"
   ]
  },
  {
   "cell_type": "code",
   "execution_count": 109,
   "id": "0aa152bd",
   "metadata": {},
   "outputs": [
    {
     "name": "stdout",
     "output_type": "stream",
     "text": [
      "2021-07-01    70\n",
      "2021-07-02    75\n",
      "2021-07-03    69\n",
      "2021-07-04    83\n",
      "2021-07-05    79\n",
      "2021-07-06    77\n",
      "Freq: D, dtype: int64\n",
      "2021-07-01    10\n",
      "2021-07-02     7\n",
      "2021-07-03    16\n",
      "2021-07-04     7\n",
      "2021-07-05     4\n",
      "2021-07-06    10\n",
      "Freq: D, dtype: int64\n"
     ]
    }
   ],
   "source": [
    "temps2 = pd.Series([70,75,69,83,79,77],  index =dates)\n",
    "print(temps2)\n",
    "temps_diff = temps1 - temps2\n",
    "print(temps_diff)"
   ]
  },
  {
   "cell_type": "code",
   "execution_count": 114,
   "id": "42037851",
   "metadata": {},
   "outputs": [
    {
     "name": "stdout",
     "output_type": "stream",
     "text": [
      "2021-07-01    150\n",
      "2021-07-02    157\n",
      "2021-07-03    154\n",
      "2021-07-04    173\n",
      "2021-07-05    162\n",
      "2021-07-06    164\n",
      "Freq: D, dtype: int64\n",
      "2021-07-01    5600\n",
      "2021-07-02    6150\n",
      "2021-07-03    5865\n",
      "2021-07-04    7470\n",
      "2021-07-05    6557\n",
      "2021-07-06    6699\n",
      "Freq: D, dtype: int64\n",
      "2021-07-01    1.142857\n",
      "2021-07-02    1.093333\n",
      "2021-07-03    1.231884\n",
      "2021-07-04    1.084337\n",
      "2021-07-05    1.050633\n",
      "2021-07-06    1.129870\n",
      "Freq: D, dtype: float64\n"
     ]
    }
   ],
   "source": [
    "temps_sum = temps1 + temps2\n",
    "print(temps_sum)\n",
    "temps_mult = temps1 * temps2\n",
    "print(temps_mult)\n",
    "temps_div = temps1 / temps2\n",
    "print(temps_div)"
   ]
  }
 ],
 "metadata": {
  "kernelspec": {
   "display_name": "Python 3",
   "language": "python",
   "name": "python3"
  },
  "language_info": {
   "codemirror_mode": {
    "name": "ipython",
    "version": 3
   },
   "file_extension": ".py",
   "mimetype": "text/x-python",
   "name": "python",
   "nbconvert_exporter": "python",
   "pygments_lexer": "ipython3",
   "version": "3.13.4"
  }
 },
 "nbformat": 4,
 "nbformat_minor": 5
}
