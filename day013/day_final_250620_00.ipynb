{
 "cells": [
  {
   "cell_type": "code",
   "execution_count": 2,
   "metadata": {},
   "outputs": [],
   "source": [
    "import time\n",
    "from datetime import datetime, date\n",
    "import pandas as pd \n",
    "import numpy as np\n",
    "import matplotlib.pyplot as plt"
   ]
  },
  {
   "cell_type": "markdown",
   "metadata": {},
   "source": [
    "#### 일정한 시간을 간격으로 하는 데이터의 연속,\n",
    "#### 또는 일정한 날짜를 간격으로 하는 데이터가 연속된 것이\n",
    "#### 시리즈의 인덱스로 사용된 경우 이러한 인덱스를 가진 시리즈를 \n",
    "#### 시계열이라고 한다."
   ]
  },
  {
   "cell_type": "code",
   "execution_count": 3,
   "metadata": {},
   "outputs": [
    {
     "name": "stdout",
     "output_type": "stream",
     "text": [
      "DatetimeIndex(['2021-07-01', '2021-07-02', '2021-07-03', '2021-07-04',\n",
      "               '2021-07-05', '2021-07-06'],\n",
      "              dtype='datetime64[ns]', freq='D')\n",
      "<class 'pandas.core.indexes.datetimes.DatetimeIndex'>\n"
     ]
    }
   ],
   "source": [
    "dates = pd.date_range('2021-07-01','2021-07-06')\n",
    "print(dates)\n",
    "print(type(dates))"
   ]
  },
  {
   "cell_type": "code",
   "execution_count": 4,
   "metadata": {},
   "outputs": [
    {
     "data": {
      "text/plain": [
       "2021-07-01    80\n",
       "2021-07-02    82\n",
       "2021-07-03    85\n",
       "2021-07-04    90\n",
       "2021-07-05    83\n",
       "2021-07-06    87\n",
       "Freq: D, dtype: int64"
      ]
     },
     "execution_count": 4,
     "metadata": {},
     "output_type": "execute_result"
    }
   ],
   "source": [
    "temps1 = pd.Series([80,82,85,90,83,87], index =dates)\n",
    "temps1"
   ]
  },
  {
   "cell_type": "code",
   "execution_count": 5,
   "metadata": {},
   "outputs": [
    {
     "name": "stdout",
     "output_type": "stream",
     "text": [
      "2021-07-01    70\n",
      "2021-07-02    75\n",
      "2021-07-03    69\n",
      "2021-07-04    83\n",
      "2021-07-05    79\n",
      "2021-07-06    77\n",
      "Freq: D, dtype: int64\n",
      "2021-07-01    10\n",
      "2021-07-02     7\n",
      "2021-07-03    16\n",
      "2021-07-04     7\n",
      "2021-07-05     4\n",
      "2021-07-06    10\n",
      "Freq: D, dtype: int64\n"
     ]
    }
   ],
   "source": [
    "temps2 = pd.Series([70,75,69,83,79,77],  index =dates)\n",
    "print(temps2)\n",
    "temps_diff = temps1 - temps2\n",
    "print(temps_diff)"
   ]
  },
  {
   "cell_type": "code",
   "execution_count": 6,
   "metadata": {},
   "outputs": [
    {
     "name": "stdout",
     "output_type": "stream",
     "text": [
      "9.0\n",
      "<class 'pandas.core.series.Series'>\n"
     ]
    }
   ],
   "source": [
    "# pandas에는 평균을 구하는 함수인 mean()을 자체적으로 가지고 있다 \n",
    "# 이것은 실습-에서 np.mean(value)로 표현한 numpy라이브러리의 mean() 함수와 구분된다 \n",
    "print(temps_diff.mean())\n",
    "print(type(temps_diff))"
   ]
  },
  {
   "cell_type": "markdown",
   "metadata": {},
   "source": [
    "##### 아래의 코드는 두 개의 시리즈를 이용하여 데이터 프레임을 만듭니다.\n",
    "##### 아래의 코드는 두 개의 컬럼을 갖는 Dataframe 객체 temps_df를 만든다\n",
    "##### 이 데이터 프레임의 구성요소인 컬럼(세로로 길죽한것)은 위에서 만든 temps1 과 temps2의 시리즈 객체이다.\n",
    "##### 위의 셀에서 언급한 것처럼 temps1과 temps2는 동일한 인덱스인 dates를 가지므로 \n",
    "##### 데이터 프레임이라는 데이터 구조를 만들때 2021-07-01 부터 2021-07-06까지의 인덱스가 \n",
    "##### temps1과 temps2에서 공통적으로 사용되었기에 데이터 프레임의 인덱스가 되기에 어려움이 없다(유리하다)."
   ]
  },
  {
   "cell_type": "code",
   "execution_count": 7,
   "metadata": {},
   "outputs": [
    {
     "name": "stdout",
     "output_type": "stream",
     "text": [
      "            Missoula  Pliladelphia\n",
      "2021-07-01        80            70\n",
      "2021-07-02        82            75\n",
      "2021-07-03        85            69\n",
      "2021-07-04        90            83\n",
      "2021-07-05        83            79\n",
      "2021-07-06        87            77\n"
     ]
    }
   ],
   "source": [
    "temps_df = pd.DataFrame(  {  'Missoula': temps1, 'Pliladelphia': temps2  }   )\n",
    "print(temps_df)"
   ]
  },
  {
   "cell_type": "markdown",
   "metadata": {},
   "source": [
    "### Pandas DataFrame의 개념 \n",
    "#### 판다스의 시리즈는 각 인덱스 레이블 당 한 개의 값(values)만 가진다.\n",
    "#### 그러나 데이터 프레임을 사용하면 인덱스 한 개당 복수개의 값을 가질 수 있다 \n",
    "#### 데이터 프레임은 인덱스 레이블을 기준으로 배열된 한 개 이상의 시리즈의 집합을 의미한다.\n",
    "#### 각 시리즈는 데이터 프레임의 컬럼(열)이며 각각의 컬럼(열)은 자신만의 이름을 갖는다.\n",
    "\n",
    "### Pandas DataFrame의 특징 \n",
    "#### 데이터 프레임은 데이터 베이스의 테이블 개념과 비슷하다.\n",
    "#### 서로다른 유형의 데이터 컬럼을 한 개 이상 갖는다는 점과, 한 컬럼의 모든 데이터는 동일한 유형이라는 점이 비슷한 점이다."
   ]
  },
  {
   "cell_type": "code",
   "execution_count": 8,
   "metadata": {},
   "outputs": [
    {
     "name": "stdout",
     "output_type": "stream",
     "text": [
      "2021-07-01    150\n",
      "2021-07-02    157\n",
      "2021-07-03    154\n",
      "2021-07-04    173\n",
      "2021-07-05    162\n",
      "2021-07-06    164\n",
      "Freq: D, dtype: int64\n",
      "2021-07-01    5600\n",
      "2021-07-02    6150\n",
      "2021-07-03    5865\n",
      "2021-07-04    7470\n",
      "2021-07-05    6557\n",
      "2021-07-06    6699\n",
      "Freq: D, dtype: int64\n",
      "2021-07-01    1.142857\n",
      "2021-07-02    1.093333\n",
      "2021-07-03    1.231884\n",
      "2021-07-04    1.084337\n",
      "2021-07-05    1.050633\n",
      "2021-07-06    1.129870\n",
      "Freq: D, dtype: float64\n"
     ]
    }
   ],
   "source": [
    "# 012일차-실습-3-해답 \n",
    "temps_1 = temps1 + temps2\n",
    "temps_2 = temps1 * temps2\n",
    "temps_3 = temps1 / temps2\n",
    "print(temps_1)\n",
    "print(temps_2)\n",
    "print(temps_3)"
   ]
  },
  {
   "cell_type": "markdown",
   "metadata": {},
   "source": [
    "# 이하 250620(금)수업부분"
   ]
  },
  {
   "cell_type": "markdown",
   "metadata": {},
   "source": [
    "013일차-실습-1\n",
    "------------------------------------------------------------------\n",
    "<문제>, <배경설명>, <요구사항>, <실행결과> 를 충족하는 실습을 수행하고 결과를 제출하세요.\n",
    "------------------------------------------------------------------\n",
    "<문제>\n",
    "- temps3 시리즈를 한 개 더 만들고 이것을 새로운 데이터 프레임에 삽입하세요.\n",
    "\n",
    "------------------------------------------------------------------\n",
    "<요구사항1>\n",
    "- 이전에 사용했던 ipynb 소스에 나와있는 시리즈인 temps1 과 temps2 에 대응하는 temps3 시리즈를 한 개 더 만드세요.\n",
    "온도는  75, 77, 67, 82, 77, 85 입니다.\n",
    "인덱스는 temps1, temps2와 동일하여야 합니다.\n",
    "temps3를 출력하세요.\n",
    "\n",
    "------------------------------------------------------------------\n",
    "<요구사항2>\n",
    "- 위에서 만든 temps1 과 temps2 ,temps3 를 \n",
    "temps_df2 라는 데이터 프레임에 삽입하세요.\n",
    "\n",
    "------------------------------------------------------------------\n",
    "<요구사항3>\n",
    "- temps_df2 를 출력하세요.\n",
    "\n",
    "-----------------------------------------------------------------\n",
    "<실행결과>\n",
    "----------------------------------------\n",
    "temps3\n",
    "2021-07-01    75\n",
    "2021-07-02    77\n",
    "2021-07-03    67\n",
    "2021-07-04    82\n",
    "2021-07-05    77\n",
    "2021-07-06    85\n",
    "Freq: D, dtype: int64\n",
    "----------------------------------------\n",
    "temps_df2\n",
    "            Missoula  Philadelphia  temps3\n",
    "2021-07-01        80            70      75\n",
    "2021-07-02        82            75      77\n",
    "2021-07-03        85            69      67\n",
    "2021-07-04        90            83      82\n",
    "2021-07-05        83            79      77\n",
    "2021-07-06        87            77      85\n",
    "\n",
    "------------------------------------------------------------------\n",
    "이상의 실습결과를 techmr@daum.net; ty@doublerock.io 메일로 전송하세요.\n",
    "메일제목은 '013일차-실습-1-완료' 라고 지정하세요."
   ]
  },
  {
   "cell_type": "code",
   "execution_count": 9,
   "metadata": {},
   "outputs": [
    {
     "name": "stdout",
     "output_type": "stream",
     "text": [
      "----------------------------------------\n",
      "temps3\n",
      "2021-07-01    75\n",
      "2021-07-02    77\n",
      "2021-07-03    67\n",
      "2021-07-04    82\n",
      "2021-07-05    77\n",
      "2021-07-06    85\n",
      "Freq: D, dtype: int64\n",
      "----------------------------------------\n",
      "temps_df2\n",
      "            Missoula  Philadelphia  temps3\n",
      "2021-07-01        80            70      75\n",
      "2021-07-02        82            75      77\n",
      "2021-07-03        85            69      67\n",
      "2021-07-04        90            83      82\n",
      "2021-07-05        83            79      77\n",
      "2021-07-06        87            77      85\n"
     ]
    }
   ],
   "source": [
    "# 실습-1-해답 \n",
    "temps3 = pd.Series([75, 77, 67, 82, 77, 85],index=dates)\n",
    "print('-'*40)\n",
    "print('temps3')\n",
    "print(temps3)\n",
    "dic2 = {'Missoula': temps1,'Philadelphia': temps2,'temps3':temps3}  # 딕셔너리 dic2를 생성함 \n",
    "temps_df2 = pd.DataFrame(dic2) # 데이터프레임을 생성할 때 인수로 딕셔너리인 dic2를 사용함\n",
    "print('-'*40)\n",
    "print('temps_df2')\n",
    "print(temps_df2)"
   ]
  },
  {
   "cell_type": "markdown",
   "metadata": {},
   "source": [
    "013일차-실습-2\n",
    "------------------------------------------------------------------\n",
    "<문제>, <배경설명>, <요구사항>, <실행결과> 를 충족하는 실습을 수행하고 결과를 제출하세요.\n",
    "------------------------------------------------------------------\n",
    "<문제>\n",
    "- 실행결과를 참조하여 각 도시의 평균온도를 구하세요.\n",
    "- 이전 실습의 연속입니다.\n",
    "\n",
    "------------------------------------------------------------------\n",
    "<요구사항1>\n",
    "- day_final_250620_00.ipynb 의 마지막셀에 이어서 작성하세요.\n",
    "- 이전 실습에서 만든 temps1 과 temps2 ,temps3 라는 시리즈가 있고\n",
    "이곳에는 각 도시의 온도가 날짜별로 저장되어 있습니다.\n",
    "- 실행결과를 참조하여 각 도시의 평균온도를 구하세요.\n",
    "- 실행결과와 동일하여야 합니다.\n",
    "\n",
    "------------------------------------------------------------------\n",
    "<실행결과>\n",
    "            Missoula  Philadelphia  Seoul\n",
    "2021-07-01        80            70     75\n",
    "2021-07-02        82            75     77\n",
    "2021-07-03        85            69     67\n",
    "2021-07-04        90            83     82\n",
    "2021-07-05        83            79     77\n",
    "2021-07-06        87            77     85\n",
    "----------------------------------------\n",
    "Missoula  평균기온 : 84.50\n",
    "Philadelphia  평균기온 : 75.50\n",
    "Seoul    평균기온 : 77.17\n",
    "\n",
    "------------------------------------------------------------------\n",
    "이상의 실습결과를 techmr@daum.net; ty@doublerock.io 메일로 전송하세요.\n",
    "메일제목은 '013일차-실습-2-완료' 라고 지정하세요."
   ]
  },
  {
   "cell_type": "code",
   "execution_count": 10,
   "metadata": {},
   "outputs": [
    {
     "name": "stdout",
     "output_type": "stream",
     "text": [
      "            Missoula  Philadelphia  temps3\n",
      "2021-07-01        80            70      75\n",
      "2021-07-02        82            75      77\n",
      "2021-07-03        85            69      67\n",
      "2021-07-04        90            83      82\n",
      "2021-07-05        83            79      77\n",
      "2021-07-06        87            77      85\n"
     ]
    }
   ],
   "source": [
    "print(temps_df2)"
   ]
  },
  {
   "cell_type": "code",
   "execution_count": 18,
   "metadata": {},
   "outputs": [
    {
     "name": "stdout",
     "output_type": "stream",
     "text": [
      "            Missoula  Philadelphia  Seoul\n",
      "2021-07-01        80            70     75\n",
      "2021-07-02        82            75     77\n",
      "2021-07-03        85            69     67\n",
      "2021-07-04        90            83     82\n",
      "2021-07-05        83            79     77\n",
      "2021-07-06        87            77     85\n",
      "----------------------------------------\n",
      "Missoula  평균기온: 84.5\n",
      "Philadelphia  평균기온: 75.5\n",
      "Seoul  평균기온: 77.17\n"
     ]
    }
   ],
   "source": [
    "temps_df2.columns = ['Missoula', 'Philadelphia', 'Seoul']\n",
    "\n",
    "print(temps_df2)\n",
    "\n",
    "missoula_diff = round(temps_df2['Missoula'].mean(), 2)\n",
    "philadelphia_diff = round(temps_df2['Philadelphia'].mean(), 2)\n",
    "seoul_diff = round(temps_df2['Seoul'].mean(), 2)\n",
    "\n",
    "print('-'*40)\n",
    "\n",
    "print(f'Missoula  평균기온: {missoula_diff}')\n",
    "print(f'Philadelphia  평균기온: {philadelphia_diff}')\n",
    "print(f'Seoul  평균기온: {seoul_diff}')"
   ]
  },
  {
   "cell_type": "code",
   "execution_count": 19,
   "metadata": {},
   "outputs": [
    {
     "name": "stdout",
     "output_type": "stream",
     "text": [
      "<<<<실습-2-해답>>>>\n",
      "            Missoula  Philadelphia  Seoul\n",
      "2021-07-01        80            70     75\n",
      "2021-07-02        82            75     77\n",
      "2021-07-03        85            69     67\n",
      "2021-07-04        90            83     82\n",
      "2021-07-05        83            79     77\n",
      "2021-07-06        87            77     85\n",
      "\n",
      "----------------------------------------\n",
      "Missoula \t평균기온 : 84.50\n",
      "Philadelphia \t평균기온 : 75.50\n",
      "Seoul \t \t평균기온 : 77.17\n"
     ]
    }
   ],
   "source": [
    "#013일차-실습-2-해답\n",
    "print('<<<<실습-2-해답>>>>')\n",
    "temps3 = pd.Series([75, 77, 67, 82, 77, 85], index=dates)\n",
    "temps_df2 = pd.DataFrame(\n",
    "        {\n",
    "        'Missoula': temps1,\n",
    "        'Philadelphia': temps2,\n",
    "        'Seoul': temps3,\n",
    "        }\n",
    ")\n",
    "print(temps_df2)\n",
    "print()\n",
    "print('-'*40)\n",
    "print('Missoula \\t평균기온 : {0:.2f}'.format(temps1.mean()))\n",
    "print('Philadelphia \\t평균기온 : {0:.2f}'.format(temps2.mean()))\n",
    "print('Seoul \\t \\t평균기온 : {0:.2f}'.format(temps3.mean()))"
   ]
  },
  {
   "cell_type": "code",
   "execution_count": null,
   "metadata": {},
   "outputs": [],
   "source": []
  },
  {
   "cell_type": "code",
   "execution_count": null,
   "metadata": {},
   "outputs": [],
   "source": []
  },
  {
   "cell_type": "code",
   "execution_count": null,
   "metadata": {},
   "outputs": [],
   "source": []
  },
  {
   "cell_type": "code",
   "execution_count": null,
   "metadata": {},
   "outputs": [],
   "source": []
  },
  {
   "cell_type": "code",
   "execution_count": null,
   "metadata": {},
   "outputs": [],
   "source": []
  },
  {
   "cell_type": "code",
   "execution_count": null,
   "metadata": {},
   "outputs": [],
   "source": []
  },
  {
   "cell_type": "code",
   "execution_count": null,
   "metadata": {},
   "outputs": [],
   "source": []
  }
 ],
 "metadata": {
  "kernelspec": {
   "display_name": "Python 3",
   "language": "python",
   "name": "python3"
  },
  "language_info": {
   "codemirror_mode": {
    "name": "ipython",
    "version": 3
   },
   "file_extension": ".py",
   "mimetype": "text/x-python",
   "name": "python",
   "nbconvert_exporter": "python",
   "pygments_lexer": "ipython3",
   "version": "3.13.4"
  }
 },
 "nbformat": 4,
 "nbformat_minor": 2
}
