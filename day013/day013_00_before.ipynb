{
 "cells": [
  {
   "cell_type": "code",
   "execution_count": 15,
   "metadata": {},
   "outputs": [],
   "source": [
    "import time\n",
    "from datetime import datetime, date\n",
    "import pandas as pd \n",
    "import numpy as np\n",
    "import matplotlib.pyplot as plt\n",
    "pd.set_option('display.notebook_repr_html',True)\n",
    "pd.set_option('display.max_column',7)\n",
    "pd.set_option('display.max_rows',10)\n",
    "pd.set_option('display.width',250)"
   ]
  },
  {
   "cell_type": "code",
   "execution_count": 16,
   "metadata": {},
   "outputs": [
    {
     "name": "stdout",
     "output_type": "stream",
     "text": [
      "DatetimeIndex(['2021-07-01', '2021-07-02', '2021-07-03', '2021-07-04', '2021-07-05', '2021-07-06'], dtype='datetime64[ns]', freq='D')\n",
      "<class 'pandas.core.indexes.datetimes.DatetimeIndex'>\n"
     ]
    }
   ],
   "source": [
    "dates = pd.date_range('2021-07-01','2021-07-06')\n",
    "print(dates)\n",
    "print(type(dates))"
   ]
  },
  {
   "cell_type": "code",
   "execution_count": 17,
   "metadata": {},
   "outputs": [
    {
     "name": "stdout",
     "output_type": "stream",
     "text": [
      "2021-07-01    80\n",
      "2021-07-02    82\n",
      "2021-07-03    85\n",
      "2021-07-04    90\n",
      "2021-07-05    83\n",
      "2021-07-06    87\n",
      "Freq: D, dtype: int64\n"
     ]
    }
   ],
   "source": [
    "temps1 = pd.Series([80,82,85,90,83,87], index=dates)\n",
    "print(temps1)"
   ]
  },
  {
   "cell_type": "code",
   "execution_count": 18,
   "metadata": {},
   "outputs": [
    {
     "name": "stdout",
     "output_type": "stream",
     "text": [
      "2021-07-01    70\n",
      "2021-07-02    75\n",
      "2021-07-03    69\n",
      "2021-07-04    83\n",
      "2021-07-05    79\n",
      "2021-07-06    77\n",
      "Freq: D, dtype: int64\n",
      "2021-07-01    10\n",
      "2021-07-02     7\n",
      "2021-07-03    16\n",
      "2021-07-04     7\n",
      "2021-07-05     4\n",
      "2021-07-06    10\n",
      "Freq: D, dtype: int64\n"
     ]
    }
   ],
   "source": [
    "temps2 = pd.Series([70,75,69,83,79,77], index=dates)\n",
    "print(temps2)\n",
    "temps_diff = temps1-temps2\n",
    "print(temps_diff)"
   ]
  },
  {
   "cell_type": "code",
   "execution_count": 19,
   "metadata": {},
   "outputs": [
    {
     "name": "stdout",
     "output_type": "stream",
     "text": [
      "9.0\n",
      "<class 'pandas.core.series.Series'>\n"
     ]
    }
   ],
   "source": [
    "print(temps_diff.mean())\n",
    "print(type(temps_diff))"
   ]
  },
  {
   "cell_type": "code",
   "execution_count": 20,
   "metadata": {},
   "outputs": [
    {
     "name": "stdout",
     "output_type": "stream",
     "text": [
      "            Missoula  Philadelphia\n",
      "2021-07-01        80            70\n",
      "2021-07-02        82            75\n",
      "2021-07-03        85            69\n",
      "2021-07-04        90            83\n",
      "2021-07-05        83            79\n",
      "2021-07-06        87            77\n"
     ]
    }
   ],
   "source": [
    "temps_df = pd.DataFrame({'Missoula':temps1, 'Philadelphia':temps2})\n",
    "print(temps_df)"
   ]
  },
  {
   "cell_type": "code",
   "execution_count": 21,
   "metadata": {},
   "outputs": [
    {
     "name": "stdout",
     "output_type": "stream",
     "text": [
      "2021-07-01    150\n",
      "2021-07-02    157\n",
      "2021-07-03    154\n",
      "2021-07-04    173\n",
      "2021-07-05    162\n",
      "2021-07-06    164\n",
      "Freq: D, dtype: int64\n",
      "2021-07-01    5600\n",
      "2021-07-02    6150\n",
      "2021-07-03    5865\n",
      "2021-07-04    7470\n",
      "2021-07-05    6557\n",
      "2021-07-06    6699\n",
      "Freq: D, dtype: int64\n",
      "2021-07-01    1.142857\n",
      "2021-07-02    1.093333\n",
      "2021-07-03    1.231884\n",
      "2021-07-04    1.084337\n",
      "2021-07-05    1.050633\n",
      "2021-07-06    1.129870\n",
      "Freq: D, dtype: float64\n"
     ]
    }
   ],
   "source": [
    "# 실습-해답 \n",
    "\n",
    "temps_1 = temps1 + temps2\n",
    "temps_2 = temps1 * temps2\n",
    "temps_3 = temps1 / temps2\n",
    "#\n",
    "print(temps_1)\n",
    "print(temps_2)\n",
    "print(temps_3)"
   ]
  },
  {
   "cell_type": "code",
   "execution_count": 22,
   "metadata": {},
   "outputs": [
    {
     "name": "stdout",
     "output_type": "stream",
     "text": [
      "----------------------------------------\n",
      "temps3\n",
      "2021-07-01    75\n",
      "2021-07-02    77\n",
      "2021-07-03    67\n",
      "2021-07-04    82\n",
      "2021-07-05    77\n",
      "2021-07-06    85\n",
      "Freq: D, dtype: int64\n",
      "----------------------------------------\n",
      "temps_df2\n",
      "            Missoula  Philadelphia  temps3\n",
      "2021-07-01        80            70      75\n",
      "2021-07-02        82            75      77\n",
      "2021-07-03        85            69      67\n",
      "2021-07-04        90            83      82\n",
      "2021-07-05        83            79      77\n",
      "2021-07-06        87            77      85\n"
     ]
    }
   ],
   "source": [
    "# 실습-해답 \n",
    "temps3 = pd.Series([75, 77, 67, 82, 77, 85],index=dates)\n",
    "print('-'*40)\n",
    "print('temps3')\n",
    "print(temps3)\n",
    "dic2 = {'Missoula': temps1,'Philadelphia': temps2,'temps3':temps3}  # 딕셔너리 dic2를 생성함 \n",
    "temps_df2 = pd.DataFrame(dic2) # 데이터프레임을 생성할 때 인수로 딕셔너리인 dic2를 사용함\n",
    "print('-'*40)\n",
    "print('temps_df2')\n",
    "print(temps_df2)"
   ]
  },
  {
   "cell_type": "code",
   "execution_count": 23,
   "metadata": {},
   "outputs": [
    {
     "name": "stdout",
     "output_type": "stream",
     "text": [
      "<<<<실습-해답-ver1>>>>\n",
      "            Missoula  Philadelphia  Seoul\n",
      "2021-07-01        80            70     75\n",
      "2021-07-02        82            75     77\n",
      "2021-07-03        85            69     67\n",
      "2021-07-04        90            83     82\n",
      "2021-07-05        83            79     77\n",
      "2021-07-06        87            77     85\n",
      "\n",
      "----------------------------------------\n",
      "Missoula \t평균기온 : 84.50\n",
      "Philadelphia \t평균기온 : 75.50\n",
      "Seoul \t \t평균기온 : 77.17\n"
     ]
    }
   ],
   "source": [
    "# 실습-해답-ver1\n",
    "print('<<<<실습-해답-ver1>>>>')\n",
    "temps3 = pd.Series([75, 77, 67, 82, 77, 85], index=dates)\n",
    "temps_df2 = pd.DataFrame(\n",
    "        {\n",
    "        'Missoula': temps1,\n",
    "        'Philadelphia': temps2,\n",
    "        'Seoul': temps3,\n",
    "        }\n",
    ")\n",
    "print(temps_df2)\n",
    "print()\n",
    "print('-'*40)\n",
    "print('Missoula \\t평균기온 : {0:.2f}'.format(temps1.mean()))\n",
    "print('Philadelphia \\t평균기온 : {0:.2f}'.format(temps2.mean()))\n",
    "print('Seoul \\t \\t평균기온 : {0:.2f}'.format(temps3.mean()))"
   ]
  },
  {
   "cell_type": "code",
   "execution_count": 24,
   "metadata": {},
   "outputs": [
    {
     "name": "stdout",
     "output_type": "stream",
     "text": [
      "\n",
      "<<<<실습-해답-ver2>>>>\n",
      "            Missoula  Philadelphia  Seoul\n",
      "2021-07-01        80            70     75\n",
      "2021-07-02        82            75     77\n",
      "2021-07-03        85            69     67\n",
      "2021-07-04        90            83     82\n",
      "2021-07-05        83            79     77\n",
      "2021-07-06        87            77     85\n",
      "\n",
      "----------------------------------------\n",
      "Missoula \t평균기온 : 84.50\n",
      "Philadelphia \t평균기온 : 75.50\n",
      "Seoul \t\t평균기온 : 77.17\n"
     ]
    }
   ],
   "source": [
    "# 실습-해답-ver2\n",
    "temps3 = pd.Series([75, 77, 67, 82, 77, 85], index=dates)\n",
    "temps_df2 = pd.DataFrame(\n",
    "        {\n",
    "        'Missoula': temps1,\n",
    "        'Philadelphia': temps2,\n",
    "        'Seoul': temps3,\n",
    "        }\n",
    ")\n",
    "print()\n",
    "print('<<<<실습-해답-ver2>>>>')\n",
    "print(temps_df2)\n",
    "print()\n",
    "print('-'*40)\n",
    "#print(      round(temps_df2.mean(),2)      ) # 서비스 코드 주석을 풀어보세요\n",
    "#print('-'*40)\n",
    "#print(temps_df2.columns)  # 서비스 코드 주석을 풀어보세요-> 이후 하단의 소스코드와 비교하세요.\n",
    "print(temps_df2.columns.values[0] ,'\\t평균기온 : {0:.2f}'    .format(round(temps_df2.Missoula.mean(),2))     )\n",
    "print(temps_df2.columns.values[1] ,'\\t평균기온 : {0:.2f}'    .format(round(temps_df2.Philadelphia.mean(),2))      )\n",
    "print(temps_df2.columns.values[2] ,'\\t\\t평균기온 : {0:.2f}'    .format(round(temps_df2.Seoul.mean(),2))      )"
   ]
  },
  {
   "cell_type": "markdown",
   "metadata": {},
   "source": [
    "##### 이하는 13일차 학습내용입니다.\n",
    "##### 이하는 13일차 학습내용입니다.\n",
    "##### 이하는 13일차 학습내용입니다."
   ]
  },
  {
   "cell_type": "code",
   "execution_count": 25,
   "metadata": {},
   "outputs": [],
   "source": [
    "# Pandas DataFrame의 개념 \n",
    "## 판다스의 시리즈는 각 인덱스 레이블 당 한 개의 값(values)만 가진다.\n",
    "## 그러나 데이터 프레임을 사용하면 인덱스 한 개당 복수개의 값을 가질 수 있다 \n",
    "## 데이터 프레임은 인덱스 레이블을 기준으로 배열된 한 개 이상의 시리즈의 집합을 의미한다.\n",
    "## 각 시리즈는 데이터 프레임의 컬럼(열)이며 각각의 컬럼(열)은 자신만의 이름을 갖는다.\n",
    "# Pandas DataFrame의 특징 \n",
    "## 데이터 프레임은 데이터  개념과 비슷하다.\n",
    "## 서로다른 유형의 데이터 컬럼을 한 개 이상 갖는다는 점과, 한 컬럼의 모든 데이터는 동일한 유형이라는 점이 비슷한 점이다.  "
   ]
  },
  {
   "cell_type": "code",
   "execution_count": 26,
   "metadata": {},
   "outputs": [
    {
     "data": {
      "text/html": [
       "<div>\n",
       "<style scoped>\n",
       "    .dataframe tbody tr th:only-of-type {\n",
       "        vertical-align: middle;\n",
       "    }\n",
       "\n",
       "    .dataframe tbody tr th {\n",
       "        vertical-align: top;\n",
       "    }\n",
       "\n",
       "    .dataframe thead th {\n",
       "        text-align: right;\n",
       "    }\n",
       "</style>\n",
       "<table border=\"1\" class=\"dataframe\">\n",
       "  <thead>\n",
       "    <tr style=\"text-align: right;\">\n",
       "      <th></th>\n",
       "      <th>Missoula</th>\n",
       "      <th>Philadelphia</th>\n",
       "    </tr>\n",
       "  </thead>\n",
       "  <tbody>\n",
       "    <tr>\n",
       "      <th>2021-07-01</th>\n",
       "      <td>80</td>\n",
       "      <td>70</td>\n",
       "    </tr>\n",
       "    <tr>\n",
       "      <th>2021-07-02</th>\n",
       "      <td>82</td>\n",
       "      <td>75</td>\n",
       "    </tr>\n",
       "    <tr>\n",
       "      <th>2021-07-03</th>\n",
       "      <td>85</td>\n",
       "      <td>69</td>\n",
       "    </tr>\n",
       "    <tr>\n",
       "      <th>2021-07-04</th>\n",
       "      <td>90</td>\n",
       "      <td>83</td>\n",
       "    </tr>\n",
       "    <tr>\n",
       "      <th>2021-07-05</th>\n",
       "      <td>83</td>\n",
       "      <td>79</td>\n",
       "    </tr>\n",
       "    <tr>\n",
       "      <th>2021-07-06</th>\n",
       "      <td>87</td>\n",
       "      <td>77</td>\n",
       "    </tr>\n",
       "  </tbody>\n",
       "</table>\n",
       "</div>"
      ],
      "text/plain": [
       "            Missoula  Philadelphia\n",
       "2021-07-01        80            70\n",
       "2021-07-02        82            75\n",
       "2021-07-03        85            69\n",
       "2021-07-04        90            83\n",
       "2021-07-05        83            79\n",
       "2021-07-06        87            77"
      ]
     },
     "execution_count": 26,
     "metadata": {},
     "output_type": "execute_result"
    }
   ],
   "source": [
    "temp_df = pd.DataFrame( {'Missoula':temps1, 'Philadelphia':temps2 }  )\n",
    "temp_df"
   ]
  },
  {
   "cell_type": "code",
   "execution_count": 27,
   "metadata": {},
   "outputs": [
    {
     "name": "stdout",
     "output_type": "stream",
     "text": [
      "2021-07-01    80\n",
      "2021-07-02    82\n",
      "2021-07-03    85\n",
      "2021-07-04    90\n",
      "2021-07-05    83\n",
      "2021-07-06    87\n",
      "Freq: D, Name: Missoula, dtype: int64\n",
      "<class 'pandas.core.frame.DataFrame'>\n",
      "---\n",
      "<class 'pandas.core.series.Series'>\n",
      "<class 'pandas.core.series.Series'>\n",
      "<class 'pandas.core.series.Series'>\n"
     ]
    }
   ],
   "source": [
    "print(temps_df['Missoula']) # 데이터 프레임에서 특정한 컬럼을 참조하기\n",
    "print(type(temps_df))       # temps_df는 데이터프레임 형식임\n",
    "print('---')\n",
    "print(type(temps1))\n",
    "print(type(temps_df['Missoula'] ))\n",
    "aa = temps_df[\"Missoula\"]\n",
    "print(type(aa))"
   ]
  },
  {
   "cell_type": "code",
   "execution_count": 28,
   "metadata": {},
   "outputs": [
    {
     "name": "stdout",
     "output_type": "stream",
     "text": [
      "2021-07-01    80\n",
      "2021-07-02    82\n",
      "2021-07-03    85\n",
      "2021-07-04    90\n",
      "2021-07-05    83\n",
      "2021-07-06    87\n",
      "Freq: D, Name: Missoula, dtype: int64\n",
      "<class 'pandas.core.series.Series'>\n"
     ]
    }
   ],
   "source": [
    "bb = temps_df.Missoula  # 데이터 프레임에 속해 있는 시리즈를 꺼내오는 새로운 문법임\n",
    "# 직전의 temps_df['Missoula'] 문법과 비교할것\n",
    "print(bb)\n",
    "print(type(bb))"
   ]
  },
  {
   "cell_type": "code",
   "execution_count": 30,
   "metadata": {},
   "outputs": [
    {
     "data": {
      "text/plain": [
       "2021-07-01    70\n",
       "2021-07-02    75\n",
       "2021-07-03    69\n",
       "2021-07-04    83\n",
       "2021-07-05    79\n",
       "2021-07-06    77\n",
       "Freq: D, Name: Philadelphia, dtype: int64"
      ]
     },
     "execution_count": 30,
     "metadata": {},
     "output_type": "execute_result"
    }
   ],
   "source": [
    "temps_df['Philadelphia']"
   ]
  },
  {
   "cell_type": "code",
   "execution_count": 31,
   "metadata": {},
   "outputs": [
    {
     "data": {
      "text/plain": [
       "2021-07-01    70\n",
       "2021-07-02    75\n",
       "2021-07-03    69\n",
       "2021-07-04    83\n",
       "2021-07-05    79\n",
       "2021-07-06    77\n",
       "Freq: D, Name: Philadelphia, dtype: int64"
      ]
     },
     "execution_count": 31,
     "metadata": {},
     "output_type": "execute_result"
    }
   ],
   "source": [
    "temps_df.Philadelphia"
   ]
  },
  {
   "cell_type": "code",
   "execution_count": 32,
   "metadata": {},
   "outputs": [
    {
     "data": {
      "text/html": [
       "<div>\n",
       "<style scoped>\n",
       "    .dataframe tbody tr th:only-of-type {\n",
       "        vertical-align: middle;\n",
       "    }\n",
       "\n",
       "    .dataframe tbody tr th {\n",
       "        vertical-align: top;\n",
       "    }\n",
       "\n",
       "    .dataframe thead th {\n",
       "        text-align: right;\n",
       "    }\n",
       "</style>\n",
       "<table border=\"1\" class=\"dataframe\">\n",
       "  <thead>\n",
       "    <tr style=\"text-align: right;\">\n",
       "      <th></th>\n",
       "      <th>Philadelphia</th>\n",
       "      <th>Missoula</th>\n",
       "    </tr>\n",
       "  </thead>\n",
       "  <tbody>\n",
       "    <tr>\n",
       "      <th>2021-07-01</th>\n",
       "      <td>70</td>\n",
       "      <td>80</td>\n",
       "    </tr>\n",
       "    <tr>\n",
       "      <th>2021-07-02</th>\n",
       "      <td>75</td>\n",
       "      <td>82</td>\n",
       "    </tr>\n",
       "    <tr>\n",
       "      <th>2021-07-03</th>\n",
       "      <td>69</td>\n",
       "      <td>85</td>\n",
       "    </tr>\n",
       "    <tr>\n",
       "      <th>2021-07-04</th>\n",
       "      <td>83</td>\n",
       "      <td>90</td>\n",
       "    </tr>\n",
       "    <tr>\n",
       "      <th>2021-07-05</th>\n",
       "      <td>79</td>\n",
       "      <td>83</td>\n",
       "    </tr>\n",
       "    <tr>\n",
       "      <th>2021-07-06</th>\n",
       "      <td>77</td>\n",
       "      <td>87</td>\n",
       "    </tr>\n",
       "  </tbody>\n",
       "</table>\n",
       "</div>"
      ],
      "text/plain": [
       "            Philadelphia  Missoula\n",
       "2021-07-01            70        80\n",
       "2021-07-02            75        82\n",
       "2021-07-03            69        85\n",
       "2021-07-04            83        90\n",
       "2021-07-05            79        83\n",
       "2021-07-06            77        87"
      ]
     },
     "execution_count": 32,
     "metadata": {},
     "output_type": "execute_result"
    }
   ],
   "source": [
    "temps_df [[  'Philadelphia','Missoula'  ]]\n",
    "    # 데이터 프레임을 구성하는 두 개 이상의 컬럼(시리즈)을 \n",
    "    # 한번에 가져올 때에는 대괄호를 중첩하여야 함"
   ]
  },
  {
   "cell_type": "code",
   "execution_count": 33,
   "metadata": {},
   "outputs": [
    {
     "name": "stdout",
     "output_type": "stream",
     "text": [
      "2021-07-01    10\n",
      "2021-07-02     7\n",
      "2021-07-03    16\n",
      "2021-07-04     7\n",
      "2021-07-05     4\n",
      "2021-07-06    10\n",
      "Freq: D, dtype: int64\n",
      "<class 'pandas.core.series.Series'>\n",
      "            Missoula  Philadelphia\n",
      "2021-07-01        80            70\n",
      "2021-07-02        82            75\n",
      "2021-07-03        85            69\n",
      "2021-07-04        90            83\n",
      "2021-07-05        83            79\n",
      "2021-07-06        87            77\n"
     ]
    }
   ],
   "source": [
    "temps_diff = temps_df.Missoula - temps_df.Philadelphia  # 시리즈 간의 산술연산 \n",
    "print(temps_diff)\n",
    "print(type(temps_diff))\n",
    "print(temps_df)"
   ]
  },
  {
   "cell_type": "code",
   "execution_count": 34,
   "metadata": {},
   "outputs": [
    {
     "name": "stdout",
     "output_type": "stream",
     "text": [
      "            Missoula  Philadelphia  Difference\n",
      "2021-07-01        80            70          10\n",
      "2021-07-02        82            75           7\n",
      "2021-07-03        85            69          16\n",
      "2021-07-04        90            83           7\n",
      "2021-07-05        83            79           4\n",
      "2021-07-06        87            77          10\n"
     ]
    }
   ],
   "source": [
    "temps_df['Difference'] = temps_diff\n",
    "        # temps_df라는 데이터 프레임에 temps_diff의 시리즈를 한 개 추가함\n",
    "        # 그리고 df 안에서 추가한 시리즈의 레이블을 'Difference' 라고 정함 \n",
    "print(temps_df)"
   ]
  },
  {
   "cell_type": "code",
   "execution_count": 35,
   "metadata": {},
   "outputs": [
    {
     "name": "stdout",
     "output_type": "stream",
     "text": [
      "Index(['Missoula', 'Philadelphia', 'Difference'], dtype='object')\n",
      "['Missoula', 'Philadelphia', 'Difference']\n"
     ]
    }
   ],
   "source": [
    "print(    temps_df.columns    ) # 데이터프레임의 컬럼명을 반환한다.\n",
    "print(   list(temps_df.columns)   )"
   ]
  },
  {
   "cell_type": "code",
   "execution_count": 36,
   "metadata": {},
   "outputs": [
    {
     "name": "stdout",
     "output_type": "stream",
     "text": [
      "['Misu', 'Philadelphia', 'Difference']\n"
     ]
    }
   ],
   "source": [
    "col_list = list(temps_df.columns)\n",
    "col_list[0] = 'Misu'\n",
    "temps_df.columns = col_list  #  데이터프레임의 컬럼명(시리즈 레이블명)변경됨 \n",
    "print(list(temps_df.columns))"
   ]
  },
  {
   "cell_type": "code",
   "execution_count": 37,
   "metadata": {},
   "outputs": [
    {
     "name": "stdout",
     "output_type": "stream",
     "text": [
      "2021-07-01    80\n",
      "2021-07-02    82\n",
      "2021-07-03    85\n",
      "2021-07-04    90\n",
      "2021-07-05    83\n",
      "2021-07-06    87\n",
      "Freq: D, Name: Misu, dtype: int64\n"
     ]
    }
   ],
   "source": [
    "print(temps_df.Misu)"
   ]
  },
  {
   "cell_type": "code",
   "execution_count": 38,
   "metadata": {},
   "outputs": [
    {
     "name": "stdout",
     "output_type": "stream",
     "text": [
      "2021-07-02    82\n",
      "2021-07-03    85\n",
      "2021-07-04    90\n",
      "Freq: D, Name: Misu, dtype: int64\n"
     ]
    }
   ],
   "source": [
    "print(temps_df.Misu[1:4]) # [1:4]슬라이싱"
   ]
  },
  {
   "cell_type": "code",
   "execution_count": 39,
   "metadata": {},
   "outputs": [
    {
     "name": "stdout",
     "output_type": "stream",
     "text": [
      "2021-07-04    90\n",
      "2021-07-05    83\n",
      "2021-07-06    87\n",
      "Freq: D, Name: Misu, dtype: int64\n"
     ]
    }
   ],
   "source": [
    "print(temps_df.Misu[3:])  # [3:]슬라이싱"
   ]
  },
  {
   "cell_type": "markdown",
   "metadata": {},
   "source": [
    "#### 전체 컬럼에 있어서의 특정 로우 데이터를 보고 싶다면 \n",
    "\n",
    "#### <code>**.loc**</code>이나 <code>**.iloc**</code> 속성을 사용하면 된다. \n",
    "#### <code>**.loc**</code>는 인덱스 레이블을 사용해 검색하며, \n",
    "#### <code>**.iloc**</code>는 제로베이스 위치를 사용해 검색한다.\n",
    "\n",
    "#### 다음은 데이터 프레임 안의 모든 # 번째 로우를 가져오는 코드다."
   ]
  },
  {
   "cell_type": "code",
   "execution_count": 40,
   "metadata": {},
   "outputs": [
    {
     "name": "stdout",
     "output_type": "stream",
     "text": [
      "            Misu  Philadelphia  Difference\n",
      "2021-07-01    80            70          10\n",
      "2021-07-02    82            75           7\n",
      "2021-07-03    85            69          16\n",
      "2021-07-04    90            83           7\n",
      "2021-07-05    83            79           4\n",
      "2021-07-06    87            77          10\n",
      "----------------------------------------\n",
      "Misu            87\n",
      "Philadelphia    77\n",
      "Difference      10\n",
      "Name: 2021-07-06 00:00:00, dtype: int64\n"
     ]
    }
   ],
   "source": [
    "print(temps_df)\n",
    "print('-'*40)\n",
    "print(temps_df.iloc[5]) # 이 개념은 데이터 프레임에서 [n] n번째 행을 참조하라는 뜻임"
   ]
  },
  {
   "cell_type": "code",
   "execution_count": 41,
   "metadata": {},
   "outputs": [
    {
     "name": "stdout",
     "output_type": "stream",
     "text": [
      "Index(['Misu', 'Philadelphia', 'Difference'], dtype='object')\n"
     ]
    }
   ],
   "source": [
    "print(temps_df.iloc[3].index)"
   ]
  },
  {
   "cell_type": "code",
   "execution_count": 42,
   "metadata": {},
   "outputs": [
    {
     "name": "stdout",
     "output_type": "stream",
     "text": [
      "Misu            87\n",
      "Philadelphia    77\n",
      "Difference      10\n",
      "Name: 2021-07-06 00:00:00, dtype: int64\n"
     ]
    }
   ],
   "source": [
    "print(temps_df.iloc[5])"
   ]
  },
  {
   "cell_type": "code",
   "execution_count": 43,
   "metadata": {},
   "outputs": [
    {
     "name": "stdout",
     "output_type": "stream",
     "text": [
      "Misu            80\n",
      "Philadelphia    70\n",
      "Difference      10\n",
      "Name: 2021-07-01 00:00:00, dtype: int64\n"
     ]
    }
   ],
   "source": [
    "print(temps_df.loc['2021-07-01']) # 사용자 인덱스를 참조하는 loc명령은 존재하지 안을 떄 에러 발생함"
   ]
  },
  {
   "cell_type": "markdown",
   "metadata": {},
   "source": [
    "013일차-실습-3\n",
    "------------------------------------------------------------------\n",
    "<문제>, <배경설명>, <요구사항>, <실행결과> 를 충족하는 실습을 수행하고 결과를 제출하세요.\n",
    "------------------------------------------------------------------\n",
    "<문제>\n",
    "이전 실습의 연속입니다.\n",
    "직전 강의에서 사용한 코드에 연속으로 작업하세요.\n",
    "실행결과를 참조하여 미줄라와 필라델피아의 온도차를  temps_df 에 추가하세요.\n",
    "\n",
    "------------------------------------------------------------------\n",
    "<요구사항1>\n",
    "실행결과를 참조하여  이전 힉습일의 실습에서 만든 시리즈를 seoul이라는\n",
    "이름의 컬럼(열)롤 만들어 temps_df 에 추가하세요.\n",
    "\n",
    "------------------------------------------------------------------\n",
    "<실행결과>\n",
    "\t        Missoula\tPhiladelphia\tDifference\tdifference\tSeoul\n",
    "2021-07-01\t    80\t            70\t        10\t    10\t        75\n",
    "2021-07-02\t    82\t            75\t        7\t    7\t        77\n",
    "2021-07-03\t    85\t            69\t        16\t    16\t        67\n",
    "2021-07-04\t    90\t            83\t        7\t    7\t        82\n",
    "2021-07-05\t    83\t            79\t        4\t    4\t        77\n",
    "2021-07-06\t    87\t            77\t        10\t    10\t        85\n",
    "\n",
    "\n",
    "------------------------------------------------------------------\n",
    "이상의 실습결과를 techmr@daum.net; ty@doublerock.io 메일로 전송하세요.\n",
    "제목은 '013일차-실습-3-완료' 라고 지정하세요."
   ]
  },
  {
   "cell_type": "code",
   "execution_count": null,
   "metadata": {},
   "outputs": [
    {
     "name": "stdout",
     "output_type": "stream",
     "text": [
      "            Misu  Philadelphia  Difference  difference  Seoul\n",
      "2021-07-01    80            70          10          10     75\n",
      "2021-07-02    82            75           7           7     77\n",
      "2021-07-03    85            69          16          16     67\n",
      "2021-07-04    90            83           7           7     82\n",
      "2021-07-05    83            79           4           4     77\n",
      "2021-07-06    87            77          10          10     85\n"
     ]
    }
   ],
   "source": [
    "temps_df['difference'] = temps1-temps2\n",
    "temps_df['Seoul'] = temps3\n",
    "\n",
    "print(temps_df)\n"
   ]
  },
  {
   "cell_type": "code",
   "execution_count": 50,
   "metadata": {},
   "outputs": [
    {
     "data": {
      "text/html": [
       "<div>\n",
       "<style scoped>\n",
       "    .dataframe tbody tr th:only-of-type {\n",
       "        vertical-align: middle;\n",
       "    }\n",
       "\n",
       "    .dataframe tbody tr th {\n",
       "        vertical-align: top;\n",
       "    }\n",
       "\n",
       "    .dataframe thead th {\n",
       "        text-align: right;\n",
       "    }\n",
       "</style>\n",
       "<table border=\"1\" class=\"dataframe\">\n",
       "  <thead>\n",
       "    <tr style=\"text-align: right;\">\n",
       "      <th></th>\n",
       "      <th>Missoula</th>\n",
       "      <th>Philadelphia</th>\n",
       "      <th>Difference</th>\n",
       "      <th>difference</th>\n",
       "      <th>Seoul</th>\n",
       "    </tr>\n",
       "  </thead>\n",
       "  <tbody>\n",
       "    <tr>\n",
       "      <th>2021-07-01</th>\n",
       "      <td>80</td>\n",
       "      <td>70</td>\n",
       "      <td>10</td>\n",
       "      <td>10</td>\n",
       "      <td>75</td>\n",
       "    </tr>\n",
       "    <tr>\n",
       "      <th>2021-07-02</th>\n",
       "      <td>82</td>\n",
       "      <td>75</td>\n",
       "      <td>7</td>\n",
       "      <td>7</td>\n",
       "      <td>77</td>\n",
       "    </tr>\n",
       "    <tr>\n",
       "      <th>2021-07-03</th>\n",
       "      <td>85</td>\n",
       "      <td>69</td>\n",
       "      <td>16</td>\n",
       "      <td>16</td>\n",
       "      <td>67</td>\n",
       "    </tr>\n",
       "    <tr>\n",
       "      <th>2021-07-04</th>\n",
       "      <td>90</td>\n",
       "      <td>83</td>\n",
       "      <td>7</td>\n",
       "      <td>7</td>\n",
       "      <td>82</td>\n",
       "    </tr>\n",
       "    <tr>\n",
       "      <th>2021-07-05</th>\n",
       "      <td>83</td>\n",
       "      <td>79</td>\n",
       "      <td>4</td>\n",
       "      <td>4</td>\n",
       "      <td>77</td>\n",
       "    </tr>\n",
       "    <tr>\n",
       "      <th>2021-07-06</th>\n",
       "      <td>87</td>\n",
       "      <td>77</td>\n",
       "      <td>10</td>\n",
       "      <td>10</td>\n",
       "      <td>85</td>\n",
       "    </tr>\n",
       "  </tbody>\n",
       "</table>\n",
       "</div>"
      ],
      "text/plain": [
       "            Missoula  Philadelphia  Difference  difference  Seoul\n",
       "2021-07-01        80            70          10          10     75\n",
       "2021-07-02        82            75           7           7     77\n",
       "2021-07-03        85            69          16          16     67\n",
       "2021-07-04        90            83           7           7     82\n",
       "2021-07-05        83            79           4           4     77\n",
       "2021-07-06        87            77          10          10     85"
      ]
     },
     "execution_count": 50,
     "metadata": {},
     "output_type": "execute_result"
    }
   ],
   "source": [
    "#013일차-실습-3해답\n",
    "col_list = list(temps_df.columns)\n",
    "col_list[0] = 'Missoula'       # 컬럼명(시리즈 레이블명)변경 \n",
    "temps_df.columns = col_list\n",
    "#\n",
    "temps3 = pd.Series([75, 77, 67, 82, 77, 85], index=dates)\n",
    "temps_df['difference'] = temps1 - temps2 # \n",
    "temps_df['Seoul'] = temps3\n",
    "temps_df\n"
   ]
  },
  {
   "cell_type": "markdown",
   "metadata": {},
   "source": [
    "013일차-실습-4\n",
    "------------------------------------------------------------------\n",
    "<문제>, <배경설명>, <요구사항>, <실행결과> 를 충족하는 실습을 수행하고 결과를 제출하세요.\n",
    "------------------------------------------------------------------\n",
    "<문제>\n",
    "이전 실습의 연속입니다.\n",
    "이전 실습에서 사용한 코드에 연속으로 작업하세요.\n",
    "temps_df 의 seoul 시리즈(열)에서 마지막 3줄(로우)을 추출하는 코드를 작성하세요.\n",
    "\n",
    "------------------------------------------------------------------\n",
    "<실행결과>\n",
    "            Seoul\n",
    "2021-07-04     82\n",
    "2021-07-05     77\n",
    "2021-07-06     85\n",
    "\n",
    "------------------------------------------------------------------\n",
    "이상의 실습결과를 techmr@daum.net; ty@doublerock.io 메일로 전송하세요.\n",
    "메일제목은 '013일차-실습-4-완료' 라고 지정하세요."
   ]
  },
  {
   "cell_type": "code",
   "execution_count": 56,
   "metadata": {},
   "outputs": [
    {
     "data": {
      "text/plain": [
       "2021-07-04    82\n",
       "2021-07-05    77\n",
       "2021-07-06    85\n",
       "Freq: D, Name: Seoul, dtype: int64"
      ]
     },
     "execution_count": 56,
     "metadata": {},
     "output_type": "execute_result"
    }
   ],
   "source": [
    "temps_df['Seoul'].tail(3)"
   ]
  },
  {
   "cell_type": "code",
   "execution_count": 58,
   "metadata": {},
   "outputs": [
    {
     "name": "stdout",
     "output_type": "stream",
     "text": [
      "----------------------------------------\n",
      "2021-07-04    82\n",
      "2021-07-05    77\n",
      "2021-07-06    85\n",
      "Freq: D, Name: Seoul, dtype: int64\n",
      "----------------------------------------\n",
      "2021-07-04    82\n",
      "2021-07-05    77\n",
      "2021-07-06    85\n",
      "Freq: D, Name: Seoul, dtype: int64\n",
      "----------------------------------------\n",
      "            Seoul\n",
      "2021-07-04     82\n",
      "2021-07-05     77\n",
      "2021-07-06     85\n",
      "----------------------------------------\n",
      "2021-07-04    82\n",
      "2021-07-05    77\n",
      "2021-07-06    85\n",
      "Freq: D, Name: Seoul, dtype: int64\n",
      "----------------------------------------\n",
      "            Seoul\n",
      "2021-07-04     82\n",
      "2021-07-05     77\n",
      "2021-07-06     85\n",
      "----------------------------------------\n",
      "            Seoul\n",
      "2021-07-04     82\n",
      "2021-07-05     77\n",
      "2021-07-06     85\n"
     ]
    }
   ],
   "source": [
    "\n",
    "#013일차-실습-4해답\n",
    "print('-'*40)\n",
    "print(temps_df.Seoul[-3:])\n",
    "print('-'*40)\n",
    "print(temps_df.Seoul[3:6])\n",
    "print('-'*40)\n",
    "print(temps_df[['Seoul']][3:])\n",
    "print('-'*40)\n",
    "print(temps_df2['Seoul'].tail(3))\n",
    "print('-'*40)\n",
    "print(temps_df.loc['20210704':'20210706',['Seoul']])\n",
    "print('-'*40)\n",
    "print(temps_df.loc['2021-07-04':'2021-07-06',['Seoul']]) # 위의 소스와 비교\n"
   ]
  },
  {
   "cell_type": "markdown",
   "metadata": {},
   "source": [
    "013일차-실습-5\n",
    "------------------------------------------------------------------\n",
    "<문제>, <배경설명>, <요구사항>, <실행결과> 를 충족하는 실습을 수행하고 결과를 제출하세요.\n",
    "------------------------------------------------------------------\n",
    "<문제>\n",
    "- temps_df 의 seoul 시리즈(열) 중에서 기온이 80 이상인 것을 추출하는 파이썬 프로그램을 작성하세요.\n",
    "- 이전 실습의 연속입니다.\n",
    "\n",
    "------------------------------------------------------------------\n",
    "<요구사항1>\n",
    "이전 실습에서 사용한 코드에 연속으로 작업하세요.\n",
    "temps_df 의 seoul 시리즈(열) 중에서 기온이 80 이상인 것을 추출하는 코드를 작성하세요.\n",
    "\n",
    "------------------------------------------------------------------\n",
    "<실행결과>\n",
    "2021-07-04    82\n",
    "2021-07-06    85\n",
    "Freq: 2D, Name: Seoul, dtype: int64\n",
    "\n",
    "------------------------------------------------------------------\n",
    "이상의 실습결과를 techmr@daum.net; ty@doublerock.io 메일로 전송하세요.\n",
    "메일제목은 '013일차-실습-5-완료' 라고 지정하세요."
   ]
  },
  {
   "cell_type": "code",
   "execution_count": 61,
   "metadata": {},
   "outputs": [
    {
     "data": {
      "text/plain": [
       "2021-07-04    82\n",
       "2021-07-06    85\n",
       "Name: Seoul, dtype: int64"
      ]
     },
     "execution_count": 61,
     "metadata": {},
     "output_type": "execute_result"
    }
   ],
   "source": [
    "temps_df.Seoul[temps_df.Seoul >= 80]"
   ]
  },
  {
   "cell_type": "code",
   "execution_count": null,
   "metadata": {},
   "outputs": [
    {
     "name": "stdout",
     "output_type": "stream",
     "text": [
      "---------- 013일차-실습-5-해답-ver1 ----------\n",
      "2021-07-04    82\n",
      "2021-07-06    85\n",
      "Name: Seoul, dtype: int64\n",
      "---------- 013일차-실습-5-해답-ver2 ----------\n",
      "2021-07-04    82\n",
      "2021-07-06    85\n",
      "Freq: 2D, Name: Seoul, dtype: int64\n"
     ]
    }
   ],
   "source": [
    "#013일차-실습-5-해답-ver1\n",
    "print('-'*10,'013일차-실습-5-해답-ver1','-'*10)\n",
    "print(temps_df.Seoul[temps_df.Seoul >= 80])\n",
    "#013일차-실습-5-해답-ver2\n",
    "print('-'*10,'013일차-실습-5-해답-ver2','-'*10)\n",
    "print(temps_df[temps_df.Seoul >= 80].Seoul)"
   ]
  },
  {
   "cell_type": "markdown",
   "metadata": {},
   "source": [
    "013일차-실습-6\n",
    "------------------------------------------------------------------\n",
    "<문제>, <배경설명>, <요구사항>, <실행결과> 를 충족하는 실습을 수행하고 결과를 제출하세요.\n",
    "------------------------------------------------------------------\n",
    "<문제>\n",
    "temps_df데이터 프레임의 모든 레이블(시리즈 명)을 실행결과를 참조하여 변경하세요.\n",
    "\n",
    "------------------------------------------------------------------\n",
    "<요구사항1>\n",
    "이전 실습에서 사용한 코드에 연속으로 작업하세요.\n",
    "\n",
    "------------------------------------------------------------------\n",
    "<실행결과>\n",
    "\n",
    "            MisuPhilDiffdiffSeou\n",
    "2021-07-018070101075\n",
    "2021-07-0282757777\n",
    "2021-07-038569161667\n",
    "2021-07-0490837782\n",
    "2021-07-0583794477\n",
    "2021-07-068777101085\n",
    "\n",
    "------------------------------------------------------------------\n",
    "이상의 실습결과를 techmr@daum.net; ty@doublerock.io 메일로 전송하세요.\n",
    "메일제목은 '013일차-실습-6-완료' 라고 지정하세요."
   ]
  },
  {
   "cell_type": "code",
   "execution_count": 66,
   "metadata": {},
   "outputs": [
    {
     "data": {
      "text/html": [
       "<div>\n",
       "<style scoped>\n",
       "    .dataframe tbody tr th:only-of-type {\n",
       "        vertical-align: middle;\n",
       "    }\n",
       "\n",
       "    .dataframe tbody tr th {\n",
       "        vertical-align: top;\n",
       "    }\n",
       "\n",
       "    .dataframe thead th {\n",
       "        text-align: right;\n",
       "    }\n",
       "</style>\n",
       "<table border=\"1\" class=\"dataframe\">\n",
       "  <thead>\n",
       "    <tr style=\"text-align: right;\">\n",
       "      <th></th>\n",
       "      <th>Misu</th>\n",
       "      <th>Phil</th>\n",
       "      <th>Diff</th>\n",
       "      <th>diff</th>\n",
       "      <th>Seou</th>\n",
       "    </tr>\n",
       "  </thead>\n",
       "  <tbody>\n",
       "    <tr>\n",
       "      <th>2021-07-01</th>\n",
       "      <td>80</td>\n",
       "      <td>70</td>\n",
       "      <td>10</td>\n",
       "      <td>10</td>\n",
       "      <td>75</td>\n",
       "    </tr>\n",
       "    <tr>\n",
       "      <th>2021-07-02</th>\n",
       "      <td>82</td>\n",
       "      <td>75</td>\n",
       "      <td>7</td>\n",
       "      <td>7</td>\n",
       "      <td>77</td>\n",
       "    </tr>\n",
       "    <tr>\n",
       "      <th>2021-07-03</th>\n",
       "      <td>85</td>\n",
       "      <td>69</td>\n",
       "      <td>16</td>\n",
       "      <td>16</td>\n",
       "      <td>67</td>\n",
       "    </tr>\n",
       "    <tr>\n",
       "      <th>2021-07-04</th>\n",
       "      <td>90</td>\n",
       "      <td>83</td>\n",
       "      <td>7</td>\n",
       "      <td>7</td>\n",
       "      <td>82</td>\n",
       "    </tr>\n",
       "    <tr>\n",
       "      <th>2021-07-05</th>\n",
       "      <td>83</td>\n",
       "      <td>79</td>\n",
       "      <td>4</td>\n",
       "      <td>4</td>\n",
       "      <td>77</td>\n",
       "    </tr>\n",
       "    <tr>\n",
       "      <th>2021-07-06</th>\n",
       "      <td>87</td>\n",
       "      <td>77</td>\n",
       "      <td>10</td>\n",
       "      <td>10</td>\n",
       "      <td>85</td>\n",
       "    </tr>\n",
       "  </tbody>\n",
       "</table>\n",
       "</div>"
      ],
      "text/plain": [
       "            Misu  Phil  Diff  diff  Seou\n",
       "2021-07-01    80    70    10    10    75\n",
       "2021-07-02    82    75     7     7    77\n",
       "2021-07-03    85    69    16    16    67\n",
       "2021-07-04    90    83     7     7    82\n",
       "2021-07-05    83    79     4     4    77\n",
       "2021-07-06    87    77    10    10    85"
      ]
     },
     "execution_count": 66,
     "metadata": {},
     "output_type": "execute_result"
    }
   ],
   "source": [
    "temps_df.columns = ['Misu', 'Phil', 'Diff', 'diff', 'Seou']\n",
    "\n",
    "temps_df"
   ]
  },
  {
   "cell_type": "code",
   "execution_count": 67,
   "metadata": {},
   "outputs": [
    {
     "data": {
      "text/html": [
       "<div>\n",
       "<style scoped>\n",
       "    .dataframe tbody tr th:only-of-type {\n",
       "        vertical-align: middle;\n",
       "    }\n",
       "\n",
       "    .dataframe tbody tr th {\n",
       "        vertical-align: top;\n",
       "    }\n",
       "\n",
       "    .dataframe thead th {\n",
       "        text-align: right;\n",
       "    }\n",
       "</style>\n",
       "<table border=\"1\" class=\"dataframe\">\n",
       "  <thead>\n",
       "    <tr style=\"text-align: right;\">\n",
       "      <th></th>\n",
       "      <th>Misu</th>\n",
       "      <th>Phil</th>\n",
       "      <th>Diff</th>\n",
       "      <th>diff</th>\n",
       "      <th>Seou</th>\n",
       "    </tr>\n",
       "  </thead>\n",
       "  <tbody>\n",
       "    <tr>\n",
       "      <th>2021-07-01</th>\n",
       "      <td>80</td>\n",
       "      <td>70</td>\n",
       "      <td>10</td>\n",
       "      <td>10</td>\n",
       "      <td>75</td>\n",
       "    </tr>\n",
       "    <tr>\n",
       "      <th>2021-07-02</th>\n",
       "      <td>82</td>\n",
       "      <td>75</td>\n",
       "      <td>7</td>\n",
       "      <td>7</td>\n",
       "      <td>77</td>\n",
       "    </tr>\n",
       "    <tr>\n",
       "      <th>2021-07-03</th>\n",
       "      <td>85</td>\n",
       "      <td>69</td>\n",
       "      <td>16</td>\n",
       "      <td>16</td>\n",
       "      <td>67</td>\n",
       "    </tr>\n",
       "    <tr>\n",
       "      <th>2021-07-04</th>\n",
       "      <td>90</td>\n",
       "      <td>83</td>\n",
       "      <td>7</td>\n",
       "      <td>7</td>\n",
       "      <td>82</td>\n",
       "    </tr>\n",
       "    <tr>\n",
       "      <th>2021-07-05</th>\n",
       "      <td>83</td>\n",
       "      <td>79</td>\n",
       "      <td>4</td>\n",
       "      <td>4</td>\n",
       "      <td>77</td>\n",
       "    </tr>\n",
       "    <tr>\n",
       "      <th>2021-07-06</th>\n",
       "      <td>87</td>\n",
       "      <td>77</td>\n",
       "      <td>10</td>\n",
       "      <td>10</td>\n",
       "      <td>85</td>\n",
       "    </tr>\n",
       "  </tbody>\n",
       "</table>\n",
       "</div>"
      ],
      "text/plain": [
       "            Misu  Phil  Diff  diff  Seou\n",
       "2021-07-01    80    70    10    10    75\n",
       "2021-07-02    82    75     7     7    77\n",
       "2021-07-03    85    69    16    16    67\n",
       "2021-07-04    90    83     7     7    82\n",
       "2021-07-05    83    79     4     4    77\n",
       "2021-07-06    87    77    10    10    85"
      ]
     },
     "execution_count": 67,
     "metadata": {},
     "output_type": "execute_result"
    }
   ],
   "source": [
    "#013일차-실습-6-해답\n",
    "# 컬럼명(시리즈 레이블명)변경 \n",
    "col_list = list(temps_df.columns)\n",
    "col_list[0] = 'Misu'\n",
    "col_list[1] = 'Phil'\n",
    "col_list[2] = 'Diff'\n",
    "col_list[3] = 'diff'\n",
    "col_list[4] = 'Seou'\n",
    "temps_df.columns = col_list\n",
    "temps_df"
   ]
  },
  {
   "cell_type": "code",
   "execution_count": 68,
   "metadata": {},
   "outputs": [
    {
     "data": {
      "text/html": [
       "<div>\n",
       "<style scoped>\n",
       "    .dataframe tbody tr th:only-of-type {\n",
       "        vertical-align: middle;\n",
       "    }\n",
       "\n",
       "    .dataframe tbody tr th {\n",
       "        vertical-align: top;\n",
       "    }\n",
       "\n",
       "    .dataframe thead th {\n",
       "        text-align: right;\n",
       "    }\n",
       "</style>\n",
       "<table border=\"1\" class=\"dataframe\">\n",
       "  <thead>\n",
       "    <tr style=\"text-align: right;\">\n",
       "      <th></th>\n",
       "      <th>Misu</th>\n",
       "      <th>Phil</th>\n",
       "      <th>Diff</th>\n",
       "      <th>diff</th>\n",
       "      <th>Seou</th>\n",
       "    </tr>\n",
       "  </thead>\n",
       "  <tbody>\n",
       "    <tr>\n",
       "      <th>2021-07-01</th>\n",
       "      <td>80</td>\n",
       "      <td>70</td>\n",
       "      <td>10</td>\n",
       "      <td>10</td>\n",
       "      <td>75</td>\n",
       "    </tr>\n",
       "    <tr>\n",
       "      <th>2021-07-02</th>\n",
       "      <td>82</td>\n",
       "      <td>75</td>\n",
       "      <td>7</td>\n",
       "      <td>7</td>\n",
       "      <td>77</td>\n",
       "    </tr>\n",
       "    <tr>\n",
       "      <th>2021-07-03</th>\n",
       "      <td>85</td>\n",
       "      <td>69</td>\n",
       "      <td>16</td>\n",
       "      <td>16</td>\n",
       "      <td>67</td>\n",
       "    </tr>\n",
       "    <tr>\n",
       "      <th>2021-07-04</th>\n",
       "      <td>90</td>\n",
       "      <td>83</td>\n",
       "      <td>7</td>\n",
       "      <td>7</td>\n",
       "      <td>82</td>\n",
       "    </tr>\n",
       "    <tr>\n",
       "      <th>2021-07-05</th>\n",
       "      <td>83</td>\n",
       "      <td>79</td>\n",
       "      <td>4</td>\n",
       "      <td>4</td>\n",
       "      <td>77</td>\n",
       "    </tr>\n",
       "    <tr>\n",
       "      <th>2021-07-06</th>\n",
       "      <td>87</td>\n",
       "      <td>77</td>\n",
       "      <td>10</td>\n",
       "      <td>10</td>\n",
       "      <td>85</td>\n",
       "    </tr>\n",
       "  </tbody>\n",
       "</table>\n",
       "</div>"
      ],
      "text/plain": [
       "            Misu  Phil  Diff  diff  Seou\n",
       "2021-07-01    80    70    10    10    75\n",
       "2021-07-02    82    75     7     7    77\n",
       "2021-07-03    85    69    16    16    67\n",
       "2021-07-04    90    83     7     7    82\n",
       "2021-07-05    83    79     4     4    77\n",
       "2021-07-06    87    77    10    10    85"
      ]
     },
     "execution_count": 68,
     "metadata": {},
     "output_type": "execute_result"
    }
   ],
   "source": [
    "#013일차-실습-6-해답-ver2\n",
    "temps_df.columns = [\"Misu\", \"Phil\", \"Diff\", \"diff\", \"Seou\"]\n",
    "temps_df"
   ]
  },
  {
   "cell_type": "code",
   "execution_count": null,
   "metadata": {},
   "outputs": [],
   "source": []
  },
  {
   "cell_type": "code",
   "execution_count": null,
   "metadata": {},
   "outputs": [],
   "source": []
  },
  {
   "cell_type": "code",
   "execution_count": null,
   "metadata": {},
   "outputs": [],
   "source": []
  },
  {
   "cell_type": "code",
   "execution_count": null,
   "metadata": {},
   "outputs": [],
   "source": []
  },
  {
   "cell_type": "code",
   "execution_count": null,
   "metadata": {},
   "outputs": [],
   "source": []
  },
  {
   "cell_type": "code",
   "execution_count": null,
   "metadata": {},
   "outputs": [],
   "source": []
  }
 ],
 "metadata": {
  "kernelspec": {
   "display_name": "Python 3",
   "language": "python",
   "name": "python3"
  },
  "language_info": {
   "codemirror_mode": {
    "name": "ipython",
    "version": 3
   },
   "file_extension": ".py",
   "mimetype": "text/x-python",
   "name": "python",
   "nbconvert_exporter": "python",
   "pygments_lexer": "ipython3",
   "version": "3.13.4"
  },
  "orig_nbformat": 4
 },
 "nbformat": 4,
 "nbformat_minor": 2
}
