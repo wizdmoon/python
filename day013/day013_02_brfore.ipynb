{
 "cells": [
  {
   "cell_type": "code",
   "execution_count": 2,
   "metadata": {},
   "outputs": [],
   "source": [
    "import time\n",
    "from datetime import datetime, date\n",
    "import pandas as pd \n",
    "import numpy as np\n",
    "import matplotlib.pyplot as plt\n",
    "pd.set_option('display.notebook_repr_html',True)\n",
    "pd.set_option('display.max_column',7)\n",
    "pd.set_option('display.max_rows',10)\n",
    "pd.set_option('display.width',250)"
   ]
  },
  {
   "cell_type": "code",
   "execution_count": 3,
   "metadata": {},
   "outputs": [
    {
     "name": "stdout",
     "output_type": "stream",
     "text": [
      "DatetimeIndex(['2021-07-01', '2021-07-02', '2021-07-03', '2021-07-04', '2021-07-05', '2021-07-06'], dtype='datetime64[ns]', freq='D')\n",
      "<class 'pandas.core.indexes.datetimes.DatetimeIndex'>\n"
     ]
    }
   ],
   "source": [
    "dates = pd.date_range('2021-07-01','2021-07-06')\n",
    "print(dates)\n",
    "print(type(dates))"
   ]
  },
  {
   "cell_type": "code",
   "execution_count": 4,
   "metadata": {},
   "outputs": [
    {
     "name": "stdout",
     "output_type": "stream",
     "text": [
      "2021-07-01    80\n",
      "2021-07-02    82\n",
      "2021-07-03    85\n",
      "2021-07-04    90\n",
      "2021-07-05    83\n",
      "2021-07-06    87\n",
      "Freq: D, dtype: int64\n"
     ]
    }
   ],
   "source": [
    "temps1 = pd.Series([80,82,85,90,83,87], index=dates)\n",
    "print(temps1)"
   ]
  },
  {
   "cell_type": "code",
   "execution_count": 5,
   "metadata": {},
   "outputs": [
    {
     "name": "stdout",
     "output_type": "stream",
     "text": [
      "2021-07-01    70\n",
      "2021-07-02    75\n",
      "2021-07-03    69\n",
      "2021-07-04    83\n",
      "2021-07-05    79\n",
      "2021-07-06    77\n",
      "Freq: D, dtype: int64\n",
      "2021-07-01    10\n",
      "2021-07-02     7\n",
      "2021-07-03    16\n",
      "2021-07-04     7\n",
      "2021-07-05     4\n",
      "2021-07-06    10\n",
      "Freq: D, dtype: int64\n"
     ]
    }
   ],
   "source": [
    "temps2 = pd.Series([70,75,69,83,79,77], index=dates)\n",
    "print(temps2)\n",
    "temps_diff = temps1-temps2\n",
    "print(temps_diff)"
   ]
  },
  {
   "cell_type": "code",
   "execution_count": 6,
   "metadata": {},
   "outputs": [
    {
     "name": "stdout",
     "output_type": "stream",
     "text": [
      "9.0\n",
      "<class 'pandas.core.series.Series'>\n"
     ]
    }
   ],
   "source": [
    "print(temps_diff.mean())\n",
    "print(type(temps_diff))"
   ]
  },
  {
   "cell_type": "code",
   "execution_count": 7,
   "metadata": {},
   "outputs": [
    {
     "name": "stdout",
     "output_type": "stream",
     "text": [
      "            Missoula  Philadelphia\n",
      "2021-07-01        80            70\n",
      "2021-07-02        82            75\n",
      "2021-07-03        85            69\n",
      "2021-07-04        90            83\n",
      "2021-07-05        83            79\n",
      "2021-07-06        87            77\n"
     ]
    }
   ],
   "source": [
    "temps_df = pd.DataFrame({'Missoula':temps1, 'Philadelphia':temps2})\n",
    "print(temps_df)"
   ]
  },
  {
   "cell_type": "code",
   "execution_count": 8,
   "metadata": {},
   "outputs": [
    {
     "name": "stdout",
     "output_type": "stream",
     "text": [
      "2021-07-01    150\n",
      "2021-07-02    157\n",
      "2021-07-03    154\n",
      "2021-07-04    173\n",
      "2021-07-05    162\n",
      "2021-07-06    164\n",
      "Freq: D, dtype: int64\n",
      "2021-07-01    5600\n",
      "2021-07-02    6150\n",
      "2021-07-03    5865\n",
      "2021-07-04    7470\n",
      "2021-07-05    6557\n",
      "2021-07-06    6699\n",
      "Freq: D, dtype: int64\n",
      "2021-07-01    1.142857\n",
      "2021-07-02    1.093333\n",
      "2021-07-03    1.231884\n",
      "2021-07-04    1.084337\n",
      "2021-07-05    1.050633\n",
      "2021-07-06    1.129870\n",
      "Freq: D, dtype: float64\n"
     ]
    }
   ],
   "source": [
    "# 실습-3-해답 \n",
    "\n",
    "temps_1 = temps1 + temps2\n",
    "temps_2 = temps1 * temps2\n",
    "temps_3 = temps1 / temps2\n",
    "#\n",
    "print(temps_1)\n",
    "print(temps_2)\n",
    "print(temps_3)"
   ]
  },
  {
   "cell_type": "code",
   "execution_count": 9,
   "metadata": {},
   "outputs": [
    {
     "name": "stdout",
     "output_type": "stream",
     "text": [
      "----------------------------------------\n",
      "temps3\n",
      "2021-07-01    75\n",
      "2021-07-02    77\n",
      "2021-07-03    67\n",
      "2021-07-04    82\n",
      "2021-07-05    77\n",
      "2021-07-06    85\n",
      "Freq: D, dtype: int64\n",
      "----------------------------------------\n",
      "temps_df2\n",
      "            Missoula  Philadelphia  temps3\n",
      "2021-07-01        80            70      75\n",
      "2021-07-02        82            75      77\n",
      "2021-07-03        85            69      67\n",
      "2021-07-04        90            83      82\n",
      "2021-07-05        83            79      77\n",
      "2021-07-06        87            77      85\n"
     ]
    }
   ],
   "source": [
    "# 실습-4-해답 \n",
    "temps3 = pd.Series([75, 77, 67, 82, 77, 85],index=dates)\n",
    "print('-'*40)\n",
    "print('temps3')\n",
    "print(temps3)\n",
    "dic2 = {'Missoula': temps1,'Philadelphia': temps2,'temps3':temps3}  # 딕셔너리 dic2를 생성함 \n",
    "temps_df2 = pd.DataFrame(dic2) # 데이터프레임을 생성할 때 인수로 딕셔너리인 dic2를 사용함\n",
    "print('-'*40)\n",
    "print('temps_df2')\n",
    "print(temps_df2)"
   ]
  },
  {
   "cell_type": "code",
   "execution_count": 10,
   "metadata": {},
   "outputs": [
    {
     "name": "stdout",
     "output_type": "stream",
     "text": [
      "<<<<실습-1-해답-ver1>>>>\n",
      "            Missoula  Philadelphia  Seoul\n",
      "2021-07-01        80            70     75\n",
      "2021-07-02        82            75     77\n",
      "2021-07-03        85            69     67\n",
      "2021-07-04        90            83     82\n",
      "2021-07-05        83            79     77\n",
      "2021-07-06        87            77     85\n",
      "\n",
      "----------------------------------------\n",
      "Missoula \t평균기온 : 84.50\n",
      "Philadelphia \t평균기온 : 75.50\n",
      "Seoul \t \t평균기온 : 77.17\n"
     ]
    }
   ],
   "source": [
    "# 실습-5-해답-ver1\n",
    "print('<<<<실습-1-해답-ver1>>>>')\n",
    "temps3 = pd.Series([75, 77, 67, 82, 77, 85], index=dates)\n",
    "temps_df2 = pd.DataFrame(\n",
    "        {\n",
    "        'Missoula': temps1,\n",
    "        'Philadelphia': temps2,\n",
    "        'Seoul': temps3,\n",
    "        }\n",
    ")\n",
    "print(temps_df2)\n",
    "print()\n",
    "print('-'*40)\n",
    "print('Missoula \\t평균기온 : {0:.2f}'.format(temps1.mean()))\n",
    "print('Philadelphia \\t평균기온 : {0:.2f}'.format(temps2.mean()))\n",
    "print('Seoul \\t \\t평균기온 : {0:.2f}'.format(temps3.mean()))"
   ]
  },
  {
   "cell_type": "code",
   "execution_count": 11,
   "metadata": {},
   "outputs": [
    {
     "name": "stdout",
     "output_type": "stream",
     "text": [
      "\n",
      "<<<<실습-1-해답-ver2>>>>\n",
      "            Missoula  Philadelphia  Seoul\n",
      "2021-07-01        80            70     75\n",
      "2021-07-02        82            75     77\n",
      "2021-07-03        85            69     67\n",
      "2021-07-04        90            83     82\n",
      "2021-07-05        83            79     77\n",
      "2021-07-06        87            77     85\n",
      "\n",
      "----------------------------------------\n",
      "Missoula \t평균기온 : 84.50\n",
      "Philadelphia \t평균기온 : 75.50\n",
      "Seoul \t\t평균기온 : 77.17\n"
     ]
    }
   ],
   "source": [
    "# 실습-5-해답-ver2\n",
    "temps3 = pd.Series([75, 77, 67, 82, 77, 85], index=dates)\n",
    "temps_df2 = pd.DataFrame(\n",
    "        {\n",
    "        'Missoula': temps1,\n",
    "        'Philadelphia': temps2,\n",
    "        'Seoul': temps3,\n",
    "        }\n",
    ")\n",
    "print()\n",
    "print('<<<<실습-1-해답-ver2>>>>')\n",
    "print(temps_df2)\n",
    "print()\n",
    "print('-'*40)\n",
    "#print(      round(temps_df2.mean(),2)      ) # 서비스 코드 주석을 풀어보세요\n",
    "#print('-'*40)\n",
    "#print(temps_df2.columns)  # 서비스 코드 주석을 풀어보세요-> 이후 하단의 소스코드와 비교하세요.\n",
    "print(temps_df2.columns.values[0] ,'\\t평균기온 : {0:.2f}'    .format(round(temps_df2.Missoula.mean(),2))     )\n",
    "print(temps_df2.columns.values[1] ,'\\t평균기온 : {0:.2f}'    .format(round(temps_df2.Philadelphia.mean(),2))      )\n",
    "print(temps_df2.columns.values[2] ,'\\t\\t평균기온 : {0:.2f}'    .format(round(temps_df2.Seoul.mean(),2))      )"
   ]
  },
  {
   "cell_type": "markdown",
   "metadata": {},
   "source": [
    "##### 이하는 13일차 학습내용입니다.\n",
    "##### 이하는 13일차 학습내용입니다.\n",
    "##### 이하는 13일차 학습내용입니다."
   ]
  },
  {
   "cell_type": "code",
   "execution_count": 12,
   "metadata": {},
   "outputs": [],
   "source": [
    "# Pandas DataFrame의 개념 \n",
    "## 판다스의 시리즈는 각 인덱스 레이블 당 한 개의 값(values)만 가진다.\n",
    "## 그러나 데이터 프레임을 사용하면 인덱스 한 개당 복수개의 값을 가질 수 있다 \n",
    "## 데이터 프레임은 인덱스 레이블을 기준으로 배열된 한 개 이상의 시리즈의 집합을 의미한다.\n",
    "## 각 시리즈는 데이터 프레임의 컬럼(열)이며 각각의 컬럼(열)은 자신만의 이름을 갖는다.\n",
    "# Pandas DataFrame의 특징 \n",
    "## 데이터 프레임은 데이터 베이스의 개념과 비슷하다.\n",
    "## 서로다른 유형의 데이터 컬럼을 한 개 이상 갖는다는 점과, 한 컬럼의 모든 데이터는 동일한 유형이라는 점이 비슷한 점이다.  "
   ]
  },
  {
   "cell_type": "code",
   "execution_count": 13,
   "metadata": {},
   "outputs": [
    {
     "data": {
      "text/html": [
       "<div>\n",
       "<style scoped>\n",
       "    .dataframe tbody tr th:only-of-type {\n",
       "        vertical-align: middle;\n",
       "    }\n",
       "\n",
       "    .dataframe tbody tr th {\n",
       "        vertical-align: top;\n",
       "    }\n",
       "\n",
       "    .dataframe thead th {\n",
       "        text-align: right;\n",
       "    }\n",
       "</style>\n",
       "<table border=\"1\" class=\"dataframe\">\n",
       "  <thead>\n",
       "    <tr style=\"text-align: right;\">\n",
       "      <th></th>\n",
       "      <th>Missoula</th>\n",
       "      <th>Philadelphia</th>\n",
       "    </tr>\n",
       "  </thead>\n",
       "  <tbody>\n",
       "    <tr>\n",
       "      <th>2021-07-01</th>\n",
       "      <td>80</td>\n",
       "      <td>70</td>\n",
       "    </tr>\n",
       "    <tr>\n",
       "      <th>2021-07-02</th>\n",
       "      <td>82</td>\n",
       "      <td>75</td>\n",
       "    </tr>\n",
       "    <tr>\n",
       "      <th>2021-07-03</th>\n",
       "      <td>85</td>\n",
       "      <td>69</td>\n",
       "    </tr>\n",
       "    <tr>\n",
       "      <th>2021-07-04</th>\n",
       "      <td>90</td>\n",
       "      <td>83</td>\n",
       "    </tr>\n",
       "    <tr>\n",
       "      <th>2021-07-05</th>\n",
       "      <td>83</td>\n",
       "      <td>79</td>\n",
       "    </tr>\n",
       "    <tr>\n",
       "      <th>2021-07-06</th>\n",
       "      <td>87</td>\n",
       "      <td>77</td>\n",
       "    </tr>\n",
       "  </tbody>\n",
       "</table>\n",
       "</div>"
      ],
      "text/plain": [
       "            Missoula  Philadelphia\n",
       "2021-07-01        80            70\n",
       "2021-07-02        82            75\n",
       "2021-07-03        85            69\n",
       "2021-07-04        90            83\n",
       "2021-07-05        83            79\n",
       "2021-07-06        87            77"
      ]
     },
     "execution_count": 13,
     "metadata": {},
     "output_type": "execute_result"
    }
   ],
   "source": [
    "## 아래는 두 개의 컬럼을 갖는 DataFrame 객체를 만드는 소스코드이다 \n",
    "## 각 컬럼은 기온을 나타내는 Series 객체이다\n",
    "temp_df = pd.DataFrame(   {'Missoula':temps1, 'Philadelphia':temps2}    )\n",
    "temps_df"
   ]
  },
  {
   "cell_type": "code",
   "execution_count": 14,
   "metadata": {},
   "outputs": [
    {
     "name": "stdout",
     "output_type": "stream",
     "text": [
      "2021-07-01    80\n",
      "2021-07-02    82\n",
      "2021-07-03    85\n",
      "2021-07-04    90\n",
      "2021-07-05    83\n",
      "2021-07-06    87\n",
      "Freq: D, Name: Missoula, dtype: int64\n",
      "<class 'pandas.core.frame.DataFrame'>\n",
      "<class 'pandas.core.series.Series'>\n",
      "<class 'pandas.core.series.Series'>\n",
      "<class 'pandas.core.series.Series'>\n"
     ]
    }
   ],
   "source": [
    "print(temps_df['Missoula']) # 데이터 프레임에서 특정한 컬럼을 참조하기\n",
    "print(type(temps_df))       # temps_df는 데이터프레임 형식임\n",
    "print(type(temps1))\n",
    "print(type(temps_df['Missoula']))\n",
    "aa = temps_df['Missoula']\n",
    "print(type(aa))"
   ]
  },
  {
   "cell_type": "code",
   "execution_count": 15,
   "metadata": {},
   "outputs": [
    {
     "name": "stdout",
     "output_type": "stream",
     "text": [
      "2021-07-01    80\n",
      "2021-07-02    82\n",
      "2021-07-03    85\n",
      "2021-07-04    90\n",
      "2021-07-05    83\n",
      "2021-07-06    87\n",
      "Freq: D, Name: Missoula, dtype: int64\n",
      "<class 'pandas.core.series.Series'>\n"
     ]
    }
   ],
   "source": [
    "bb = temps_df.Missoula # 데이터 프레임에 속해 있는 시리즈를 꺼내오는 새로운 문법임\n",
    "print(bb)                # 직전의 temps_df['Missoula'] 문법과 비교할것\n",
    "print(type(bb))"
   ]
  },
  {
   "cell_type": "code",
   "execution_count": 16,
   "metadata": {},
   "outputs": [
    {
     "data": {
      "text/plain": [
       "2021-07-01    70\n",
       "2021-07-02    75\n",
       "2021-07-03    69\n",
       "2021-07-04    83\n",
       "2021-07-05    79\n",
       "2021-07-06    77\n",
       "Freq: D, Name: Philadelphia, dtype: int64"
      ]
     },
     "execution_count": 16,
     "metadata": {},
     "output_type": "execute_result"
    }
   ],
   "source": [
    "temps_df['Philadelphia']"
   ]
  },
  {
   "cell_type": "code",
   "execution_count": 17,
   "metadata": {},
   "outputs": [
    {
     "data": {
      "text/plain": [
       "2021-07-01    70\n",
       "2021-07-02    75\n",
       "2021-07-03    69\n",
       "2021-07-04    83\n",
       "2021-07-05    79\n",
       "2021-07-06    77\n",
       "Freq: D, Name: Philadelphia, dtype: int64"
      ]
     },
     "execution_count": 17,
     "metadata": {},
     "output_type": "execute_result"
    }
   ],
   "source": [
    "temps_df.Philadelphia"
   ]
  },
  {
   "cell_type": "code",
   "execution_count": 18,
   "metadata": {},
   "outputs": [
    {
     "data": {
      "text/html": [
       "<div>\n",
       "<style scoped>\n",
       "    .dataframe tbody tr th:only-of-type {\n",
       "        vertical-align: middle;\n",
       "    }\n",
       "\n",
       "    .dataframe tbody tr th {\n",
       "        vertical-align: top;\n",
       "    }\n",
       "\n",
       "    .dataframe thead th {\n",
       "        text-align: right;\n",
       "    }\n",
       "</style>\n",
       "<table border=\"1\" class=\"dataframe\">\n",
       "  <thead>\n",
       "    <tr style=\"text-align: right;\">\n",
       "      <th></th>\n",
       "      <th>Philadelphia</th>\n",
       "      <th>Missoula</th>\n",
       "    </tr>\n",
       "  </thead>\n",
       "  <tbody>\n",
       "    <tr>\n",
       "      <th>2021-07-01</th>\n",
       "      <td>70</td>\n",
       "      <td>80</td>\n",
       "    </tr>\n",
       "    <tr>\n",
       "      <th>2021-07-02</th>\n",
       "      <td>75</td>\n",
       "      <td>82</td>\n",
       "    </tr>\n",
       "    <tr>\n",
       "      <th>2021-07-03</th>\n",
       "      <td>69</td>\n",
       "      <td>85</td>\n",
       "    </tr>\n",
       "    <tr>\n",
       "      <th>2021-07-04</th>\n",
       "      <td>83</td>\n",
       "      <td>90</td>\n",
       "    </tr>\n",
       "    <tr>\n",
       "      <th>2021-07-05</th>\n",
       "      <td>79</td>\n",
       "      <td>83</td>\n",
       "    </tr>\n",
       "    <tr>\n",
       "      <th>2021-07-06</th>\n",
       "      <td>77</td>\n",
       "      <td>87</td>\n",
       "    </tr>\n",
       "  </tbody>\n",
       "</table>\n",
       "</div>"
      ],
      "text/plain": [
       "            Philadelphia  Missoula\n",
       "2021-07-01            70        80\n",
       "2021-07-02            75        82\n",
       "2021-07-03            69        85\n",
       "2021-07-04            83        90\n",
       "2021-07-05            79        83\n",
       "2021-07-06            77        87"
      ]
     },
     "execution_count": 18,
     "metadata": {},
     "output_type": "execute_result"
    }
   ],
   "source": [
    "temps_df[['Philadelphia','Missoula']] # 두 개 이상의 컬럼(시리즈)을 한번에 가져올 때에는 대괄호를 중첩하여야 함"
   ]
  },
  {
   "cell_type": "code",
   "execution_count": 19,
   "metadata": {},
   "outputs": [
    {
     "name": "stdout",
     "output_type": "stream",
     "text": [
      "2021-07-01    10\n",
      "2021-07-02     7\n",
      "2021-07-03    16\n",
      "2021-07-04     7\n",
      "2021-07-05     4\n",
      "2021-07-06    10\n",
      "Freq: D, dtype: int64\n",
      "<class 'pandas.core.series.Series'>\n",
      "            Missoula  Philadelphia\n",
      "2021-07-01        80            70\n",
      "2021-07-02        82            75\n",
      "2021-07-03        85            69\n",
      "2021-07-04        90            83\n",
      "2021-07-05        83            79\n",
      "2021-07-06        87            77\n"
     ]
    }
   ],
   "source": [
    "temps_diff = temps_df.Missoula - temps_df.Philadelphia # 데이터 프레임에 속한 시리즈 간의 산술연산\n",
    "print(temps_diff)\n",
    "print(type(temps_diff))\n",
    "print(temps_df) # 6번 셀에서 생성되었음 "
   ]
  },
  {
   "cell_type": "code",
   "execution_count": 20,
   "metadata": {},
   "outputs": [
    {
     "name": "stdout",
     "output_type": "stream",
     "text": [
      "            Missoula  Philadelphia  Difference\n",
      "2021-07-01        80            70          10\n",
      "2021-07-02        82            75           7\n",
      "2021-07-03        85            69          16\n",
      "2021-07-04        90            83           7\n",
      "2021-07-05        83            79           4\n",
      "2021-07-06        87            77          10\n"
     ]
    }
   ],
   "source": [
    "temps_df['Difference'] = temps_diff # temps_df라는 데이터 프레임에 temps_diff의 시리즈를 한 개 추가함\n",
    "                                    # 그리고 df 안에서 추가한 시리즈의 레이블을 'Difference' 라고 정함 \n",
    "print(temps_df)"
   ]
  },
  {
   "cell_type": "markdown",
   "metadata": {},
   "source": [
    "##  "
   ]
  },
  {
   "cell_type": "code",
   "execution_count": 21,
   "metadata": {},
   "outputs": [
    {
     "name": "stdout",
     "output_type": "stream",
     "text": [
      "Index(['Missoula', 'Philadelphia', 'Difference'], dtype='object')\n",
      "['Missoula', 'Philadelphia', 'Difference']\n"
     ]
    }
   ],
   "source": [
    "print(temps_df.columns) # 데이터프레임의 컬럼명을 반환한다.\n",
    "print(list(temps_df.columns))"
   ]
  },
  {
   "cell_type": "code",
   "execution_count": 22,
   "metadata": {},
   "outputs": [
    {
     "name": "stdout",
     "output_type": "stream",
     "text": [
      "['Misu', 'Philadelphia', 'Difference']\n"
     ]
    }
   ],
   "source": [
    "# 컬럼명(시리즈 레이블명)변경 \n",
    "col_list = list(temps_df.columns)\n",
    "col_list[0] = 'Misu'\n",
    "temps_df.columns = col_list\n",
    "print(list(temps_df.columns))"
   ]
  },
  {
   "cell_type": "code",
   "execution_count": 23,
   "metadata": {},
   "outputs": [
    {
     "name": "stdout",
     "output_type": "stream",
     "text": [
      "2021-07-01    80\n",
      "2021-07-02    82\n",
      "2021-07-03    85\n",
      "2021-07-04    90\n",
      "2021-07-05    83\n",
      "2021-07-06    87\n",
      "Freq: D, Name: Misu, dtype: int64\n"
     ]
    }
   ],
   "source": [
    "print(temps_df.Misu)"
   ]
  },
  {
   "cell_type": "code",
   "execution_count": 24,
   "metadata": {},
   "outputs": [
    {
     "name": "stdout",
     "output_type": "stream",
     "text": [
      "2021-07-02    82\n",
      "2021-07-03    85\n",
      "2021-07-04    90\n",
      "Freq: D, Name: Misu, dtype: int64\n",
      "2021-07-01    80\n",
      "2021-07-02    82\n",
      "2021-07-03    85\n",
      "Freq: D, Name: Misu, dtype: int64\n"
     ]
    }
   ],
   "source": [
    "# 시리즈 슬라이싱\n",
    "print(temps_df.Misu[1:4]) # [1:4]슬라이싱\n",
    "print(temps_df.Misu['2021-07-01':'2021-07-03'])"
   ]
  },
  {
   "cell_type": "code",
   "execution_count": 25,
   "metadata": {},
   "outputs": [
    {
     "name": "stdout",
     "output_type": "stream",
     "text": [
      "2021-07-04    90\n",
      "2021-07-05    83\n",
      "2021-07-06    87\n",
      "Freq: D, Name: Misu, dtype: int64\n"
     ]
    }
   ],
   "source": [
    "print(temps_df.Misu[3:])  # [3:]슬라이싱"
   ]
  },
  {
   "attachments": {},
   "cell_type": "markdown",
   "metadata": {},
   "source": [
    "#### 전체 컬럼에 있어서의 특정 로우 데이터를 보고 싶다면 \n",
    "\n",
    "#### <code>**.loc**</code>이나 <code>**.iloc**</code> 속성을 사용하면 된다. \n",
    "#### <code>**.loc**</code>는 인덱스 레이블을 사용해 검색하며, \n",
    "#### <code>**.iloc**</code>는 제로베이스 위치를 사용해 검색한다.\n",
    "\n",
    "#### 다음은 데이터 프레임 안의 모든 시리즈 중에서 특정 번째의 로우를 가져오는 코드다."
   ]
  },
  {
   "cell_type": "code",
   "execution_count": 26,
   "metadata": {},
   "outputs": [
    {
     "name": "stdout",
     "output_type": "stream",
     "text": [
      "            Misu  Philadelphia  Difference\n",
      "2021-07-01    80            70          10\n",
      "2021-07-02    82            75           7\n",
      "2021-07-03    85            69          16\n",
      "2021-07-04    90            83           7\n",
      "2021-07-05    83            79           4\n",
      "2021-07-06    87            77          10\n",
      "----------------------------------------\n",
      "Misu            80\n",
      "Philadelphia    70\n",
      "Difference      10\n",
      "Name: 2021-07-01 00:00:00, dtype: int64\n"
     ]
    }
   ],
   "source": [
    "print(temps_df)\n",
    "print('-'*40)\n",
    "print(temps_df.iloc[0]) # 이 개념은 데이터 프레임에서 제일 첫 행을 참조하라는 뜻임"
   ]
  },
  {
   "cell_type": "code",
   "execution_count": 27,
   "metadata": {},
   "outputs": [
    {
     "name": "stdout",
     "output_type": "stream",
     "text": [
      "Index(['Misu', 'Philadelphia', 'Difference'], dtype='object')\n"
     ]
    }
   ],
   "source": [
    "print(temps_df.iloc[0].index)"
   ]
  },
  {
   "cell_type": "code",
   "execution_count": 28,
   "metadata": {},
   "outputs": [
    {
     "name": "stdout",
     "output_type": "stream",
     "text": [
      "Misu            87\n",
      "Philadelphia    77\n",
      "Difference      10\n",
      "Name: 2021-07-06 00:00:00, dtype: int64\n"
     ]
    }
   ],
   "source": [
    "print(temps_df.loc['2021-07-06'])"
   ]
  },
  {
   "cell_type": "code",
   "execution_count": 29,
   "metadata": {},
   "outputs": [
    {
     "name": "stdout",
     "output_type": "stream",
     "text": [
      "Misu            80\n",
      "Philadelphia    70\n",
      "Difference      10\n",
      "Name: 2021-07-01 00:00:00, dtype: int64\n"
     ]
    }
   ],
   "source": [
    "print(temps_df.loc['2021-07-01']) # 사용자 인덱스를 참조하는 loc명령은 존재하지 안을 떄 에러 발생함"
   ]
  },
  {
   "cell_type": "code",
   "execution_count": 30,
   "metadata": {},
   "outputs": [
    {
     "data": {
      "text/html": [
       "<div>\n",
       "<style scoped>\n",
       "    .dataframe tbody tr th:only-of-type {\n",
       "        vertical-align: middle;\n",
       "    }\n",
       "\n",
       "    .dataframe tbody tr th {\n",
       "        vertical-align: top;\n",
       "    }\n",
       "\n",
       "    .dataframe thead th {\n",
       "        text-align: right;\n",
       "    }\n",
       "</style>\n",
       "<table border=\"1\" class=\"dataframe\">\n",
       "  <thead>\n",
       "    <tr style=\"text-align: right;\">\n",
       "      <th></th>\n",
       "      <th>Missoula</th>\n",
       "      <th>Philadelphia</th>\n",
       "      <th>Difference</th>\n",
       "      <th>difference</th>\n",
       "      <th>Seoul</th>\n",
       "    </tr>\n",
       "  </thead>\n",
       "  <tbody>\n",
       "    <tr>\n",
       "      <th>2021-07-01</th>\n",
       "      <td>80</td>\n",
       "      <td>70</td>\n",
       "      <td>10</td>\n",
       "      <td>10</td>\n",
       "      <td>75</td>\n",
       "    </tr>\n",
       "    <tr>\n",
       "      <th>2021-07-02</th>\n",
       "      <td>82</td>\n",
       "      <td>75</td>\n",
       "      <td>7</td>\n",
       "      <td>7</td>\n",
       "      <td>77</td>\n",
       "    </tr>\n",
       "    <tr>\n",
       "      <th>2021-07-03</th>\n",
       "      <td>85</td>\n",
       "      <td>69</td>\n",
       "      <td>16</td>\n",
       "      <td>16</td>\n",
       "      <td>67</td>\n",
       "    </tr>\n",
       "    <tr>\n",
       "      <th>2021-07-04</th>\n",
       "      <td>90</td>\n",
       "      <td>83</td>\n",
       "      <td>7</td>\n",
       "      <td>7</td>\n",
       "      <td>82</td>\n",
       "    </tr>\n",
       "    <tr>\n",
       "      <th>2021-07-05</th>\n",
       "      <td>83</td>\n",
       "      <td>79</td>\n",
       "      <td>4</td>\n",
       "      <td>4</td>\n",
       "      <td>77</td>\n",
       "    </tr>\n",
       "    <tr>\n",
       "      <th>2021-07-06</th>\n",
       "      <td>87</td>\n",
       "      <td>77</td>\n",
       "      <td>10</td>\n",
       "      <td>10</td>\n",
       "      <td>85</td>\n",
       "    </tr>\n",
       "  </tbody>\n",
       "</table>\n",
       "</div>"
      ],
      "text/plain": [
       "            Missoula  Philadelphia  Difference  difference  Seoul\n",
       "2021-07-01        80            70          10          10     75\n",
       "2021-07-02        82            75           7           7     77\n",
       "2021-07-03        85            69          16          16     67\n",
       "2021-07-04        90            83           7           7     82\n",
       "2021-07-05        83            79           4           4     77\n",
       "2021-07-06        87            77          10          10     85"
      ]
     },
     "execution_count": 30,
     "metadata": {},
     "output_type": "execute_result"
    }
   ],
   "source": [
    "#013일차-실습-3해답\n",
    "col_list = list(temps_df.columns)\n",
    "col_list[0] = 'Missoula'       # 컬럼명(시리즈 레이블명)변경 \n",
    "temps_df.columns = col_list\n",
    "#\n",
    "temps3 = pd.Series([75, 77, 67, 82, 77, 85], index=dates)\n",
    "temps_df['difference'] = temps1 - temps2 # \n",
    "temps_df['Seoul'] = temps3\n",
    "temps_df"
   ]
  },
  {
   "cell_type": "code",
   "execution_count": 31,
   "metadata": {},
   "outputs": [
    {
     "name": "stdout",
     "output_type": "stream",
     "text": [
      "----------------------------------------\n",
      "2021-07-04    82\n",
      "2021-07-05    77\n",
      "2021-07-06    85\n",
      "Freq: D, Name: Seoul, dtype: int64\n",
      "----------------------------------------\n",
      "2021-07-04    82\n",
      "2021-07-05    77\n",
      "2021-07-06    85\n",
      "Freq: D, Name: Seoul, dtype: int64\n",
      "----------------------------------------\n",
      "            Seoul\n",
      "2021-07-04     82\n",
      "2021-07-05     77\n",
      "2021-07-06     85\n",
      "----------------------------------------\n",
      "2021-07-04    82\n",
      "2021-07-05    77\n",
      "2021-07-06    85\n",
      "Freq: D, Name: Seoul, dtype: int64\n",
      "----------------------------------------\n",
      "            Seoul\n",
      "2021-07-04     82\n",
      "2021-07-05     77\n",
      "2021-07-06     85\n",
      "----------------------------------------\n",
      "            Seoul\n",
      "2021-07-04     82\n",
      "2021-07-05     77\n",
      "2021-07-06     85\n"
     ]
    }
   ],
   "source": [
    "#013일차-실습-4해답\n",
    "print('-'*40)\n",
    "print(temps_df.Seoul[-3:])\n",
    "print('-'*40)\n",
    "print(temps_df.Seoul[3:6])\n",
    "print('-'*40)\n",
    "print(temps_df[['Seoul']][3:])\n",
    "print('-'*40)\n",
    "print(temps_df2['Seoul'].tail(3))\n",
    "print('-'*40)\n",
    "print(temps_df.loc['20210704':'20210706',['Seoul']])\n",
    "print('-'*40)\n",
    "print(temps_df.loc['2021-07-04':'2021-07-06',['Seoul']]) # 위의 소스와 비교"
   ]
  },
  {
   "cell_type": "code",
   "execution_count": 32,
   "metadata": {},
   "outputs": [
    {
     "name": "stdout",
     "output_type": "stream",
     "text": [
      "---------- 013일차-실습-5-해답-ver1 ----------\n",
      "2021-07-04    82\n",
      "2021-07-06    85\n",
      "Name: Seoul, dtype: int64\n",
      "---------- 013일차-실습-5-해답-ver2 ----------\n",
      "2021-07-04    82\n",
      "2021-07-06    85\n",
      "Freq: 2D, Name: Seoul, dtype: int64\n"
     ]
    }
   ],
   "source": [
    "#013일차-실습-5-해답-ver1\n",
    "print('-'*10,'013일차-실습-5-해답-ver1','-'*10)\n",
    "print(temps_df.Seoul[temps_df.Seoul >= 80])\n",
    "#013일차-실습-5-해답-ver2\n",
    "print('-'*10,'013일차-실습-5-해답-ver2','-'*10)\n",
    "print(temps_df[temps_df.Seoul >= 80].Seoul)\n"
   ]
  },
  {
   "cell_type": "code",
   "execution_count": 33,
   "metadata": {},
   "outputs": [
    {
     "data": {
      "text/html": [
       "<div>\n",
       "<style scoped>\n",
       "    .dataframe tbody tr th:only-of-type {\n",
       "        vertical-align: middle;\n",
       "    }\n",
       "\n",
       "    .dataframe tbody tr th {\n",
       "        vertical-align: top;\n",
       "    }\n",
       "\n",
       "    .dataframe thead th {\n",
       "        text-align: right;\n",
       "    }\n",
       "</style>\n",
       "<table border=\"1\" class=\"dataframe\">\n",
       "  <thead>\n",
       "    <tr style=\"text-align: right;\">\n",
       "      <th></th>\n",
       "      <th>Misu</th>\n",
       "      <th>Phil</th>\n",
       "      <th>Diff</th>\n",
       "      <th>diff</th>\n",
       "      <th>Seou</th>\n",
       "    </tr>\n",
       "  </thead>\n",
       "  <tbody>\n",
       "    <tr>\n",
       "      <th>2021-07-01</th>\n",
       "      <td>80</td>\n",
       "      <td>70</td>\n",
       "      <td>10</td>\n",
       "      <td>10</td>\n",
       "      <td>75</td>\n",
       "    </tr>\n",
       "    <tr>\n",
       "      <th>2021-07-02</th>\n",
       "      <td>82</td>\n",
       "      <td>75</td>\n",
       "      <td>7</td>\n",
       "      <td>7</td>\n",
       "      <td>77</td>\n",
       "    </tr>\n",
       "    <tr>\n",
       "      <th>2021-07-03</th>\n",
       "      <td>85</td>\n",
       "      <td>69</td>\n",
       "      <td>16</td>\n",
       "      <td>16</td>\n",
       "      <td>67</td>\n",
       "    </tr>\n",
       "    <tr>\n",
       "      <th>2021-07-04</th>\n",
       "      <td>90</td>\n",
       "      <td>83</td>\n",
       "      <td>7</td>\n",
       "      <td>7</td>\n",
       "      <td>82</td>\n",
       "    </tr>\n",
       "    <tr>\n",
       "      <th>2021-07-05</th>\n",
       "      <td>83</td>\n",
       "      <td>79</td>\n",
       "      <td>4</td>\n",
       "      <td>4</td>\n",
       "      <td>77</td>\n",
       "    </tr>\n",
       "    <tr>\n",
       "      <th>2021-07-06</th>\n",
       "      <td>87</td>\n",
       "      <td>77</td>\n",
       "      <td>10</td>\n",
       "      <td>10</td>\n",
       "      <td>85</td>\n",
       "    </tr>\n",
       "  </tbody>\n",
       "</table>\n",
       "</div>"
      ],
      "text/plain": [
       "            Misu  Phil  Diff  diff  Seou\n",
       "2021-07-01    80    70    10    10    75\n",
       "2021-07-02    82    75     7     7    77\n",
       "2021-07-03    85    69    16    16    67\n",
       "2021-07-04    90    83     7     7    82\n",
       "2021-07-05    83    79     4     4    77\n",
       "2021-07-06    87    77    10    10    85"
      ]
     },
     "execution_count": 33,
     "metadata": {},
     "output_type": "execute_result"
    }
   ],
   "source": [
    "#013일차-실습-6-해답\n",
    "# 컬럼명(시리즈 레이블명)변경 \n",
    "col_list = list(temps_df.columns)\n",
    "col_list[0] = 'Misu'\n",
    "col_list[1] = 'Phil'\n",
    "col_list[2] = 'Diff'\n",
    "col_list[3] = 'diff'\n",
    "col_list[4] = 'Seou'\n",
    "temps_df.columns = col_list\n",
    "temps_df"
   ]
  },
  {
   "cell_type": "code",
   "execution_count": 34,
   "metadata": {},
   "outputs": [
    {
     "data": {
      "text/html": [
       "<div>\n",
       "<style scoped>\n",
       "    .dataframe tbody tr th:only-of-type {\n",
       "        vertical-align: middle;\n",
       "    }\n",
       "\n",
       "    .dataframe tbody tr th {\n",
       "        vertical-align: top;\n",
       "    }\n",
       "\n",
       "    .dataframe thead th {\n",
       "        text-align: right;\n",
       "    }\n",
       "</style>\n",
       "<table border=\"1\" class=\"dataframe\">\n",
       "  <thead>\n",
       "    <tr style=\"text-align: right;\">\n",
       "      <th></th>\n",
       "      <th>Misu</th>\n",
       "      <th>Phil</th>\n",
       "      <th>Diff</th>\n",
       "      <th>diff</th>\n",
       "      <th>Seou</th>\n",
       "    </tr>\n",
       "  </thead>\n",
       "  <tbody>\n",
       "    <tr>\n",
       "      <th>2021-07-01</th>\n",
       "      <td>80</td>\n",
       "      <td>70</td>\n",
       "      <td>10</td>\n",
       "      <td>10</td>\n",
       "      <td>75</td>\n",
       "    </tr>\n",
       "    <tr>\n",
       "      <th>2021-07-02</th>\n",
       "      <td>82</td>\n",
       "      <td>75</td>\n",
       "      <td>7</td>\n",
       "      <td>7</td>\n",
       "      <td>77</td>\n",
       "    </tr>\n",
       "    <tr>\n",
       "      <th>2021-07-03</th>\n",
       "      <td>85</td>\n",
       "      <td>69</td>\n",
       "      <td>16</td>\n",
       "      <td>16</td>\n",
       "      <td>67</td>\n",
       "    </tr>\n",
       "    <tr>\n",
       "      <th>2021-07-04</th>\n",
       "      <td>90</td>\n",
       "      <td>83</td>\n",
       "      <td>7</td>\n",
       "      <td>7</td>\n",
       "      <td>82</td>\n",
       "    </tr>\n",
       "    <tr>\n",
       "      <th>2021-07-05</th>\n",
       "      <td>83</td>\n",
       "      <td>79</td>\n",
       "      <td>4</td>\n",
       "      <td>4</td>\n",
       "      <td>77</td>\n",
       "    </tr>\n",
       "    <tr>\n",
       "      <th>2021-07-06</th>\n",
       "      <td>87</td>\n",
       "      <td>77</td>\n",
       "      <td>10</td>\n",
       "      <td>10</td>\n",
       "      <td>85</td>\n",
       "    </tr>\n",
       "  </tbody>\n",
       "</table>\n",
       "</div>"
      ],
      "text/plain": [
       "            Misu  Phil  Diff  diff  Seou\n",
       "2021-07-01    80    70    10    10    75\n",
       "2021-07-02    82    75     7     7    77\n",
       "2021-07-03    85    69    16    16    67\n",
       "2021-07-04    90    83     7     7    82\n",
       "2021-07-05    83    79     4     4    77\n",
       "2021-07-06    87    77    10    10    85"
      ]
     },
     "execution_count": 34,
     "metadata": {},
     "output_type": "execute_result"
    }
   ],
   "source": [
    "#013일차-실습-6-해답-ver2\n",
    "temps_df.columns = [\"Misu\", \"Phil\", \"Diff\", \"diff\", \"Seou\"]\n",
    "temps_df"
   ]
  },
  {
   "cell_type": "markdown",
   "metadata": {},
   "source": [
    "##### 013일차-강의-2-시작"
   ]
  },
  {
   "cell_type": "code",
   "execution_count": 35,
   "metadata": {},
   "outputs": [
    {
     "name": "stdout",
     "output_type": "stream",
     "text": [
      "            Misu  Phil  Diff  diff  Seou\n",
      "2021-07-02    82    75     7     7    77\n",
      "2021-07-04    90    83     7     7    82\n",
      "2021-07-06    87    77    10    10    85\n"
     ]
    }
   ],
   "source": [
    "print(temps_df.iloc[[ 1,3,5 ]]) # 복수의 아이템 조회시 대괄호 겹쳐쓰기 \n",
    "                    # temps_df 데이터프레임에서 1,3,5번 인덱스 번호를 가져옴"
   ]
  },
  {
   "cell_type": "code",
   "execution_count": 36,
   "metadata": {},
   "outputs": [
    {
     "name": "stdout",
     "output_type": "stream",
     "text": [
      "2021-07-02     7\n",
      "2021-07-04     7\n",
      "2021-07-06    10\n",
      "Freq: 2D, Name: Diff, dtype: int64\n"
     ]
    }
   ],
   "source": [
    "print(temps_df.iloc[[1, 3, 5]].Diff )# 복수의 아이템 조회시 대괄호 겹쳐쓰기 \n",
    "                                    # 이전의 결과에서 또다시 Diff 열(Diff씨리즈) 에 해당하는 것만 가져옴"
   ]
  },
  {
   "cell_type": "code",
   "execution_count": 37,
   "metadata": {},
   "outputs": [
    {
     "name": "stdout",
     "output_type": "stream",
     "text": [
      "            Misu  Phil  Diff  diff  Seou\n",
      "2021-07-01    80    70    10    10    75\n",
      "2021-07-02    82    75     7     7    77\n",
      "2021-07-03    85    69    16    16    67\n",
      "2021-07-04    90    83     7     7    82\n",
      "2021-07-05    83    79     4     4    77\n",
      "2021-07-06    87    77    10    10    85\n",
      "2021-07-01    False\n",
      "2021-07-02    False\n",
      "2021-07-03     True\n",
      "2021-07-04     True\n",
      "2021-07-05     True\n",
      "2021-07-06     True\n",
      "Freq: D, Name: Misu, dtype: bool\n"
     ]
    }
   ],
   "source": [
    "print(temps_df)\n",
    "print(temps_df.Misu > 82)"
   ]
  },
  {
   "cell_type": "code",
   "execution_count": 38,
   "metadata": {},
   "outputs": [
    {
     "name": "stdout",
     "output_type": "stream",
     "text": [
      "            Misu  Phil  Diff  diff  Seou\n",
      "2021-07-01    80    70    10    10    75\n",
      "2021-07-02    82    75     7     7    77\n",
      "2021-07-03    85    69    16    16    67\n",
      "2021-07-04    90    83     7     7    82\n",
      "2021-07-05    83    79     4     4    77\n",
      "2021-07-06    87    77    10    10    85\n",
      "========================================\n",
      "2021-07-03    85\n",
      "2021-07-04    90\n",
      "2021-07-05    83\n",
      "2021-07-06    87\n",
      "Freq: D, Name: Misu, dtype: int64\n"
     ]
    }
   ],
   "source": [
    "print(temps_df)\n",
    "print('='*40)\n",
    "print(temps_df[temps_df.Misu > 82].Misu)"
   ]
  },
  {
   "cell_type": "code",
   "execution_count": 39,
   "metadata": {},
   "outputs": [
    {
     "name": "stdout",
     "output_type": "stream",
     "text": [
      "            Misu  Phil  Diff  diff  Seou\n",
      "2021-07-01    80    70    10    10    75\n",
      "2021-07-02    82    75     7     7    77\n",
      "2021-07-03    85    69    16    16    67\n",
      "2021-07-04    90    83     7     7    82\n",
      "2021-07-05    83    79     4     4    77\n",
      "2021-07-06    87    77    10    10    85\n",
      "----------------------------------------\n",
      "            Misu  Phil  Diff  diff  Seou\n",
      "2021-07-03    85    69    16    16    67\n",
      "2021-07-04    90    83     7     7    82\n",
      "2021-07-05    83    79     4     4    77\n",
      "2021-07-06    87    77    10    10    85\n"
     ]
    }
   ],
   "source": [
    "print(temps_df)\n",
    "print('-'*40)\n",
    "print(temps_df[temps_df.Misu > 82])"
   ]
  },
  {
   "cell_type": "code",
   "execution_count": 40,
   "metadata": {},
   "outputs": [
    {
     "name": "stdout",
     "output_type": "stream",
     "text": [
      "Object `data/goog.csv` not found.\n"
     ]
    },
    {
     "name": "stdout",
     "output_type": "stream",
     "text": [
      "Date,Open,High,Low,Close,Volume\n",
      "\u001b[32m12\u001b[39m/\u001b[32m19\u001b[39m/\u001b[32m2016\u001b[39m,\u001b[32m790.219971\u001b[39m,\u001b[32m797.659973\u001b[39m,\u001b[32m786.27002\u001b[39m,\u001b[32m794.200012\u001b[39m,\u001b[32m1225900\u001b[39m\n",
      "\u001b[32m12\u001b[39m/\u001b[32m20\u001b[39m/\u001b[32m2016\u001b[39m,\u001b[32m796.76001\u001b[39m,\u001b[32m798.650024\u001b[39m,\u001b[32m793.27002\u001b[39m,\u001b[32m796.419983\u001b[39m,\u001b[32m925100\u001b[39m\n",
      "\u001b[32m12\u001b[39m/\u001b[32m21\u001b[39m/\u001b[32m2016\u001b[39m,\u001b[32m795.840027\u001b[39m,\u001b[32m796.676025\u001b[39m,\u001b[32m787.099976\u001b[39m,\u001b[32m794.559998\u001b[39m,\u001b[32m1208700\u001b[39m\n",
      "\u001b[32m12\u001b[39m/\u001b[32m22\u001b[39m/\u001b[32m2016\u001b[39m,\u001b[32m792.359985\u001b[39m,\u001b[32m793.320007\u001b[39m,\u001b[32m788.580017\u001b[39m,\u001b[32m791.26001\u001b[39m,\u001b[32m969100\u001b[39m\n",
      "\u001b[32m12\u001b[39m/\u001b[32m23\u001b[39m/\u001b[32m2016\u001b[39m,\u001b[32m790.900024\u001b[39m,\u001b[32m792.73999\u001b[39m,\u001b[32m787.280029\u001b[39m,\u001b[32m789.909973\u001b[39m,\u001b[32m623400\u001b[39m\n",
      "\u001b[32m12\u001b[39m/\u001b[32m27\u001b[39m/\u001b[32m2016\u001b[39m,\u001b[32m790.679993\u001b[39m,\u001b[32m797.859985\u001b[39m,\u001b[32m787.656982\u001b[39m,\u001b[32m791.549988\u001b[39m,\u001b[32m789100\u001b[39m\n",
      "\u001b[32m12\u001b[39m/\u001b[32m28\u001b[39m/\u001b[32m2016\u001b[39m,\u001b[32m793.700012\u001b[39m,\u001b[32m794.22998\u001b[39m,\u001b[32m783.200012\u001b[39m,\u001b[32m785.049988\u001b[39m,\u001b[32m1132700\u001b[39m\n",
      "\u001b[32m12\u001b[39m/\u001b[32m29\u001b[39m/\u001b[32m2016\u001b[39m,\u001b[32m783.330017\u001b[39m,\u001b[32m785.929993\u001b[39m,\u001b[32m778.919983\u001b[39m,\u001b[32m782.789978\u001b[39m,\u001b[32m742200\u001b[39m\n",
      "\u001b[32m12\u001b[39m/\u001b[32m30\u001b[39m/\u001b[32m2016\u001b[39m,\u001b[32m782.75\u001b[39m,\u001b[32m782.780029\u001b[39m,\u001b[32m770.409973\u001b[39m,\u001b[32m771.820007\u001b[39m,\u001b[32m1760200\u001b[39m\n",
      "\u001b[32m1\u001b[39m/\u001b[32m3\u001b[39m/\u001b[32m2017\u001b[39m,\u001b[32m778.809998\u001b[39m,\u001b[32m789.630005\u001b[39m,\u001b[32m775.799988\u001b[39m,\u001b[32m786.140015\u001b[39m,\u001b[32m1643100\u001b[39m\n",
      "\u001b[32m1\u001b[39m/\u001b[32m4\u001b[39m/\u001b[32m2017\u001b[39m,\u001b[32m788.359985\u001b[39m,\u001b[32m791.340027\u001b[39m,\u001b[32m783.159973\u001b[39m,\u001b[32m786.900024\u001b[39m,\u001b[32m1065400\u001b[39m\n",
      "\u001b[32m1\u001b[39m/\u001b[32m5\u001b[39m/\u001b[32m2017\u001b[39m,\u001b[32m786.080017\u001b[39m,\u001b[32m794.47998\u001b[39m,\u001b[32m785.02002\u001b[39m,\u001b[32m794.02002\u001b[39m,\u001b[32m1315400\u001b[39m\n",
      "\u001b[32m1\u001b[39m/\u001b[32m6\u001b[39m/\u001b[32m2017\u001b[39m,\u001b[32m795.26001\u001b[39m,\u001b[32m807.900024\u001b[39m,\u001b[32m792.203979\u001b[39m,\u001b[32m806.150024\u001b[39m,\u001b[32m1620500\u001b[39m\n",
      "\u001b[32m1\u001b[39m/\u001b[32m9\u001b[39m/\u001b[32m2017\u001b[39m,\u001b[32m806.400024\u001b[39m,\u001b[32m809.966003\u001b[39m,\u001b[32m802.830017\u001b[39m,\u001b[32m806.650024\u001b[39m,\u001b[32m1272400\u001b[39m\n",
      "\u001b[32m1\u001b[39m/\u001b[32m10\u001b[39m/\u001b[32m2017\u001b[39m,\u001b[32m807.859985\u001b[39m,\u001b[32m809.130005\u001b[39m,\u001b[32m803.51001\u001b[39m,\u001b[32m804.789978\u001b[39m,\u001b[32m1174300\u001b[39m\n",
      "\u001b[32m1\u001b[39m/\u001b[32m11\u001b[39m/\u001b[32m2017\u001b[39m,\u001b[32m805\u001b[39m,\u001b[32m808.150024\u001b[39m,\u001b[32m801.369995\u001b[39m,\u001b[32m807.909973\u001b[39m,\u001b[32m1057900\u001b[39m\n",
      "\u001b[32m1\u001b[39m/\u001b[32m12\u001b[39m/\u001b[32m2017\u001b[39m,\u001b[32m807.140015\u001b[39m,\u001b[32m807.390015\u001b[39m,\u001b[32m799.169983\u001b[39m,\u001b[32m806.359985\u001b[39m,\u001b[32m1351000\u001b[39m\n",
      "\u001b[32m1\u001b[39m/\u001b[32m13\u001b[39m/\u001b[32m2017\u001b[39m,\u001b[32m807.47998\u001b[39m,\u001b[32m811.223999\u001b[39m,\u001b[32m806.690002\u001b[39m,\u001b[32m807.880005\u001b[39m,\u001b[32m1090100\u001b[39m\n",
      "\u001b[32m1\u001b[39m/\u001b[32m17\u001b[39m/\u001b[32m2017\u001b[39m,\u001b[32m807.080017\u001b[39m,\u001b[32m807.140015\u001b[39m,\u001b[32m800.369995\u001b[39m,\u001b[32m804.609985\u001b[39m,\u001b[32m1355800\u001b[39m\n",
      "\u001b[32m1\u001b[39m/\u001b[32m18\u001b[39m/\u001b[32m2017\u001b[39m,\u001b[32m805.809998\u001b[39m,\u001b[32m806.205017\u001b[39m,\u001b[32m800.98999\u001b[39m,\u001b[32m806.070007\u001b[39m,\u001b[32m1293300\u001b[39m\n",
      "\u001b[32m1\u001b[39m/\u001b[32m19\u001b[39m/\u001b[32m2017\u001b[39m,\u001b[32m805.119995\u001b[39m,\u001b[32m809.47998\u001b[39m,\u001b[32m801.799988\u001b[39m,\u001b[32m802.174988\u001b[39m,\u001b[32m912000\u001b[39m\n",
      "\u001b[32m1\u001b[39m/\u001b[32m20\u001b[39m/\u001b[32m2017\u001b[39m,\u001b[32m806.909973\u001b[39m,\u001b[32m806.909973\u001b[39m,\u001b[32m801.690002\u001b[39m,\u001b[32m805.02002\u001b[39m,\u001b[32m1645000\u001b[39m\n",
      "\u001b[32m1\u001b[39m/\u001b[32m23\u001b[39m/\u001b[32m2017\u001b[39m,\u001b[32m807.25\u001b[39m,\u001b[32m820.869995\u001b[39m,\u001b[32m803.73999\u001b[39m,\u001b[32m819.309998\u001b[39m,\u001b[32m1901600\u001b[39m\n",
      "\u001b[32m1\u001b[39m/\u001b[32m24\u001b[39m/\u001b[32m2017\u001b[39m,\u001b[32m822.299988\u001b[39m,\u001b[32m825.900024\u001b[39m,\u001b[32m817.820984\u001b[39m,\u001b[32m823.869995\u001b[39m,\u001b[32m1461000\u001b[39m\n",
      "\u001b[32m1\u001b[39m/\u001b[32m25\u001b[39m/\u001b[32m2017\u001b[39m,\u001b[32m829.619995\u001b[39m,\u001b[32m835.77002\u001b[39m,\u001b[32m825.059998\u001b[39m,\u001b[32m835.669983\u001b[39m,\u001b[32m1494500\u001b[39m\n",
      "\u001b[32m1\u001b[39m/\u001b[32m26\u001b[39m/\u001b[32m2017\u001b[39m,\u001b[32m837.809998\u001b[39m,\u001b[32m838\u001b[39m,\u001b[32m827.01001\u001b[39m,\u001b[32m832.150024\u001b[39m,\u001b[32m2734400\u001b[39m\n",
      "\u001b[32m1\u001b[39m/\u001b[32m27\u001b[39m/\u001b[32m2017\u001b[39m,\u001b[32m834.710022\u001b[39m,\u001b[32m841.950012\u001b[39m,\u001b[32m820.440002\u001b[39m,\u001b[32m823.309998\u001b[39m,\u001b[32m2951800\u001b[39m\n",
      "\u001b[32m1\u001b[39m/\u001b[32m30\u001b[39m/\u001b[32m2017\u001b[39m,\u001b[32m814.659973\u001b[39m,\u001b[32m815.840027\u001b[39m,\u001b[32m799.799988\u001b[39m,\u001b[32m802.320007\u001b[39m,\u001b[32m3228900\u001b[39m\n",
      "\u001b[32m1\u001b[39m/\u001b[32m31\u001b[39m/\u001b[32m2017\u001b[39m,\u001b[32m796.859985\u001b[39m,\u001b[32m801.25\u001b[39m,\u001b[32m790.52002\u001b[39m,\u001b[32m796.789978\u001b[39m,\u001b[32m2143500\u001b[39m\n",
      "\u001b[32m2\u001b[39m/\u001b[32m1\u001b[39m/\u001b[32m2017\u001b[39m,\u001b[32m799.679993\u001b[39m,\u001b[32m801.190002\u001b[39m,\u001b[32m791.190002\u001b[39m,\u001b[32m795.695007\u001b[39m,\u001b[32m2023300\u001b[39m\n",
      "\u001b[32m2\u001b[39m/\u001b[32m2\u001b[39m/\u001b[32m2017\u001b[39m,\u001b[32m793.799988\u001b[39m,\u001b[32m802.700012\u001b[39m,\u001b[32m792\u001b[39m,\u001b[32m798.530029\u001b[39m,\u001b[32m1525800\u001b[39m\n",
      "\u001b[32m2\u001b[39m/\u001b[32m3\u001b[39m/\u001b[32m2017\u001b[39m,\u001b[32m802.98999\u001b[39m,\u001b[32m806\u001b[39m,\u001b[32m800.369995\u001b[39m,\u001b[32m801.48999\u001b[39m,\u001b[32m1460400\u001b[39m\n",
      "\u001b[32m2\u001b[39m/\u001b[32m6\u001b[39m/\u001b[32m2017\u001b[39m,\u001b[32m799.700012\u001b[39m,\u001b[32m801.669983\u001b[39m,\u001b[32m795.25\u001b[39m,\u001b[32m801.340027\u001b[39m,\u001b[32m1174200\u001b[39m\n",
      "\u001b[32m2\u001b[39m/\u001b[32m7\u001b[39m/\u001b[32m2017\u001b[39m,\u001b[32m803.98999\u001b[39m,\u001b[32m810.5\u001b[39m,\u001b[32m801.780029\u001b[39m,\u001b[32m806.969971\u001b[39m,\u001b[32m1235200\u001b[39m\n",
      "\u001b[32m2\u001b[39m/\u001b[32m8\u001b[39m/\u001b[32m2017\u001b[39m,\u001b[32m807\u001b[39m,\u001b[32m811.840027\u001b[39m,\u001b[32m803.190002\u001b[39m,\u001b[32m808.380005\u001b[39m,\u001b[32m1155300\u001b[39m\n",
      "\u001b[32m2\u001b[39m/\u001b[32m9\u001b[39m/\u001b[32m2017\u001b[39m,\u001b[32m809.51001\u001b[39m,\u001b[32m810.659973\u001b[39m,\u001b[32m804.539978\u001b[39m,\u001b[32m809.559998\u001b[39m,\u001b[32m989700\u001b[39m\n",
      "\u001b[32m2\u001b[39m/\u001b[32m10\u001b[39m/\u001b[32m2017\u001b[39m,\u001b[32m811.700012\u001b[39m,\u001b[32m815.25\u001b[39m,\u001b[32m809.780029\u001b[39m,\u001b[32m813.669983\u001b[39m,\u001b[32m1129100\u001b[39m\n",
      "\u001b[32m2\u001b[39m/\u001b[32m13\u001b[39m/\u001b[32m2017\u001b[39m,\u001b[32m816\u001b[39m,\u001b[32m820.958984\u001b[39m,\u001b[32m815.48999\u001b[39m,\u001b[32m819.23999\u001b[39m,\u001b[32m1198100\u001b[39m\n",
      "\u001b[32m2\u001b[39m/\u001b[32m14\u001b[39m/\u001b[32m2017\u001b[39m,\u001b[32m819\u001b[39m,\u001b[32m823\u001b[39m,\u001b[32m816\u001b[39m,\u001b[32m820.450012\u001b[39m,\u001b[32m1053600\u001b[39m\n",
      "\u001b[32m2\u001b[39m/\u001b[32m15\u001b[39m/\u001b[32m2017\u001b[39m,\u001b[32m819.359985\u001b[39m,\u001b[32m823\u001b[39m,\u001b[32m818.469971\u001b[39m,\u001b[32m818.97998\u001b[39m,\u001b[32m1304000\u001b[39m\n",
      "\u001b[32m2\u001b[39m/\u001b[32m16\u001b[39m/\u001b[32m2017\u001b[39m,\u001b[32m819.929993\u001b[39m,\u001b[32m824.400024\u001b[39m,\u001b[32m818.97998\u001b[39m,\u001b[32m824.159973\u001b[39m,\u001b[32m1281700\u001b[39m\n",
      "\u001b[32m2\u001b[39m/\u001b[32m17\u001b[39m/\u001b[32m2017\u001b[39m,\u001b[32m823.02002\u001b[39m,\u001b[32m828.070007\u001b[39m,\u001b[32m821.655029\u001b[39m,\u001b[32m828.070007\u001b[39m,\u001b[32m1597800\u001b[39m\n",
      "\u001b[32m2\u001b[39m/\u001b[32m21\u001b[39m/\u001b[32m2017\u001b[39m,\u001b[32m828.659973\u001b[39m,\u001b[32m833.450012\u001b[39m,\u001b[32m828.349976\u001b[39m,\u001b[32m831.659973\u001b[39m,\u001b[32m1247700\u001b[39m\n",
      "\u001b[32m2\u001b[39m/\u001b[32m22\u001b[39m/\u001b[32m2017\u001b[39m,\u001b[32m828.659973\u001b[39m,\u001b[32m833.25\u001b[39m,\u001b[32m828.640015\u001b[39m,\u001b[32m830.76001\u001b[39m,\u001b[32m982900\u001b[39m\n",
      "\u001b[32m2\u001b[39m/\u001b[32m23\u001b[39m/\u001b[32m2017\u001b[39m,\u001b[32m830.119995\u001b[39m,\u001b[32m832.460022\u001b[39m,\u001b[32m822.880005\u001b[39m,\u001b[32m831.330017\u001b[39m,\u001b[32m1470100\u001b[39m\n",
      "\u001b[32m2\u001b[39m/\u001b[32m24\u001b[39m/\u001b[32m2017\u001b[39m,\u001b[32m827.72998\u001b[39m,\u001b[32m829\u001b[39m,\u001b[32m824.200012\u001b[39m,\u001b[32m828.640015\u001b[39m,\u001b[32m1386600\u001b[39m\n",
      "\u001b[32m2\u001b[39m/\u001b[32m27\u001b[39m/\u001b[32m2017\u001b[39m,\u001b[32m824.549988\u001b[39m,\u001b[32m830.5\u001b[39m,\u001b[32m824\u001b[39m,\u001b[32m829.280029\u001b[39m,\u001b[32m1099500\u001b[39m\n",
      "\u001b[32m2\u001b[39m/\u001b[32m28\u001b[39m/\u001b[32m2017\u001b[39m,\u001b[32m825.609985\u001b[39m,\u001b[32m828.539978\u001b[39m,\u001b[32m820.200012\u001b[39m,\u001b[32m823.210022\u001b[39m,\u001b[32m2252300\u001b[39m\n",
      "\u001b[32m3\u001b[39m/\u001b[32m1\u001b[39m/\u001b[32m2017\u001b[39m,\u001b[32m828.849976\u001b[39m,\u001b[32m836.255005\u001b[39m,\u001b[32m827.26001\u001b[39m,\u001b[32m835.23999\u001b[39m,\u001b[32m1491400\u001b[39m\n",
      "\u001b[32m3\u001b[39m/\u001b[32m2\u001b[39m/\u001b[32m2017\u001b[39m,\u001b[32m833.849976\u001b[39m,\u001b[32m834.51001\u001b[39m,\u001b[32m829.640015\u001b[39m,\u001b[32m830.630005\u001b[39m,\u001b[32m937700\u001b[39m\n",
      "\u001b[32m3\u001b[39m/\u001b[32m3\u001b[39m/\u001b[32m2017\u001b[39m,\u001b[32m830.559998\u001b[39m,\u001b[32m831.359985\u001b[39m,\u001b[32m825.750977\u001b[39m,\u001b[32m829.080017\u001b[39m,\u001b[32m888900\u001b[39m\n",
      "\u001b[32m3\u001b[39m/\u001b[32m6\u001b[39m/\u001b[32m2017\u001b[39m,\u001b[32m826.950012\u001b[39m,\u001b[32m828.880005\u001b[39m,\u001b[32m822.400024\u001b[39m,\u001b[32m827.780029\u001b[39m,\u001b[32m1105800\u001b[39m\n",
      "\u001b[32m3\u001b[39m/\u001b[32m7\u001b[39m/\u001b[32m2017\u001b[39m,\u001b[32m827.400024\u001b[39m,\u001b[32m833.409973\u001b[39m,\u001b[32m826.52002\u001b[39m,\u001b[32m831.909973\u001b[39m,\u001b[32m1016600\u001b[39m\n",
      "\u001b[32m3\u001b[39m/\u001b[32m8\u001b[39m/\u001b[32m2017\u001b[39m,\u001b[32m833.51001\u001b[39m,\u001b[32m838.150024\u001b[39m,\u001b[32m831.789978\u001b[39m,\u001b[32m835.369995\u001b[39m,\u001b[32m988700\u001b[39m\n",
      "\u001b[32m3\u001b[39m/\u001b[32m9\u001b[39m/\u001b[32m2017\u001b[39m,\u001b[32m836\u001b[39m,\u001b[32m842\u001b[39m,\u001b[32m834.210022\u001b[39m,\u001b[32m838.679993\u001b[39m,\u001b[32m1259900\u001b[39m\n",
      "\u001b[32m3\u001b[39m/\u001b[32m10\u001b[39m/\u001b[32m2017\u001b[39m,\u001b[32m843.280029\u001b[39m,\u001b[32m844.909973\u001b[39m,\u001b[32m839.5\u001b[39m,\u001b[32m843.25\u001b[39m,\u001b[32m1701100\u001b[39m\n",
      "\u001b[32m3\u001b[39m/\u001b[32m13\u001b[39m/\u001b[32m2017\u001b[39m,\u001b[32m844\u001b[39m,\u001b[32m848.684998\u001b[39m,\u001b[32m843.25\u001b[39m,\u001b[32m845.539978\u001b[39m,\u001b[32m1149500\u001b[39m\n",
      "\u001b[32m3\u001b[39m/\u001b[32m14\u001b[39m/\u001b[32m2017\u001b[39m,\u001b[32m843.640015\u001b[39m,\u001b[32m847.23999\u001b[39m,\u001b[32m840.799988\u001b[39m,\u001b[32m845.619995\u001b[39m,\u001b[32m779900\u001b[39m\n",
      "\u001b[32m3\u001b[39m/\u001b[32m15\u001b[39m/\u001b[32m2017\u001b[39m,\u001b[32m847.590027\u001b[39m,\u001b[32m848.630005\u001b[39m,\u001b[32m840.77002\u001b[39m,\u001b[32m847.200012\u001b[39m,\u001b[32m1379600\u001b[39m\n",
      "\u001b[32m3\u001b[39m/\u001b[32m16\u001b[39m/\u001b[32m2017\u001b[39m,\u001b[32m849.030029\u001b[39m,\u001b[32m850.849976\u001b[39m,\u001b[32m846.130005\u001b[39m,\u001b[32m848.780029\u001b[39m,\u001b[32m970400\u001b[39m\n",
      "\u001b[32m3\u001b[39m/\u001b[32m17\u001b[39m/\u001b[32m2017\u001b[39m,\u001b[32m851.609985\u001b[39m,\u001b[32m853.400024\u001b[39m,\u001b[32m847.109985\u001b[39m,\u001b[32m852.119995\u001b[39m,\u001b[32m1712300\u001b[39m\n"
     ]
    }
   ],
   "source": [
    "%pfile data/goog.csv"
   ]
  },
  {
   "cell_type": "code",
   "execution_count": 41,
   "metadata": {},
   "outputs": [
    {
     "name": "stdout",
     "output_type": "stream",
     "text": [
      "<class 'pandas.core.frame.DataFrame'>\n",
      "          Date        Open        High         Low       Close   Volume\n",
      "0   12/19/2016  790.219971  797.659973  786.270020  794.200012  1225900\n",
      "1   12/20/2016  796.760010  798.650024  793.270020  796.419983   925100\n",
      "2   12/21/2016  795.840027  796.676025  787.099976  794.559998  1208700\n",
      "3   12/22/2016  792.359985  793.320007  788.580017  791.260010   969100\n",
      "4   12/23/2016  790.900024  792.739990  787.280029  789.909973   623400\n",
      "..         ...         ...         ...         ...         ...      ...\n",
      "56   3/13/2017  844.000000  848.684998  843.250000  845.539978  1149500\n",
      "57   3/14/2017  843.640015  847.239990  840.799988  845.619995   779900\n",
      "58   3/15/2017  847.590027  848.630005  840.770020  847.200012  1379600\n",
      "59   3/16/2017  849.030029  850.849976  846.130005  848.780029   970400\n",
      "60   3/17/2017  851.609985  853.400024  847.109985  852.119995  1712300\n",
      "\n",
      "[61 rows x 6 columns]\n"
     ]
    }
   ],
   "source": [
    "df = pd.read_csv('data/goog.csv')\n",
    "print(type(df))\n",
    "print(df)"
   ]
  },
  {
   "cell_type": "code",
   "execution_count": 42,
   "metadata": {},
   "outputs": [
    {
     "data": {
      "text/plain": [
       "0     12/19/2016\n",
       "1     12/20/2016\n",
       "2     12/21/2016\n",
       "3     12/22/2016\n",
       "4     12/23/2016\n",
       "         ...    \n",
       "56     3/13/2017\n",
       "57     3/14/2017\n",
       "58     3/15/2017\n",
       "59     3/16/2017\n",
       "60     3/17/2017\n",
       "Name: Date, Length: 61, dtype: object"
      ]
     },
     "execution_count": 42,
     "metadata": {},
     "output_type": "execute_result"
    }
   ],
   "source": [
    "df.Date"
   ]
  },
  {
   "cell_type": "code",
   "execution_count": 43,
   "metadata": {},
   "outputs": [
    {
     "data": {
      "text/plain": [
       "0     790.219971\n",
       "1     796.760010\n",
       "2     795.840027\n",
       "3     792.359985\n",
       "4     790.900024\n",
       "         ...    \n",
       "56    844.000000\n",
       "57    843.640015\n",
       "58    847.590027\n",
       "59    849.030029\n",
       "60    851.609985\n",
       "Name: Open, Length: 61, dtype: float64"
      ]
     },
     "execution_count": 43,
     "metadata": {},
     "output_type": "execute_result"
    }
   ],
   "source": [
    "df.Open"
   ]
  },
  {
   "cell_type": "code",
   "execution_count": 44,
   "metadata": {},
   "outputs": [
    {
     "name": "stdout",
     "output_type": "stream",
     "text": [
      "         Date        Open        High         Low       Close   Volume\n",
      "0  12/19/2016  790.219971  797.659973  786.270020  794.200012  1225900\n",
      "1  12/20/2016  796.760010  798.650024  793.270020  796.419983   925100\n",
      "2  12/21/2016  795.840027  796.676025  787.099976  794.559998  1208700\n"
     ]
    }
   ],
   "source": [
    "df3 = df.iloc[0:3]\n",
    "print(df3)"
   ]
  },
  {
   "cell_type": "code",
   "execution_count": 45,
   "metadata": {},
   "outputs": [
    {
     "name": "stdout",
     "output_type": "stream",
     "text": [
      "        Close   Volume\n",
      "0  794.200012  1225900\n",
      "1  796.419983   925100\n",
      "2  794.559998  1208700\n"
     ]
    }
   ],
   "source": [
    "df3 = df.iloc[0:3,4:]\n",
    "print(df3)"
   ]
  },
  {
   "cell_type": "code",
   "execution_count": 46,
   "metadata": {},
   "outputs": [
    {
     "data": {
      "text/html": [
       "<div>\n",
       "<style scoped>\n",
       "    .dataframe tbody tr th:only-of-type {\n",
       "        vertical-align: middle;\n",
       "    }\n",
       "\n",
       "    .dataframe tbody tr th {\n",
       "        vertical-align: top;\n",
       "    }\n",
       "\n",
       "    .dataframe thead th {\n",
       "        text-align: right;\n",
       "    }\n",
       "</style>\n",
       "<table border=\"1\" class=\"dataframe\">\n",
       "  <thead>\n",
       "    <tr style=\"text-align: right;\">\n",
       "      <th></th>\n",
       "      <th>Low</th>\n",
       "      <th>Close</th>\n",
       "    </tr>\n",
       "  </thead>\n",
       "  <tbody>\n",
       "    <tr>\n",
       "      <th>0</th>\n",
       "      <td>786.270020</td>\n",
       "      <td>794.200012</td>\n",
       "    </tr>\n",
       "    <tr>\n",
       "      <th>1</th>\n",
       "      <td>793.270020</td>\n",
       "      <td>796.419983</td>\n",
       "    </tr>\n",
       "    <tr>\n",
       "      <th>2</th>\n",
       "      <td>787.099976</td>\n",
       "      <td>794.559998</td>\n",
       "    </tr>\n",
       "  </tbody>\n",
       "</table>\n",
       "</div>"
      ],
      "text/plain": [
       "          Low       Close\n",
       "0  786.270020  794.200012\n",
       "1  793.270020  796.419983\n",
       "2  787.099976  794.559998"
      ]
     },
     "execution_count": 46,
     "metadata": {},
     "output_type": "execute_result"
    }
   ],
   "source": [
    "df4 = df.iloc[0:3, 3:5]\n",
    "df4"
   ]
  },
  {
   "cell_type": "code",
   "execution_count": 47,
   "metadata": {},
   "outputs": [
    {
     "data": {
      "text/html": [
       "<div>\n",
       "<style scoped>\n",
       "    .dataframe tbody tr th:only-of-type {\n",
       "        vertical-align: middle;\n",
       "    }\n",
       "\n",
       "    .dataframe tbody tr th {\n",
       "        vertical-align: top;\n",
       "    }\n",
       "\n",
       "    .dataframe thead th {\n",
       "        text-align: right;\n",
       "    }\n",
       "</style>\n",
       "<table border=\"1\" class=\"dataframe\">\n",
       "  <thead>\n",
       "    <tr style=\"text-align: right;\">\n",
       "      <th></th>\n",
       "      <th>Date</th>\n",
       "      <th>Open</th>\n",
       "      <th>High</th>\n",
       "      <th>Low</th>\n",
       "      <th>Close</th>\n",
       "      <th>Volume</th>\n",
       "    </tr>\n",
       "  </thead>\n",
       "  <tbody>\n",
       "    <tr>\n",
       "      <th>1</th>\n",
       "      <td>12/20/2016</td>\n",
       "      <td>796.760010</td>\n",
       "      <td>798.650024</td>\n",
       "      <td>793.270020</td>\n",
       "      <td>796.419983</td>\n",
       "      <td>925100</td>\n",
       "    </tr>\n",
       "    <tr>\n",
       "      <th>3</th>\n",
       "      <td>12/22/2016</td>\n",
       "      <td>792.359985</td>\n",
       "      <td>793.320007</td>\n",
       "      <td>788.580017</td>\n",
       "      <td>791.260010</td>\n",
       "      <td>969100</td>\n",
       "    </tr>\n",
       "    <tr>\n",
       "      <th>5</th>\n",
       "      <td>12/27/2016</td>\n",
       "      <td>790.679993</td>\n",
       "      <td>797.859985</td>\n",
       "      <td>787.656982</td>\n",
       "      <td>791.549988</td>\n",
       "      <td>789100</td>\n",
       "    </tr>\n",
       "    <tr>\n",
       "      <th>7</th>\n",
       "      <td>12/29/2016</td>\n",
       "      <td>783.330017</td>\n",
       "      <td>785.929993</td>\n",
       "      <td>778.919983</td>\n",
       "      <td>782.789978</td>\n",
       "      <td>742200</td>\n",
       "    </tr>\n",
       "    <tr>\n",
       "      <th>9</th>\n",
       "      <td>1/3/2017</td>\n",
       "      <td>778.809998</td>\n",
       "      <td>789.630005</td>\n",
       "      <td>775.799988</td>\n",
       "      <td>786.140015</td>\n",
       "      <td>1643100</td>\n",
       "    </tr>\n",
       "    <tr>\n",
       "      <th>...</th>\n",
       "      <td>...</td>\n",
       "      <td>...</td>\n",
       "      <td>...</td>\n",
       "      <td>...</td>\n",
       "      <td>...</td>\n",
       "      <td>...</td>\n",
       "    </tr>\n",
       "    <tr>\n",
       "      <th>51</th>\n",
       "      <td>3/6/2017</td>\n",
       "      <td>826.950012</td>\n",
       "      <td>828.880005</td>\n",
       "      <td>822.400024</td>\n",
       "      <td>827.780029</td>\n",
       "      <td>1105800</td>\n",
       "    </tr>\n",
       "    <tr>\n",
       "      <th>53</th>\n",
       "      <td>3/8/2017</td>\n",
       "      <td>833.510010</td>\n",
       "      <td>838.150024</td>\n",
       "      <td>831.789978</td>\n",
       "      <td>835.369995</td>\n",
       "      <td>988700</td>\n",
       "    </tr>\n",
       "    <tr>\n",
       "      <th>55</th>\n",
       "      <td>3/10/2017</td>\n",
       "      <td>843.280029</td>\n",
       "      <td>844.909973</td>\n",
       "      <td>839.500000</td>\n",
       "      <td>843.250000</td>\n",
       "      <td>1701100</td>\n",
       "    </tr>\n",
       "    <tr>\n",
       "      <th>57</th>\n",
       "      <td>3/14/2017</td>\n",
       "      <td>843.640015</td>\n",
       "      <td>847.239990</td>\n",
       "      <td>840.799988</td>\n",
       "      <td>845.619995</td>\n",
       "      <td>779900</td>\n",
       "    </tr>\n",
       "    <tr>\n",
       "      <th>59</th>\n",
       "      <td>3/16/2017</td>\n",
       "      <td>849.030029</td>\n",
       "      <td>850.849976</td>\n",
       "      <td>846.130005</td>\n",
       "      <td>848.780029</td>\n",
       "      <td>970400</td>\n",
       "    </tr>\n",
       "  </tbody>\n",
       "</table>\n",
       "<p>30 rows × 6 columns</p>\n",
       "</div>"
      ],
      "text/plain": [
       "          Date        Open        High         Low       Close   Volume\n",
       "1   12/20/2016  796.760010  798.650024  793.270020  796.419983   925100\n",
       "3   12/22/2016  792.359985  793.320007  788.580017  791.260010   969100\n",
       "5   12/27/2016  790.679993  797.859985  787.656982  791.549988   789100\n",
       "7   12/29/2016  783.330017  785.929993  778.919983  782.789978   742200\n",
       "9     1/3/2017  778.809998  789.630005  775.799988  786.140015  1643100\n",
       "..         ...         ...         ...         ...         ...      ...\n",
       "51    3/6/2017  826.950012  828.880005  822.400024  827.780029  1105800\n",
       "53    3/8/2017  833.510010  838.150024  831.789978  835.369995   988700\n",
       "55   3/10/2017  843.280029  844.909973  839.500000  843.250000  1701100\n",
       "57   3/14/2017  843.640015  847.239990  840.799988  845.619995   779900\n",
       "59   3/16/2017  849.030029  850.849976  846.130005  848.780029   970400\n",
       "\n",
       "[30 rows x 6 columns]"
      ]
     },
     "execution_count": 47,
     "metadata": {},
     "output_type": "execute_result"
    }
   ],
   "source": [
    "df5 = df.iloc[1:61:2]\n",
    "df5"
   ]
  },
  {
   "cell_type": "markdown",
   "metadata": {},
   "source": [
    "013일차-실습-7\n",
    "------------------------------------------------------------------\n",
    "<문제>, <배경설명>, <요구사항>, <실행결과> 를 충족하는 실습을 수행하고 결과를 제출하세요.\n",
    "------------------------------------------------------------------\n",
    "<문제>\n",
    "df에 있는 자료 중에서 홀수의 행만을 출력하는 코드를 작성하세요.\n",
    "\n",
    "------------------------------------------------------------------\n",
    "<요구사항1>\n",
    "강의-2에서 사용한 파일을 연속하여 실습하세요.\n",
    "\n",
    "------------------------------------------------------------------\n",
    "<요구사항2>\n",
    "- df.iloc[1,3,5,7,9,11,13,15,17, ...] 과 같은 코드는 안됩니다.\n",
    "- 예제에서 사용한 것과 동일한 코드는 사양합니다\n",
    "\n",
    "------------------------------------------------------------------\n",
    "<실행결과>\n",
    "\n",
    "\tDate\tOpen\tHigh\tLow\tClose\tVolume\n",
    "1\t12/20/2016\t796.760010\t798.650024\t793.270020\t796.419983\t925100\n",
    "3\t12/22/2016\t792.359985\t793.320007\t788.580017\t791.260010\t969100\n",
    "5\t12/27/2016\t790.679993\t797.859985\t787.656982\t791.549988\t789100\n",
    "7\t12/29/2016\t783.330017\t785.929993\t778.919983\t782.789978\t742200\n",
    "9\t1/3/2017\t778.809998\t789.630005\t775.799988\t786.140015\t1643100\n",
    "...\t...\t...\t...\t...\t...\t...\n",
    "51\t3/6/2017\t826.950012\t828.880005\t822.400024\t827.780029\t1105800\n",
    "53\t3/8/2017\t833.510010\t838.150024\t831.789978\t835.369995\t988700\n",
    "55\t3/10/2017\t843.280029\t844.909973\t839.500000\t843.250000\t1701100\n",
    "57\t3/14/2017\t843.640015\t847.239990\t840.799988\t845.619995\t779900\n",
    "59\t3/16/2017\t849.030029\t850.849976\t846.130005\t848.780029\t970400\n",
    "30 rows × 6 columns\n",
    "\n",
    "------------------------------------------------------------------\n",
    "이상의 실습결과를 techmr@daum.net; ty@doublerock.io 메일로 전송하세요.\n",
    "메일제목은 '013일차-실습-7-완료' 라고 지정하세요."
   ]
  },
  {
   "cell_type": "code",
   "execution_count": 48,
   "metadata": {},
   "outputs": [
    {
     "data": {
      "text/html": [
       "<div>\n",
       "<style scoped>\n",
       "    .dataframe tbody tr th:only-of-type {\n",
       "        vertical-align: middle;\n",
       "    }\n",
       "\n",
       "    .dataframe tbody tr th {\n",
       "        vertical-align: top;\n",
       "    }\n",
       "\n",
       "    .dataframe thead th {\n",
       "        text-align: right;\n",
       "    }\n",
       "</style>\n",
       "<table border=\"1\" class=\"dataframe\">\n",
       "  <thead>\n",
       "    <tr style=\"text-align: right;\">\n",
       "      <th></th>\n",
       "      <th>Date</th>\n",
       "      <th>Open</th>\n",
       "      <th>High</th>\n",
       "      <th>Low</th>\n",
       "      <th>Close</th>\n",
       "      <th>Volume</th>\n",
       "    </tr>\n",
       "  </thead>\n",
       "  <tbody>\n",
       "    <tr>\n",
       "      <th>1</th>\n",
       "      <td>12/20/2016</td>\n",
       "      <td>796.760010</td>\n",
       "      <td>798.650024</td>\n",
       "      <td>793.270020</td>\n",
       "      <td>796.419983</td>\n",
       "      <td>925100</td>\n",
       "    </tr>\n",
       "    <tr>\n",
       "      <th>3</th>\n",
       "      <td>12/22/2016</td>\n",
       "      <td>792.359985</td>\n",
       "      <td>793.320007</td>\n",
       "      <td>788.580017</td>\n",
       "      <td>791.260010</td>\n",
       "      <td>969100</td>\n",
       "    </tr>\n",
       "    <tr>\n",
       "      <th>5</th>\n",
       "      <td>12/27/2016</td>\n",
       "      <td>790.679993</td>\n",
       "      <td>797.859985</td>\n",
       "      <td>787.656982</td>\n",
       "      <td>791.549988</td>\n",
       "      <td>789100</td>\n",
       "    </tr>\n",
       "    <tr>\n",
       "      <th>7</th>\n",
       "      <td>12/29/2016</td>\n",
       "      <td>783.330017</td>\n",
       "      <td>785.929993</td>\n",
       "      <td>778.919983</td>\n",
       "      <td>782.789978</td>\n",
       "      <td>742200</td>\n",
       "    </tr>\n",
       "    <tr>\n",
       "      <th>9</th>\n",
       "      <td>1/3/2017</td>\n",
       "      <td>778.809998</td>\n",
       "      <td>789.630005</td>\n",
       "      <td>775.799988</td>\n",
       "      <td>786.140015</td>\n",
       "      <td>1643100</td>\n",
       "    </tr>\n",
       "    <tr>\n",
       "      <th>...</th>\n",
       "      <td>...</td>\n",
       "      <td>...</td>\n",
       "      <td>...</td>\n",
       "      <td>...</td>\n",
       "      <td>...</td>\n",
       "      <td>...</td>\n",
       "    </tr>\n",
       "    <tr>\n",
       "      <th>51</th>\n",
       "      <td>3/6/2017</td>\n",
       "      <td>826.950012</td>\n",
       "      <td>828.880005</td>\n",
       "      <td>822.400024</td>\n",
       "      <td>827.780029</td>\n",
       "      <td>1105800</td>\n",
       "    </tr>\n",
       "    <tr>\n",
       "      <th>53</th>\n",
       "      <td>3/8/2017</td>\n",
       "      <td>833.510010</td>\n",
       "      <td>838.150024</td>\n",
       "      <td>831.789978</td>\n",
       "      <td>835.369995</td>\n",
       "      <td>988700</td>\n",
       "    </tr>\n",
       "    <tr>\n",
       "      <th>55</th>\n",
       "      <td>3/10/2017</td>\n",
       "      <td>843.280029</td>\n",
       "      <td>844.909973</td>\n",
       "      <td>839.500000</td>\n",
       "      <td>843.250000</td>\n",
       "      <td>1701100</td>\n",
       "    </tr>\n",
       "    <tr>\n",
       "      <th>57</th>\n",
       "      <td>3/14/2017</td>\n",
       "      <td>843.640015</td>\n",
       "      <td>847.239990</td>\n",
       "      <td>840.799988</td>\n",
       "      <td>845.619995</td>\n",
       "      <td>779900</td>\n",
       "    </tr>\n",
       "    <tr>\n",
       "      <th>59</th>\n",
       "      <td>3/16/2017</td>\n",
       "      <td>849.030029</td>\n",
       "      <td>850.849976</td>\n",
       "      <td>846.130005</td>\n",
       "      <td>848.780029</td>\n",
       "      <td>970400</td>\n",
       "    </tr>\n",
       "  </tbody>\n",
       "</table>\n",
       "<p>30 rows × 6 columns</p>\n",
       "</div>"
      ],
      "text/plain": [
       "          Date        Open        High         Low       Close   Volume\n",
       "1   12/20/2016  796.760010  798.650024  793.270020  796.419983   925100\n",
       "3   12/22/2016  792.359985  793.320007  788.580017  791.260010   969100\n",
       "5   12/27/2016  790.679993  797.859985  787.656982  791.549988   789100\n",
       "7   12/29/2016  783.330017  785.929993  778.919983  782.789978   742200\n",
       "9     1/3/2017  778.809998  789.630005  775.799988  786.140015  1643100\n",
       "..         ...         ...         ...         ...         ...      ...\n",
       "51    3/6/2017  826.950012  828.880005  822.400024  827.780029  1105800\n",
       "53    3/8/2017  833.510010  838.150024  831.789978  835.369995   988700\n",
       "55   3/10/2017  843.280029  844.909973  839.500000  843.250000  1701100\n",
       "57   3/14/2017  843.640015  847.239990  840.799988  845.619995   779900\n",
       "59   3/16/2017  849.030029  850.849976  846.130005  848.780029   970400\n",
       "\n",
       "[30 rows x 6 columns]"
      ]
     },
     "execution_count": 48,
     "metadata": {},
     "output_type": "execute_result"
    }
   ],
   "source": [
    "df[df.index % 2 == 1]"
   ]
  },
  {
   "cell_type": "code",
   "execution_count": 49,
   "metadata": {},
   "outputs": [
    {
     "data": {
      "text/html": [
       "<div>\n",
       "<style scoped>\n",
       "    .dataframe tbody tr th:only-of-type {\n",
       "        vertical-align: middle;\n",
       "    }\n",
       "\n",
       "    .dataframe tbody tr th {\n",
       "        vertical-align: top;\n",
       "    }\n",
       "\n",
       "    .dataframe thead th {\n",
       "        text-align: right;\n",
       "    }\n",
       "</style>\n",
       "<table border=\"1\" class=\"dataframe\">\n",
       "  <thead>\n",
       "    <tr style=\"text-align: right;\">\n",
       "      <th></th>\n",
       "      <th>Date</th>\n",
       "      <th>Open</th>\n",
       "      <th>High</th>\n",
       "      <th>Low</th>\n",
       "      <th>Close</th>\n",
       "      <th>Volume</th>\n",
       "    </tr>\n",
       "  </thead>\n",
       "  <tbody>\n",
       "    <tr>\n",
       "      <th>1</th>\n",
       "      <td>12/20/2016</td>\n",
       "      <td>796.760010</td>\n",
       "      <td>798.650024</td>\n",
       "      <td>793.270020</td>\n",
       "      <td>796.419983</td>\n",
       "      <td>925100</td>\n",
       "    </tr>\n",
       "    <tr>\n",
       "      <th>3</th>\n",
       "      <td>12/22/2016</td>\n",
       "      <td>792.359985</td>\n",
       "      <td>793.320007</td>\n",
       "      <td>788.580017</td>\n",
       "      <td>791.260010</td>\n",
       "      <td>969100</td>\n",
       "    </tr>\n",
       "    <tr>\n",
       "      <th>5</th>\n",
       "      <td>12/27/2016</td>\n",
       "      <td>790.679993</td>\n",
       "      <td>797.859985</td>\n",
       "      <td>787.656982</td>\n",
       "      <td>791.549988</td>\n",
       "      <td>789100</td>\n",
       "    </tr>\n",
       "    <tr>\n",
       "      <th>7</th>\n",
       "      <td>12/29/2016</td>\n",
       "      <td>783.330017</td>\n",
       "      <td>785.929993</td>\n",
       "      <td>778.919983</td>\n",
       "      <td>782.789978</td>\n",
       "      <td>742200</td>\n",
       "    </tr>\n",
       "    <tr>\n",
       "      <th>9</th>\n",
       "      <td>1/3/2017</td>\n",
       "      <td>778.809998</td>\n",
       "      <td>789.630005</td>\n",
       "      <td>775.799988</td>\n",
       "      <td>786.140015</td>\n",
       "      <td>1643100</td>\n",
       "    </tr>\n",
       "    <tr>\n",
       "      <th>...</th>\n",
       "      <td>...</td>\n",
       "      <td>...</td>\n",
       "      <td>...</td>\n",
       "      <td>...</td>\n",
       "      <td>...</td>\n",
       "      <td>...</td>\n",
       "    </tr>\n",
       "    <tr>\n",
       "      <th>51</th>\n",
       "      <td>3/6/2017</td>\n",
       "      <td>826.950012</td>\n",
       "      <td>828.880005</td>\n",
       "      <td>822.400024</td>\n",
       "      <td>827.780029</td>\n",
       "      <td>1105800</td>\n",
       "    </tr>\n",
       "    <tr>\n",
       "      <th>53</th>\n",
       "      <td>3/8/2017</td>\n",
       "      <td>833.510010</td>\n",
       "      <td>838.150024</td>\n",
       "      <td>831.789978</td>\n",
       "      <td>835.369995</td>\n",
       "      <td>988700</td>\n",
       "    </tr>\n",
       "    <tr>\n",
       "      <th>55</th>\n",
       "      <td>3/10/2017</td>\n",
       "      <td>843.280029</td>\n",
       "      <td>844.909973</td>\n",
       "      <td>839.500000</td>\n",
       "      <td>843.250000</td>\n",
       "      <td>1701100</td>\n",
       "    </tr>\n",
       "    <tr>\n",
       "      <th>57</th>\n",
       "      <td>3/14/2017</td>\n",
       "      <td>843.640015</td>\n",
       "      <td>847.239990</td>\n",
       "      <td>840.799988</td>\n",
       "      <td>845.619995</td>\n",
       "      <td>779900</td>\n",
       "    </tr>\n",
       "    <tr>\n",
       "      <th>59</th>\n",
       "      <td>3/16/2017</td>\n",
       "      <td>849.030029</td>\n",
       "      <td>850.849976</td>\n",
       "      <td>846.130005</td>\n",
       "      <td>848.780029</td>\n",
       "      <td>970400</td>\n",
       "    </tr>\n",
       "  </tbody>\n",
       "</table>\n",
       "<p>30 rows × 6 columns</p>\n",
       "</div>"
      ],
      "text/plain": [
       "          Date        Open        High         Low       Close   Volume\n",
       "1   12/20/2016  796.760010  798.650024  793.270020  796.419983   925100\n",
       "3   12/22/2016  792.359985  793.320007  788.580017  791.260010   969100\n",
       "5   12/27/2016  790.679993  797.859985  787.656982  791.549988   789100\n",
       "7   12/29/2016  783.330017  785.929993  778.919983  782.789978   742200\n",
       "9     1/3/2017  778.809998  789.630005  775.799988  786.140015  1643100\n",
       "..         ...         ...         ...         ...         ...      ...\n",
       "51    3/6/2017  826.950012  828.880005  822.400024  827.780029  1105800\n",
       "53    3/8/2017  833.510010  838.150024  831.789978  835.369995   988700\n",
       "55   3/10/2017  843.280029  844.909973  839.500000  843.250000  1701100\n",
       "57   3/14/2017  843.640015  847.239990  840.799988  845.619995   779900\n",
       "59   3/16/2017  849.030029  850.849976  846.130005  848.780029   970400\n",
       "\n",
       "[30 rows x 6 columns]"
      ]
     },
     "execution_count": 49,
     "metadata": {},
     "output_type": "execute_result"
    }
   ],
   "source": [
    "#013일차-실습-7-해답-ver1\n",
    "df6 = df.iloc[1::2]\n",
    "df6"
   ]
  },
  {
   "cell_type": "code",
   "execution_count": 50,
   "metadata": {},
   "outputs": [
    {
     "data": {
      "text/html": [
       "<div>\n",
       "<style scoped>\n",
       "    .dataframe tbody tr th:only-of-type {\n",
       "        vertical-align: middle;\n",
       "    }\n",
       "\n",
       "    .dataframe tbody tr th {\n",
       "        vertical-align: top;\n",
       "    }\n",
       "\n",
       "    .dataframe thead th {\n",
       "        text-align: right;\n",
       "    }\n",
       "</style>\n",
       "<table border=\"1\" class=\"dataframe\">\n",
       "  <thead>\n",
       "    <tr style=\"text-align: right;\">\n",
       "      <th></th>\n",
       "      <th>Date</th>\n",
       "      <th>Open</th>\n",
       "      <th>High</th>\n",
       "      <th>Low</th>\n",
       "      <th>Close</th>\n",
       "      <th>Volume</th>\n",
       "    </tr>\n",
       "  </thead>\n",
       "  <tbody>\n",
       "    <tr>\n",
       "      <th>1</th>\n",
       "      <td>12/20/2016</td>\n",
       "      <td>796.760010</td>\n",
       "      <td>798.650024</td>\n",
       "      <td>793.270020</td>\n",
       "      <td>796.419983</td>\n",
       "      <td>925100</td>\n",
       "    </tr>\n",
       "    <tr>\n",
       "      <th>3</th>\n",
       "      <td>12/22/2016</td>\n",
       "      <td>792.359985</td>\n",
       "      <td>793.320007</td>\n",
       "      <td>788.580017</td>\n",
       "      <td>791.260010</td>\n",
       "      <td>969100</td>\n",
       "    </tr>\n",
       "    <tr>\n",
       "      <th>5</th>\n",
       "      <td>12/27/2016</td>\n",
       "      <td>790.679993</td>\n",
       "      <td>797.859985</td>\n",
       "      <td>787.656982</td>\n",
       "      <td>791.549988</td>\n",
       "      <td>789100</td>\n",
       "    </tr>\n",
       "    <tr>\n",
       "      <th>7</th>\n",
       "      <td>12/29/2016</td>\n",
       "      <td>783.330017</td>\n",
       "      <td>785.929993</td>\n",
       "      <td>778.919983</td>\n",
       "      <td>782.789978</td>\n",
       "      <td>742200</td>\n",
       "    </tr>\n",
       "    <tr>\n",
       "      <th>9</th>\n",
       "      <td>1/3/2017</td>\n",
       "      <td>778.809998</td>\n",
       "      <td>789.630005</td>\n",
       "      <td>775.799988</td>\n",
       "      <td>786.140015</td>\n",
       "      <td>1643100</td>\n",
       "    </tr>\n",
       "    <tr>\n",
       "      <th>...</th>\n",
       "      <td>...</td>\n",
       "      <td>...</td>\n",
       "      <td>...</td>\n",
       "      <td>...</td>\n",
       "      <td>...</td>\n",
       "      <td>...</td>\n",
       "    </tr>\n",
       "    <tr>\n",
       "      <th>51</th>\n",
       "      <td>3/6/2017</td>\n",
       "      <td>826.950012</td>\n",
       "      <td>828.880005</td>\n",
       "      <td>822.400024</td>\n",
       "      <td>827.780029</td>\n",
       "      <td>1105800</td>\n",
       "    </tr>\n",
       "    <tr>\n",
       "      <th>53</th>\n",
       "      <td>3/8/2017</td>\n",
       "      <td>833.510010</td>\n",
       "      <td>838.150024</td>\n",
       "      <td>831.789978</td>\n",
       "      <td>835.369995</td>\n",
       "      <td>988700</td>\n",
       "    </tr>\n",
       "    <tr>\n",
       "      <th>55</th>\n",
       "      <td>3/10/2017</td>\n",
       "      <td>843.280029</td>\n",
       "      <td>844.909973</td>\n",
       "      <td>839.500000</td>\n",
       "      <td>843.250000</td>\n",
       "      <td>1701100</td>\n",
       "    </tr>\n",
       "    <tr>\n",
       "      <th>57</th>\n",
       "      <td>3/14/2017</td>\n",
       "      <td>843.640015</td>\n",
       "      <td>847.239990</td>\n",
       "      <td>840.799988</td>\n",
       "      <td>845.619995</td>\n",
       "      <td>779900</td>\n",
       "    </tr>\n",
       "    <tr>\n",
       "      <th>59</th>\n",
       "      <td>3/16/2017</td>\n",
       "      <td>849.030029</td>\n",
       "      <td>850.849976</td>\n",
       "      <td>846.130005</td>\n",
       "      <td>848.780029</td>\n",
       "      <td>970400</td>\n",
       "    </tr>\n",
       "  </tbody>\n",
       "</table>\n",
       "<p>30 rows × 6 columns</p>\n",
       "</div>"
      ],
      "text/plain": [
       "          Date        Open        High         Low       Close   Volume\n",
       "1   12/20/2016  796.760010  798.650024  793.270020  796.419983   925100\n",
       "3   12/22/2016  792.359985  793.320007  788.580017  791.260010   969100\n",
       "5   12/27/2016  790.679993  797.859985  787.656982  791.549988   789100\n",
       "7   12/29/2016  783.330017  785.929993  778.919983  782.789978   742200\n",
       "9     1/3/2017  778.809998  789.630005  775.799988  786.140015  1643100\n",
       "..         ...         ...         ...         ...         ...      ...\n",
       "51    3/6/2017  826.950012  828.880005  822.400024  827.780029  1105800\n",
       "53    3/8/2017  833.510010  838.150024  831.789978  835.369995   988700\n",
       "55   3/10/2017  843.280029  844.909973  839.500000  843.250000  1701100\n",
       "57   3/14/2017  843.640015  847.239990  840.799988  845.619995   779900\n",
       "59   3/16/2017  849.030029  850.849976  846.130005  848.780029   970400\n",
       "\n",
       "[30 rows x 6 columns]"
      ]
     },
     "execution_count": 50,
     "metadata": {},
     "output_type": "execute_result"
    }
   ],
   "source": [
    "#013일차-실습-7-해답-ver2\n",
    "df6 = df[df.index % 2 == 1]\n",
    "df6  "
   ]
  },
  {
   "cell_type": "markdown",
   "metadata": {},
   "source": [
    "013일차-실습-8\n",
    "------------------------------------------------------------------\n",
    "<문제>, <배경설명>, <요구사항>, <실행결과> 를 충족하는 실습을 수행하고 결과를 제출하세요.\n",
    "------------------------------------------------------------------\n",
    "<문제>\n",
    "df에 있는 자료 중에서 짝수의 행 중에서 High, Low 컬럼만을 출력하는 코드를 작성하세요.\n",
    "\n",
    "------------------------------------------------------------------\n",
    "<요구사항1>\n",
    "이전 강의에서 사용한 파일을 연속하여 실습하세요.\n",
    "\n",
    "------------------------------------------------------------------\n",
    "<요구사항2>\n",
    "df.iloc[2,4,6,, ... ,:] 과 같은 코드는 안됩니다.\n",
    "\n",
    "------------------------------------------------------------------\n",
    "<요구사항3>\n",
    " [ 2 : 4: 2] 과 같은 슬라이싱 문법을 사용하면 안됩니다. \n",
    " \n",
    "------------------------------------------------------------------\n",
    "<실행결과>\n",
    "\n",
    "High\tLow\n",
    "0\t797.659973\t786.270020\n",
    "2\t796.676025\t787.099976\n",
    "4\t792.739990\t787.280029\n",
    "6\t794.229980\t783.200012\n",
    "8\t782.780029\t770.409973\n",
    "...\t...\t...\n",
    "52\t833.409973\t826.520020\n",
    "54\t842.000000\t834.210022\n",
    "56\t848.684998\t843.250000\n",
    "58\t848.630005\t840.770020\n",
    "60\t853.400024\t847.109985\n",
    "31 rows × 2 columns\n",
    "\n",
    "\n",
    "------------------------------------------------------------------\n",
    "이상의 실습결과를 techmr@daum.net; ty@doublerock.io 메일로 전송하세요.\n",
    "메일제목은 '013일차-실습-8-완료' 라고 지정하세요."
   ]
  },
  {
   "cell_type": "code",
   "execution_count": 51,
   "metadata": {},
   "outputs": [
    {
     "data": {
      "text/html": [
       "<div>\n",
       "<style scoped>\n",
       "    .dataframe tbody tr th:only-of-type {\n",
       "        vertical-align: middle;\n",
       "    }\n",
       "\n",
       "    .dataframe tbody tr th {\n",
       "        vertical-align: top;\n",
       "    }\n",
       "\n",
       "    .dataframe thead th {\n",
       "        text-align: right;\n",
       "    }\n",
       "</style>\n",
       "<table border=\"1\" class=\"dataframe\">\n",
       "  <thead>\n",
       "    <tr style=\"text-align: right;\">\n",
       "      <th></th>\n",
       "      <th>High</th>\n",
       "      <th>Low</th>\n",
       "    </tr>\n",
       "  </thead>\n",
       "  <tbody>\n",
       "    <tr>\n",
       "      <th>0</th>\n",
       "      <td>797.659973</td>\n",
       "      <td>786.270020</td>\n",
       "    </tr>\n",
       "    <tr>\n",
       "      <th>2</th>\n",
       "      <td>796.676025</td>\n",
       "      <td>787.099976</td>\n",
       "    </tr>\n",
       "    <tr>\n",
       "      <th>4</th>\n",
       "      <td>792.739990</td>\n",
       "      <td>787.280029</td>\n",
       "    </tr>\n",
       "    <tr>\n",
       "      <th>6</th>\n",
       "      <td>794.229980</td>\n",
       "      <td>783.200012</td>\n",
       "    </tr>\n",
       "    <tr>\n",
       "      <th>8</th>\n",
       "      <td>782.780029</td>\n",
       "      <td>770.409973</td>\n",
       "    </tr>\n",
       "    <tr>\n",
       "      <th>...</th>\n",
       "      <td>...</td>\n",
       "      <td>...</td>\n",
       "    </tr>\n",
       "    <tr>\n",
       "      <th>52</th>\n",
       "      <td>833.409973</td>\n",
       "      <td>826.520020</td>\n",
       "    </tr>\n",
       "    <tr>\n",
       "      <th>54</th>\n",
       "      <td>842.000000</td>\n",
       "      <td>834.210022</td>\n",
       "    </tr>\n",
       "    <tr>\n",
       "      <th>56</th>\n",
       "      <td>848.684998</td>\n",
       "      <td>843.250000</td>\n",
       "    </tr>\n",
       "    <tr>\n",
       "      <th>58</th>\n",
       "      <td>848.630005</td>\n",
       "      <td>840.770020</td>\n",
       "    </tr>\n",
       "    <tr>\n",
       "      <th>60</th>\n",
       "      <td>853.400024</td>\n",
       "      <td>847.109985</td>\n",
       "    </tr>\n",
       "  </tbody>\n",
       "</table>\n",
       "<p>31 rows × 2 columns</p>\n",
       "</div>"
      ],
      "text/plain": [
       "          High         Low\n",
       "0   797.659973  786.270020\n",
       "2   796.676025  787.099976\n",
       "4   792.739990  787.280029\n",
       "6   794.229980  783.200012\n",
       "8   782.780029  770.409973\n",
       "..         ...         ...\n",
       "52  833.409973  826.520020\n",
       "54  842.000000  834.210022\n",
       "56  848.684998  843.250000\n",
       "58  848.630005  840.770020\n",
       "60  853.400024  847.109985\n",
       "\n",
       "[31 rows x 2 columns]"
      ]
     },
     "execution_count": 51,
     "metadata": {},
     "output_type": "execute_result"
    }
   ],
   "source": [
    "df[df.index % 2 == 0][['High', 'Low']]"
   ]
  },
  {
   "cell_type": "code",
   "execution_count": 52,
   "metadata": {},
   "outputs": [
    {
     "data": {
      "text/html": [
       "<div>\n",
       "<style scoped>\n",
       "    .dataframe tbody tr th:only-of-type {\n",
       "        vertical-align: middle;\n",
       "    }\n",
       "\n",
       "    .dataframe tbody tr th {\n",
       "        vertical-align: top;\n",
       "    }\n",
       "\n",
       "    .dataframe thead th {\n",
       "        text-align: right;\n",
       "    }\n",
       "</style>\n",
       "<table border=\"1\" class=\"dataframe\">\n",
       "  <thead>\n",
       "    <tr style=\"text-align: right;\">\n",
       "      <th></th>\n",
       "      <th>High</th>\n",
       "      <th>Low</th>\n",
       "    </tr>\n",
       "  </thead>\n",
       "  <tbody>\n",
       "    <tr>\n",
       "      <th>0</th>\n",
       "      <td>797.659973</td>\n",
       "      <td>786.270020</td>\n",
       "    </tr>\n",
       "    <tr>\n",
       "      <th>2</th>\n",
       "      <td>796.676025</td>\n",
       "      <td>787.099976</td>\n",
       "    </tr>\n",
       "    <tr>\n",
       "      <th>4</th>\n",
       "      <td>792.739990</td>\n",
       "      <td>787.280029</td>\n",
       "    </tr>\n",
       "    <tr>\n",
       "      <th>6</th>\n",
       "      <td>794.229980</td>\n",
       "      <td>783.200012</td>\n",
       "    </tr>\n",
       "    <tr>\n",
       "      <th>8</th>\n",
       "      <td>782.780029</td>\n",
       "      <td>770.409973</td>\n",
       "    </tr>\n",
       "    <tr>\n",
       "      <th>...</th>\n",
       "      <td>...</td>\n",
       "      <td>...</td>\n",
       "    </tr>\n",
       "    <tr>\n",
       "      <th>52</th>\n",
       "      <td>833.409973</td>\n",
       "      <td>826.520020</td>\n",
       "    </tr>\n",
       "    <tr>\n",
       "      <th>54</th>\n",
       "      <td>842.000000</td>\n",
       "      <td>834.210022</td>\n",
       "    </tr>\n",
       "    <tr>\n",
       "      <th>56</th>\n",
       "      <td>848.684998</td>\n",
       "      <td>843.250000</td>\n",
       "    </tr>\n",
       "    <tr>\n",
       "      <th>58</th>\n",
       "      <td>848.630005</td>\n",
       "      <td>840.770020</td>\n",
       "    </tr>\n",
       "    <tr>\n",
       "      <th>60</th>\n",
       "      <td>853.400024</td>\n",
       "      <td>847.109985</td>\n",
       "    </tr>\n",
       "  </tbody>\n",
       "</table>\n",
       "<p>31 rows × 2 columns</p>\n",
       "</div>"
      ],
      "text/plain": [
       "          High         Low\n",
       "0   797.659973  786.270020\n",
       "2   796.676025  787.099976\n",
       "4   792.739990  787.280029\n",
       "6   794.229980  783.200012\n",
       "8   782.780029  770.409973\n",
       "..         ...         ...\n",
       "52  833.409973  826.520020\n",
       "54  842.000000  834.210022\n",
       "56  848.684998  843.250000\n",
       "58  848.630005  840.770020\n",
       "60  853.400024  847.109985\n",
       "\n",
       "[31 rows x 2 columns]"
      ]
     },
     "execution_count": 52,
     "metadata": {},
     "output_type": "execute_result"
    }
   ],
   "source": [
    "df[0::2][['High', 'Low']]"
   ]
  },
  {
   "cell_type": "code",
   "execution_count": 53,
   "metadata": {},
   "outputs": [
    {
     "name": "stdout",
     "output_type": "stream",
     "text": [
      "          Date        Open        High         Low       Close   Volume\n",
      "0   12/19/2016  790.219971  797.659973  786.270020  794.200012  1225900\n",
      "1   12/20/2016  796.760010  798.650024  793.270020  796.419983   925100\n",
      "2   12/21/2016  795.840027  796.676025  787.099976  794.559998  1208700\n",
      "3   12/22/2016  792.359985  793.320007  788.580017  791.260010   969100\n",
      "4   12/23/2016  790.900024  792.739990  787.280029  789.909973   623400\n",
      "..         ...         ...         ...         ...         ...      ...\n",
      "56   3/13/2017  844.000000  848.684998  843.250000  845.539978  1149500\n",
      "57   3/14/2017  843.640015  847.239990  840.799988  845.619995   779900\n",
      "58   3/15/2017  847.590027  848.630005  840.770020  847.200012  1379600\n",
      "59   3/16/2017  849.030029  850.849976  846.130005  848.780029   970400\n",
      "60   3/17/2017  851.609985  853.400024  847.109985  852.119995  1712300\n",
      "\n",
      "[61 rows x 6 columns]\n"
     ]
    }
   ],
   "source": [
    "print(df)"
   ]
  },
  {
   "cell_type": "code",
   "execution_count": 54,
   "metadata": {},
   "outputs": [
    {
     "name": "stdout",
     "output_type": "stream",
     "text": [
      "12/19/2016\n"
     ]
    }
   ],
   "source": [
    "print(df.Date[0])"
   ]
  },
  {
   "cell_type": "code",
   "execution_count": null,
   "metadata": {},
   "outputs": [],
   "source": []
  },
  {
   "cell_type": "code",
   "execution_count": null,
   "metadata": {},
   "outputs": [],
   "source": []
  },
  {
   "cell_type": "code",
   "execution_count": null,
   "metadata": {},
   "outputs": [],
   "source": []
  },
  {
   "cell_type": "code",
   "execution_count": null,
   "metadata": {},
   "outputs": [],
   "source": []
  }
 ],
 "metadata": {
  "kernelspec": {
   "display_name": "Python 3",
   "language": "python",
   "name": "python3"
  },
  "language_info": {
   "codemirror_mode": {
    "name": "ipython",
    "version": 3
   },
   "file_extension": ".py",
   "mimetype": "text/x-python",
   "name": "python",
   "nbconvert_exporter": "python",
   "pygments_lexer": "ipython3",
   "version": "3.13.4"
  },
  "orig_nbformat": 4
 },
 "nbformat": 4,
 "nbformat_minor": 2
}
