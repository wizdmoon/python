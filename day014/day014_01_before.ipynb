{
 "cells": [
  {
   "cell_type": "code",
   "execution_count": 1,
   "metadata": {},
   "outputs": [],
   "source": [
    "import time\n",
    "from datetime import datetime, date\n",
    "import pandas as pd \n",
    "import numpy as np\n",
    "import matplotlib.pyplot as plt\n",
    "pd.set_option('display.notebook_repr_html',True)\n",
    "pd.set_option('display.max_column',7)\n",
    "pd.set_option('display.max_rows',10)\n",
    "pd.set_option('display.width',250)"
   ]
  },
  {
   "cell_type": "code",
   "execution_count": 2,
   "metadata": {},
   "outputs": [
    {
     "name": "stdout",
     "output_type": "stream",
     "text": [
      "DatetimeIndex(['2021-07-01', '2021-07-02', '2021-07-03', '2021-07-04', '2021-07-05', '2021-07-06'], dtype='datetime64[ns]', freq='D')\n",
      "<class 'pandas.core.indexes.datetimes.DatetimeIndex'>\n"
     ]
    }
   ],
   "source": [
    "dates = pd.date_range('2021-07-01','2021-07-06')\n",
    "print(dates)\n",
    "print(type(dates))"
   ]
  },
  {
   "cell_type": "code",
   "execution_count": 3,
   "metadata": {},
   "outputs": [
    {
     "name": "stdout",
     "output_type": "stream",
     "text": [
      "2021-07-01    80\n",
      "2021-07-02    82\n",
      "2021-07-03    85\n",
      "2021-07-04    90\n",
      "2021-07-05    83\n",
      "2021-07-06    87\n",
      "Freq: D, dtype: int64\n"
     ]
    }
   ],
   "source": [
    "temps1 = pd.Series([80,82,85,90,83,87], index=dates)\n",
    "print(temps1)"
   ]
  },
  {
   "cell_type": "code",
   "execution_count": 4,
   "metadata": {},
   "outputs": [
    {
     "name": "stdout",
     "output_type": "stream",
     "text": [
      "2021-07-01    70\n",
      "2021-07-02    75\n",
      "2021-07-03    69\n",
      "2021-07-04    83\n",
      "2021-07-05    79\n",
      "2021-07-06    77\n",
      "Freq: D, dtype: int64\n",
      "2021-07-01    10\n",
      "2021-07-02     7\n",
      "2021-07-03    16\n",
      "2021-07-04     7\n",
      "2021-07-05     4\n",
      "2021-07-06    10\n",
      "Freq: D, dtype: int64\n"
     ]
    }
   ],
   "source": [
    "temps2 = pd.Series([70,75,69,83,79,77], index=dates)\n",
    "print(temps2)\n",
    "temps_diff = temps1-temps2\n",
    "print(temps_diff)"
   ]
  },
  {
   "cell_type": "code",
   "execution_count": 5,
   "metadata": {},
   "outputs": [
    {
     "name": "stdout",
     "output_type": "stream",
     "text": [
      "9.0\n",
      "<class 'pandas.core.series.Series'>\n"
     ]
    }
   ],
   "source": [
    "print(temps_diff.mean())\n",
    "print(type(temps_diff))"
   ]
  },
  {
   "cell_type": "code",
   "execution_count": 6,
   "metadata": {},
   "outputs": [
    {
     "name": "stdout",
     "output_type": "stream",
     "text": [
      "            Missoula  Philadelphia\n",
      "2021-07-01        80            70\n",
      "2021-07-02        82            75\n",
      "2021-07-03        85            69\n",
      "2021-07-04        90            83\n",
      "2021-07-05        83            79\n",
      "2021-07-06        87            77\n"
     ]
    }
   ],
   "source": [
    "temps_df = pd.DataFrame({'Missoula':temps1, 'Philadelphia':temps2})\n",
    "print(temps_df)"
   ]
  },
  {
   "cell_type": "code",
   "execution_count": 7,
   "metadata": {},
   "outputs": [
    {
     "name": "stdout",
     "output_type": "stream",
     "text": [
      "2021-07-01    150\n",
      "2021-07-02    157\n",
      "2021-07-03    154\n",
      "2021-07-04    173\n",
      "2021-07-05    162\n",
      "2021-07-06    164\n",
      "Freq: D, dtype: int64\n",
      "2021-07-01    5600\n",
      "2021-07-02    6150\n",
      "2021-07-03    5865\n",
      "2021-07-04    7470\n",
      "2021-07-05    6557\n",
      "2021-07-06    6699\n",
      "Freq: D, dtype: int64\n",
      "2021-07-01    1.142857\n",
      "2021-07-02    1.093333\n",
      "2021-07-03    1.231884\n",
      "2021-07-04    1.084337\n",
      "2021-07-05    1.050633\n",
      "2021-07-06    1.129870\n",
      "Freq: D, dtype: float64\n"
     ]
    }
   ],
   "source": [
    "# 0##일차-실습-3-해답 \n",
    "\n",
    "temps_1 = temps1 + temps2\n",
    "temps_2 = temps1 * temps2\n",
    "temps_3 = temps1 / temps2\n",
    "#\n",
    "print(temps_1)\n",
    "print(temps_2)\n",
    "print(temps_3)"
   ]
  },
  {
   "cell_type": "code",
   "execution_count": 8,
   "metadata": {},
   "outputs": [
    {
     "name": "stdout",
     "output_type": "stream",
     "text": [
      "----------------------------------------\n",
      "temps3\n",
      "2021-07-01    75\n",
      "2021-07-02    77\n",
      "2021-07-03    67\n",
      "2021-07-04    82\n",
      "2021-07-05    77\n",
      "2021-07-06    85\n",
      "Freq: D, dtype: int64\n",
      "----------------------------------------\n",
      "temps_df2\n",
      "            Missoula  Philadelphia  temps3\n",
      "2021-07-01        80            70      75\n",
      "2021-07-02        82            75      77\n",
      "2021-07-03        85            69      67\n",
      "2021-07-04        90            83      82\n",
      "2021-07-05        83            79      77\n",
      "2021-07-06        87            77      85\n"
     ]
    }
   ],
   "source": [
    "# 0##일차-실습-4-해답 \n",
    "temps3 = pd.Series([75, 77, 67, 82, 77, 85],index=dates)\n",
    "print('-'*40)\n",
    "print('temps3')\n",
    "print(temps3)\n",
    "dic2 = {'Missoula': temps1,'Philadelphia': temps2,'temps3':temps3}  # 딕셔너리 dic2를 생성함 \n",
    "temps_df2 = pd.DataFrame(dic2) # 데이터프레임을 생성할 때 인수로 딕셔너리인 dic2를 사용함\n",
    "print('-'*40)\n",
    "print('temps_df2')\n",
    "print(temps_df2)"
   ]
  },
  {
   "cell_type": "code",
   "execution_count": 9,
   "metadata": {},
   "outputs": [
    {
     "name": "stdout",
     "output_type": "stream",
     "text": [
      "<<<<실습-1-해답-ver1>>>>\n",
      "            Missoula  Philadelphia  Seoul\n",
      "2021-07-01        80            70     75\n",
      "2021-07-02        82            75     77\n",
      "2021-07-03        85            69     67\n",
      "2021-07-04        90            83     82\n",
      "2021-07-05        83            79     77\n",
      "2021-07-06        87            77     85\n",
      "\n",
      "----------------------------------------\n",
      "Missoula \t평균기온 : 84.50\n",
      "Philadelphia \t평균기온 : 75.50\n",
      "Seoul \t \t평균기온 : 77.17\n"
     ]
    }
   ],
   "source": [
    "# 0##일차-실습-5-해답-ver1\n",
    "print('<<<<실습-1-해답-ver1>>>>')\n",
    "temps3 = pd.Series([75, 77, 67, 82, 77, 85], index=dates)\n",
    "temps_df2 = pd.DataFrame(\n",
    "        {\n",
    "        'Missoula': temps1,\n",
    "        'Philadelphia': temps2,\n",
    "        'Seoul': temps3,\n",
    "        }\n",
    ")\n",
    "print(temps_df2)\n",
    "print()\n",
    "print('-'*40)\n",
    "print('Missoula \\t평균기온 : {0:.2f}'.format(temps1.mean()))\n",
    "print('Philadelphia \\t평균기온 : {0:.2f}'.format(temps2.mean()))\n",
    "print('Seoul \\t \\t평균기온 : {0:.2f}'.format(temps3.mean()))"
   ]
  },
  {
   "cell_type": "code",
   "execution_count": 10,
   "metadata": {},
   "outputs": [
    {
     "name": "stdout",
     "output_type": "stream",
     "text": [
      "\n",
      "<<<<실습-1-해답-ver2>>>>\n",
      "            Missoula  Philadelphia  Seoul\n",
      "2021-07-01        80            70     75\n",
      "2021-07-02        82            75     77\n",
      "2021-07-03        85            69     67\n",
      "2021-07-04        90            83     82\n",
      "2021-07-05        83            79     77\n",
      "2021-07-06        87            77     85\n",
      "\n",
      "----------------------------------------\n",
      "Missoula \t평균기온 : 84.50\n",
      "Philadelphia \t평균기온 : 75.50\n",
      "Seoul \t\t평균기온 : 77.17\n"
     ]
    }
   ],
   "source": [
    "# 실습-5-해답-ver2\n",
    "temps3 = pd.Series([75, 77, 67, 82, 77, 85], index=dates)\n",
    "temps_df2 = pd.DataFrame(\n",
    "        {\n",
    "        'Missoula': temps1,\n",
    "        'Philadelphia': temps2,\n",
    "        'Seoul': temps3,\n",
    "        }\n",
    ")\n",
    "print()\n",
    "print('<<<<실습-1-해답-ver2>>>>')\n",
    "print(temps_df2)\n",
    "print()\n",
    "print('-'*40)\n",
    "#print(      round(temps_df2.mean(),2)      ) # 서비스 코드 주석을 풀어보세요\n",
    "#print('-'*40)\n",
    "#print(temps_df2.columns)  # 서비스 코드 주석을 풀어보세요-> 이후 하단의 소스코드와 비교하세요.\n",
    "print(temps_df2.columns.values[0] ,'\\t평균기온 : {0:.2f}'    .format(round(temps_df2.Missoula.mean(),2))     )\n",
    "print(temps_df2.columns.values[1] ,'\\t평균기온 : {0:.2f}'    .format(round(temps_df2.Philadelphia.mean(),2))      )\n",
    "print(temps_df2.columns.values[2] ,'\\t\\t평균기온 : {0:.2f}'    .format(round(temps_df2.Seoul.mean(),2))      )"
   ]
  },
  {
   "cell_type": "markdown",
   "metadata": {},
   "source": [
    "##### 이하는 13일차 학습내용입니다.\n",
    "##### 이하는 13일차 학습내용입니다.\n",
    "##### 이하는 13일차 학습내용입니다."
   ]
  },
  {
   "cell_type": "code",
   "execution_count": 11,
   "metadata": {},
   "outputs": [],
   "source": [
    "# Pandas DataFrame의 개념 \n",
    "## 판다스의 시리즈는 각 인덱스 레이블 당 한 개의 값(values)만 가진다.\n",
    "## 그러나 데이터 프레임을 사용하면 인덱스 한 개당 복수개의 값을 가질 수 있다 \n",
    "## 데이터 프레임은 인덱스 레이블을 기준으로 배열된 한 개 이상의 시리즈의 집합을 의미한다.\n",
    "## 각 시리즈는 데이터 프레임의 컬럼(열)이며 각각의 컬럼(열)은 자신만의 이름을 갖는다.\n",
    "# Pandas DataFrame의 특징 \n",
    "## 데이터 프레임은 데이터 베이스의 개념과 비슷하다.\n",
    "## 서로다른 유형의 데이터 컬럼을 한 개 이상 갖는다는 점과, 한 컬럼의 모든 데이터는 동일한 유형이라는 점이 비슷한 점이다.  "
   ]
  },
  {
   "cell_type": "code",
   "execution_count": 12,
   "metadata": {},
   "outputs": [
    {
     "data": {
      "text/html": [
       "<div>\n",
       "<style scoped>\n",
       "    .dataframe tbody tr th:only-of-type {\n",
       "        vertical-align: middle;\n",
       "    }\n",
       "\n",
       "    .dataframe tbody tr th {\n",
       "        vertical-align: top;\n",
       "    }\n",
       "\n",
       "    .dataframe thead th {\n",
       "        text-align: right;\n",
       "    }\n",
       "</style>\n",
       "<table border=\"1\" class=\"dataframe\">\n",
       "  <thead>\n",
       "    <tr style=\"text-align: right;\">\n",
       "      <th></th>\n",
       "      <th>Missoula</th>\n",
       "      <th>Philadelphia</th>\n",
       "    </tr>\n",
       "  </thead>\n",
       "  <tbody>\n",
       "    <tr>\n",
       "      <th>2021-07-01</th>\n",
       "      <td>80</td>\n",
       "      <td>70</td>\n",
       "    </tr>\n",
       "    <tr>\n",
       "      <th>2021-07-02</th>\n",
       "      <td>82</td>\n",
       "      <td>75</td>\n",
       "    </tr>\n",
       "    <tr>\n",
       "      <th>2021-07-03</th>\n",
       "      <td>85</td>\n",
       "      <td>69</td>\n",
       "    </tr>\n",
       "    <tr>\n",
       "      <th>2021-07-04</th>\n",
       "      <td>90</td>\n",
       "      <td>83</td>\n",
       "    </tr>\n",
       "    <tr>\n",
       "      <th>2021-07-05</th>\n",
       "      <td>83</td>\n",
       "      <td>79</td>\n",
       "    </tr>\n",
       "    <tr>\n",
       "      <th>2021-07-06</th>\n",
       "      <td>87</td>\n",
       "      <td>77</td>\n",
       "    </tr>\n",
       "  </tbody>\n",
       "</table>\n",
       "</div>"
      ],
      "text/plain": [
       "            Missoula  Philadelphia\n",
       "2021-07-01        80            70\n",
       "2021-07-02        82            75\n",
       "2021-07-03        85            69\n",
       "2021-07-04        90            83\n",
       "2021-07-05        83            79\n",
       "2021-07-06        87            77"
      ]
     },
     "execution_count": 12,
     "metadata": {},
     "output_type": "execute_result"
    }
   ],
   "source": [
    "## 아래는 두 개의 컬럼을 갖는 DataFrame 객체를 만드는 소스코드이다 \n",
    "## 각 컬럼은 기온을 나타내는 Series 객체이다\n",
    "temp_df = pd.DataFrame(   {'Missoula':temps1, 'Philadelphia':temps2}    )\n",
    "temps_df"
   ]
  },
  {
   "cell_type": "code",
   "execution_count": 13,
   "metadata": {},
   "outputs": [
    {
     "name": "stdout",
     "output_type": "stream",
     "text": [
      "2021-07-01    80\n",
      "2021-07-02    82\n",
      "2021-07-03    85\n",
      "2021-07-04    90\n",
      "2021-07-05    83\n",
      "2021-07-06    87\n",
      "Freq: D, Name: Missoula, dtype: int64\n",
      "<class 'pandas.core.frame.DataFrame'>\n",
      "<class 'pandas.core.series.Series'>\n",
      "<class 'pandas.core.series.Series'>\n",
      "<class 'pandas.core.series.Series'>\n"
     ]
    }
   ],
   "source": [
    "print(temps_df['Missoula']) # 데이터 프레임에서 특정한 컬럼을 참조하기\n",
    "print(type(temps_df))       # temps_df는 데이터프레임 형식임\n",
    "print(type(temps1))\n",
    "print(type(temps_df['Missoula']))\n",
    "aa = temps_df['Missoula']\n",
    "print(type(aa))"
   ]
  },
  {
   "cell_type": "code",
   "execution_count": 14,
   "metadata": {},
   "outputs": [
    {
     "name": "stdout",
     "output_type": "stream",
     "text": [
      "2021-07-01    80\n",
      "2021-07-02    82\n",
      "2021-07-03    85\n",
      "2021-07-04    90\n",
      "2021-07-05    83\n",
      "2021-07-06    87\n",
      "Freq: D, Name: Missoula, dtype: int64\n",
      "<class 'pandas.core.series.Series'>\n"
     ]
    }
   ],
   "source": [
    "bb = temps_df.Missoula # 데이터 프레임에 속해 있는 시리즈를 꺼내오는 새로운 문법임\n",
    "print(bb)                # 직전의 temps_df['Missoula'] 문법과 비교할것\n",
    "print(type(bb))"
   ]
  },
  {
   "cell_type": "code",
   "execution_count": 15,
   "metadata": {},
   "outputs": [
    {
     "data": {
      "text/plain": [
       "2021-07-01    70\n",
       "2021-07-02    75\n",
       "2021-07-03    69\n",
       "2021-07-04    83\n",
       "2021-07-05    79\n",
       "2021-07-06    77\n",
       "Freq: D, Name: Philadelphia, dtype: int64"
      ]
     },
     "execution_count": 15,
     "metadata": {},
     "output_type": "execute_result"
    }
   ],
   "source": [
    "temps_df['Philadelphia']"
   ]
  },
  {
   "cell_type": "code",
   "execution_count": 16,
   "metadata": {},
   "outputs": [
    {
     "data": {
      "text/plain": [
       "2021-07-01    70\n",
       "2021-07-02    75\n",
       "2021-07-03    69\n",
       "2021-07-04    83\n",
       "2021-07-05    79\n",
       "2021-07-06    77\n",
       "Freq: D, Name: Philadelphia, dtype: int64"
      ]
     },
     "execution_count": 16,
     "metadata": {},
     "output_type": "execute_result"
    }
   ],
   "source": [
    "temps_df.Philadelphia"
   ]
  },
  {
   "cell_type": "code",
   "execution_count": 17,
   "metadata": {},
   "outputs": [
    {
     "data": {
      "text/html": [
       "<div>\n",
       "<style scoped>\n",
       "    .dataframe tbody tr th:only-of-type {\n",
       "        vertical-align: middle;\n",
       "    }\n",
       "\n",
       "    .dataframe tbody tr th {\n",
       "        vertical-align: top;\n",
       "    }\n",
       "\n",
       "    .dataframe thead th {\n",
       "        text-align: right;\n",
       "    }\n",
       "</style>\n",
       "<table border=\"1\" class=\"dataframe\">\n",
       "  <thead>\n",
       "    <tr style=\"text-align: right;\">\n",
       "      <th></th>\n",
       "      <th>Philadelphia</th>\n",
       "      <th>Missoula</th>\n",
       "    </tr>\n",
       "  </thead>\n",
       "  <tbody>\n",
       "    <tr>\n",
       "      <th>2021-07-01</th>\n",
       "      <td>70</td>\n",
       "      <td>80</td>\n",
       "    </tr>\n",
       "    <tr>\n",
       "      <th>2021-07-02</th>\n",
       "      <td>75</td>\n",
       "      <td>82</td>\n",
       "    </tr>\n",
       "    <tr>\n",
       "      <th>2021-07-03</th>\n",
       "      <td>69</td>\n",
       "      <td>85</td>\n",
       "    </tr>\n",
       "    <tr>\n",
       "      <th>2021-07-04</th>\n",
       "      <td>83</td>\n",
       "      <td>90</td>\n",
       "    </tr>\n",
       "    <tr>\n",
       "      <th>2021-07-05</th>\n",
       "      <td>79</td>\n",
       "      <td>83</td>\n",
       "    </tr>\n",
       "    <tr>\n",
       "      <th>2021-07-06</th>\n",
       "      <td>77</td>\n",
       "      <td>87</td>\n",
       "    </tr>\n",
       "  </tbody>\n",
       "</table>\n",
       "</div>"
      ],
      "text/plain": [
       "            Philadelphia  Missoula\n",
       "2021-07-01            70        80\n",
       "2021-07-02            75        82\n",
       "2021-07-03            69        85\n",
       "2021-07-04            83        90\n",
       "2021-07-05            79        83\n",
       "2021-07-06            77        87"
      ]
     },
     "execution_count": 17,
     "metadata": {},
     "output_type": "execute_result"
    }
   ],
   "source": [
    "temps_df[['Philadelphia','Missoula']] # 두 개 이상의 컬럼(시리즈)을 한번에 가져올 때에는 대괄호를 중첩하여야 함"
   ]
  },
  {
   "cell_type": "code",
   "execution_count": 18,
   "metadata": {},
   "outputs": [
    {
     "name": "stdout",
     "output_type": "stream",
     "text": [
      "2021-07-01    10\n",
      "2021-07-02     7\n",
      "2021-07-03    16\n",
      "2021-07-04     7\n",
      "2021-07-05     4\n",
      "2021-07-06    10\n",
      "Freq: D, dtype: int64\n",
      "<class 'pandas.core.series.Series'>\n",
      "            Missoula  Philadelphia\n",
      "2021-07-01        80            70\n",
      "2021-07-02        82            75\n",
      "2021-07-03        85            69\n",
      "2021-07-04        90            83\n",
      "2021-07-05        83            79\n",
      "2021-07-06        87            77\n"
     ]
    }
   ],
   "source": [
    "temps_diff = temps_df.Missoula - temps_df.Philadelphia # 데이터 프레임에 속한 시리즈 간의 산술연산\n",
    "print(temps_diff)\n",
    "print(type(temps_diff))\n",
    "print(temps_df) # 6번 셀에서 생성되었음 "
   ]
  },
  {
   "cell_type": "code",
   "execution_count": 19,
   "metadata": {},
   "outputs": [
    {
     "name": "stdout",
     "output_type": "stream",
     "text": [
      "            Missoula  Philadelphia  Difference\n",
      "2021-07-01        80            70          10\n",
      "2021-07-02        82            75           7\n",
      "2021-07-03        85            69          16\n",
      "2021-07-04        90            83           7\n",
      "2021-07-05        83            79           4\n",
      "2021-07-06        87            77          10\n"
     ]
    }
   ],
   "source": [
    "temps_df['Difference'] = temps_diff # temps_df라는 데이터 프레임에 temps_diff의 시리즈를 한 개 추가함\n",
    "                                    # 그리고 df 안에서 추가한 시리즈의 레이블을 'Difference' 라고 정함 \n",
    "print(temps_df)"
   ]
  },
  {
   "cell_type": "markdown",
   "metadata": {},
   "source": [
    "## 강의-1 시작 "
   ]
  },
  {
   "cell_type": "code",
   "execution_count": 20,
   "metadata": {},
   "outputs": [
    {
     "name": "stdout",
     "output_type": "stream",
     "text": [
      "Index(['Missoula', 'Philadelphia', 'Difference'], dtype='object')\n",
      "['Missoula', 'Philadelphia', 'Difference']\n"
     ]
    }
   ],
   "source": [
    "print(temps_df.columns) # 데이터프레임의 컬럼명을 반환한다.\n",
    "print(list(temps_df.columns))"
   ]
  },
  {
   "cell_type": "code",
   "execution_count": 21,
   "metadata": {},
   "outputs": [
    {
     "name": "stdout",
     "output_type": "stream",
     "text": [
      "['Misu', 'Philadelphia', 'Difference']\n"
     ]
    }
   ],
   "source": [
    "# 컬럼명(시리즈 레이블명)변경 \n",
    "col_list = list(temps_df.columns)\n",
    "col_list[0] = 'Misu'\n",
    "temps_df.columns = col_list\n",
    "print(list(temps_df.columns))"
   ]
  },
  {
   "cell_type": "code",
   "execution_count": 22,
   "metadata": {},
   "outputs": [
    {
     "name": "stdout",
     "output_type": "stream",
     "text": [
      "2021-07-01    80\n",
      "2021-07-02    82\n",
      "2021-07-03    85\n",
      "2021-07-04    90\n",
      "2021-07-05    83\n",
      "2021-07-06    87\n",
      "Freq: D, Name: Misu, dtype: int64\n"
     ]
    }
   ],
   "source": [
    "print(temps_df.Misu)"
   ]
  },
  {
   "cell_type": "code",
   "execution_count": 23,
   "metadata": {},
   "outputs": [
    {
     "name": "stdout",
     "output_type": "stream",
     "text": [
      "2021-07-02    82\n",
      "2021-07-03    85\n",
      "2021-07-04    90\n",
      "Freq: D, Name: Misu, dtype: int64\n"
     ]
    }
   ],
   "source": [
    "# 시리즈 슬라이싱\n",
    "print(temps_df.Misu[1:4]) # [1:4]슬라이싱"
   ]
  },
  {
   "cell_type": "code",
   "execution_count": 24,
   "metadata": {},
   "outputs": [
    {
     "name": "stdout",
     "output_type": "stream",
     "text": [
      "2021-07-04    90\n",
      "2021-07-05    83\n",
      "2021-07-06    87\n",
      "Freq: D, Name: Misu, dtype: int64\n"
     ]
    }
   ],
   "source": [
    "print(temps_df.Misu[3:])  # [3:]슬라이싱"
   ]
  },
  {
   "cell_type": "markdown",
   "metadata": {},
   "source": [
    "#### 전체 컬럼에 있어서의 특정 로우 데이터를 보고 싶다면 \n",
    "\n",
    "#### <code>**.loc**</code>이나 <code>**.iloc**</code> 속성을 사용하면 된다. \n",
    "#### <code>**.loc**</code>는 인덱스 레이블을 사용해 검색하며, \n",
    "#### <code>**.iloc**</code>는 제로베이스 위치를 사용해 검색한다.\n",
    "\n",
    "#### 다음은 데이터 프레임 안의 모든 두 번째 로우를 가져오는 코드다."
   ]
  },
  {
   "cell_type": "code",
   "execution_count": 25,
   "metadata": {},
   "outputs": [
    {
     "name": "stdout",
     "output_type": "stream",
     "text": [
      "            Misu  Philadelphia  Difference\n",
      "2021-07-01    80            70          10\n",
      "2021-07-02    82            75           7\n",
      "2021-07-03    85            69          16\n",
      "2021-07-04    90            83           7\n",
      "2021-07-05    83            79           4\n",
      "2021-07-06    87            77          10\n",
      "----------------------------------------\n",
      "Misu            80\n",
      "Philadelphia    70\n",
      "Difference      10\n",
      "Name: 2021-07-01 00:00:00, dtype: int64\n"
     ]
    }
   ],
   "source": [
    "print(temps_df)\n",
    "print('-'*40)\n",
    "print(temps_df.iloc[0]) # 이 개념은 데이터 프레임에서 제일 첫 행을 참조하라는 뜻임"
   ]
  },
  {
   "cell_type": "code",
   "execution_count": 26,
   "metadata": {},
   "outputs": [
    {
     "name": "stdout",
     "output_type": "stream",
     "text": [
      "Index(['Misu', 'Philadelphia', 'Difference'], dtype='object')\n"
     ]
    }
   ],
   "source": [
    "print(temps_df.iloc[0].index)"
   ]
  },
  {
   "cell_type": "code",
   "execution_count": 27,
   "metadata": {},
   "outputs": [
    {
     "name": "stdout",
     "output_type": "stream",
     "text": [
      "Misu            87\n",
      "Philadelphia    77\n",
      "Difference      10\n",
      "Name: 2021-07-06 00:00:00, dtype: int64\n"
     ]
    }
   ],
   "source": [
    "print(temps_df.loc['2021-07-06'])"
   ]
  },
  {
   "cell_type": "code",
   "execution_count": 28,
   "metadata": {},
   "outputs": [
    {
     "name": "stdout",
     "output_type": "stream",
     "text": [
      "Misu            80\n",
      "Philadelphia    70\n",
      "Difference      10\n",
      "Name: 2021-07-01 00:00:00, dtype: int64\n"
     ]
    }
   ],
   "source": [
    "print(temps_df.loc['2021-07-01']) # 사용자 인덱스를 참조하는 loc명령은 존재하지 안을 떄 에러 발생함"
   ]
  },
  {
   "cell_type": "code",
   "execution_count": 29,
   "metadata": {},
   "outputs": [
    {
     "data": {
      "text/html": [
       "<div>\n",
       "<style scoped>\n",
       "    .dataframe tbody tr th:only-of-type {\n",
       "        vertical-align: middle;\n",
       "    }\n",
       "\n",
       "    .dataframe tbody tr th {\n",
       "        vertical-align: top;\n",
       "    }\n",
       "\n",
       "    .dataframe thead th {\n",
       "        text-align: right;\n",
       "    }\n",
       "</style>\n",
       "<table border=\"1\" class=\"dataframe\">\n",
       "  <thead>\n",
       "    <tr style=\"text-align: right;\">\n",
       "      <th></th>\n",
       "      <th>Missoula</th>\n",
       "      <th>Philadelphia</th>\n",
       "      <th>Difference</th>\n",
       "      <th>difference</th>\n",
       "      <th>Seoul</th>\n",
       "    </tr>\n",
       "  </thead>\n",
       "  <tbody>\n",
       "    <tr>\n",
       "      <th>2021-07-01</th>\n",
       "      <td>80</td>\n",
       "      <td>70</td>\n",
       "      <td>10</td>\n",
       "      <td>10</td>\n",
       "      <td>75</td>\n",
       "    </tr>\n",
       "    <tr>\n",
       "      <th>2021-07-02</th>\n",
       "      <td>82</td>\n",
       "      <td>75</td>\n",
       "      <td>7</td>\n",
       "      <td>7</td>\n",
       "      <td>77</td>\n",
       "    </tr>\n",
       "    <tr>\n",
       "      <th>2021-07-03</th>\n",
       "      <td>85</td>\n",
       "      <td>69</td>\n",
       "      <td>16</td>\n",
       "      <td>16</td>\n",
       "      <td>67</td>\n",
       "    </tr>\n",
       "    <tr>\n",
       "      <th>2021-07-04</th>\n",
       "      <td>90</td>\n",
       "      <td>83</td>\n",
       "      <td>7</td>\n",
       "      <td>7</td>\n",
       "      <td>82</td>\n",
       "    </tr>\n",
       "    <tr>\n",
       "      <th>2021-07-05</th>\n",
       "      <td>83</td>\n",
       "      <td>79</td>\n",
       "      <td>4</td>\n",
       "      <td>4</td>\n",
       "      <td>77</td>\n",
       "    </tr>\n",
       "    <tr>\n",
       "      <th>2021-07-06</th>\n",
       "      <td>87</td>\n",
       "      <td>77</td>\n",
       "      <td>10</td>\n",
       "      <td>10</td>\n",
       "      <td>85</td>\n",
       "    </tr>\n",
       "  </tbody>\n",
       "</table>\n",
       "</div>"
      ],
      "text/plain": [
       "            Missoula  Philadelphia  Difference  difference  Seoul\n",
       "2021-07-01        80            70          10          10     75\n",
       "2021-07-02        82            75           7           7     77\n",
       "2021-07-03        85            69          16          16     67\n",
       "2021-07-04        90            83           7           7     82\n",
       "2021-07-05        83            79           4           4     77\n",
       "2021-07-06        87            77          10          10     85"
      ]
     },
     "execution_count": 29,
     "metadata": {},
     "output_type": "execute_result"
    }
   ],
   "source": [
    "#013일차-실습-3해답\n",
    "# 컬럼명(시리즈 레이블명)변경 \n",
    "col_list = list(temps_df.columns)\n",
    "col_list[0] = 'Missoula'\n",
    "temps_df.columns = col_list\n",
    "#\n",
    "temps3 = pd.Series([75, 77, 67, 82, 77, 85], index=dates)\n",
    "temps_df['difference'] = temps1 -temps2\n",
    "temps_df['Seoul'] = temps3\n",
    "temps_df"
   ]
  },
  {
   "cell_type": "code",
   "execution_count": 30,
   "metadata": {},
   "outputs": [
    {
     "name": "stdout",
     "output_type": "stream",
     "text": [
      "----------------------------------------\n",
      "2021-07-04    82\n",
      "2021-07-05    77\n",
      "2021-07-06    85\n",
      "Freq: D, Name: Seoul, dtype: int64\n",
      "----------------------------------------\n",
      "2021-07-04    82\n",
      "2021-07-05    77\n",
      "2021-07-06    85\n",
      "Freq: D, Name: Seoul, dtype: int64\n",
      "----------------------------------------\n",
      "            Seoul\n",
      "2021-07-04     82\n",
      "2021-07-05     77\n",
      "2021-07-06     85\n",
      "----------------------------------------\n",
      "            Seoul\n",
      "2021-07-04     82\n",
      "2021-07-05     77\n",
      "2021-07-06     85\n"
     ]
    }
   ],
   "source": [
    "#013일차-실습-4-해답\n",
    "print('-'*40)\n",
    "print(temps_df.Seoul[-3:])\n",
    "print('-'*40)\n",
    "print(temps_df.Seoul[3:6])\n",
    "print('-'*40)\n",
    "print(temps_df[['Seoul']][3:])\n",
    "print('-'*40)\n",
    "print(temps_df.loc['20210704':'20210706',['Seoul']])"
   ]
  },
  {
   "cell_type": "code",
   "execution_count": 31,
   "metadata": {},
   "outputs": [
    {
     "name": "stdout",
     "output_type": "stream",
     "text": [
      "            Missoula  Philadelphia  Difference  difference  Seoul\n",
      "2021-07-04        90            83           7           7     82\n",
      "2021-07-06        87            77          10          10     85\n"
     ]
    }
   ],
   "source": [
    "#013일차-실습-5-해답-ver1-1\n",
    "print(temps_df[temps_df.Seoul >= 80])"
   ]
  },
  {
   "cell_type": "code",
   "execution_count": 32,
   "metadata": {},
   "outputs": [
    {
     "name": "stdout",
     "output_type": "stream",
     "text": [
      "2021-07-04    82\n",
      "2021-07-06    85\n",
      "Name: Seoul, dtype: int64\n"
     ]
    }
   ],
   "source": [
    "#013일차-실습-5-해답-ver1-2\n",
    "print(temps_df.Seoul[temps_df.Seoul >= 80])"
   ]
  },
  {
   "cell_type": "code",
   "execution_count": 33,
   "metadata": {},
   "outputs": [
    {
     "name": "stdout",
     "output_type": "stream",
     "text": [
      "2021-07-04    82\n",
      "2021-07-06    85\n",
      "Freq: 2D, Name: Seoul, dtype: int64\n"
     ]
    }
   ],
   "source": [
    "#013일차-실습-5-해답-ver1-3\n",
    "print(temps_df[temps_df.Seoul >= 80].Seoul)"
   ]
  },
  {
   "cell_type": "code",
   "execution_count": 34,
   "metadata": {},
   "outputs": [
    {
     "data": {
      "text/plain": [
       "2021-07-04    82\n",
       "2021-07-06    85\n",
       "Name: Seoul, dtype: int64"
      ]
     },
     "execution_count": 34,
     "metadata": {},
     "output_type": "execute_result"
    }
   ],
   "source": [
    "#013일차-실습-5-해답-ver2-2\n",
    "keys=[]\n",
    "for key, value in temps_df.Seoul.items():\n",
    "    if value > 80:\n",
    "        keys.append(key)\n",
    "\n",
    "temps_df.Seoul[keys]"
   ]
  },
  {
   "cell_type": "code",
   "execution_count": 35,
   "metadata": {},
   "outputs": [
    {
     "data": {
      "text/html": [
       "<div>\n",
       "<style scoped>\n",
       "    .dataframe tbody tr th:only-of-type {\n",
       "        vertical-align: middle;\n",
       "    }\n",
       "\n",
       "    .dataframe tbody tr th {\n",
       "        vertical-align: top;\n",
       "    }\n",
       "\n",
       "    .dataframe thead th {\n",
       "        text-align: right;\n",
       "    }\n",
       "</style>\n",
       "<table border=\"1\" class=\"dataframe\">\n",
       "  <thead>\n",
       "    <tr style=\"text-align: right;\">\n",
       "      <th></th>\n",
       "      <th>Missoula</th>\n",
       "      <th>Philadelphia</th>\n",
       "      <th>Difference</th>\n",
       "      <th>difference</th>\n",
       "      <th>Seoul</th>\n",
       "    </tr>\n",
       "  </thead>\n",
       "  <tbody>\n",
       "    <tr>\n",
       "      <th>2021-07-01</th>\n",
       "      <td>80</td>\n",
       "      <td>70</td>\n",
       "      <td>10</td>\n",
       "      <td>10</td>\n",
       "      <td>75</td>\n",
       "    </tr>\n",
       "    <tr>\n",
       "      <th>2021-07-02</th>\n",
       "      <td>82</td>\n",
       "      <td>75</td>\n",
       "      <td>7</td>\n",
       "      <td>7</td>\n",
       "      <td>77</td>\n",
       "    </tr>\n",
       "    <tr>\n",
       "      <th>2021-07-03</th>\n",
       "      <td>85</td>\n",
       "      <td>69</td>\n",
       "      <td>16</td>\n",
       "      <td>16</td>\n",
       "      <td>67</td>\n",
       "    </tr>\n",
       "    <tr>\n",
       "      <th>2021-07-04</th>\n",
       "      <td>90</td>\n",
       "      <td>83</td>\n",
       "      <td>7</td>\n",
       "      <td>7</td>\n",
       "      <td>82</td>\n",
       "    </tr>\n",
       "    <tr>\n",
       "      <th>2021-07-05</th>\n",
       "      <td>83</td>\n",
       "      <td>79</td>\n",
       "      <td>4</td>\n",
       "      <td>4</td>\n",
       "      <td>77</td>\n",
       "    </tr>\n",
       "    <tr>\n",
       "      <th>2021-07-06</th>\n",
       "      <td>87</td>\n",
       "      <td>77</td>\n",
       "      <td>10</td>\n",
       "      <td>10</td>\n",
       "      <td>85</td>\n",
       "    </tr>\n",
       "  </tbody>\n",
       "</table>\n",
       "</div>"
      ],
      "text/plain": [
       "            Missoula  Philadelphia  Difference  difference  Seoul\n",
       "2021-07-01        80            70          10          10     75\n",
       "2021-07-02        82            75           7           7     77\n",
       "2021-07-03        85            69          16          16     67\n",
       "2021-07-04        90            83           7           7     82\n",
       "2021-07-05        83            79           4           4     77\n",
       "2021-07-06        87            77          10          10     85"
      ]
     },
     "execution_count": 35,
     "metadata": {},
     "output_type": "execute_result"
    }
   ],
   "source": [
    "temps_df"
   ]
  },
  {
   "cell_type": "code",
   "execution_count": 36,
   "metadata": {},
   "outputs": [
    {
     "data": {
      "text/html": [
       "<div>\n",
       "<style scoped>\n",
       "    .dataframe tbody tr th:only-of-type {\n",
       "        vertical-align: middle;\n",
       "    }\n",
       "\n",
       "    .dataframe tbody tr th {\n",
       "        vertical-align: top;\n",
       "    }\n",
       "\n",
       "    .dataframe thead th {\n",
       "        text-align: right;\n",
       "    }\n",
       "</style>\n",
       "<table border=\"1\" class=\"dataframe\">\n",
       "  <thead>\n",
       "    <tr style=\"text-align: right;\">\n",
       "      <th></th>\n",
       "      <th>Misu</th>\n",
       "      <th>Phil</th>\n",
       "      <th>Diff</th>\n",
       "      <th>diff</th>\n",
       "      <th>Seou</th>\n",
       "    </tr>\n",
       "  </thead>\n",
       "  <tbody>\n",
       "    <tr>\n",
       "      <th>2021-07-01</th>\n",
       "      <td>80</td>\n",
       "      <td>70</td>\n",
       "      <td>10</td>\n",
       "      <td>10</td>\n",
       "      <td>75</td>\n",
       "    </tr>\n",
       "    <tr>\n",
       "      <th>2021-07-02</th>\n",
       "      <td>82</td>\n",
       "      <td>75</td>\n",
       "      <td>7</td>\n",
       "      <td>7</td>\n",
       "      <td>77</td>\n",
       "    </tr>\n",
       "    <tr>\n",
       "      <th>2021-07-03</th>\n",
       "      <td>85</td>\n",
       "      <td>69</td>\n",
       "      <td>16</td>\n",
       "      <td>16</td>\n",
       "      <td>67</td>\n",
       "    </tr>\n",
       "    <tr>\n",
       "      <th>2021-07-04</th>\n",
       "      <td>90</td>\n",
       "      <td>83</td>\n",
       "      <td>7</td>\n",
       "      <td>7</td>\n",
       "      <td>82</td>\n",
       "    </tr>\n",
       "    <tr>\n",
       "      <th>2021-07-05</th>\n",
       "      <td>83</td>\n",
       "      <td>79</td>\n",
       "      <td>4</td>\n",
       "      <td>4</td>\n",
       "      <td>77</td>\n",
       "    </tr>\n",
       "    <tr>\n",
       "      <th>2021-07-06</th>\n",
       "      <td>87</td>\n",
       "      <td>77</td>\n",
       "      <td>10</td>\n",
       "      <td>10</td>\n",
       "      <td>85</td>\n",
       "    </tr>\n",
       "  </tbody>\n",
       "</table>\n",
       "</div>"
      ],
      "text/plain": [
       "            Misu  Phil  Diff  diff  Seou\n",
       "2021-07-01    80    70    10    10    75\n",
       "2021-07-02    82    75     7     7    77\n",
       "2021-07-03    85    69    16    16    67\n",
       "2021-07-04    90    83     7     7    82\n",
       "2021-07-05    83    79     4     4    77\n",
       "2021-07-06    87    77    10    10    85"
      ]
     },
     "execution_count": 36,
     "metadata": {},
     "output_type": "execute_result"
    }
   ],
   "source": [
    "#013일차-실습-6-해답\n",
    "# 컬럼명(시리즈 레이블명)변경 \n",
    "col_list = list(temps_df.columns)\n",
    "col_list[0] = 'Misu'\n",
    "col_list[1] = 'Phil'\n",
    "col_list[2] = 'Diff'\n",
    "col_list[3] = 'diff'\n",
    "col_list[4] = 'Seou'\n",
    "temps_df.columns = col_list\n",
    "temps_df"
   ]
  },
  {
   "cell_type": "markdown",
   "metadata": {},
   "source": [
    "##### 013일차-강의-2-시작"
   ]
  },
  {
   "cell_type": "code",
   "execution_count": 37,
   "metadata": {},
   "outputs": [
    {
     "name": "stdout",
     "output_type": "stream",
     "text": [
      "            Misu  Phil  Diff  diff  Seou\n",
      "2021-07-02    82    75     7     7    77\n",
      "2021-07-04    90    83     7     7    82\n",
      "2021-07-06    87    77    10    10    85\n"
     ]
    }
   ],
   "source": [
    "print(temps_df.iloc[[1,3,5]]) # 복수의 아이템 조회시 대괄호 겹쳐쓰기 \n",
    "                    # temps_df 데이터프레임에서 1,3,5번 인덱스 번호를 가져옴"
   ]
  },
  {
   "cell_type": "code",
   "execution_count": 38,
   "metadata": {},
   "outputs": [
    {
     "name": "stdout",
     "output_type": "stream",
     "text": [
      "2021-07-02     7\n",
      "2021-07-04     7\n",
      "2021-07-06    10\n",
      "Freq: 2D, Name: Diff, dtype: int64\n"
     ]
    }
   ],
   "source": [
    "print(temps_df.iloc[[1, 3, 5]].Diff )# 복수의 아이템 조회시 대괄호 겹쳐쓰기 \n",
    "                                    # 이전의 결과에서 또다시 Diff 열에 해당하는 것만 가져옴"
   ]
  },
  {
   "cell_type": "code",
   "execution_count": 39,
   "metadata": {},
   "outputs": [
    {
     "name": "stdout",
     "output_type": "stream",
     "text": [
      "            Misu  Phil  Diff  diff  Seou\n",
      "2021-07-01    80    70    10    10    75\n",
      "2021-07-02    82    75     7     7    77\n",
      "2021-07-03    85    69    16    16    67\n",
      "2021-07-04    90    83     7     7    82\n",
      "2021-07-05    83    79     4     4    77\n",
      "2021-07-06    87    77    10    10    85\n",
      "2021-07-01    False\n",
      "2021-07-02    False\n",
      "2021-07-03     True\n",
      "2021-07-04     True\n",
      "2021-07-05     True\n",
      "2021-07-06     True\n",
      "Freq: D, Name: Misu, dtype: bool\n"
     ]
    }
   ],
   "source": [
    "print(temps_df)\n",
    "print(temps_df.Misu >82)"
   ]
  },
  {
   "cell_type": "code",
   "execution_count": null,
   "metadata": {},
   "outputs": [],
   "source": [
    " "
   ]
  },
  {
   "cell_type": "code",
   "execution_count": 40,
   "metadata": {},
   "outputs": [
    {
     "name": "stdout",
     "output_type": "stream",
     "text": [
      "            Misu  Phil  Diff  diff  Seou\n",
      "2021-07-01    80    70    10    10    75\n",
      "2021-07-02    82    75     7     7    77\n",
      "2021-07-03    85    69    16    16    67\n",
      "2021-07-04    90    83     7     7    82\n",
      "2021-07-05    83    79     4     4    77\n",
      "2021-07-06    87    77    10    10    85\n",
      "****************************************\n",
      "            Misu  Phil  Diff  diff  Seou\n",
      "2021-07-03    85    69    16    16    67\n",
      "2021-07-04    90    83     7     7    82\n",
      "2021-07-05    83    79     4     4    77\n",
      "2021-07-06    87    77    10    10    85\n"
     ]
    }
   ],
   "source": [
    "print(temps_df)\n",
    "print('*'*40)\n",
    "print(temps_df[temps_df.Misu > 82])"
   ]
  },
  {
   "cell_type": "markdown",
   "metadata": {},
   "source": [
    "이 기법을 pandas 용어로 **불리언 선택**(Bollean Selection) 이라고 하며,  \n",
    "특정 컬럼의 값에 조건을 걸어 로우를 선택하는 기본적인 방법이다.  \n",
    "마치 SQL에서의 <code>**WHERE**</code> 절과 같은 역할이다.  "
   ]
  },
  {
   "cell_type": "code",
   "execution_count": 41,
   "metadata": {},
   "outputs": [
    {
     "name": "stdout",
     "output_type": "stream",
     "text": [
      "Object `data/goog.csv` not found.\n"
     ]
    },
    {
     "name": "stdout",
     "output_type": "stream",
     "text": [
      "Date,Open,High,Low,Close,Volume\n",
      "\u001b[32m12\u001b[39m/\u001b[32m19\u001b[39m/\u001b[32m2016\u001b[39m,\u001b[32m790.219971\u001b[39m,\u001b[32m797.659973\u001b[39m,\u001b[32m786.27002\u001b[39m,\u001b[32m794.200012\u001b[39m,\u001b[32m1225900\u001b[39m\n",
      "\u001b[32m12\u001b[39m/\u001b[32m20\u001b[39m/\u001b[32m2016\u001b[39m,\u001b[32m796.76001\u001b[39m,\u001b[32m798.650024\u001b[39m,\u001b[32m793.27002\u001b[39m,\u001b[32m796.419983\u001b[39m,\u001b[32m925100\u001b[39m\n",
      "\u001b[32m12\u001b[39m/\u001b[32m21\u001b[39m/\u001b[32m2016\u001b[39m,\u001b[32m795.840027\u001b[39m,\u001b[32m796.676025\u001b[39m,\u001b[32m787.099976\u001b[39m,\u001b[32m794.559998\u001b[39m,\u001b[32m1208700\u001b[39m\n",
      "\u001b[32m12\u001b[39m/\u001b[32m22\u001b[39m/\u001b[32m2016\u001b[39m,\u001b[32m792.359985\u001b[39m,\u001b[32m793.320007\u001b[39m,\u001b[32m788.580017\u001b[39m,\u001b[32m791.26001\u001b[39m,\u001b[32m969100\u001b[39m\n",
      "\u001b[32m12\u001b[39m/\u001b[32m23\u001b[39m/\u001b[32m2016\u001b[39m,\u001b[32m790.900024\u001b[39m,\u001b[32m792.73999\u001b[39m,\u001b[32m787.280029\u001b[39m,\u001b[32m789.909973\u001b[39m,\u001b[32m623400\u001b[39m\n",
      "\u001b[32m12\u001b[39m/\u001b[32m27\u001b[39m/\u001b[32m2016\u001b[39m,\u001b[32m790.679993\u001b[39m,\u001b[32m797.859985\u001b[39m,\u001b[32m787.656982\u001b[39m,\u001b[32m791.549988\u001b[39m,\u001b[32m789100\u001b[39m\n",
      "\u001b[32m12\u001b[39m/\u001b[32m28\u001b[39m/\u001b[32m2016\u001b[39m,\u001b[32m793.700012\u001b[39m,\u001b[32m794.22998\u001b[39m,\u001b[32m783.200012\u001b[39m,\u001b[32m785.049988\u001b[39m,\u001b[32m1132700\u001b[39m\n",
      "\u001b[32m12\u001b[39m/\u001b[32m29\u001b[39m/\u001b[32m2016\u001b[39m,\u001b[32m783.330017\u001b[39m,\u001b[32m785.929993\u001b[39m,\u001b[32m778.919983\u001b[39m,\u001b[32m782.789978\u001b[39m,\u001b[32m742200\u001b[39m\n",
      "\u001b[32m12\u001b[39m/\u001b[32m30\u001b[39m/\u001b[32m2016\u001b[39m,\u001b[32m782.75\u001b[39m,\u001b[32m782.780029\u001b[39m,\u001b[32m770.409973\u001b[39m,\u001b[32m771.820007\u001b[39m,\u001b[32m1760200\u001b[39m\n",
      "\u001b[32m1\u001b[39m/\u001b[32m3\u001b[39m/\u001b[32m2017\u001b[39m,\u001b[32m778.809998\u001b[39m,\u001b[32m789.630005\u001b[39m,\u001b[32m775.799988\u001b[39m,\u001b[32m786.140015\u001b[39m,\u001b[32m1643100\u001b[39m\n",
      "\u001b[32m1\u001b[39m/\u001b[32m4\u001b[39m/\u001b[32m2017\u001b[39m,\u001b[32m788.359985\u001b[39m,\u001b[32m791.340027\u001b[39m,\u001b[32m783.159973\u001b[39m,\u001b[32m786.900024\u001b[39m,\u001b[32m1065400\u001b[39m\n",
      "\u001b[32m1\u001b[39m/\u001b[32m5\u001b[39m/\u001b[32m2017\u001b[39m,\u001b[32m786.080017\u001b[39m,\u001b[32m794.47998\u001b[39m,\u001b[32m785.02002\u001b[39m,\u001b[32m794.02002\u001b[39m,\u001b[32m1315400\u001b[39m\n",
      "\u001b[32m1\u001b[39m/\u001b[32m6\u001b[39m/\u001b[32m2017\u001b[39m,\u001b[32m795.26001\u001b[39m,\u001b[32m807.900024\u001b[39m,\u001b[32m792.203979\u001b[39m,\u001b[32m806.150024\u001b[39m,\u001b[32m1620500\u001b[39m\n",
      "\u001b[32m1\u001b[39m/\u001b[32m9\u001b[39m/\u001b[32m2017\u001b[39m,\u001b[32m806.400024\u001b[39m,\u001b[32m809.966003\u001b[39m,\u001b[32m802.830017\u001b[39m,\u001b[32m806.650024\u001b[39m,\u001b[32m1272400\u001b[39m\n",
      "\u001b[32m1\u001b[39m/\u001b[32m10\u001b[39m/\u001b[32m2017\u001b[39m,\u001b[32m807.859985\u001b[39m,\u001b[32m809.130005\u001b[39m,\u001b[32m803.51001\u001b[39m,\u001b[32m804.789978\u001b[39m,\u001b[32m1174300\u001b[39m\n",
      "\u001b[32m1\u001b[39m/\u001b[32m11\u001b[39m/\u001b[32m2017\u001b[39m,\u001b[32m805\u001b[39m,\u001b[32m808.150024\u001b[39m,\u001b[32m801.369995\u001b[39m,\u001b[32m807.909973\u001b[39m,\u001b[32m1057900\u001b[39m\n",
      "\u001b[32m1\u001b[39m/\u001b[32m12\u001b[39m/\u001b[32m2017\u001b[39m,\u001b[32m807.140015\u001b[39m,\u001b[32m807.390015\u001b[39m,\u001b[32m799.169983\u001b[39m,\u001b[32m806.359985\u001b[39m,\u001b[32m1351000\u001b[39m\n",
      "\u001b[32m1\u001b[39m/\u001b[32m13\u001b[39m/\u001b[32m2017\u001b[39m,\u001b[32m807.47998\u001b[39m,\u001b[32m811.223999\u001b[39m,\u001b[32m806.690002\u001b[39m,\u001b[32m807.880005\u001b[39m,\u001b[32m1090100\u001b[39m\n",
      "\u001b[32m1\u001b[39m/\u001b[32m17\u001b[39m/\u001b[32m2017\u001b[39m,\u001b[32m807.080017\u001b[39m,\u001b[32m807.140015\u001b[39m,\u001b[32m800.369995\u001b[39m,\u001b[32m804.609985\u001b[39m,\u001b[32m1355800\u001b[39m\n",
      "\u001b[32m1\u001b[39m/\u001b[32m18\u001b[39m/\u001b[32m2017\u001b[39m,\u001b[32m805.809998\u001b[39m,\u001b[32m806.205017\u001b[39m,\u001b[32m800.98999\u001b[39m,\u001b[32m806.070007\u001b[39m,\u001b[32m1293300\u001b[39m\n",
      "\u001b[32m1\u001b[39m/\u001b[32m19\u001b[39m/\u001b[32m2017\u001b[39m,\u001b[32m805.119995\u001b[39m,\u001b[32m809.47998\u001b[39m,\u001b[32m801.799988\u001b[39m,\u001b[32m802.174988\u001b[39m,\u001b[32m912000\u001b[39m\n",
      "\u001b[32m1\u001b[39m/\u001b[32m20\u001b[39m/\u001b[32m2017\u001b[39m,\u001b[32m806.909973\u001b[39m,\u001b[32m806.909973\u001b[39m,\u001b[32m801.690002\u001b[39m,\u001b[32m805.02002\u001b[39m,\u001b[32m1645000\u001b[39m\n",
      "\u001b[32m1\u001b[39m/\u001b[32m23\u001b[39m/\u001b[32m2017\u001b[39m,\u001b[32m807.25\u001b[39m,\u001b[32m820.869995\u001b[39m,\u001b[32m803.73999\u001b[39m,\u001b[32m819.309998\u001b[39m,\u001b[32m1901600\u001b[39m\n",
      "\u001b[32m1\u001b[39m/\u001b[32m24\u001b[39m/\u001b[32m2017\u001b[39m,\u001b[32m822.299988\u001b[39m,\u001b[32m825.900024\u001b[39m,\u001b[32m817.820984\u001b[39m,\u001b[32m823.869995\u001b[39m,\u001b[32m1461000\u001b[39m\n",
      "\u001b[32m1\u001b[39m/\u001b[32m25\u001b[39m/\u001b[32m2017\u001b[39m,\u001b[32m829.619995\u001b[39m,\u001b[32m835.77002\u001b[39m,\u001b[32m825.059998\u001b[39m,\u001b[32m835.669983\u001b[39m,\u001b[32m1494500\u001b[39m\n",
      "\u001b[32m1\u001b[39m/\u001b[32m26\u001b[39m/\u001b[32m2017\u001b[39m,\u001b[32m837.809998\u001b[39m,\u001b[32m838\u001b[39m,\u001b[32m827.01001\u001b[39m,\u001b[32m832.150024\u001b[39m,\u001b[32m2734400\u001b[39m\n",
      "\u001b[32m1\u001b[39m/\u001b[32m27\u001b[39m/\u001b[32m2017\u001b[39m,\u001b[32m834.710022\u001b[39m,\u001b[32m841.950012\u001b[39m,\u001b[32m820.440002\u001b[39m,\u001b[32m823.309998\u001b[39m,\u001b[32m2951800\u001b[39m\n",
      "\u001b[32m1\u001b[39m/\u001b[32m30\u001b[39m/\u001b[32m2017\u001b[39m,\u001b[32m814.659973\u001b[39m,\u001b[32m815.840027\u001b[39m,\u001b[32m799.799988\u001b[39m,\u001b[32m802.320007\u001b[39m,\u001b[32m3228900\u001b[39m\n",
      "\u001b[32m1\u001b[39m/\u001b[32m31\u001b[39m/\u001b[32m2017\u001b[39m,\u001b[32m796.859985\u001b[39m,\u001b[32m801.25\u001b[39m,\u001b[32m790.52002\u001b[39m,\u001b[32m796.789978\u001b[39m,\u001b[32m2143500\u001b[39m\n",
      "\u001b[32m2\u001b[39m/\u001b[32m1\u001b[39m/\u001b[32m2017\u001b[39m,\u001b[32m799.679993\u001b[39m,\u001b[32m801.190002\u001b[39m,\u001b[32m791.190002\u001b[39m,\u001b[32m795.695007\u001b[39m,\u001b[32m2023300\u001b[39m\n",
      "\u001b[32m2\u001b[39m/\u001b[32m2\u001b[39m/\u001b[32m2017\u001b[39m,\u001b[32m793.799988\u001b[39m,\u001b[32m802.700012\u001b[39m,\u001b[32m792\u001b[39m,\u001b[32m798.530029\u001b[39m,\u001b[32m1525800\u001b[39m\n",
      "\u001b[32m2\u001b[39m/\u001b[32m3\u001b[39m/\u001b[32m2017\u001b[39m,\u001b[32m802.98999\u001b[39m,\u001b[32m806\u001b[39m,\u001b[32m800.369995\u001b[39m,\u001b[32m801.48999\u001b[39m,\u001b[32m1460400\u001b[39m\n",
      "\u001b[32m2\u001b[39m/\u001b[32m6\u001b[39m/\u001b[32m2017\u001b[39m,\u001b[32m799.700012\u001b[39m,\u001b[32m801.669983\u001b[39m,\u001b[32m795.25\u001b[39m,\u001b[32m801.340027\u001b[39m,\u001b[32m1174200\u001b[39m\n",
      "\u001b[32m2\u001b[39m/\u001b[32m7\u001b[39m/\u001b[32m2017\u001b[39m,\u001b[32m803.98999\u001b[39m,\u001b[32m810.5\u001b[39m,\u001b[32m801.780029\u001b[39m,\u001b[32m806.969971\u001b[39m,\u001b[32m1235200\u001b[39m\n",
      "\u001b[32m2\u001b[39m/\u001b[32m8\u001b[39m/\u001b[32m2017\u001b[39m,\u001b[32m807\u001b[39m,\u001b[32m811.840027\u001b[39m,\u001b[32m803.190002\u001b[39m,\u001b[32m808.380005\u001b[39m,\u001b[32m1155300\u001b[39m\n",
      "\u001b[32m2\u001b[39m/\u001b[32m9\u001b[39m/\u001b[32m2017\u001b[39m,\u001b[32m809.51001\u001b[39m,\u001b[32m810.659973\u001b[39m,\u001b[32m804.539978\u001b[39m,\u001b[32m809.559998\u001b[39m,\u001b[32m989700\u001b[39m\n",
      "\u001b[32m2\u001b[39m/\u001b[32m10\u001b[39m/\u001b[32m2017\u001b[39m,\u001b[32m811.700012\u001b[39m,\u001b[32m815.25\u001b[39m,\u001b[32m809.780029\u001b[39m,\u001b[32m813.669983\u001b[39m,\u001b[32m1129100\u001b[39m\n",
      "\u001b[32m2\u001b[39m/\u001b[32m13\u001b[39m/\u001b[32m2017\u001b[39m,\u001b[32m816\u001b[39m,\u001b[32m820.958984\u001b[39m,\u001b[32m815.48999\u001b[39m,\u001b[32m819.23999\u001b[39m,\u001b[32m1198100\u001b[39m\n",
      "\u001b[32m2\u001b[39m/\u001b[32m14\u001b[39m/\u001b[32m2017\u001b[39m,\u001b[32m819\u001b[39m,\u001b[32m823\u001b[39m,\u001b[32m816\u001b[39m,\u001b[32m820.450012\u001b[39m,\u001b[32m1053600\u001b[39m\n",
      "\u001b[32m2\u001b[39m/\u001b[32m15\u001b[39m/\u001b[32m2017\u001b[39m,\u001b[32m819.359985\u001b[39m,\u001b[32m823\u001b[39m,\u001b[32m818.469971\u001b[39m,\u001b[32m818.97998\u001b[39m,\u001b[32m1304000\u001b[39m\n",
      "\u001b[32m2\u001b[39m/\u001b[32m16\u001b[39m/\u001b[32m2017\u001b[39m,\u001b[32m819.929993\u001b[39m,\u001b[32m824.400024\u001b[39m,\u001b[32m818.97998\u001b[39m,\u001b[32m824.159973\u001b[39m,\u001b[32m1281700\u001b[39m\n",
      "\u001b[32m2\u001b[39m/\u001b[32m17\u001b[39m/\u001b[32m2017\u001b[39m,\u001b[32m823.02002\u001b[39m,\u001b[32m828.070007\u001b[39m,\u001b[32m821.655029\u001b[39m,\u001b[32m828.070007\u001b[39m,\u001b[32m1597800\u001b[39m\n",
      "\u001b[32m2\u001b[39m/\u001b[32m21\u001b[39m/\u001b[32m2017\u001b[39m,\u001b[32m828.659973\u001b[39m,\u001b[32m833.450012\u001b[39m,\u001b[32m828.349976\u001b[39m,\u001b[32m831.659973\u001b[39m,\u001b[32m1247700\u001b[39m\n",
      "\u001b[32m2\u001b[39m/\u001b[32m22\u001b[39m/\u001b[32m2017\u001b[39m,\u001b[32m828.659973\u001b[39m,\u001b[32m833.25\u001b[39m,\u001b[32m828.640015\u001b[39m,\u001b[32m830.76001\u001b[39m,\u001b[32m982900\u001b[39m\n",
      "\u001b[32m2\u001b[39m/\u001b[32m23\u001b[39m/\u001b[32m2017\u001b[39m,\u001b[32m830.119995\u001b[39m,\u001b[32m832.460022\u001b[39m,\u001b[32m822.880005\u001b[39m,\u001b[32m831.330017\u001b[39m,\u001b[32m1470100\u001b[39m\n",
      "\u001b[32m2\u001b[39m/\u001b[32m24\u001b[39m/\u001b[32m2017\u001b[39m,\u001b[32m827.72998\u001b[39m,\u001b[32m829\u001b[39m,\u001b[32m824.200012\u001b[39m,\u001b[32m828.640015\u001b[39m,\u001b[32m1386600\u001b[39m\n",
      "\u001b[32m2\u001b[39m/\u001b[32m27\u001b[39m/\u001b[32m2017\u001b[39m,\u001b[32m824.549988\u001b[39m,\u001b[32m830.5\u001b[39m,\u001b[32m824\u001b[39m,\u001b[32m829.280029\u001b[39m,\u001b[32m1099500\u001b[39m\n",
      "\u001b[32m2\u001b[39m/\u001b[32m28\u001b[39m/\u001b[32m2017\u001b[39m,\u001b[32m825.609985\u001b[39m,\u001b[32m828.539978\u001b[39m,\u001b[32m820.200012\u001b[39m,\u001b[32m823.210022\u001b[39m,\u001b[32m2252300\u001b[39m\n",
      "\u001b[32m3\u001b[39m/\u001b[32m1\u001b[39m/\u001b[32m2017\u001b[39m,\u001b[32m828.849976\u001b[39m,\u001b[32m836.255005\u001b[39m,\u001b[32m827.26001\u001b[39m,\u001b[32m835.23999\u001b[39m,\u001b[32m1491400\u001b[39m\n",
      "\u001b[32m3\u001b[39m/\u001b[32m2\u001b[39m/\u001b[32m2017\u001b[39m,\u001b[32m833.849976\u001b[39m,\u001b[32m834.51001\u001b[39m,\u001b[32m829.640015\u001b[39m,\u001b[32m830.630005\u001b[39m,\u001b[32m937700\u001b[39m\n",
      "\u001b[32m3\u001b[39m/\u001b[32m3\u001b[39m/\u001b[32m2017\u001b[39m,\u001b[32m830.559998\u001b[39m,\u001b[32m831.359985\u001b[39m,\u001b[32m825.750977\u001b[39m,\u001b[32m829.080017\u001b[39m,\u001b[32m888900\u001b[39m\n",
      "\u001b[32m3\u001b[39m/\u001b[32m6\u001b[39m/\u001b[32m2017\u001b[39m,\u001b[32m826.950012\u001b[39m,\u001b[32m828.880005\u001b[39m,\u001b[32m822.400024\u001b[39m,\u001b[32m827.780029\u001b[39m,\u001b[32m1105800\u001b[39m\n",
      "\u001b[32m3\u001b[39m/\u001b[32m7\u001b[39m/\u001b[32m2017\u001b[39m,\u001b[32m827.400024\u001b[39m,\u001b[32m833.409973\u001b[39m,\u001b[32m826.52002\u001b[39m,\u001b[32m831.909973\u001b[39m,\u001b[32m1016600\u001b[39m\n",
      "\u001b[32m3\u001b[39m/\u001b[32m8\u001b[39m/\u001b[32m2017\u001b[39m,\u001b[32m833.51001\u001b[39m,\u001b[32m838.150024\u001b[39m,\u001b[32m831.789978\u001b[39m,\u001b[32m835.369995\u001b[39m,\u001b[32m988700\u001b[39m\n",
      "\u001b[32m3\u001b[39m/\u001b[32m9\u001b[39m/\u001b[32m2017\u001b[39m,\u001b[32m836\u001b[39m,\u001b[32m842\u001b[39m,\u001b[32m834.210022\u001b[39m,\u001b[32m838.679993\u001b[39m,\u001b[32m1259900\u001b[39m\n",
      "\u001b[32m3\u001b[39m/\u001b[32m10\u001b[39m/\u001b[32m2017\u001b[39m,\u001b[32m843.280029\u001b[39m,\u001b[32m844.909973\u001b[39m,\u001b[32m839.5\u001b[39m,\u001b[32m843.25\u001b[39m,\u001b[32m1701100\u001b[39m\n",
      "\u001b[32m3\u001b[39m/\u001b[32m13\u001b[39m/\u001b[32m2017\u001b[39m,\u001b[32m844\u001b[39m,\u001b[32m848.684998\u001b[39m,\u001b[32m843.25\u001b[39m,\u001b[32m845.539978\u001b[39m,\u001b[32m1149500\u001b[39m\n",
      "\u001b[32m3\u001b[39m/\u001b[32m14\u001b[39m/\u001b[32m2017\u001b[39m,\u001b[32m843.640015\u001b[39m,\u001b[32m847.23999\u001b[39m,\u001b[32m840.799988\u001b[39m,\u001b[32m845.619995\u001b[39m,\u001b[32m779900\u001b[39m\n",
      "\u001b[32m3\u001b[39m/\u001b[32m15\u001b[39m/\u001b[32m2017\u001b[39m,\u001b[32m847.590027\u001b[39m,\u001b[32m848.630005\u001b[39m,\u001b[32m840.77002\u001b[39m,\u001b[32m847.200012\u001b[39m,\u001b[32m1379600\u001b[39m\n",
      "\u001b[32m3\u001b[39m/\u001b[32m16\u001b[39m/\u001b[32m2017\u001b[39m,\u001b[32m849.030029\u001b[39m,\u001b[32m850.849976\u001b[39m,\u001b[32m846.130005\u001b[39m,\u001b[32m848.780029\u001b[39m,\u001b[32m970400\u001b[39m\n",
      "\u001b[32m3\u001b[39m/\u001b[32m17\u001b[39m/\u001b[32m2017\u001b[39m,\u001b[32m851.609985\u001b[39m,\u001b[32m853.400024\u001b[39m,\u001b[32m847.109985\u001b[39m,\u001b[32m852.119995\u001b[39m,\u001b[32m1712300\u001b[39m\n"
     ]
    }
   ],
   "source": [
    "%pfile data/goog.csv"
   ]
  },
  {
   "cell_type": "code",
   "execution_count": 42,
   "metadata": {},
   "outputs": [
    {
     "name": "stdout",
     "output_type": "stream",
     "text": [
      "<class 'pandas.core.frame.DataFrame'>\n"
     ]
    },
    {
     "data": {
      "text/html": [
       "<div>\n",
       "<style scoped>\n",
       "    .dataframe tbody tr th:only-of-type {\n",
       "        vertical-align: middle;\n",
       "    }\n",
       "\n",
       "    .dataframe tbody tr th {\n",
       "        vertical-align: top;\n",
       "    }\n",
       "\n",
       "    .dataframe thead th {\n",
       "        text-align: right;\n",
       "    }\n",
       "</style>\n",
       "<table border=\"1\" class=\"dataframe\">\n",
       "  <thead>\n",
       "    <tr style=\"text-align: right;\">\n",
       "      <th></th>\n",
       "      <th>Date</th>\n",
       "      <th>Open</th>\n",
       "      <th>High</th>\n",
       "      <th>Low</th>\n",
       "      <th>Close</th>\n",
       "      <th>Volume</th>\n",
       "    </tr>\n",
       "  </thead>\n",
       "  <tbody>\n",
       "    <tr>\n",
       "      <th>0</th>\n",
       "      <td>12/19/2016</td>\n",
       "      <td>790.219971</td>\n",
       "      <td>797.659973</td>\n",
       "      <td>786.270020</td>\n",
       "      <td>794.200012</td>\n",
       "      <td>1225900</td>\n",
       "    </tr>\n",
       "    <tr>\n",
       "      <th>1</th>\n",
       "      <td>12/20/2016</td>\n",
       "      <td>796.760010</td>\n",
       "      <td>798.650024</td>\n",
       "      <td>793.270020</td>\n",
       "      <td>796.419983</td>\n",
       "      <td>925100</td>\n",
       "    </tr>\n",
       "    <tr>\n",
       "      <th>2</th>\n",
       "      <td>12/21/2016</td>\n",
       "      <td>795.840027</td>\n",
       "      <td>796.676025</td>\n",
       "      <td>787.099976</td>\n",
       "      <td>794.559998</td>\n",
       "      <td>1208700</td>\n",
       "    </tr>\n",
       "    <tr>\n",
       "      <th>3</th>\n",
       "      <td>12/22/2016</td>\n",
       "      <td>792.359985</td>\n",
       "      <td>793.320007</td>\n",
       "      <td>788.580017</td>\n",
       "      <td>791.260010</td>\n",
       "      <td>969100</td>\n",
       "    </tr>\n",
       "    <tr>\n",
       "      <th>4</th>\n",
       "      <td>12/23/2016</td>\n",
       "      <td>790.900024</td>\n",
       "      <td>792.739990</td>\n",
       "      <td>787.280029</td>\n",
       "      <td>789.909973</td>\n",
       "      <td>623400</td>\n",
       "    </tr>\n",
       "    <tr>\n",
       "      <th>...</th>\n",
       "      <td>...</td>\n",
       "      <td>...</td>\n",
       "      <td>...</td>\n",
       "      <td>...</td>\n",
       "      <td>...</td>\n",
       "      <td>...</td>\n",
       "    </tr>\n",
       "    <tr>\n",
       "      <th>56</th>\n",
       "      <td>3/13/2017</td>\n",
       "      <td>844.000000</td>\n",
       "      <td>848.684998</td>\n",
       "      <td>843.250000</td>\n",
       "      <td>845.539978</td>\n",
       "      <td>1149500</td>\n",
       "    </tr>\n",
       "    <tr>\n",
       "      <th>57</th>\n",
       "      <td>3/14/2017</td>\n",
       "      <td>843.640015</td>\n",
       "      <td>847.239990</td>\n",
       "      <td>840.799988</td>\n",
       "      <td>845.619995</td>\n",
       "      <td>779900</td>\n",
       "    </tr>\n",
       "    <tr>\n",
       "      <th>58</th>\n",
       "      <td>3/15/2017</td>\n",
       "      <td>847.590027</td>\n",
       "      <td>848.630005</td>\n",
       "      <td>840.770020</td>\n",
       "      <td>847.200012</td>\n",
       "      <td>1379600</td>\n",
       "    </tr>\n",
       "    <tr>\n",
       "      <th>59</th>\n",
       "      <td>3/16/2017</td>\n",
       "      <td>849.030029</td>\n",
       "      <td>850.849976</td>\n",
       "      <td>846.130005</td>\n",
       "      <td>848.780029</td>\n",
       "      <td>970400</td>\n",
       "    </tr>\n",
       "    <tr>\n",
       "      <th>60</th>\n",
       "      <td>3/17/2017</td>\n",
       "      <td>851.609985</td>\n",
       "      <td>853.400024</td>\n",
       "      <td>847.109985</td>\n",
       "      <td>852.119995</td>\n",
       "      <td>1712300</td>\n",
       "    </tr>\n",
       "  </tbody>\n",
       "</table>\n",
       "<p>61 rows × 6 columns</p>\n",
       "</div>"
      ],
      "text/plain": [
       "          Date        Open        High         Low       Close   Volume\n",
       "0   12/19/2016  790.219971  797.659973  786.270020  794.200012  1225900\n",
       "1   12/20/2016  796.760010  798.650024  793.270020  796.419983   925100\n",
       "2   12/21/2016  795.840027  796.676025  787.099976  794.559998  1208700\n",
       "3   12/22/2016  792.359985  793.320007  788.580017  791.260010   969100\n",
       "4   12/23/2016  790.900024  792.739990  787.280029  789.909973   623400\n",
       "..         ...         ...         ...         ...         ...      ...\n",
       "56   3/13/2017  844.000000  848.684998  843.250000  845.539978  1149500\n",
       "57   3/14/2017  843.640015  847.239990  840.799988  845.619995   779900\n",
       "58   3/15/2017  847.590027  848.630005  840.770020  847.200012  1379600\n",
       "59   3/16/2017  849.030029  850.849976  846.130005  848.780029   970400\n",
       "60   3/17/2017  851.609985  853.400024  847.109985  852.119995  1712300\n",
       "\n",
       "[61 rows x 6 columns]"
      ]
     },
     "execution_count": 42,
     "metadata": {},
     "output_type": "execute_result"
    }
   ],
   "source": [
    "df = pd.read_csv('data/goog.csv')\n",
    "print(type(df))\n",
    "df"
   ]
  },
  {
   "cell_type": "code",
   "execution_count": 43,
   "metadata": {},
   "outputs": [
    {
     "data": {
      "text/plain": [
       "0     12/19/2016\n",
       "1     12/20/2016\n",
       "2     12/21/2016\n",
       "3     12/22/2016\n",
       "4     12/23/2016\n",
       "         ...    \n",
       "56     3/13/2017\n",
       "57     3/14/2017\n",
       "58     3/15/2017\n",
       "59     3/16/2017\n",
       "60     3/17/2017\n",
       "Name: Date, Length: 61, dtype: object"
      ]
     },
     "execution_count": 43,
     "metadata": {},
     "output_type": "execute_result"
    }
   ],
   "source": [
    "df.Date"
   ]
  },
  {
   "cell_type": "code",
   "execution_count": 44,
   "metadata": {},
   "outputs": [
    {
     "data": {
      "text/plain": [
       "0     790.219971\n",
       "1     796.760010\n",
       "2     795.840027\n",
       "3     792.359985\n",
       "4     790.900024\n",
       "         ...    \n",
       "56    844.000000\n",
       "57    843.640015\n",
       "58    847.590027\n",
       "59    849.030029\n",
       "60    851.609985\n",
       "Name: Open, Length: 61, dtype: float64"
      ]
     },
     "execution_count": 44,
     "metadata": {},
     "output_type": "execute_result"
    }
   ],
   "source": [
    "df.Open"
   ]
  },
  {
   "cell_type": "code",
   "execution_count": 45,
   "metadata": {},
   "outputs": [
    {
     "data": {
      "text/html": [
       "<div>\n",
       "<style scoped>\n",
       "    .dataframe tbody tr th:only-of-type {\n",
       "        vertical-align: middle;\n",
       "    }\n",
       "\n",
       "    .dataframe tbody tr th {\n",
       "        vertical-align: top;\n",
       "    }\n",
       "\n",
       "    .dataframe thead th {\n",
       "        text-align: right;\n",
       "    }\n",
       "</style>\n",
       "<table border=\"1\" class=\"dataframe\">\n",
       "  <thead>\n",
       "    <tr style=\"text-align: right;\">\n",
       "      <th></th>\n",
       "      <th>Date</th>\n",
       "      <th>Open</th>\n",
       "      <th>High</th>\n",
       "      <th>Low</th>\n",
       "      <th>Close</th>\n",
       "      <th>Volume</th>\n",
       "    </tr>\n",
       "  </thead>\n",
       "  <tbody>\n",
       "    <tr>\n",
       "      <th>0</th>\n",
       "      <td>12/19/2016</td>\n",
       "      <td>790.219971</td>\n",
       "      <td>797.659973</td>\n",
       "      <td>786.270020</td>\n",
       "      <td>794.200012</td>\n",
       "      <td>1225900</td>\n",
       "    </tr>\n",
       "    <tr>\n",
       "      <th>1</th>\n",
       "      <td>12/20/2016</td>\n",
       "      <td>796.760010</td>\n",
       "      <td>798.650024</td>\n",
       "      <td>793.270020</td>\n",
       "      <td>796.419983</td>\n",
       "      <td>925100</td>\n",
       "    </tr>\n",
       "    <tr>\n",
       "      <th>2</th>\n",
       "      <td>12/21/2016</td>\n",
       "      <td>795.840027</td>\n",
       "      <td>796.676025</td>\n",
       "      <td>787.099976</td>\n",
       "      <td>794.559998</td>\n",
       "      <td>1208700</td>\n",
       "    </tr>\n",
       "  </tbody>\n",
       "</table>\n",
       "</div>"
      ],
      "text/plain": [
       "         Date        Open        High         Low       Close   Volume\n",
       "0  12/19/2016  790.219971  797.659973  786.270020  794.200012  1225900\n",
       "1  12/20/2016  796.760010  798.650024  793.270020  796.419983   925100\n",
       "2  12/21/2016  795.840027  796.676025  787.099976  794.559998  1208700"
      ]
     },
     "execution_count": 45,
     "metadata": {},
     "output_type": "execute_result"
    }
   ],
   "source": [
    "df3 = df.iloc[0:3]\n",
    "df3"
   ]
  },
  {
   "cell_type": "code",
   "execution_count": 46,
   "metadata": {},
   "outputs": [
    {
     "data": {
      "text/html": [
       "<div>\n",
       "<style scoped>\n",
       "    .dataframe tbody tr th:only-of-type {\n",
       "        vertical-align: middle;\n",
       "    }\n",
       "\n",
       "    .dataframe tbody tr th {\n",
       "        vertical-align: top;\n",
       "    }\n",
       "\n",
       "    .dataframe thead th {\n",
       "        text-align: right;\n",
       "    }\n",
       "</style>\n",
       "<table border=\"1\" class=\"dataframe\">\n",
       "  <thead>\n",
       "    <tr style=\"text-align: right;\">\n",
       "      <th></th>\n",
       "      <th>Close</th>\n",
       "      <th>Volume</th>\n",
       "    </tr>\n",
       "  </thead>\n",
       "  <tbody>\n",
       "    <tr>\n",
       "      <th>0</th>\n",
       "      <td>794.200012</td>\n",
       "      <td>1225900</td>\n",
       "    </tr>\n",
       "    <tr>\n",
       "      <th>1</th>\n",
       "      <td>796.419983</td>\n",
       "      <td>925100</td>\n",
       "    </tr>\n",
       "    <tr>\n",
       "      <th>2</th>\n",
       "      <td>794.559998</td>\n",
       "      <td>1208700</td>\n",
       "    </tr>\n",
       "  </tbody>\n",
       "</table>\n",
       "</div>"
      ],
      "text/plain": [
       "        Close   Volume\n",
       "0  794.200012  1225900\n",
       "1  796.419983   925100\n",
       "2  794.559998  1208700"
      ]
     },
     "execution_count": 46,
     "metadata": {},
     "output_type": "execute_result"
    }
   ],
   "source": [
    "df3 = df.iloc[0:3,4:]\n",
    "df3"
   ]
  },
  {
   "cell_type": "code",
   "execution_count": 47,
   "metadata": {},
   "outputs": [
    {
     "data": {
      "text/html": [
       "<div>\n",
       "<style scoped>\n",
       "    .dataframe tbody tr th:only-of-type {\n",
       "        vertical-align: middle;\n",
       "    }\n",
       "\n",
       "    .dataframe tbody tr th {\n",
       "        vertical-align: top;\n",
       "    }\n",
       "\n",
       "    .dataframe thead th {\n",
       "        text-align: right;\n",
       "    }\n",
       "</style>\n",
       "<table border=\"1\" class=\"dataframe\">\n",
       "  <thead>\n",
       "    <tr style=\"text-align: right;\">\n",
       "      <th></th>\n",
       "      <th>Low</th>\n",
       "      <th>Close</th>\n",
       "    </tr>\n",
       "  </thead>\n",
       "  <tbody>\n",
       "    <tr>\n",
       "      <th>0</th>\n",
       "      <td>786.270020</td>\n",
       "      <td>794.200012</td>\n",
       "    </tr>\n",
       "    <tr>\n",
       "      <th>1</th>\n",
       "      <td>793.270020</td>\n",
       "      <td>796.419983</td>\n",
       "    </tr>\n",
       "    <tr>\n",
       "      <th>2</th>\n",
       "      <td>787.099976</td>\n",
       "      <td>794.559998</td>\n",
       "    </tr>\n",
       "  </tbody>\n",
       "</table>\n",
       "</div>"
      ],
      "text/plain": [
       "          Low       Close\n",
       "0  786.270020  794.200012\n",
       "1  793.270020  796.419983\n",
       "2  787.099976  794.559998"
      ]
     },
     "execution_count": 47,
     "metadata": {},
     "output_type": "execute_result"
    }
   ],
   "source": [
    "df4 = df.iloc[0:3,3:5]\n",
    "df4"
   ]
  },
  {
   "cell_type": "code",
   "execution_count": 48,
   "metadata": {},
   "outputs": [
    {
     "data": {
      "text/html": [
       "<div>\n",
       "<style scoped>\n",
       "    .dataframe tbody tr th:only-of-type {\n",
       "        vertical-align: middle;\n",
       "    }\n",
       "\n",
       "    .dataframe tbody tr th {\n",
       "        vertical-align: top;\n",
       "    }\n",
       "\n",
       "    .dataframe thead th {\n",
       "        text-align: right;\n",
       "    }\n",
       "</style>\n",
       "<table border=\"1\" class=\"dataframe\">\n",
       "  <thead>\n",
       "    <tr style=\"text-align: right;\">\n",
       "      <th></th>\n",
       "      <th>Date</th>\n",
       "      <th>Open</th>\n",
       "      <th>High</th>\n",
       "      <th>Low</th>\n",
       "      <th>Close</th>\n",
       "      <th>Volume</th>\n",
       "    </tr>\n",
       "  </thead>\n",
       "  <tbody>\n",
       "    <tr>\n",
       "      <th>1</th>\n",
       "      <td>12/20/2016</td>\n",
       "      <td>796.760010</td>\n",
       "      <td>798.650024</td>\n",
       "      <td>793.270020</td>\n",
       "      <td>796.419983</td>\n",
       "      <td>925100</td>\n",
       "    </tr>\n",
       "    <tr>\n",
       "      <th>3</th>\n",
       "      <td>12/22/2016</td>\n",
       "      <td>792.359985</td>\n",
       "      <td>793.320007</td>\n",
       "      <td>788.580017</td>\n",
       "      <td>791.260010</td>\n",
       "      <td>969100</td>\n",
       "    </tr>\n",
       "    <tr>\n",
       "      <th>5</th>\n",
       "      <td>12/27/2016</td>\n",
       "      <td>790.679993</td>\n",
       "      <td>797.859985</td>\n",
       "      <td>787.656982</td>\n",
       "      <td>791.549988</td>\n",
       "      <td>789100</td>\n",
       "    </tr>\n",
       "    <tr>\n",
       "      <th>7</th>\n",
       "      <td>12/29/2016</td>\n",
       "      <td>783.330017</td>\n",
       "      <td>785.929993</td>\n",
       "      <td>778.919983</td>\n",
       "      <td>782.789978</td>\n",
       "      <td>742200</td>\n",
       "    </tr>\n",
       "    <tr>\n",
       "      <th>9</th>\n",
       "      <td>1/3/2017</td>\n",
       "      <td>778.809998</td>\n",
       "      <td>789.630005</td>\n",
       "      <td>775.799988</td>\n",
       "      <td>786.140015</td>\n",
       "      <td>1643100</td>\n",
       "    </tr>\n",
       "    <tr>\n",
       "      <th>...</th>\n",
       "      <td>...</td>\n",
       "      <td>...</td>\n",
       "      <td>...</td>\n",
       "      <td>...</td>\n",
       "      <td>...</td>\n",
       "      <td>...</td>\n",
       "    </tr>\n",
       "    <tr>\n",
       "      <th>51</th>\n",
       "      <td>3/6/2017</td>\n",
       "      <td>826.950012</td>\n",
       "      <td>828.880005</td>\n",
       "      <td>822.400024</td>\n",
       "      <td>827.780029</td>\n",
       "      <td>1105800</td>\n",
       "    </tr>\n",
       "    <tr>\n",
       "      <th>53</th>\n",
       "      <td>3/8/2017</td>\n",
       "      <td>833.510010</td>\n",
       "      <td>838.150024</td>\n",
       "      <td>831.789978</td>\n",
       "      <td>835.369995</td>\n",
       "      <td>988700</td>\n",
       "    </tr>\n",
       "    <tr>\n",
       "      <th>55</th>\n",
       "      <td>3/10/2017</td>\n",
       "      <td>843.280029</td>\n",
       "      <td>844.909973</td>\n",
       "      <td>839.500000</td>\n",
       "      <td>843.250000</td>\n",
       "      <td>1701100</td>\n",
       "    </tr>\n",
       "    <tr>\n",
       "      <th>57</th>\n",
       "      <td>3/14/2017</td>\n",
       "      <td>843.640015</td>\n",
       "      <td>847.239990</td>\n",
       "      <td>840.799988</td>\n",
       "      <td>845.619995</td>\n",
       "      <td>779900</td>\n",
       "    </tr>\n",
       "    <tr>\n",
       "      <th>59</th>\n",
       "      <td>3/16/2017</td>\n",
       "      <td>849.030029</td>\n",
       "      <td>850.849976</td>\n",
       "      <td>846.130005</td>\n",
       "      <td>848.780029</td>\n",
       "      <td>970400</td>\n",
       "    </tr>\n",
       "  </tbody>\n",
       "</table>\n",
       "<p>30 rows × 6 columns</p>\n",
       "</div>"
      ],
      "text/plain": [
       "          Date        Open        High         Low       Close   Volume\n",
       "1   12/20/2016  796.760010  798.650024  793.270020  796.419983   925100\n",
       "3   12/22/2016  792.359985  793.320007  788.580017  791.260010   969100\n",
       "5   12/27/2016  790.679993  797.859985  787.656982  791.549988   789100\n",
       "7   12/29/2016  783.330017  785.929993  778.919983  782.789978   742200\n",
       "9     1/3/2017  778.809998  789.630005  775.799988  786.140015  1643100\n",
       "..         ...         ...         ...         ...         ...      ...\n",
       "51    3/6/2017  826.950012  828.880005  822.400024  827.780029  1105800\n",
       "53    3/8/2017  833.510010  838.150024  831.789978  835.369995   988700\n",
       "55   3/10/2017  843.280029  844.909973  839.500000  843.250000  1701100\n",
       "57   3/14/2017  843.640015  847.239990  840.799988  845.619995   779900\n",
       "59   3/16/2017  849.030029  850.849976  846.130005  848.780029   970400\n",
       "\n",
       "[30 rows x 6 columns]"
      ]
     },
     "execution_count": 48,
     "metadata": {},
     "output_type": "execute_result"
    }
   ],
   "source": [
    "df5 = df.iloc[1:61:2]\n",
    "df5"
   ]
  },
  {
   "cell_type": "code",
   "execution_count": 49,
   "metadata": {},
   "outputs": [
    {
     "data": {
      "text/html": [
       "<div>\n",
       "<style scoped>\n",
       "    .dataframe tbody tr th:only-of-type {\n",
       "        vertical-align: middle;\n",
       "    }\n",
       "\n",
       "    .dataframe tbody tr th {\n",
       "        vertical-align: top;\n",
       "    }\n",
       "\n",
       "    .dataframe thead th {\n",
       "        text-align: right;\n",
       "    }\n",
       "</style>\n",
       "<table border=\"1\" class=\"dataframe\">\n",
       "  <thead>\n",
       "    <tr style=\"text-align: right;\">\n",
       "      <th></th>\n",
       "      <th>Date</th>\n",
       "      <th>Open</th>\n",
       "      <th>High</th>\n",
       "      <th>Low</th>\n",
       "      <th>Close</th>\n",
       "      <th>Volume</th>\n",
       "    </tr>\n",
       "  </thead>\n",
       "  <tbody>\n",
       "    <tr>\n",
       "      <th>1</th>\n",
       "      <td>12/20/2016</td>\n",
       "      <td>796.760010</td>\n",
       "      <td>798.650024</td>\n",
       "      <td>793.270020</td>\n",
       "      <td>796.419983</td>\n",
       "      <td>925100</td>\n",
       "    </tr>\n",
       "    <tr>\n",
       "      <th>3</th>\n",
       "      <td>12/22/2016</td>\n",
       "      <td>792.359985</td>\n",
       "      <td>793.320007</td>\n",
       "      <td>788.580017</td>\n",
       "      <td>791.260010</td>\n",
       "      <td>969100</td>\n",
       "    </tr>\n",
       "    <tr>\n",
       "      <th>5</th>\n",
       "      <td>12/27/2016</td>\n",
       "      <td>790.679993</td>\n",
       "      <td>797.859985</td>\n",
       "      <td>787.656982</td>\n",
       "      <td>791.549988</td>\n",
       "      <td>789100</td>\n",
       "    </tr>\n",
       "    <tr>\n",
       "      <th>7</th>\n",
       "      <td>12/29/2016</td>\n",
       "      <td>783.330017</td>\n",
       "      <td>785.929993</td>\n",
       "      <td>778.919983</td>\n",
       "      <td>782.789978</td>\n",
       "      <td>742200</td>\n",
       "    </tr>\n",
       "    <tr>\n",
       "      <th>9</th>\n",
       "      <td>1/3/2017</td>\n",
       "      <td>778.809998</td>\n",
       "      <td>789.630005</td>\n",
       "      <td>775.799988</td>\n",
       "      <td>786.140015</td>\n",
       "      <td>1643100</td>\n",
       "    </tr>\n",
       "    <tr>\n",
       "      <th>...</th>\n",
       "      <td>...</td>\n",
       "      <td>...</td>\n",
       "      <td>...</td>\n",
       "      <td>...</td>\n",
       "      <td>...</td>\n",
       "      <td>...</td>\n",
       "    </tr>\n",
       "    <tr>\n",
       "      <th>51</th>\n",
       "      <td>3/6/2017</td>\n",
       "      <td>826.950012</td>\n",
       "      <td>828.880005</td>\n",
       "      <td>822.400024</td>\n",
       "      <td>827.780029</td>\n",
       "      <td>1105800</td>\n",
       "    </tr>\n",
       "    <tr>\n",
       "      <th>53</th>\n",
       "      <td>3/8/2017</td>\n",
       "      <td>833.510010</td>\n",
       "      <td>838.150024</td>\n",
       "      <td>831.789978</td>\n",
       "      <td>835.369995</td>\n",
       "      <td>988700</td>\n",
       "    </tr>\n",
       "    <tr>\n",
       "      <th>55</th>\n",
       "      <td>3/10/2017</td>\n",
       "      <td>843.280029</td>\n",
       "      <td>844.909973</td>\n",
       "      <td>839.500000</td>\n",
       "      <td>843.250000</td>\n",
       "      <td>1701100</td>\n",
       "    </tr>\n",
       "    <tr>\n",
       "      <th>57</th>\n",
       "      <td>3/14/2017</td>\n",
       "      <td>843.640015</td>\n",
       "      <td>847.239990</td>\n",
       "      <td>840.799988</td>\n",
       "      <td>845.619995</td>\n",
       "      <td>779900</td>\n",
       "    </tr>\n",
       "    <tr>\n",
       "      <th>59</th>\n",
       "      <td>3/16/2017</td>\n",
       "      <td>849.030029</td>\n",
       "      <td>850.849976</td>\n",
       "      <td>846.130005</td>\n",
       "      <td>848.780029</td>\n",
       "      <td>970400</td>\n",
       "    </tr>\n",
       "  </tbody>\n",
       "</table>\n",
       "<p>30 rows × 6 columns</p>\n",
       "</div>"
      ],
      "text/plain": [
       "          Date        Open        High         Low       Close   Volume\n",
       "1   12/20/2016  796.760010  798.650024  793.270020  796.419983   925100\n",
       "3   12/22/2016  792.359985  793.320007  788.580017  791.260010   969100\n",
       "5   12/27/2016  790.679993  797.859985  787.656982  791.549988   789100\n",
       "7   12/29/2016  783.330017  785.929993  778.919983  782.789978   742200\n",
       "9     1/3/2017  778.809998  789.630005  775.799988  786.140015  1643100\n",
       "..         ...         ...         ...         ...         ...      ...\n",
       "51    3/6/2017  826.950012  828.880005  822.400024  827.780029  1105800\n",
       "53    3/8/2017  833.510010  838.150024  831.789978  835.369995   988700\n",
       "55   3/10/2017  843.280029  844.909973  839.500000  843.250000  1701100\n",
       "57   3/14/2017  843.640015  847.239990  840.799988  845.619995   779900\n",
       "59   3/16/2017  849.030029  850.849976  846.130005  848.780029   970400\n",
       "\n",
       "[30 rows x 6 columns]"
      ]
     },
     "execution_count": 49,
     "metadata": {},
     "output_type": "execute_result"
    }
   ],
   "source": [
    "# 013일차-실습-7-해답-ver1\n",
    "df6 = df.iloc[1::2]\n",
    "df6"
   ]
  },
  {
   "cell_type": "code",
   "execution_count": 50,
   "metadata": {},
   "outputs": [
    {
     "data": {
      "text/html": [
       "<div>\n",
       "<style scoped>\n",
       "    .dataframe tbody tr th:only-of-type {\n",
       "        vertical-align: middle;\n",
       "    }\n",
       "\n",
       "    .dataframe tbody tr th {\n",
       "        vertical-align: top;\n",
       "    }\n",
       "\n",
       "    .dataframe thead th {\n",
       "        text-align: right;\n",
       "    }\n",
       "</style>\n",
       "<table border=\"1\" class=\"dataframe\">\n",
       "  <thead>\n",
       "    <tr style=\"text-align: right;\">\n",
       "      <th></th>\n",
       "      <th>Date</th>\n",
       "      <th>Open</th>\n",
       "      <th>High</th>\n",
       "      <th>Low</th>\n",
       "      <th>Close</th>\n",
       "      <th>Volume</th>\n",
       "    </tr>\n",
       "  </thead>\n",
       "  <tbody>\n",
       "    <tr>\n",
       "      <th>1</th>\n",
       "      <td>12/20/2016</td>\n",
       "      <td>796.760010</td>\n",
       "      <td>798.650024</td>\n",
       "      <td>793.270020</td>\n",
       "      <td>796.419983</td>\n",
       "      <td>925100</td>\n",
       "    </tr>\n",
       "    <tr>\n",
       "      <th>3</th>\n",
       "      <td>12/22/2016</td>\n",
       "      <td>792.359985</td>\n",
       "      <td>793.320007</td>\n",
       "      <td>788.580017</td>\n",
       "      <td>791.260010</td>\n",
       "      <td>969100</td>\n",
       "    </tr>\n",
       "    <tr>\n",
       "      <th>5</th>\n",
       "      <td>12/27/2016</td>\n",
       "      <td>790.679993</td>\n",
       "      <td>797.859985</td>\n",
       "      <td>787.656982</td>\n",
       "      <td>791.549988</td>\n",
       "      <td>789100</td>\n",
       "    </tr>\n",
       "    <tr>\n",
       "      <th>7</th>\n",
       "      <td>12/29/2016</td>\n",
       "      <td>783.330017</td>\n",
       "      <td>785.929993</td>\n",
       "      <td>778.919983</td>\n",
       "      <td>782.789978</td>\n",
       "      <td>742200</td>\n",
       "    </tr>\n",
       "    <tr>\n",
       "      <th>9</th>\n",
       "      <td>1/3/2017</td>\n",
       "      <td>778.809998</td>\n",
       "      <td>789.630005</td>\n",
       "      <td>775.799988</td>\n",
       "      <td>786.140015</td>\n",
       "      <td>1643100</td>\n",
       "    </tr>\n",
       "    <tr>\n",
       "      <th>...</th>\n",
       "      <td>...</td>\n",
       "      <td>...</td>\n",
       "      <td>...</td>\n",
       "      <td>...</td>\n",
       "      <td>...</td>\n",
       "      <td>...</td>\n",
       "    </tr>\n",
       "    <tr>\n",
       "      <th>51</th>\n",
       "      <td>3/6/2017</td>\n",
       "      <td>826.950012</td>\n",
       "      <td>828.880005</td>\n",
       "      <td>822.400024</td>\n",
       "      <td>827.780029</td>\n",
       "      <td>1105800</td>\n",
       "    </tr>\n",
       "    <tr>\n",
       "      <th>53</th>\n",
       "      <td>3/8/2017</td>\n",
       "      <td>833.510010</td>\n",
       "      <td>838.150024</td>\n",
       "      <td>831.789978</td>\n",
       "      <td>835.369995</td>\n",
       "      <td>988700</td>\n",
       "    </tr>\n",
       "    <tr>\n",
       "      <th>55</th>\n",
       "      <td>3/10/2017</td>\n",
       "      <td>843.280029</td>\n",
       "      <td>844.909973</td>\n",
       "      <td>839.500000</td>\n",
       "      <td>843.250000</td>\n",
       "      <td>1701100</td>\n",
       "    </tr>\n",
       "    <tr>\n",
       "      <th>57</th>\n",
       "      <td>3/14/2017</td>\n",
       "      <td>843.640015</td>\n",
       "      <td>847.239990</td>\n",
       "      <td>840.799988</td>\n",
       "      <td>845.619995</td>\n",
       "      <td>779900</td>\n",
       "    </tr>\n",
       "    <tr>\n",
       "      <th>59</th>\n",
       "      <td>3/16/2017</td>\n",
       "      <td>849.030029</td>\n",
       "      <td>850.849976</td>\n",
       "      <td>846.130005</td>\n",
       "      <td>848.780029</td>\n",
       "      <td>970400</td>\n",
       "    </tr>\n",
       "  </tbody>\n",
       "</table>\n",
       "<p>30 rows × 6 columns</p>\n",
       "</div>"
      ],
      "text/plain": [
       "          Date        Open        High         Low       Close   Volume\n",
       "1   12/20/2016  796.760010  798.650024  793.270020  796.419983   925100\n",
       "3   12/22/2016  792.359985  793.320007  788.580017  791.260010   969100\n",
       "5   12/27/2016  790.679993  797.859985  787.656982  791.549988   789100\n",
       "7   12/29/2016  783.330017  785.929993  778.919983  782.789978   742200\n",
       "9     1/3/2017  778.809998  789.630005  775.799988  786.140015  1643100\n",
       "..         ...         ...         ...         ...         ...      ...\n",
       "51    3/6/2017  826.950012  828.880005  822.400024  827.780029  1105800\n",
       "53    3/8/2017  833.510010  838.150024  831.789978  835.369995   988700\n",
       "55   3/10/2017  843.280029  844.909973  839.500000  843.250000  1701100\n",
       "57   3/14/2017  843.640015  847.239990  840.799988  845.619995   779900\n",
       "59   3/16/2017  849.030029  850.849976  846.130005  848.780029   970400\n",
       "\n",
       "[30 rows x 6 columns]"
      ]
     },
     "execution_count": 50,
     "metadata": {},
     "output_type": "execute_result"
    }
   ],
   "source": [
    "# 013일차-실습-7-해답-ver2\n",
    "df6 = df[df.index % 2 == 1] \n",
    "df6  "
   ]
  },
  {
   "cell_type": "markdown",
   "metadata": {},
   "source": [
    "013일차-실습-8\n",
    "------------------------------------------------------------------\n",
    "<문제>, <배경설명>, <요구사항>, <실행결과> 를 충족하는 실습을 수행하고 결과를 제출하세요.\n",
    "------------------------------------------------------------------\n",
    "<문제>\n",
    "df에 있는 자료 중에서 짝수의 행 중에서 High, Low 컬럼만을 출력하는 코드를 작성하세요.\n",
    "\n",
    "------------------------------------------------------------------\n",
    "<요구사항1>\n",
    "이전 강의에서 사용한 파일을 연속하여 실습하세요.\n",
    "\n",
    "------------------------------------------------------------------\n",
    "<요구사항2>\n",
    "df.iloc[2,4,6,, ... ,:] 과 같은 코드는 안됩니다.\n",
    "\n",
    "------------------------------------------------------------------\n",
    "<요구사항3>\n",
    " [ 2 : 4: 2] 과 같은 슬라이싱 문법을 사용하면 안됩니다. \n",
    " \n",
    "------------------------------------------------------------------\n",
    "<실행결과>\n",
    "\n",
    "High\tLow\n",
    "0\t797.659973\t786.270020\n",
    "2\t796.676025\t787.099976\n",
    "4\t792.739990\t787.280029\n",
    "6\t794.229980\t783.200012\n",
    "8\t782.780029\t770.409973\n",
    "...\t...\t...\n",
    "52\t833.409973\t826.520020\n",
    "54\t842.000000\t834.210022\n",
    "56\t848.684998\t843.250000\n",
    "58\t848.630005\t840.770020\n",
    "60\t853.400024\t847.109985\n",
    "31 rows × 2 columns\n",
    "\n",
    "\n",
    "------------------------------------------------------------------\n",
    "이상의 실습결과를 techmr@daum.net; ty@doublerock.io 메일로 전송하세요.\n",
    "메일제목은 '013일차-실습-8-완료' 라고 지정하세요.\n"
   ]
  },
  {
   "cell_type": "code",
   "execution_count": 51,
   "metadata": {},
   "outputs": [
    {
     "data": {
      "text/html": [
       "<div>\n",
       "<style scoped>\n",
       "    .dataframe tbody tr th:only-of-type {\n",
       "        vertical-align: middle;\n",
       "    }\n",
       "\n",
       "    .dataframe tbody tr th {\n",
       "        vertical-align: top;\n",
       "    }\n",
       "\n",
       "    .dataframe thead th {\n",
       "        text-align: right;\n",
       "    }\n",
       "</style>\n",
       "<table border=\"1\" class=\"dataframe\">\n",
       "  <thead>\n",
       "    <tr style=\"text-align: right;\">\n",
       "      <th></th>\n",
       "      <th>High</th>\n",
       "      <th>Low</th>\n",
       "    </tr>\n",
       "  </thead>\n",
       "  <tbody>\n",
       "    <tr>\n",
       "      <th>0</th>\n",
       "      <td>797.659973</td>\n",
       "      <td>786.270020</td>\n",
       "    </tr>\n",
       "    <tr>\n",
       "      <th>2</th>\n",
       "      <td>796.676025</td>\n",
       "      <td>787.099976</td>\n",
       "    </tr>\n",
       "    <tr>\n",
       "      <th>4</th>\n",
       "      <td>792.739990</td>\n",
       "      <td>787.280029</td>\n",
       "    </tr>\n",
       "    <tr>\n",
       "      <th>6</th>\n",
       "      <td>794.229980</td>\n",
       "      <td>783.200012</td>\n",
       "    </tr>\n",
       "    <tr>\n",
       "      <th>8</th>\n",
       "      <td>782.780029</td>\n",
       "      <td>770.409973</td>\n",
       "    </tr>\n",
       "    <tr>\n",
       "      <th>...</th>\n",
       "      <td>...</td>\n",
       "      <td>...</td>\n",
       "    </tr>\n",
       "    <tr>\n",
       "      <th>52</th>\n",
       "      <td>833.409973</td>\n",
       "      <td>826.520020</td>\n",
       "    </tr>\n",
       "    <tr>\n",
       "      <th>54</th>\n",
       "      <td>842.000000</td>\n",
       "      <td>834.210022</td>\n",
       "    </tr>\n",
       "    <tr>\n",
       "      <th>56</th>\n",
       "      <td>848.684998</td>\n",
       "      <td>843.250000</td>\n",
       "    </tr>\n",
       "    <tr>\n",
       "      <th>58</th>\n",
       "      <td>848.630005</td>\n",
       "      <td>840.770020</td>\n",
       "    </tr>\n",
       "    <tr>\n",
       "      <th>60</th>\n",
       "      <td>853.400024</td>\n",
       "      <td>847.109985</td>\n",
       "    </tr>\n",
       "  </tbody>\n",
       "</table>\n",
       "<p>31 rows × 2 columns</p>\n",
       "</div>"
      ],
      "text/plain": [
       "          High         Low\n",
       "0   797.659973  786.270020\n",
       "2   796.676025  787.099976\n",
       "4   792.739990  787.280029\n",
       "6   794.229980  783.200012\n",
       "8   782.780029  770.409973\n",
       "..         ...         ...\n",
       "52  833.409973  826.520020\n",
       "54  842.000000  834.210022\n",
       "56  848.684998  843.250000\n",
       "58  848.630005  840.770020\n",
       "60  853.400024  847.109985\n",
       "\n",
       "[31 rows x 2 columns]"
      ]
     },
     "execution_count": 51,
     "metadata": {},
     "output_type": "execute_result"
    }
   ],
   "source": [
    "#013일차-실습-8-해답-ver1\n",
    "df21 = df.iloc[list(range(0,61,2)) ,2:4]\n",
    "df21\n"
   ]
  },
  {
   "cell_type": "code",
   "execution_count": 52,
   "metadata": {},
   "outputs": [
    {
     "data": {
      "text/html": [
       "<div>\n",
       "<style scoped>\n",
       "    .dataframe tbody tr th:only-of-type {\n",
       "        vertical-align: middle;\n",
       "    }\n",
       "\n",
       "    .dataframe tbody tr th {\n",
       "        vertical-align: top;\n",
       "    }\n",
       "\n",
       "    .dataframe thead th {\n",
       "        text-align: right;\n",
       "    }\n",
       "</style>\n",
       "<table border=\"1\" class=\"dataframe\">\n",
       "  <thead>\n",
       "    <tr style=\"text-align: right;\">\n",
       "      <th></th>\n",
       "      <th>High</th>\n",
       "      <th>Low</th>\n",
       "    </tr>\n",
       "  </thead>\n",
       "  <tbody>\n",
       "    <tr>\n",
       "      <th>0</th>\n",
       "      <td>797.659973</td>\n",
       "      <td>786.270020</td>\n",
       "    </tr>\n",
       "    <tr>\n",
       "      <th>2</th>\n",
       "      <td>796.676025</td>\n",
       "      <td>787.099976</td>\n",
       "    </tr>\n",
       "    <tr>\n",
       "      <th>4</th>\n",
       "      <td>792.739990</td>\n",
       "      <td>787.280029</td>\n",
       "    </tr>\n",
       "    <tr>\n",
       "      <th>6</th>\n",
       "      <td>794.229980</td>\n",
       "      <td>783.200012</td>\n",
       "    </tr>\n",
       "    <tr>\n",
       "      <th>8</th>\n",
       "      <td>782.780029</td>\n",
       "      <td>770.409973</td>\n",
       "    </tr>\n",
       "    <tr>\n",
       "      <th>...</th>\n",
       "      <td>...</td>\n",
       "      <td>...</td>\n",
       "    </tr>\n",
       "    <tr>\n",
       "      <th>52</th>\n",
       "      <td>833.409973</td>\n",
       "      <td>826.520020</td>\n",
       "    </tr>\n",
       "    <tr>\n",
       "      <th>54</th>\n",
       "      <td>842.000000</td>\n",
       "      <td>834.210022</td>\n",
       "    </tr>\n",
       "    <tr>\n",
       "      <th>56</th>\n",
       "      <td>848.684998</td>\n",
       "      <td>843.250000</td>\n",
       "    </tr>\n",
       "    <tr>\n",
       "      <th>58</th>\n",
       "      <td>848.630005</td>\n",
       "      <td>840.770020</td>\n",
       "    </tr>\n",
       "    <tr>\n",
       "      <th>60</th>\n",
       "      <td>853.400024</td>\n",
       "      <td>847.109985</td>\n",
       "    </tr>\n",
       "  </tbody>\n",
       "</table>\n",
       "<p>31 rows × 2 columns</p>\n",
       "</div>"
      ],
      "text/plain": [
       "          High         Low\n",
       "0   797.659973  786.270020\n",
       "2   796.676025  787.099976\n",
       "4   792.739990  787.280029\n",
       "6   794.229980  783.200012\n",
       "8   782.780029  770.409973\n",
       "..         ...         ...\n",
       "52  833.409973  826.520020\n",
       "54  842.000000  834.210022\n",
       "56  848.684998  843.250000\n",
       "58  848.630005  840.770020\n",
       "60  853.400024  847.109985\n",
       "\n",
       "[31 rows x 2 columns]"
      ]
     },
     "execution_count": 52,
     "metadata": {},
     "output_type": "execute_result"
    }
   ],
   "source": [
    "#013일차-실습-8-해답-ver2\n",
    "df22 = df.iloc[  [i for i in range (0,61,2)], 2:4]\n",
    "df22"
   ]
  },
  {
   "cell_type": "code",
   "execution_count": 53,
   "metadata": {},
   "outputs": [
    {
     "data": {
      "text/html": [
       "<div>\n",
       "<style scoped>\n",
       "    .dataframe tbody tr th:only-of-type {\n",
       "        vertical-align: middle;\n",
       "    }\n",
       "\n",
       "    .dataframe tbody tr th {\n",
       "        vertical-align: top;\n",
       "    }\n",
       "\n",
       "    .dataframe thead th {\n",
       "        text-align: right;\n",
       "    }\n",
       "</style>\n",
       "<table border=\"1\" class=\"dataframe\">\n",
       "  <thead>\n",
       "    <tr style=\"text-align: right;\">\n",
       "      <th></th>\n",
       "      <th>High</th>\n",
       "      <th>Low</th>\n",
       "    </tr>\n",
       "  </thead>\n",
       "  <tbody>\n",
       "    <tr>\n",
       "      <th>0</th>\n",
       "      <td>797.659973</td>\n",
       "      <td>786.270020</td>\n",
       "    </tr>\n",
       "    <tr>\n",
       "      <th>2</th>\n",
       "      <td>796.676025</td>\n",
       "      <td>787.099976</td>\n",
       "    </tr>\n",
       "    <tr>\n",
       "      <th>4</th>\n",
       "      <td>792.739990</td>\n",
       "      <td>787.280029</td>\n",
       "    </tr>\n",
       "    <tr>\n",
       "      <th>6</th>\n",
       "      <td>794.229980</td>\n",
       "      <td>783.200012</td>\n",
       "    </tr>\n",
       "    <tr>\n",
       "      <th>8</th>\n",
       "      <td>782.780029</td>\n",
       "      <td>770.409973</td>\n",
       "    </tr>\n",
       "    <tr>\n",
       "      <th>...</th>\n",
       "      <td>...</td>\n",
       "      <td>...</td>\n",
       "    </tr>\n",
       "    <tr>\n",
       "      <th>52</th>\n",
       "      <td>833.409973</td>\n",
       "      <td>826.520020</td>\n",
       "    </tr>\n",
       "    <tr>\n",
       "      <th>54</th>\n",
       "      <td>842.000000</td>\n",
       "      <td>834.210022</td>\n",
       "    </tr>\n",
       "    <tr>\n",
       "      <th>56</th>\n",
       "      <td>848.684998</td>\n",
       "      <td>843.250000</td>\n",
       "    </tr>\n",
       "    <tr>\n",
       "      <th>58</th>\n",
       "      <td>848.630005</td>\n",
       "      <td>840.770020</td>\n",
       "    </tr>\n",
       "    <tr>\n",
       "      <th>60</th>\n",
       "      <td>853.400024</td>\n",
       "      <td>847.109985</td>\n",
       "    </tr>\n",
       "  </tbody>\n",
       "</table>\n",
       "<p>31 rows × 2 columns</p>\n",
       "</div>"
      ],
      "text/plain": [
       "          High         Low\n",
       "0   797.659973  786.270020\n",
       "2   796.676025  787.099976\n",
       "4   792.739990  787.280029\n",
       "6   794.229980  783.200012\n",
       "8   782.780029  770.409973\n",
       "..         ...         ...\n",
       "52  833.409973  826.520020\n",
       "54  842.000000  834.210022\n",
       "56  848.684998  843.250000\n",
       "58  848.630005  840.770020\n",
       "60  853.400024  847.109985\n",
       "\n",
       "[31 rows x 2 columns]"
      ]
     },
     "execution_count": 53,
     "metadata": {},
     "output_type": "execute_result"
    }
   ],
   "source": [
    "#013일차-실습-8-해답-ver3\n",
    "ls = [x for x in df.index if x % 2 == 0]\n",
    "df23 = df.loc[ls, ['High','Low']]\n",
    "df23"
   ]
  },
  {
   "cell_type": "code",
   "execution_count": 54,
   "metadata": {},
   "outputs": [
    {
     "data": {
      "text/html": [
       "<div>\n",
       "<style scoped>\n",
       "    .dataframe tbody tr th:only-of-type {\n",
       "        vertical-align: middle;\n",
       "    }\n",
       "\n",
       "    .dataframe tbody tr th {\n",
       "        vertical-align: top;\n",
       "    }\n",
       "\n",
       "    .dataframe thead th {\n",
       "        text-align: right;\n",
       "    }\n",
       "</style>\n",
       "<table border=\"1\" class=\"dataframe\">\n",
       "  <thead>\n",
       "    <tr style=\"text-align: right;\">\n",
       "      <th></th>\n",
       "      <th>High</th>\n",
       "      <th>Low</th>\n",
       "    </tr>\n",
       "  </thead>\n",
       "  <tbody>\n",
       "    <tr>\n",
       "      <th>0</th>\n",
       "      <td>797.659973</td>\n",
       "      <td>786.270020</td>\n",
       "    </tr>\n",
       "    <tr>\n",
       "      <th>2</th>\n",
       "      <td>796.676025</td>\n",
       "      <td>787.099976</td>\n",
       "    </tr>\n",
       "    <tr>\n",
       "      <th>4</th>\n",
       "      <td>792.739990</td>\n",
       "      <td>787.280029</td>\n",
       "    </tr>\n",
       "    <tr>\n",
       "      <th>6</th>\n",
       "      <td>794.229980</td>\n",
       "      <td>783.200012</td>\n",
       "    </tr>\n",
       "    <tr>\n",
       "      <th>8</th>\n",
       "      <td>782.780029</td>\n",
       "      <td>770.409973</td>\n",
       "    </tr>\n",
       "    <tr>\n",
       "      <th>...</th>\n",
       "      <td>...</td>\n",
       "      <td>...</td>\n",
       "    </tr>\n",
       "    <tr>\n",
       "      <th>52</th>\n",
       "      <td>833.409973</td>\n",
       "      <td>826.520020</td>\n",
       "    </tr>\n",
       "    <tr>\n",
       "      <th>54</th>\n",
       "      <td>842.000000</td>\n",
       "      <td>834.210022</td>\n",
       "    </tr>\n",
       "    <tr>\n",
       "      <th>56</th>\n",
       "      <td>848.684998</td>\n",
       "      <td>843.250000</td>\n",
       "    </tr>\n",
       "    <tr>\n",
       "      <th>58</th>\n",
       "      <td>848.630005</td>\n",
       "      <td>840.770020</td>\n",
       "    </tr>\n",
       "    <tr>\n",
       "      <th>60</th>\n",
       "      <td>853.400024</td>\n",
       "      <td>847.109985</td>\n",
       "    </tr>\n",
       "  </tbody>\n",
       "</table>\n",
       "<p>31 rows × 2 columns</p>\n",
       "</div>"
      ],
      "text/plain": [
       "          High         Low\n",
       "0   797.659973  786.270020\n",
       "2   796.676025  787.099976\n",
       "4   792.739990  787.280029\n",
       "6   794.229980  783.200012\n",
       "8   782.780029  770.409973\n",
       "..         ...         ...\n",
       "52  833.409973  826.520020\n",
       "54  842.000000  834.210022\n",
       "56  848.684998  843.250000\n",
       "58  848.630005  840.770020\n",
       "60  853.400024  847.109985\n",
       "\n",
       "[31 rows x 2 columns]"
      ]
     },
     "execution_count": 54,
     "metadata": {},
     "output_type": "execute_result"
    }
   ],
   "source": [
    "#013일차-실습-8-해답-ver4\n",
    "df24 = df.loc[df.index % 2 == 0, ['High','Low']]\n",
    "df24"
   ]
  },
  {
   "cell_type": "code",
   "execution_count": 55,
   "metadata": {},
   "outputs": [],
   "source": [
    "###### 이하 014일차-강의-1 시작\n",
    "###### 이하 014일차-강의-1 시작\n",
    "###### 이하 014일차-강의-1 시작"
   ]
  },
  {
   "cell_type": "code",
   "execution_count": 56,
   "metadata": {},
   "outputs": [
    {
     "name": "stdout",
     "output_type": "stream",
     "text": [
      "          Date        Open        High         Low       Close   Volume\n",
      "0   12/19/2016  790.219971  797.659973  786.270020  794.200012  1225900\n",
      "1   12/20/2016  796.760010  798.650024  793.270020  796.419983   925100\n",
      "2   12/21/2016  795.840027  796.676025  787.099976  794.559998  1208700\n",
      "3   12/22/2016  792.359985  793.320007  788.580017  791.260010   969100\n",
      "4   12/23/2016  790.900024  792.739990  787.280029  789.909973   623400\n",
      "..         ...         ...         ...         ...         ...      ...\n",
      "56   3/13/2017  844.000000  848.684998  843.250000  845.539978  1149500\n",
      "57   3/14/2017  843.640015  847.239990  840.799988  845.619995   779900\n",
      "58   3/15/2017  847.590027  848.630005  840.770020  847.200012  1379600\n",
      "59   3/16/2017  849.030029  850.849976  846.130005  848.780029   970400\n",
      "60   3/17/2017  851.609985  853.400024  847.109985  852.119995  1712300\n",
      "\n",
      "[61 rows x 6 columns]\n"
     ]
    }
   ],
   "source": [
    "print(df)"
   ]
  },
  {
   "cell_type": "markdown",
   "metadata": {},
   "source": []
  },
  {
   "cell_type": "code",
   "execution_count": 57,
   "metadata": {},
   "outputs": [
    {
     "name": "stdout",
     "output_type": "stream",
     "text": [
      "12/19/2016\n",
      "<class 'str'>\n"
     ]
    }
   ],
   "source": [
    "print(df.Date[0])\n",
    "print(type(df.Date[0]))"
   ]
  },
  {
   "cell_type": "markdown",
   "metadata": {},
   "source": [
    "014일차-실습-1\n",
    "------------------------------------------------------------------\n",
    "<문제>, <배경설명>, <요구사항>, <실행결과> 를 충족하는 실습을 수행하고 결과를 제출하세요.\n",
    "------------------------------------------------------------------\n",
    "<문제>\n",
    "- csv파일을 읽어서 데이터 프레입으로 변환하세요.\n",
    "- 읽어들인 csv 파일에서 Date컬럼을 Str에서 date타입으로 변경하세요.\n",
    "- 형식이 변환된 Date컬럼을 인덱스로 변환하세요.\n",
    "- Date컬럼을 인덱스로변환한 결과가 아래의 실행결과와 동일해야 합니다.\n",
    "\n",
    "------------------------------------------------------------------\n",
    "<요구사항1>\n",
    "직전의 강의파일을 연속하여 실습하세요.\n",
    "\n",
    "------------------------------------------------------------------\n",
    "<요구사항2>\n",
    "반드시 실행결과 스샷과 동일해야 합니다.\n",
    "\n",
    "------------------------------------------------------------------\n",
    "<실행결과>\n",
    "\tOpen\tHigh\tLow\tClose\tVolume\n",
    "Date\t\t\t\t\t\n",
    "2016-12-19\t790.219971\t797.659973\t786.270020\t794.200012\t1225900\n",
    "2016-12-20\t796.760010\t798.650024\t793.270020\t796.419983\t925100\n",
    "2016-12-21\t795.840027\t796.676025\t787.099976\t794.559998\t1208700\n",
    "2016-12-22\t792.359985\t793.320007\t788.580017\t791.260010\t969100\n",
    "2016-12-23\t790.900024\t792.739990\t787.280029\t789.909973\t623400\n",
    "...\t...\t...\t...\t...\t...\n",
    "2017-03-13\t844.000000\t848.684998\t843.250000\t845.539978\t1149500\n",
    "2017-03-14\t843.640015\t847.239990\t840.799988\t845.619995\t779900\n",
    "2017-03-15\t847.590027\t848.630005\t840.770020\t847.200012\t1379600\n",
    "2017-03-16\t849.030029\t850.849976\t846.130005\t848.780029\t970400\n",
    "2017-03-17\t851.609985\t853.400024\t847.109985\t852.119995\t1712300\n",
    "61 rows × 5 columns\n",
    "------------------------------------------------------------------\n",
    "이상의 실습결과를 techmr@daum.net; ty@doublerock.io 메일로 전송하세요.\n",
    "메일제목은 '014일차-실습-1-완료' 라고 지정하세요."
   ]
  },
  {
   "cell_type": "code",
   "execution_count": 58,
   "metadata": {},
   "outputs": [
    {
     "data": {
      "text/html": [
       "<div>\n",
       "<style scoped>\n",
       "    .dataframe tbody tr th:only-of-type {\n",
       "        vertical-align: middle;\n",
       "    }\n",
       "\n",
       "    .dataframe tbody tr th {\n",
       "        vertical-align: top;\n",
       "    }\n",
       "\n",
       "    .dataframe thead th {\n",
       "        text-align: right;\n",
       "    }\n",
       "</style>\n",
       "<table border=\"1\" class=\"dataframe\">\n",
       "  <thead>\n",
       "    <tr style=\"text-align: right;\">\n",
       "      <th></th>\n",
       "      <th>Open</th>\n",
       "      <th>High</th>\n",
       "      <th>Low</th>\n",
       "      <th>Close</th>\n",
       "      <th>Volume</th>\n",
       "    </tr>\n",
       "    <tr>\n",
       "      <th>Date</th>\n",
       "      <th></th>\n",
       "      <th></th>\n",
       "      <th></th>\n",
       "      <th></th>\n",
       "      <th></th>\n",
       "    </tr>\n",
       "  </thead>\n",
       "  <tbody>\n",
       "    <tr>\n",
       "      <th>2016-12-19</th>\n",
       "      <td>790.219971</td>\n",
       "      <td>797.659973</td>\n",
       "      <td>786.270020</td>\n",
       "      <td>794.200012</td>\n",
       "      <td>1225900</td>\n",
       "    </tr>\n",
       "    <tr>\n",
       "      <th>2016-12-20</th>\n",
       "      <td>796.760010</td>\n",
       "      <td>798.650024</td>\n",
       "      <td>793.270020</td>\n",
       "      <td>796.419983</td>\n",
       "      <td>925100</td>\n",
       "    </tr>\n",
       "    <tr>\n",
       "      <th>2016-12-21</th>\n",
       "      <td>795.840027</td>\n",
       "      <td>796.676025</td>\n",
       "      <td>787.099976</td>\n",
       "      <td>794.559998</td>\n",
       "      <td>1208700</td>\n",
       "    </tr>\n",
       "    <tr>\n",
       "      <th>2016-12-22</th>\n",
       "      <td>792.359985</td>\n",
       "      <td>793.320007</td>\n",
       "      <td>788.580017</td>\n",
       "      <td>791.260010</td>\n",
       "      <td>969100</td>\n",
       "    </tr>\n",
       "    <tr>\n",
       "      <th>2016-12-23</th>\n",
       "      <td>790.900024</td>\n",
       "      <td>792.739990</td>\n",
       "      <td>787.280029</td>\n",
       "      <td>789.909973</td>\n",
       "      <td>623400</td>\n",
       "    </tr>\n",
       "    <tr>\n",
       "      <th>...</th>\n",
       "      <td>...</td>\n",
       "      <td>...</td>\n",
       "      <td>...</td>\n",
       "      <td>...</td>\n",
       "      <td>...</td>\n",
       "    </tr>\n",
       "    <tr>\n",
       "      <th>2017-03-13</th>\n",
       "      <td>844.000000</td>\n",
       "      <td>848.684998</td>\n",
       "      <td>843.250000</td>\n",
       "      <td>845.539978</td>\n",
       "      <td>1149500</td>\n",
       "    </tr>\n",
       "    <tr>\n",
       "      <th>2017-03-14</th>\n",
       "      <td>843.640015</td>\n",
       "      <td>847.239990</td>\n",
       "      <td>840.799988</td>\n",
       "      <td>845.619995</td>\n",
       "      <td>779900</td>\n",
       "    </tr>\n",
       "    <tr>\n",
       "      <th>2017-03-15</th>\n",
       "      <td>847.590027</td>\n",
       "      <td>848.630005</td>\n",
       "      <td>840.770020</td>\n",
       "      <td>847.200012</td>\n",
       "      <td>1379600</td>\n",
       "    </tr>\n",
       "    <tr>\n",
       "      <th>2017-03-16</th>\n",
       "      <td>849.030029</td>\n",
       "      <td>850.849976</td>\n",
       "      <td>846.130005</td>\n",
       "      <td>848.780029</td>\n",
       "      <td>970400</td>\n",
       "    </tr>\n",
       "    <tr>\n",
       "      <th>2017-03-17</th>\n",
       "      <td>851.609985</td>\n",
       "      <td>853.400024</td>\n",
       "      <td>847.109985</td>\n",
       "      <td>852.119995</td>\n",
       "      <td>1712300</td>\n",
       "    </tr>\n",
       "  </tbody>\n",
       "</table>\n",
       "<p>61 rows × 5 columns</p>\n",
       "</div>"
      ],
      "text/plain": [
       "                  Open        High         Low       Close   Volume\n",
       "Date                                                               \n",
       "2016-12-19  790.219971  797.659973  786.270020  794.200012  1225900\n",
       "2016-12-20  796.760010  798.650024  793.270020  796.419983   925100\n",
       "2016-12-21  795.840027  796.676025  787.099976  794.559998  1208700\n",
       "2016-12-22  792.359985  793.320007  788.580017  791.260010   969100\n",
       "2016-12-23  790.900024  792.739990  787.280029  789.909973   623400\n",
       "...                ...         ...         ...         ...      ...\n",
       "2017-03-13  844.000000  848.684998  843.250000  845.539978  1149500\n",
       "2017-03-14  843.640015  847.239990  840.799988  845.619995   779900\n",
       "2017-03-15  847.590027  848.630005  840.770020  847.200012  1379600\n",
       "2017-03-16  849.030029  850.849976  846.130005  848.780029   970400\n",
       "2017-03-17  851.609985  853.400024  847.109985  852.119995  1712300\n",
       "\n",
       "[61 rows x 5 columns]"
      ]
     },
     "execution_count": 58,
     "metadata": {},
     "output_type": "execute_result"
    }
   ],
   "source": [
    "#014일차-실습-1-힌트\n",
    "'''\n",
    "csv파일의 컬럼 중에서 문자열로된 날짜형식을 연산가능한 날짜형식으로 변환하는\n",
    "pd.read_csv() 메소드의 옵션을 이용할 수 있습니다.\n",
    "연산가능한 날짜형식으로 변환 옵션은 다음과 같습니다.\n",
    "parse_dates=['컴럼명']\n",
    "csv파일의 특정 컬럼을 데이터 프레임의 인덱스로 지정하는 옵션 은 다음과 같습니다.\n",
    "index_col='컬럼명'\n",
    "'''\n",
    "\n",
    "df1 = pd.read_csv('data/goog.csv', parse_dates=['Date'], index_col=['Date'])\n",
    "\n",
    "df1\n",
    "\n"
   ]
  },
  {
   "cell_type": "code",
   "execution_count": 59,
   "metadata": {},
   "outputs": [
    {
     "data": {
      "text/html": [
       "<div>\n",
       "<style scoped>\n",
       "    .dataframe tbody tr th:only-of-type {\n",
       "        vertical-align: middle;\n",
       "    }\n",
       "\n",
       "    .dataframe tbody tr th {\n",
       "        vertical-align: top;\n",
       "    }\n",
       "\n",
       "    .dataframe thead th {\n",
       "        text-align: right;\n",
       "    }\n",
       "</style>\n",
       "<table border=\"1\" class=\"dataframe\">\n",
       "  <thead>\n",
       "    <tr style=\"text-align: right;\">\n",
       "      <th></th>\n",
       "      <th>Date</th>\n",
       "      <th>Open</th>\n",
       "      <th>High</th>\n",
       "      <th>Low</th>\n",
       "      <th>Close</th>\n",
       "      <th>Volume</th>\n",
       "    </tr>\n",
       "  </thead>\n",
       "  <tbody>\n",
       "    <tr>\n",
       "      <th>0</th>\n",
       "      <td>2016-12-19</td>\n",
       "      <td>790.219971</td>\n",
       "      <td>797.659973</td>\n",
       "      <td>786.270020</td>\n",
       "      <td>794.200012</td>\n",
       "      <td>1225900</td>\n",
       "    </tr>\n",
       "    <tr>\n",
       "      <th>1</th>\n",
       "      <td>2016-12-20</td>\n",
       "      <td>796.760010</td>\n",
       "      <td>798.650024</td>\n",
       "      <td>793.270020</td>\n",
       "      <td>796.419983</td>\n",
       "      <td>925100</td>\n",
       "    </tr>\n",
       "    <tr>\n",
       "      <th>2</th>\n",
       "      <td>2016-12-21</td>\n",
       "      <td>795.840027</td>\n",
       "      <td>796.676025</td>\n",
       "      <td>787.099976</td>\n",
       "      <td>794.559998</td>\n",
       "      <td>1208700</td>\n",
       "    </tr>\n",
       "    <tr>\n",
       "      <th>3</th>\n",
       "      <td>2016-12-22</td>\n",
       "      <td>792.359985</td>\n",
       "      <td>793.320007</td>\n",
       "      <td>788.580017</td>\n",
       "      <td>791.260010</td>\n",
       "      <td>969100</td>\n",
       "    </tr>\n",
       "    <tr>\n",
       "      <th>4</th>\n",
       "      <td>2016-12-23</td>\n",
       "      <td>790.900024</td>\n",
       "      <td>792.739990</td>\n",
       "      <td>787.280029</td>\n",
       "      <td>789.909973</td>\n",
       "      <td>623400</td>\n",
       "    </tr>\n",
       "    <tr>\n",
       "      <th>...</th>\n",
       "      <td>...</td>\n",
       "      <td>...</td>\n",
       "      <td>...</td>\n",
       "      <td>...</td>\n",
       "      <td>...</td>\n",
       "      <td>...</td>\n",
       "    </tr>\n",
       "    <tr>\n",
       "      <th>56</th>\n",
       "      <td>2017-03-13</td>\n",
       "      <td>844.000000</td>\n",
       "      <td>848.684998</td>\n",
       "      <td>843.250000</td>\n",
       "      <td>845.539978</td>\n",
       "      <td>1149500</td>\n",
       "    </tr>\n",
       "    <tr>\n",
       "      <th>57</th>\n",
       "      <td>2017-03-14</td>\n",
       "      <td>843.640015</td>\n",
       "      <td>847.239990</td>\n",
       "      <td>840.799988</td>\n",
       "      <td>845.619995</td>\n",
       "      <td>779900</td>\n",
       "    </tr>\n",
       "    <tr>\n",
       "      <th>58</th>\n",
       "      <td>2017-03-15</td>\n",
       "      <td>847.590027</td>\n",
       "      <td>848.630005</td>\n",
       "      <td>840.770020</td>\n",
       "      <td>847.200012</td>\n",
       "      <td>1379600</td>\n",
       "    </tr>\n",
       "    <tr>\n",
       "      <th>59</th>\n",
       "      <td>2017-03-16</td>\n",
       "      <td>849.030029</td>\n",
       "      <td>850.849976</td>\n",
       "      <td>846.130005</td>\n",
       "      <td>848.780029</td>\n",
       "      <td>970400</td>\n",
       "    </tr>\n",
       "    <tr>\n",
       "      <th>60</th>\n",
       "      <td>2017-03-17</td>\n",
       "      <td>851.609985</td>\n",
       "      <td>853.400024</td>\n",
       "      <td>847.109985</td>\n",
       "      <td>852.119995</td>\n",
       "      <td>1712300</td>\n",
       "    </tr>\n",
       "  </tbody>\n",
       "</table>\n",
       "<p>61 rows × 6 columns</p>\n",
       "</div>"
      ],
      "text/plain": [
       "         Date        Open        High         Low       Close   Volume\n",
       "0  2016-12-19  790.219971  797.659973  786.270020  794.200012  1225900\n",
       "1  2016-12-20  796.760010  798.650024  793.270020  796.419983   925100\n",
       "2  2016-12-21  795.840027  796.676025  787.099976  794.559998  1208700\n",
       "3  2016-12-22  792.359985  793.320007  788.580017  791.260010   969100\n",
       "4  2016-12-23  790.900024  792.739990  787.280029  789.909973   623400\n",
       "..        ...         ...         ...         ...         ...      ...\n",
       "56 2017-03-13  844.000000  848.684998  843.250000  845.539978  1149500\n",
       "57 2017-03-14  843.640015  847.239990  840.799988  845.619995   779900\n",
       "58 2017-03-15  847.590027  848.630005  840.770020  847.200012  1379600\n",
       "59 2017-03-16  849.030029  850.849976  846.130005  848.780029   970400\n",
       "60 2017-03-17  851.609985  853.400024  847.109985  852.119995  1712300\n",
       "\n",
       "[61 rows x 6 columns]"
      ]
     },
     "execution_count": 59,
     "metadata": {},
     "output_type": "execute_result"
    }
   ],
   "source": [
    "# 실습-1-해답-ver1-step1\n",
    "# df를 다시한 번 만든다.\n",
    "df31 = pd.read_csv('data/goog.csv', parse_dates=['Date'])\n",
    "df31"
   ]
  },
  {
   "cell_type": "code",
   "execution_count": 60,
   "metadata": {},
   "outputs": [
    {
     "data": {
      "text/plain": [
       "pandas._libs.tslibs.timestamps.Timestamp"
      ]
     },
     "execution_count": 60,
     "metadata": {},
     "output_type": "execute_result"
    }
   ],
   "source": [
    "# 실습-1-해답-ver1-step2\n",
    "# df31의 Date컬럼(시리즈)에서 0 번 셀의 타입을 확인함\n",
    "type(df31.Date[0])"
   ]
  },
  {
   "cell_type": "code",
   "execution_count": 61,
   "metadata": {},
   "outputs": [
    {
     "data": {
      "text/plain": [
       "RangeIndex(start=0, stop=61, step=1)"
      ]
     },
     "execution_count": 61,
     "metadata": {},
     "output_type": "execute_result"
    }
   ],
   "source": [
    "# 실습-1-해답-ver1-step3\n",
    "# df31의 인덱스(정수인덱스)를 확인함\n",
    "df31.index"
   ]
  },
  {
   "cell_type": "markdown",
   "metadata": {},
   "source": [
    "Note  \n",
    "지금은 RangeIndex이지만 예전 pandas에서는 그냥 정수인덱스였습니다.  \n",
    "이를 해결하기 위해 pd.read_csv() 함수의 index_col 파라미터를 사용해   \n",
    "인덱스로 쓸 컬럼을 지정하면 됩니다."
   ]
  },
  {
   "cell_type": "code",
   "execution_count": 62,
   "metadata": {},
   "outputs": [
    {
     "data": {
      "text/html": [
       "<div>\n",
       "<style scoped>\n",
       "    .dataframe tbody tr th:only-of-type {\n",
       "        vertical-align: middle;\n",
       "    }\n",
       "\n",
       "    .dataframe tbody tr th {\n",
       "        vertical-align: top;\n",
       "    }\n",
       "\n",
       "    .dataframe thead th {\n",
       "        text-align: right;\n",
       "    }\n",
       "</style>\n",
       "<table border=\"1\" class=\"dataframe\">\n",
       "  <thead>\n",
       "    <tr style=\"text-align: right;\">\n",
       "      <th></th>\n",
       "      <th>Open</th>\n",
       "      <th>High</th>\n",
       "      <th>Low</th>\n",
       "      <th>Close</th>\n",
       "      <th>Volume</th>\n",
       "    </tr>\n",
       "    <tr>\n",
       "      <th>Date</th>\n",
       "      <th></th>\n",
       "      <th></th>\n",
       "      <th></th>\n",
       "      <th></th>\n",
       "      <th></th>\n",
       "    </tr>\n",
       "  </thead>\n",
       "  <tbody>\n",
       "    <tr>\n",
       "      <th>2016-12-19</th>\n",
       "      <td>790.219971</td>\n",
       "      <td>797.659973</td>\n",
       "      <td>786.270020</td>\n",
       "      <td>794.200012</td>\n",
       "      <td>1225900</td>\n",
       "    </tr>\n",
       "    <tr>\n",
       "      <th>2016-12-20</th>\n",
       "      <td>796.760010</td>\n",
       "      <td>798.650024</td>\n",
       "      <td>793.270020</td>\n",
       "      <td>796.419983</td>\n",
       "      <td>925100</td>\n",
       "    </tr>\n",
       "    <tr>\n",
       "      <th>2016-12-21</th>\n",
       "      <td>795.840027</td>\n",
       "      <td>796.676025</td>\n",
       "      <td>787.099976</td>\n",
       "      <td>794.559998</td>\n",
       "      <td>1208700</td>\n",
       "    </tr>\n",
       "    <tr>\n",
       "      <th>2016-12-22</th>\n",
       "      <td>792.359985</td>\n",
       "      <td>793.320007</td>\n",
       "      <td>788.580017</td>\n",
       "      <td>791.260010</td>\n",
       "      <td>969100</td>\n",
       "    </tr>\n",
       "    <tr>\n",
       "      <th>2016-12-23</th>\n",
       "      <td>790.900024</td>\n",
       "      <td>792.739990</td>\n",
       "      <td>787.280029</td>\n",
       "      <td>789.909973</td>\n",
       "      <td>623400</td>\n",
       "    </tr>\n",
       "    <tr>\n",
       "      <th>...</th>\n",
       "      <td>...</td>\n",
       "      <td>...</td>\n",
       "      <td>...</td>\n",
       "      <td>...</td>\n",
       "      <td>...</td>\n",
       "    </tr>\n",
       "    <tr>\n",
       "      <th>2017-03-13</th>\n",
       "      <td>844.000000</td>\n",
       "      <td>848.684998</td>\n",
       "      <td>843.250000</td>\n",
       "      <td>845.539978</td>\n",
       "      <td>1149500</td>\n",
       "    </tr>\n",
       "    <tr>\n",
       "      <th>2017-03-14</th>\n",
       "      <td>843.640015</td>\n",
       "      <td>847.239990</td>\n",
       "      <td>840.799988</td>\n",
       "      <td>845.619995</td>\n",
       "      <td>779900</td>\n",
       "    </tr>\n",
       "    <tr>\n",
       "      <th>2017-03-15</th>\n",
       "      <td>847.590027</td>\n",
       "      <td>848.630005</td>\n",
       "      <td>840.770020</td>\n",
       "      <td>847.200012</td>\n",
       "      <td>1379600</td>\n",
       "    </tr>\n",
       "    <tr>\n",
       "      <th>2017-03-16</th>\n",
       "      <td>849.030029</td>\n",
       "      <td>850.849976</td>\n",
       "      <td>846.130005</td>\n",
       "      <td>848.780029</td>\n",
       "      <td>970400</td>\n",
       "    </tr>\n",
       "    <tr>\n",
       "      <th>2017-03-17</th>\n",
       "      <td>851.609985</td>\n",
       "      <td>853.400024</td>\n",
       "      <td>847.109985</td>\n",
       "      <td>852.119995</td>\n",
       "      <td>1712300</td>\n",
       "    </tr>\n",
       "  </tbody>\n",
       "</table>\n",
       "<p>61 rows × 5 columns</p>\n",
       "</div>"
      ],
      "text/plain": [
       "                  Open        High         Low       Close   Volume\n",
       "Date                                                               \n",
       "2016-12-19  790.219971  797.659973  786.270020  794.200012  1225900\n",
       "2016-12-20  796.760010  798.650024  793.270020  796.419983   925100\n",
       "2016-12-21  795.840027  796.676025  787.099976  794.559998  1208700\n",
       "2016-12-22  792.359985  793.320007  788.580017  791.260010   969100\n",
       "2016-12-23  790.900024  792.739990  787.280029  789.909973   623400\n",
       "...                ...         ...         ...         ...      ...\n",
       "2017-03-13  844.000000  848.684998  843.250000  845.539978  1149500\n",
       "2017-03-14  843.640015  847.239990  840.799988  845.619995   779900\n",
       "2017-03-15  847.590027  848.630005  840.770020  847.200012  1379600\n",
       "2017-03-16  849.030029  850.849976  846.130005  848.780029   970400\n",
       "2017-03-17  851.609985  853.400024  847.109985  852.119995  1712300\n",
       "\n",
       "[61 rows x 5 columns]"
      ]
     },
     "execution_count": 62,
     "metadata": {},
     "output_type": "execute_result"
    }
   ],
   "source": [
    "# 실습-1-해답-ver1-step4\n",
    "df314 = pd.read_csv('data/goog.csv', parse_dates=['Date'], index_col='Date')\n",
    "                # index_col='Date' 이 옵션은 'df314 데이터 프레임의 시스템 인덱스를 0 ~60으로 하지 않고\n",
    "                # Date 컬럼으로 시스템 인덱스를 지정한다'는 뜻입니다.\n",
    "df314  # 출력된 Data 열의 모양이 달라진 것을 확인 할 수 있습니다"
   ]
  },
  {
   "cell_type": "markdown",
   "metadata": {},
   "source": [
    "아래는 # 실습-1-해답-ver2 입니다.  \n",
    "실습-1-해답-ver1과 차이점을 비교하세요"
   ]
  },
  {
   "cell_type": "code",
   "execution_count": 63,
   "metadata": {},
   "outputs": [
    {
     "name": "stdout",
     "output_type": "stream",
     "text": [
      "<class 'pandas._libs.tslibs.timestamps.Timestamp'>\n"
     ]
    },
    {
     "data": {
      "text/html": [
       "<div>\n",
       "<style scoped>\n",
       "    .dataframe tbody tr th:only-of-type {\n",
       "        vertical-align: middle;\n",
       "    }\n",
       "\n",
       "    .dataframe tbody tr th {\n",
       "        vertical-align: top;\n",
       "    }\n",
       "\n",
       "    .dataframe thead th {\n",
       "        text-align: right;\n",
       "    }\n",
       "</style>\n",
       "<table border=\"1\" class=\"dataframe\">\n",
       "  <thead>\n",
       "    <tr style=\"text-align: right;\">\n",
       "      <th></th>\n",
       "      <th>Date</th>\n",
       "      <th>Open</th>\n",
       "      <th>High</th>\n",
       "      <th>Low</th>\n",
       "      <th>Close</th>\n",
       "      <th>Volume</th>\n",
       "    </tr>\n",
       "  </thead>\n",
       "  <tbody>\n",
       "    <tr>\n",
       "      <th>0</th>\n",
       "      <td>2016-12-19</td>\n",
       "      <td>790.219971</td>\n",
       "      <td>797.659973</td>\n",
       "      <td>786.270020</td>\n",
       "      <td>794.200012</td>\n",
       "      <td>1225900</td>\n",
       "    </tr>\n",
       "    <tr>\n",
       "      <th>1</th>\n",
       "      <td>2016-12-20</td>\n",
       "      <td>796.760010</td>\n",
       "      <td>798.650024</td>\n",
       "      <td>793.270020</td>\n",
       "      <td>796.419983</td>\n",
       "      <td>925100</td>\n",
       "    </tr>\n",
       "    <tr>\n",
       "      <th>2</th>\n",
       "      <td>2016-12-21</td>\n",
       "      <td>795.840027</td>\n",
       "      <td>796.676025</td>\n",
       "      <td>787.099976</td>\n",
       "      <td>794.559998</td>\n",
       "      <td>1208700</td>\n",
       "    </tr>\n",
       "    <tr>\n",
       "      <th>3</th>\n",
       "      <td>2016-12-22</td>\n",
       "      <td>792.359985</td>\n",
       "      <td>793.320007</td>\n",
       "      <td>788.580017</td>\n",
       "      <td>791.260010</td>\n",
       "      <td>969100</td>\n",
       "    </tr>\n",
       "    <tr>\n",
       "      <th>4</th>\n",
       "      <td>2016-12-23</td>\n",
       "      <td>790.900024</td>\n",
       "      <td>792.739990</td>\n",
       "      <td>787.280029</td>\n",
       "      <td>789.909973</td>\n",
       "      <td>623400</td>\n",
       "    </tr>\n",
       "    <tr>\n",
       "      <th>...</th>\n",
       "      <td>...</td>\n",
       "      <td>...</td>\n",
       "      <td>...</td>\n",
       "      <td>...</td>\n",
       "      <td>...</td>\n",
       "      <td>...</td>\n",
       "    </tr>\n",
       "    <tr>\n",
       "      <th>56</th>\n",
       "      <td>2017-03-13</td>\n",
       "      <td>844.000000</td>\n",
       "      <td>848.684998</td>\n",
       "      <td>843.250000</td>\n",
       "      <td>845.539978</td>\n",
       "      <td>1149500</td>\n",
       "    </tr>\n",
       "    <tr>\n",
       "      <th>57</th>\n",
       "      <td>2017-03-14</td>\n",
       "      <td>843.640015</td>\n",
       "      <td>847.239990</td>\n",
       "      <td>840.799988</td>\n",
       "      <td>845.619995</td>\n",
       "      <td>779900</td>\n",
       "    </tr>\n",
       "    <tr>\n",
       "      <th>58</th>\n",
       "      <td>2017-03-15</td>\n",
       "      <td>847.590027</td>\n",
       "      <td>848.630005</td>\n",
       "      <td>840.770020</td>\n",
       "      <td>847.200012</td>\n",
       "      <td>1379600</td>\n",
       "    </tr>\n",
       "    <tr>\n",
       "      <th>59</th>\n",
       "      <td>2017-03-16</td>\n",
       "      <td>849.030029</td>\n",
       "      <td>850.849976</td>\n",
       "      <td>846.130005</td>\n",
       "      <td>848.780029</td>\n",
       "      <td>970400</td>\n",
       "    </tr>\n",
       "    <tr>\n",
       "      <th>60</th>\n",
       "      <td>2017-03-17</td>\n",
       "      <td>851.609985</td>\n",
       "      <td>853.400024</td>\n",
       "      <td>847.109985</td>\n",
       "      <td>852.119995</td>\n",
       "      <td>1712300</td>\n",
       "    </tr>\n",
       "  </tbody>\n",
       "</table>\n",
       "<p>61 rows × 6 columns</p>\n",
       "</div>"
      ],
      "text/plain": [
       "         Date        Open        High         Low       Close   Volume\n",
       "0  2016-12-19  790.219971  797.659973  786.270020  794.200012  1225900\n",
       "1  2016-12-20  796.760010  798.650024  793.270020  796.419983   925100\n",
       "2  2016-12-21  795.840027  796.676025  787.099976  794.559998  1208700\n",
       "3  2016-12-22  792.359985  793.320007  788.580017  791.260010   969100\n",
       "4  2016-12-23  790.900024  792.739990  787.280029  789.909973   623400\n",
       "..        ...         ...         ...         ...         ...      ...\n",
       "56 2017-03-13  844.000000  848.684998  843.250000  845.539978  1149500\n",
       "57 2017-03-14  843.640015  847.239990  840.799988  845.619995   779900\n",
       "58 2017-03-15  847.590027  848.630005  840.770020  847.200012  1379600\n",
       "59 2017-03-16  849.030029  850.849976  846.130005  848.780029   970400\n",
       "60 2017-03-17  851.609985  853.400024  847.109985  852.119995  1712300\n",
       "\n",
       "[61 rows x 6 columns]"
      ]
     },
     "execution_count": 63,
     "metadata": {},
     "output_type": "execute_result"
    }
   ],
   "source": [
    "# 실습-1-해답-ver2-step1\n",
    "# df를 재활용한다.\n",
    "df32 = df # df데이터 프레임을 df32로 할당한다\n",
    "df32['Date'] = pd.to_datetime(df['Date'] ) # to_datetime() 함수는 데이터프레임의 특정 컬럼의 타입(형식)을 \n",
    "                                            # detetime 형식으로 변환한다 \n",
    "print(type(df32.Date[0])) # 서비스코드 \n",
    "df32"
   ]
  },
  {
   "cell_type": "code",
   "execution_count": 64,
   "metadata": {},
   "outputs": [
    {
     "data": {
      "text/html": [
       "<div>\n",
       "<style scoped>\n",
       "    .dataframe tbody tr th:only-of-type {\n",
       "        vertical-align: middle;\n",
       "    }\n",
       "\n",
       "    .dataframe tbody tr th {\n",
       "        vertical-align: top;\n",
       "    }\n",
       "\n",
       "    .dataframe thead th {\n",
       "        text-align: right;\n",
       "    }\n",
       "</style>\n",
       "<table border=\"1\" class=\"dataframe\">\n",
       "  <thead>\n",
       "    <tr style=\"text-align: right;\">\n",
       "      <th></th>\n",
       "      <th>Date</th>\n",
       "      <th>Open</th>\n",
       "      <th>High</th>\n",
       "      <th>Low</th>\n",
       "      <th>Close</th>\n",
       "      <th>Volume</th>\n",
       "    </tr>\n",
       "  </thead>\n",
       "  <tbody>\n",
       "    <tr>\n",
       "      <th>0</th>\n",
       "      <td>12/19/2016</td>\n",
       "      <td>790.219971</td>\n",
       "      <td>797.659973</td>\n",
       "      <td>786.270020</td>\n",
       "      <td>794.200012</td>\n",
       "      <td>1225900</td>\n",
       "    </tr>\n",
       "    <tr>\n",
       "      <th>1</th>\n",
       "      <td>12/20/2016</td>\n",
       "      <td>796.760010</td>\n",
       "      <td>798.650024</td>\n",
       "      <td>793.270020</td>\n",
       "      <td>796.419983</td>\n",
       "      <td>925100</td>\n",
       "    </tr>\n",
       "    <tr>\n",
       "      <th>2</th>\n",
       "      <td>12/21/2016</td>\n",
       "      <td>795.840027</td>\n",
       "      <td>796.676025</td>\n",
       "      <td>787.099976</td>\n",
       "      <td>794.559998</td>\n",
       "      <td>1208700</td>\n",
       "    </tr>\n",
       "    <tr>\n",
       "      <th>3</th>\n",
       "      <td>12/22/2016</td>\n",
       "      <td>792.359985</td>\n",
       "      <td>793.320007</td>\n",
       "      <td>788.580017</td>\n",
       "      <td>791.260010</td>\n",
       "      <td>969100</td>\n",
       "    </tr>\n",
       "    <tr>\n",
       "      <th>4</th>\n",
       "      <td>12/23/2016</td>\n",
       "      <td>790.900024</td>\n",
       "      <td>792.739990</td>\n",
       "      <td>787.280029</td>\n",
       "      <td>789.909973</td>\n",
       "      <td>623400</td>\n",
       "    </tr>\n",
       "    <tr>\n",
       "      <th>...</th>\n",
       "      <td>...</td>\n",
       "      <td>...</td>\n",
       "      <td>...</td>\n",
       "      <td>...</td>\n",
       "      <td>...</td>\n",
       "      <td>...</td>\n",
       "    </tr>\n",
       "    <tr>\n",
       "      <th>56</th>\n",
       "      <td>3/13/2017</td>\n",
       "      <td>844.000000</td>\n",
       "      <td>848.684998</td>\n",
       "      <td>843.250000</td>\n",
       "      <td>845.539978</td>\n",
       "      <td>1149500</td>\n",
       "    </tr>\n",
       "    <tr>\n",
       "      <th>57</th>\n",
       "      <td>3/14/2017</td>\n",
       "      <td>843.640015</td>\n",
       "      <td>847.239990</td>\n",
       "      <td>840.799988</td>\n",
       "      <td>845.619995</td>\n",
       "      <td>779900</td>\n",
       "    </tr>\n",
       "    <tr>\n",
       "      <th>58</th>\n",
       "      <td>3/15/2017</td>\n",
       "      <td>847.590027</td>\n",
       "      <td>848.630005</td>\n",
       "      <td>840.770020</td>\n",
       "      <td>847.200012</td>\n",
       "      <td>1379600</td>\n",
       "    </tr>\n",
       "    <tr>\n",
       "      <th>59</th>\n",
       "      <td>3/16/2017</td>\n",
       "      <td>849.030029</td>\n",
       "      <td>850.849976</td>\n",
       "      <td>846.130005</td>\n",
       "      <td>848.780029</td>\n",
       "      <td>970400</td>\n",
       "    </tr>\n",
       "    <tr>\n",
       "      <th>60</th>\n",
       "      <td>3/17/2017</td>\n",
       "      <td>851.609985</td>\n",
       "      <td>853.400024</td>\n",
       "      <td>847.109985</td>\n",
       "      <td>852.119995</td>\n",
       "      <td>1712300</td>\n",
       "    </tr>\n",
       "  </tbody>\n",
       "</table>\n",
       "<p>61 rows × 6 columns</p>\n",
       "</div>"
      ],
      "text/plain": [
       "          Date        Open        High         Low       Close   Volume\n",
       "0   12/19/2016  790.219971  797.659973  786.270020  794.200012  1225900\n",
       "1   12/20/2016  796.760010  798.650024  793.270020  796.419983   925100\n",
       "2   12/21/2016  795.840027  796.676025  787.099976  794.559998  1208700\n",
       "3   12/22/2016  792.359985  793.320007  788.580017  791.260010   969100\n",
       "4   12/23/2016  790.900024  792.739990  787.280029  789.909973   623400\n",
       "..         ...         ...         ...         ...         ...      ...\n",
       "56   3/13/2017  844.000000  848.684998  843.250000  845.539978  1149500\n",
       "57   3/14/2017  843.640015  847.239990  840.799988  845.619995   779900\n",
       "58   3/15/2017  847.590027  848.630005  840.770020  847.200012  1379600\n",
       "59   3/16/2017  849.030029  850.849976  846.130005  848.780029   970400\n",
       "60   3/17/2017  851.609985  853.400024  847.109985  852.119995  1712300\n",
       "\n",
       "[61 rows x 6 columns]"
      ]
     },
     "execution_count": 64,
     "metadata": {},
     "output_type": "execute_result"
    }
   ],
   "source": [
    "df = pd.read_csv('data/goog.csv')\n",
    "df"
   ]
  },
  {
   "cell_type": "code",
   "execution_count": 65,
   "metadata": {},
   "outputs": [
    {
     "data": {
      "text/plain": [
       "<Axes: >"
      ]
     },
     "execution_count": 65,
     "metadata": {},
     "output_type": "execute_result"
    },
    {
     "data": {
      "image/png": "[encoded data removed]",
      "text/plain": [
       "<Figure size 640x480 with 1 Axes>"
      ]
     },
     "metadata": {},
     "output_type": "display_data"
    }
   ],
   "source": [
    "df.High.plot()"
   ]
  },
  {
   "cell_type": "code",
   "execution_count": 66,
   "metadata": {},
   "outputs": [
    {
     "data": {
      "text/plain": [
       "<Axes: >"
      ]
     },
     "execution_count": 66,
     "metadata": {},
     "output_type": "execute_result"
    },
    {
     "data": {
      "image/png": "[encoded data removed]",
      "text/plain": [
       "<Figure size 640x480 with 1 Axes>"
      ]
     },
     "metadata": {},
     "output_type": "display_data"
    }
   ],
   "source": [
    "df.Low.plot()"
   ]
  },
  {
   "cell_type": "code",
   "execution_count": 67,
   "metadata": {},
   "outputs": [
    {
     "data": {
      "text/plain": [
       "<Axes: >"
      ]
     },
     "execution_count": 67,
     "metadata": {},
     "output_type": "execute_result"
    },
    {
     "data": {
      "image/png": "[encoded data removed]",
      "text/plain": [
       "<Figure size 640x480 with 1 Axes>"
      ]
     },
     "metadata": {},
     "output_type": "display_data"
    }
   ],
   "source": [
    "df.High.plot(kind='bar')"
   ]
  },
  {
   "cell_type": "code",
   "execution_count": 68,
   "metadata": {},
   "outputs": [
    {
     "data": {
      "text/plain": [
       "<Axes: ylabel='Frequency'>"
      ]
     },
     "execution_count": 68,
     "metadata": {},
     "output_type": "execute_result"
    },
    {
     "data": {
      "image/png": "[encoded data removed]",
      "text/plain": [
       "<Figure size 640x480 with 1 Axes>"
      ]
     },
     "metadata": {},
     "output_type": "display_data"
    }
   ],
   "source": [
    "df.High.plot(kind='hist', y='Height')  #히스토그램"
   ]
  },
  {
   "cell_type": "code",
   "execution_count": 69,
   "metadata": {},
   "outputs": [
    {
     "data": {
      "text/plain": [
       "<Axes: >"
      ]
     },
     "execution_count": 69,
     "metadata": {},
     "output_type": "execute_result"
    },
    {
     "data": {
      "image/png": "[encoded data removed]",
      "text/plain": [
       "<Figure size 640x480 with 1 Axes>"
      ]
     },
     "metadata": {},
     "output_type": "display_data"
    }
   ],
   "source": [
    "df.High.plot(kind='box', y='math score')"
   ]
  },
  {
   "cell_type": "markdown",
   "metadata": {},
   "source": [
    "014일차-실습-2\n",
    "------------------------------------------------------------------\n",
    "<문제>\n",
    "리스트를 이용하여 시리즈로 만들고 이를 다시 데이터 프레임으로 변환한 후 그래프를 생성하세요.\n",
    "------------------------------------------------------------------\n",
    "<요구사항1>\n",
    "강의와 실습문제의 연결 설명을 위하여 직전 강의에서 사용한 코드를 연속하여 작업하세요.\n",
    "------------------------------------------------------------------\n",
    "<요구사항2>\n",
    "아래와 같은 리스트를 시리즈로 만들고 인덱스는 날짜(2020-01-01 ~ 2020-01-10)를 \n",
    "이용하세요.\n",
    "ls1 = [3400, 2300, 1200, 2110, 3320, 1220, 2000, 4600, 2300, 3400]\n",
    "ls2 = [2100, 2200, 1800, 2220, 3110, 1420, 2100, 4530, 2200, 3100]\n",
    "ls3 = [3300, 3000, 2100, 2240, 3530, 1620, 2200, 4200, 1300, 4200]\n",
    "ls4 = [3300, 2700, 900, 2140, 3200, 2020, 2800, 4000, 4300, 4000]\n",
    "각 리스트의 요소의 숫자는 판매량입니다.\n",
    "4개의 시리즈는 각각 Seoul, Busan, Daegu, Kwangju 의 이름을 가집니다.\n",
    "------------------------------------------------------------------\n",
    "<요구사항3>\n",
    "4개의 시리즈를 합체의 개념으로  한 개의 데이터프레임으로 만드세요.\n",
    "------------------------------------------------------------------\n",
    "<요구사항4>\n",
    "각 도시별 10일간 판매량 합계를 만들어 데이터프레임에 새로운 열(컬럼)으로 만드세요.\n",
    "일별 서울과 부산의 판매량의 차이를 계산하여 새로운 열(컬럼)으로 만드세요.\n",
    "------------------------------------------------------------------\n",
    "<요구사항5>\n",
    "판매량 합계를 꺽은선 그래프로 표현해 보세요.\n",
    "------------------------------------------------------------------\n",
    "<실행결과>\n",
    "별첨그림 참조\n",
    "------------------------------------------------------------------\n",
    "이상의 실습결과를 techmr@daum.net; ty@doublerock.io 메일로 전송하세요.\n",
    "메일제목은 '014일차-실습-2-완료' 라고 지정하세요."
   ]
  },
  {
   "cell_type": "code",
   "execution_count": null,
   "metadata": {},
   "outputs": [],
   "source": [
    "# 요구사항2\n",
    "\n",
    "ls1 = [3400, 2300, 1200, 2110, 3320, 1220, 2000, 4600, 2300, 3400]\n",
    "ls2 = [2100, 2200, 1800, 2220, 3110, 1420, 2100, 4530, 2200, 3100]\n",
    "ls3 = [3300, 3000, 2100, 2240, 3530, 1620, 2200, 4200, 1300, 4200]\n",
    "ls4 = [3300, 2700, 900, 2140, 3200, 2020, 2800, 4000, 4300, 4000]\n",
    "\n",
    "dates = pd.date_range('2020-01-01','2020-01-10')\n",
    "\n",
    "seoul = pd.Series(ls1, index=dates)\n",
    "busan = pd.Series(ls2, index=dates)\n",
    "daegu = pd.Series(ls3, index=dates)\n",
    "kwangju = pd.Series(ls4, index=dates)"
   ]
  },
  {
   "cell_type": "code",
   "execution_count": null,
   "metadata": {},
   "outputs": [
    {
     "data": {
      "text/html": [
       "<div>\n",
       "<style scoped>\n",
       "    .dataframe tbody tr th:only-of-type {\n",
       "        vertical-align: middle;\n",
       "    }\n",
       "\n",
       "    .dataframe tbody tr th {\n",
       "        vertical-align: top;\n",
       "    }\n",
       "\n",
       "    .dataframe thead th {\n",
       "        text-align: right;\n",
       "    }\n",
       "</style>\n",
       "<table border=\"1\" class=\"dataframe\">\n",
       "  <thead>\n",
       "    <tr style=\"text-align: right;\">\n",
       "      <th></th>\n",
       "      <th>Seoul</th>\n",
       "      <th>Busan</th>\n",
       "      <th>Daegu</th>\n",
       "      <th>Kwangju</th>\n",
       "    </tr>\n",
       "  </thead>\n",
       "  <tbody>\n",
       "    <tr>\n",
       "      <th>2020-01-01</th>\n",
       "      <td>3400</td>\n",
       "      <td>2100</td>\n",
       "      <td>3300</td>\n",
       "      <td>3300</td>\n",
       "    </tr>\n",
       "    <tr>\n",
       "      <th>2020-01-02</th>\n",
       "      <td>2300</td>\n",
       "      <td>2200</td>\n",
       "      <td>3000</td>\n",
       "      <td>2700</td>\n",
       "    </tr>\n",
       "    <tr>\n",
       "      <th>2020-01-03</th>\n",
       "      <td>1200</td>\n",
       "      <td>1800</td>\n",
       "      <td>2100</td>\n",
       "      <td>900</td>\n",
       "    </tr>\n",
       "    <tr>\n",
       "      <th>2020-01-04</th>\n",
       "      <td>2110</td>\n",
       "      <td>2220</td>\n",
       "      <td>2240</td>\n",
       "      <td>2140</td>\n",
       "    </tr>\n",
       "    <tr>\n",
       "      <th>2020-01-05</th>\n",
       "      <td>3320</td>\n",
       "      <td>3110</td>\n",
       "      <td>3530</td>\n",
       "      <td>3200</td>\n",
       "    </tr>\n",
       "    <tr>\n",
       "      <th>2020-01-06</th>\n",
       "      <td>1220</td>\n",
       "      <td>1420</td>\n",
       "      <td>1620</td>\n",
       "      <td>2020</td>\n",
       "    </tr>\n",
       "    <tr>\n",
       "      <th>2020-01-07</th>\n",
       "      <td>2000</td>\n",
       "      <td>2100</td>\n",
       "      <td>2200</td>\n",
       "      <td>2800</td>\n",
       "    </tr>\n",
       "    <tr>\n",
       "      <th>2020-01-08</th>\n",
       "      <td>4600</td>\n",
       "      <td>4530</td>\n",
       "      <td>4200</td>\n",
       "      <td>4000</td>\n",
       "    </tr>\n",
       "    <tr>\n",
       "      <th>2020-01-09</th>\n",
       "      <td>2300</td>\n",
       "      <td>2200</td>\n",
       "      <td>1300</td>\n",
       "      <td>4300</td>\n",
       "    </tr>\n",
       "    <tr>\n",
       "      <th>2020-01-10</th>\n",
       "      <td>3400</td>\n",
       "      <td>3100</td>\n",
       "      <td>4200</td>\n",
       "      <td>4000</td>\n",
       "    </tr>\n",
       "  </tbody>\n",
       "</table>\n",
       "</div>"
      ],
      "text/plain": [
       "            Seoul  Busan  Daegu  Kwangju\n",
       "2020-01-01   3400   2100   3300     3300\n",
       "2020-01-02   2300   2200   3000     2700\n",
       "2020-01-03   1200   1800   2100      900\n",
       "2020-01-04   2110   2220   2240     2140\n",
       "2020-01-05   3320   3110   3530     3200\n",
       "2020-01-06   1220   1420   1620     2020\n",
       "2020-01-07   2000   2100   2200     2800\n",
       "2020-01-08   4600   4530   4200     4000\n",
       "2020-01-09   2300   2200   1300     4300\n",
       "2020-01-10   3400   3100   4200     4000"
      ]
     },
     "execution_count": 78,
     "metadata": {},
     "output_type": "execute_result"
    }
   ],
   "source": [
    "# 요구사항3\n",
    "\n",
    "df = pd.DataFrame({'Seoul':seoul, 'Busan':busan, 'Daegu':daegu, 'Kwangju':kwangju})\n",
    "\n",
    "df"
   ]
  },
  {
   "cell_type": "code",
   "execution_count": null,
   "metadata": {},
   "outputs": [
    {
     "data": {
      "text/html": [
       "<div>\n",
       "<style scoped>\n",
       "    .dataframe tbody tr th:only-of-type {\n",
       "        vertical-align: middle;\n",
       "    }\n",
       "\n",
       "    .dataframe tbody tr th {\n",
       "        vertical-align: top;\n",
       "    }\n",
       "\n",
       "    .dataframe thead th {\n",
       "        text-align: right;\n",
       "    }\n",
       "</style>\n",
       "<table border=\"1\" class=\"dataframe\">\n",
       "  <thead>\n",
       "    <tr style=\"text-align: right;\">\n",
       "      <th></th>\n",
       "      <th>Seoul</th>\n",
       "      <th>Busan</th>\n",
       "      <th>Daegu</th>\n",
       "      <th>Kwangju</th>\n",
       "      <th>Total</th>\n",
       "      <th>Seoul_Busan</th>\n",
       "    </tr>\n",
       "  </thead>\n",
       "  <tbody>\n",
       "    <tr>\n",
       "      <th>2020-01-01</th>\n",
       "      <td>3400</td>\n",
       "      <td>2100</td>\n",
       "      <td>3300</td>\n",
       "      <td>3300</td>\n",
       "      <td>12100</td>\n",
       "      <td>1300</td>\n",
       "    </tr>\n",
       "    <tr>\n",
       "      <th>2020-01-02</th>\n",
       "      <td>2300</td>\n",
       "      <td>2200</td>\n",
       "      <td>3000</td>\n",
       "      <td>2700</td>\n",
       "      <td>10200</td>\n",
       "      <td>100</td>\n",
       "    </tr>\n",
       "    <tr>\n",
       "      <th>2020-01-03</th>\n",
       "      <td>1200</td>\n",
       "      <td>1800</td>\n",
       "      <td>2100</td>\n",
       "      <td>900</td>\n",
       "      <td>6000</td>\n",
       "      <td>-600</td>\n",
       "    </tr>\n",
       "    <tr>\n",
       "      <th>2020-01-04</th>\n",
       "      <td>2110</td>\n",
       "      <td>2220</td>\n",
       "      <td>2240</td>\n",
       "      <td>2140</td>\n",
       "      <td>8710</td>\n",
       "      <td>-110</td>\n",
       "    </tr>\n",
       "    <tr>\n",
       "      <th>2020-01-05</th>\n",
       "      <td>3320</td>\n",
       "      <td>3110</td>\n",
       "      <td>3530</td>\n",
       "      <td>3200</td>\n",
       "      <td>13160</td>\n",
       "      <td>210</td>\n",
       "    </tr>\n",
       "    <tr>\n",
       "      <th>2020-01-06</th>\n",
       "      <td>1220</td>\n",
       "      <td>1420</td>\n",
       "      <td>1620</td>\n",
       "      <td>2020</td>\n",
       "      <td>6280</td>\n",
       "      <td>-200</td>\n",
       "    </tr>\n",
       "    <tr>\n",
       "      <th>2020-01-07</th>\n",
       "      <td>2000</td>\n",
       "      <td>2100</td>\n",
       "      <td>2200</td>\n",
       "      <td>2800</td>\n",
       "      <td>9100</td>\n",
       "      <td>-100</td>\n",
       "    </tr>\n",
       "    <tr>\n",
       "      <th>2020-01-08</th>\n",
       "      <td>4600</td>\n",
       "      <td>4530</td>\n",
       "      <td>4200</td>\n",
       "      <td>4000</td>\n",
       "      <td>17330</td>\n",
       "      <td>70</td>\n",
       "    </tr>\n",
       "    <tr>\n",
       "      <th>2020-01-09</th>\n",
       "      <td>2300</td>\n",
       "      <td>2200</td>\n",
       "      <td>1300</td>\n",
       "      <td>4300</td>\n",
       "      <td>10100</td>\n",
       "      <td>100</td>\n",
       "    </tr>\n",
       "    <tr>\n",
       "      <th>2020-01-10</th>\n",
       "      <td>3400</td>\n",
       "      <td>3100</td>\n",
       "      <td>4200</td>\n",
       "      <td>4000</td>\n",
       "      <td>14700</td>\n",
       "      <td>300</td>\n",
       "    </tr>\n",
       "  </tbody>\n",
       "</table>\n",
       "</div>"
      ],
      "text/plain": [
       "            Seoul  Busan  Daegu  Kwangju  Total  Seoul_Busan\n",
       "2020-01-01   3400   2100   3300     3300  12100         1300\n",
       "2020-01-02   2300   2200   3000     2700  10200          100\n",
       "2020-01-03   1200   1800   2100      900   6000         -600\n",
       "2020-01-04   2110   2220   2240     2140   8710         -110\n",
       "2020-01-05   3320   3110   3530     3200  13160          210\n",
       "2020-01-06   1220   1420   1620     2020   6280         -200\n",
       "2020-01-07   2000   2100   2200     2800   9100         -100\n",
       "2020-01-08   4600   4530   4200     4000  17330           70\n",
       "2020-01-09   2300   2200   1300     4300  10100          100\n",
       "2020-01-10   3400   3100   4200     4000  14700          300"
      ]
     },
     "execution_count": 79,
     "metadata": {},
     "output_type": "execute_result"
    }
   ],
   "source": [
    "# 요구사항4\n",
    "\n",
    "df['Total'] = df.Seoul + df.Busan + df.Daegu + df.Kwangju\n",
    "\n",
    "df['Seoul_Busan'] = df.Seoul- df.Busan\n",
    "\n",
    "df"
   ]
  },
  {
   "cell_type": "code",
   "execution_count": null,
   "metadata": {},
   "outputs": [
    {
     "data": {
      "text/plain": [
       "<Axes: >"
      ]
     },
     "execution_count": 76,
     "metadata": {},
     "output_type": "execute_result"
    },
    {
     "data": {
      "image/png": "[encoded data removed]",
      "text/plain": [
       "<Figure size 640x480 with 1 Axes>"
      ]
     },
     "metadata": {},
     "output_type": "display_data"
    }
   ],
   "source": [
    "# 요구사항5\n",
    "\n",
    "df.Total.plot()"
   ]
  },
  {
   "cell_type": "code",
   "execution_count": 80,
   "metadata": {},
   "outputs": [],
   "source": [
    "# 014일차-실습-2-해답\n",
    "# 아래의 해답은 몇 개의 단계(step)로 되어 있습니다.\n",
    "# 각 단계가 어떤 결과를 도출하는지 잘 분석하세요.\n",
    "#--------------------------------------------------\n",
    "# 014일차-실습-2-해답-step1\n",
    "import pandas as pd\n",
    "pd.set_option('display.notebook_repr_html',True)\n",
    "pd.set_option('display.max_column',7)\n",
    "pd.set_option('display.max_rows',10)\n",
    "pd.set_option('display.width',250)"
   ]
  },
  {
   "cell_type": "code",
   "execution_count": 81,
   "metadata": {},
   "outputs": [],
   "source": [
    "# 014일차-실습-2-해답-step2\n",
    "# 4개의 시리즈를 만든다.\n",
    "# 시리즈를 만들 때 리스트형식의 자료와 date_range형식의 인덱스를 사용한다.  \n",
    "dates = pd.date_range('2020-01-01', '2020-01-10')\n",
    "# print(dates)\n",
    "ls1 = pd.Series([3400, 2300, 1200, 2110, 3320, 1220, 2000, 4600, 2300, 3400], index = dates)\n",
    "ls2 = pd.Series([2100, 2200, 1800, 2220, 3110, 1420, 2100, 4530, 2200, 3100], index = dates)\n",
    "ls3 = pd.Series([3300, 3000, 2100, 2240, 3530, 1620, 2200, 4200, 1300, 4200], index = dates)\n",
    "ls4 = pd.Series([3300, 2700, 900, 2140, 3200, 2020, 2800, 4000, 4300, 4000], index = dates)"
   ]
  },
  {
   "cell_type": "code",
   "execution_count": 82,
   "metadata": {},
   "outputs": [
    {
     "name": "stdout",
     "output_type": "stream",
     "text": [
      "<class 'pandas.core.indexes.datetimes.DatetimeIndex'>\n"
     ]
    }
   ],
   "source": [
    "# 014일차-실습-2-해답-step3\n",
    "# 서비스 코드입니다.\n",
    "print(type(dates))"
   ]
  },
  {
   "cell_type": "code",
   "execution_count": 83,
   "metadata": {},
   "outputs": [
    {
     "name": "stdout",
     "output_type": "stream",
     "text": [
      "            Seoul  Busan  Daegu  Kwangju\n",
      "2020-01-01   3400   2100   3300     3300\n",
      "2020-01-02   2300   2200   3000     2700\n",
      "2020-01-03   1200   1800   2100      900\n",
      "2020-01-04   2110   2220   2240     2140\n",
      "2020-01-05   3320   3110   3530     3200\n",
      "2020-01-06   1220   1420   1620     2020\n",
      "2020-01-07   2000   2100   2200     2800\n",
      "2020-01-08   4600   4530   4200     4000\n",
      "2020-01-09   2300   2200   1300     4300\n",
      "2020-01-10   3400   3100   4200     4000\n"
     ]
    }
   ],
   "source": [
    "# 014일차-실습-2-해답-step4\n",
    "# 4개의 시리즈를 이용하여 데이터프레임을 만든다.\n",
    "# 데이터 프레임의 인덱스는 별도로 정하지 않았다 -> 이유 : 4 개의 시리즈를 생성하였던 이전 단계에서  \n",
    "# 모든 시리즈는 동일한 dates를 인덱스로 사용하였음.\n",
    "df = pd.DataFrame({\"Seoul\" : ls1, \"Busan\" : ls2, \"Daegu\" : ls3, \"Kwangju\" : ls4})\n",
    "print(df)"
   ]
  },
  {
   "cell_type": "code",
   "execution_count": 84,
   "metadata": {},
   "outputs": [
    {
     "name": "stdout",
     "output_type": "stream",
     "text": [
      "            Seoul  Busan  Daegu  Kwangju  Total  Seoul_Busan\n",
      "2020-01-01   3400   2100   3300     3300  12100         1300\n",
      "2020-01-02   2300   2200   3000     2700  10200          100\n",
      "2020-01-03   1200   1800   2100      900   6000         -600\n",
      "2020-01-04   2110   2220   2240     2140   8710         -110\n",
      "2020-01-05   3320   3110   3530     3200  13160          210\n",
      "2020-01-06   1220   1420   1620     2020   6280         -200\n",
      "2020-01-07   2000   2100   2200     2800   9100         -100\n",
      "2020-01-08   4600   4530   4200     4000  17330           70\n",
      "2020-01-09   2300   2200   1300     4300  10100          100\n",
      "2020-01-10   3400   3100   4200     4000  14700          300\n"
     ]
    }
   ],
   "source": [
    "# 014일차-실습-2-해답-step5\n",
    "# 이전 단계에서 만든 데이터프레임에 Total이름의 열(시리즈)을 한 개 추가해줌.  \n",
    "# Total 에는 4개 도시의 일자별 판매량 합계가 저장됨\n",
    "df['Total'] = df.Seoul + df.Busan + df.Daegu + df.Kwangju\n",
    "df['Seoul_Busan']= df.Seoul - df.Busan\n",
    "print(df)"
   ]
  },
  {
   "cell_type": "code",
   "execution_count": 85,
   "metadata": {},
   "outputs": [
    {
     "data": {
      "text/plain": [
       "<Axes: >"
      ]
     },
     "execution_count": 85,
     "metadata": {},
     "output_type": "execute_result"
    },
    {
     "data": {
      "image/png": "[encoded data removed]",
      "text/plain": [
       "<Figure size 640x480 with 1 Axes>"
      ]
     },
     "metadata": {},
     "output_type": "display_data"
    }
   ],
   "source": [
    "# 014일차-실습-2-해답-step6\n",
    "# 일자별 판매량 합계값을 이용하여 꺽은선 그래프 출력함\n",
    "df.Total.plot()"
   ]
  },
  {
   "cell_type": "markdown",
   "metadata": {},
   "source": [
    "014일차-실습-3\n",
    "------------------------------------------------------------------\n",
    "<문제>, <배경설명>, <요구사항>, <실행결과> 를 충족하는 실습을 수행하고 결과를 제출하세요.\n",
    "------------------------------------------------------------------\n",
    "<문제>\n",
    "- 이름과 나이, 성별 정보가 저장된 딕셔너리 {'이름': '안병현','나이': 34,'성별': '남'} 를 활용하여\n",
    "   pandas의 Serise 객체를 생성하고 출력세요.\n",
    "------------------------------------------------------------------\n",
    "<요구사항1>\n",
    "이전 실습에 사용한  notebook 파일을 이용하여 실습하세요.\n",
    "------------------------------------------------------------------\n",
    "<실행결과>\n",
    "이름 안병현\n",
    "나이 34\n",
    "성별 남\n",
    "dtype: object\n",
    "------------------------------------------------------------------\n",
    "이상의 실습결과를 techmr@daum.net; ty@doublerock.io 메일로 전송하세요.\n",
    "메일제목은 '014일차-실습-3-완료' 라고 지정하세요."
   ]
  },
  {
   "cell_type": "code",
   "execution_count": 114,
   "metadata": {},
   "outputs": [
    {
     "data": {
      "text/plain": [
       "이름    안병현\n",
       "나이     34\n",
       "성별      남\n",
       "dtype: object"
      ]
     },
     "execution_count": 114,
     "metadata": {},
     "output_type": "execute_result"
    }
   ],
   "source": [
    "dict1 = {'이름':'안병현', '나이':34, '성별':'남'}\n",
    "\n",
    "se = pd.Series(dict1)\n",
    "\n",
    "se"
   ]
  },
  {
   "cell_type": "code",
   "execution_count": 87,
   "metadata": {},
   "outputs": [
    {
     "name": "stdout",
     "output_type": "stream",
     "text": [
      "이름    안병현\n",
      "나이     34\n",
      "성별      남\n",
      "dtype: object\n"
     ]
    }
   ],
   "source": [
    "#014일차-실습-3-해답\n",
    "#------------------------------------------------------------------\n",
    "s1 = pd.Series({'이름': '안병현','나이': 34,'성별': '남'})\n",
    "#print(type(s1))    # 서비스코드 : s1의 타입\n",
    "#print(s1.index)    # 서비스코드 : s1.index --> 이름, 나이, 성별  --> 딕셔너리 각 쌍의 키 부분임.\n",
    "#print(s1.values)   # 서비스코드 : s1.value --> '안병현' 34 '남']  --> 딕셔너리 각 쌍의 밸류 부분임.\n",
    "print(s1)\n"
   ]
  },
  {
   "cell_type": "markdown",
   "metadata": {},
   "source": [
    "014일차-실습-4\n",
    "------------------------------------------------------------------\n",
    "<문제>, <배경설명>, <요구사항>, <실행결과> 를 충족하는 실습을 수행하고 결과를 제출하세요.\n",
    "------------------------------------------------------------------\n",
    "<문제>\n",
    "- 이름과 나이, 성별 정보가 저장된 딕셔너리를 활용하여\n",
    "   pandas의 Serise 객체를 생성하고 출력세요.\n",
    "------------------------------------------------------------------\n",
    "<요구사항1>\n",
    "이전 실습에 사용한  notebook 파일을 이용하여 실습하세요.\n",
    "이름과 나이, 성별 정보가 저장된 딕셔너리를 활용하여 pandas의 Serise 객체로 생성하시오.\n",
    "시리즈의 이름은 이전 것과 동일하게 하세요\n",
    "생성된 시리즈 객체의 정보를 모두 출력하시오.\n",
    "------------------------------------------------------------------\n",
    "<실행결과>\n",
    "이름 안병현\n",
    "나이 34\n",
    "성별 남\n",
    "이름 안치원\n",
    "나이 44\n",
    "성별 남\n",
    "------------------------------------------------------------------\n",
    "이상의 실습결과를 techmr@daum.net; ty@doublerock.io 메일로 전송하세요.\n",
    "메일제목은 '014일차-실습-4-완료' 라고 지정하세요."
   ]
  },
  {
   "cell_type": "code",
   "execution_count": 102,
   "metadata": {},
   "outputs": [
    {
     "data": {
      "text/plain": [
       "이름    [안병현, 안치현]\n",
       "나이            34\n",
       "성별             남\n",
       "dtype: object"
      ]
     },
     "execution_count": 102,
     "metadata": {},
     "output_type": "execute_result"
    }
   ],
   "source": [
    "s1 = pd.Series({'이름': ['안병현', '안치현'],'나이': 34,'성별': '남'})\n",
    "\n",
    "s1"
   ]
  },
  {
   "cell_type": "code",
   "execution_count": 103,
   "metadata": {},
   "outputs": [
    {
     "name": "stdout",
     "output_type": "stream",
     "text": [
      "이름     안병현\n",
      "나이      34\n",
      "성별       남\n",
      "이름     안치원\n",
      "나이      44\n",
      "성별       남\n",
      "dtype: object\n"
     ]
    }
   ],
   "source": [
    "#014일차-실습-4-해답\n",
    "# 딕셔너리 내부의 쌍을 잘 분석하세요.\n",
    "s1 = pd.Series(\n",
    "    {\n",
    "    '이름': '안병현',\n",
    "    '나이': 34,\n",
    "    '성별': '남',\n",
    "    '이름 ': '안치원',\n",
    "    '나이 ': 44,\n",
    "    '성별 ': '남',\n",
    "    }\n",
    ")\n",
    "print(s1)"
   ]
  },
  {
   "cell_type": "code",
   "execution_count": 104,
   "metadata": {},
   "outputs": [
    {
     "data": {
      "text/plain": [
       "이름    안병현\n",
       "나이     34\n",
       "성별      남\n",
       "이름    안치원\n",
       "나이     44\n",
       "성별      남\n",
       "dtype: object"
      ]
     },
     "execution_count": 104,
     "metadata": {},
     "output_type": "execute_result"
    }
   ],
   "source": [
    "#------------------------------------------------------------------\n",
    "#014일차-실습-4-해답-ver2\n",
    "s2 = pd.Series({'이름': '안병현','나이': 34,'성별': '남'})\n",
    "s3 = pd.Series({'이름': '안치원','나이': 44,'성별': '남'})\n",
    "s = pd.concat([s2, s3])  # concat() 함수 사용\n",
    "#print(type(s))\n",
    "s\n",
    "#pandas.concat()\n",
    "# https://docs.google.com/document/d/13Cj4NF9W-YMbegrZGwNH3upcGNlhbuFpJpMqWxtg0Ic/edit"
   ]
  },
  {
   "cell_type": "markdown",
   "metadata": {},
   "source": [
    "014일차-실습-5\n",
    "------------------------------------------------------------------\n",
    "<문제>, <배경설명>, <요구사항>, <실행결과> 를 충족하는 실습을 수행하고 결과를 제출하세요.\n",
    "------------------------------------------------------------------\n",
    "<문제>\n",
    "- 이름과 나이, 성별 정보가 저장된 딕셔너리를 활용하여\n",
    "   pandas의 Serise 객체를 생성하고 출력세요.\n",
    "------------------------------------------------------------------\n",
    "<요구사항2>\n",
    "- 054일차-실습-5-보충설명자료를 참조하세요. \n",
    "------------------------------------------------------------------\n",
    "<요구사항2>\n",
    "- zip함수를 사용하세요.\n",
    "------------------------------------------------------------------\n",
    "<요구사항3>\n",
    "014일차-실습-5-완료-소스코드-체크포인트는 다음과 같습니다.\n",
    "소스코드 안에 딕셔너리가 있어야 합니다.\n",
    "소스코드 안에 시리즈가 있어야 합니다.\n",
    "------------------------------------------------------------------\n",
    "<실행결과>\n",
    "별도 이미지 참조하세요.\n",
    "------------------------------------------------------------------\n",
    "이상의 실습결과를 techmr@daum.net; ty@doublerock.io 메일로 전송하세요.\n",
    "메일제목은 '014일차-실습-5-완료' 라고 지정하세요.\n",
    "\n",
    "\n",
    "------------------------------------------------------------------\n",
    "#014일차-실습-5-보충설명자료\n",
    "------------------------------------------------------------------\n",
    "'''\n",
    "- zip(0함수를 이용한 dictionary 변환 :\n",
    "zip() 함수를 이용하여 리스트와 튜플을 딕셔너리(dictionary)로 변환합니다.\n",
    "dictionay의 쌍에서 key 역할을 할 리스트와 value값을 담고 있는 리스트를\n",
    "zip() 함수의 인수로 사용하고, 이 결과를 다시 dict() 함수의 인수로 사용합니다.\n",
    "<예>\n",
    "'''\n",
    "keys = [1, 2, 3, 4]\n",
    "values = [\"홍길동\", \"이순신\", \"유관순\", \"안중근\"]\n",
    "print(dict(zip(keys, values)))"
   ]
  },
  {
   "cell_type": "code",
   "execution_count": null,
   "metadata": {},
   "outputs": [],
   "source": [
    "d1 = {'이름':'안병현', '나이':34, '성별':'남'}\n",
    "d2 = {'이름':'안치원', '나이':44, '성별':'남'}\n",
    "\n"
   ]
  },
  {
   "cell_type": "code",
   "execution_count": 1,
   "metadata": {},
   "outputs": [
    {
     "name": "stdout",
     "output_type": "stream",
     "text": [
      "{1: '홍길동', 2: '이순신', 3: '유관순', 4: '안중근'}\n"
     ]
    }
   ],
   "source": [
    "keys = [1, 2, 3, 4]\n",
    "values = [\"홍길동\", \"이순신\", \"유관순\", \"안중근\"]\n",
    "print(dict(zip(keys, values)))\n"
   ]
  },
  {
   "cell_type": "code",
   "execution_count": 117,
   "metadata": {},
   "outputs": [
    {
     "ename": "TypeError",
     "evalue": "'zip' object is not callable",
     "output_type": "error",
     "traceback": [
      "\u001b[31m---------------------------------------------------------------------------\u001b[39m",
      "\u001b[31mTypeError\u001b[39m                                 Traceback (most recent call last)",
      "\u001b[36mCell\u001b[39m\u001b[36m \u001b[39m\u001b[32mIn[117]\u001b[39m\u001b[32m, line 8\u001b[39m\n\u001b[32m      5\u001b[39m zipped_data = \u001b[38;5;28mzip\u001b[39m(keys, values)\n\u001b[32m      7\u001b[39m \u001b[38;5;66;03m# dict() 함수를 사용하여 딕셔너리 생성\u001b[39;00m\n\u001b[32m----> \u001b[39m\u001b[32m8\u001b[39m my_dict = \u001b[38;5;28;43mdict\u001b[39;49m\u001b[43m(\u001b[49m\u001b[43mzipped_data\u001b[49m\u001b[43m)\u001b[49m\n\u001b[32m     10\u001b[39m \u001b[38;5;28mprint\u001b[39m(my_dict)  \u001b[38;5;66;03m# 출력: {'a': 1, 'b': 2, 'c': 3}\u001b[39;00m\n",
      "\u001b[31mTypeError\u001b[39m: 'zip' object is not callable"
     ]
    }
   ],
   "source": [
    "keys = ['a', 'b', 'c']\n",
    "values = [1, 2, 3]\n",
    "\n",
    "# zip() 함수를 사용하여 튜플 리스트 생성\n",
    "zipped_data = zip(keys, values)\n",
    "\n",
    "# dict() 함수를 사용하여 딕셔너리 생성\n",
    "my_dict = dict(zipped_data)\n",
    "\n",
    "print(my_dict)  # 출력: {'a': 1, 'b': 2, 'c': 3}"
   ]
  },
  {
   "cell_type": "markdown",
   "metadata": {},
   "source": [
    "015일차-실습-1\n",
    "------------------------------------------------------------------\n",
    "<문제>\n",
    "<문제 >\n",
    "- 문자열을 활용하여 pandas의 Serise 객체를 생성하고 출력세요.\n",
    "------------------------------------------------------------------\n",
    "<요구사항1>\n",
    "이전 학습일의 014일차-실습-5 까지 사용한 notebook 파일(아래링크 참조)을\n",
    "이후의 실습문제에 연속하여 사용하세요.\n",
    "ipynb: 디스코드의 교안공유 or 라운지 채널로 공유함 \n",
    "data: 디스코드의 교안공유 or 라운지 채널로 공유함 \n",
    "------------------------------------------------------------------\n",
    "<요구사항2>\n",
    "txt1= 'kim*lee*hong*park*choi'\n",
    "과 같은 문자열이 있습니다.\n",
    "이것을 시리즈로 만드세요.\n",
    "------------------------------------------------------------------\n",
    "<실행결과>\n",
    "0  kim\n",
    "1  lee\n",
    "2  hong\n",
    "3  park\n",
    "4  choi\n",
    "dtype: object\n",
    "------------------------------------------------------------------\n",
    "이상의 실습결과를 techmr@daum.net; ty@doublerock.io 메일로 전송하세요.\n",
    "메일제목은 '015일차-실습-1-완료' 라고 지정하세요."
   ]
  },
  {
   "cell_type": "code",
   "execution_count": 2,
   "metadata": {},
   "outputs": [
    {
     "data": {
      "text/plain": [
       "'kim*lee*hong*park*choi'"
      ]
     },
     "execution_count": 2,
     "metadata": {},
     "output_type": "execute_result"
    }
   ],
   "source": [
    "txt1= 'kim*lee*hong*park*choi'\n",
    "\n",
    "txt1"
   ]
  },
  {
   "cell_type": "code",
   "execution_count": null,
   "metadata": {},
   "outputs": [],
   "source": []
  },
  {
   "cell_type": "code",
   "execution_count": null,
   "metadata": {},
   "outputs": [],
   "source": []
  },
  {
   "cell_type": "code",
   "execution_count": null,
   "metadata": {},
   "outputs": [],
   "source": []
  },
  {
   "cell_type": "code",
   "execution_count": null,
   "metadata": {},
   "outputs": [],
   "source": []
  },
  {
   "cell_type": "code",
   "execution_count": null,
   "metadata": {},
   "outputs": [],
   "source": []
  },
  {
   "cell_type": "code",
   "execution_count": null,
   "metadata": {},
   "outputs": [],
   "source": []
  },
  {
   "cell_type": "code",
   "execution_count": null,
   "metadata": {},
   "outputs": [],
   "source": []
  }
 ],
 "metadata": {
  "kernelspec": {
   "display_name": "Python 3",
   "language": "python",
   "name": "python3"
  },
  "language_info": {
   "codemirror_mode": {
    "name": "ipython",
    "version": 3
   },
   "file_extension": ".py",
   "mimetype": "text/x-python",
   "name": "python",
   "nbconvert_exporter": "python",
   "pygments_lexer": "ipython3",
   "version": "3.13.4"
  },
  "orig_nbformat": 4
 },
 "nbformat": 4,
 "nbformat_minor": 2
}
