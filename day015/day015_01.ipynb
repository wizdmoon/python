{
 "cells": [
  {
   "cell_type": "code",
   "execution_count": 8,
   "id": "f95b00ca",
   "metadata": {},
   "outputs": [
    {
     "name": "stdout",
     "output_type": "stream",
     "text": [
      "\n",
      "현재 경로 : c:\\Users\\MOON\\Desktop\\인공지능사관학교\\Python\\day015\n"
     ]
    }
   ],
   "source": [
    "import os\n",
    "print('\\n현재 경로 :'  , os.getcwd())"
   ]
  },
  {
   "cell_type": "code",
   "execution_count": 10,
   "id": "d2f2a408",
   "metadata": {},
   "outputs": [
    {
     "name": "stdout",
     "output_type": "stream",
     "text": [
      "programming is fun\n",
      "very fun!\n",
      "have a good time\n",
      "mouse is input device\n",
      "keyboard is input device\n",
      "computer is input output system\n"
     ]
    }
   ],
   "source": [
    "try:\n",
    "    ftest1 = open('data/ftest.txt', mode='r')\n",
    "    print(ftest1.read())\n",
    "\n",
    "    ftest2 = open('data/ftest2.txt', mode='w')\n",
    "    ftest2.write('my first test~')\n",
    "\n",
    "    ftest3 = open('data/ftest2.txt', mode='a')\n",
    "    ftest3.write('\\nmy second text~')\n",
    "\n",
    "except Exception as e:\n",
    "    print('Error 발생:', e)\n",
    "\n",
    "finally:\n",
    "    ftest1.close()\n",
    "    ftest2.close()\n",
    "    ftest3.close()\n",
    "\n",
    "\n"
   ]
  },
  {
   "cell_type": "code",
   "execution_count": 11,
   "id": "52a6775a",
   "metadata": {},
   "outputs": [],
   "source": [
    "try:\n",
    "    ftest3 = open('data/ftest2.txt', mode='a')\n",
    "    ftest3.write('\\nmy second text~12314312312')\n",
    "\n",
    "except Exception as e:\n",
    "    print('Error 발생:', e)\n",
    "\n",
    "finally:\n",
    "    ftest3.close()\n",
    "\n",
    "\n"
   ]
  }
 ],
 "metadata": {
  "kernelspec": {
   "display_name": "Python 3",
   "language": "python",
   "name": "python3"
  },
  "language_info": {
   "codemirror_mode": {
    "name": "ipython",
    "version": 3
   },
   "file_extension": ".py",
   "mimetype": "text/x-python",
   "name": "python",
   "nbconvert_exporter": "python",
   "pygments_lexer": "ipython3",
   "version": "3.13.4"
  }
 },
 "nbformat": 4,
 "nbformat_minor": 5
}
