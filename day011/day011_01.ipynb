{
 "cells": [
  {
   "cell_type": "markdown",
   "id": "afdbc827",
   "metadata": {},
   "source": [
    "011일차-실습-1\n",
    "------------------------------------------------------------------\n",
    "<문제>, <배경설명>, <요구사항>, <실행결과> 를 충족하는 실습을 수행하고 결과를 제출하세요.\n",
    "------------------------------------------------------------------\n",
    "<문제>\n",
    "- <요구사항>과 <실행결과>를 충족하도록 수행하고\n",
    "  그 결과를 스샷으로 작성하세요.\n",
    "\n",
    "------------------------------------------------------------------\n",
    "<요구사항1>\n",
    "다음 실행결과를 참조하여 판다스의 시리즈 객체를 이용하여 구현하세요.\n",
    "\n",
    "------------------------------------------------------------------\n",
    "<실행결과>\n",
    "1         5\n",
    "2        11\n",
    "3        14\n",
    "4        30\n",
    "5        33\n",
    "6        38\n",
    "bonus    24\n",
    "dtype: int64\n",
    "\n",
    "------------------------------------------------------------------\n",
    "이상의 실습결과를 techmr@daum.net; ty@doublerock.io 메일로 전송하세요.\n",
    "메일제목은 '011일차-실습-1-완료' 라고 지정하세요."
   ]
  },
  {
   "cell_type": "code",
   "execution_count": 6,
   "id": "fa796567",
   "metadata": {},
   "outputs": [
    {
     "name": "stdout",
     "output_type": "stream",
     "text": [
      "<class 'dict'>\n",
      "{'1': 5, '2': 11, '3': 14, '4': 30, '5': 33, '6': 38, 'bonus': 24}\n"
     ]
    }
   ],
   "source": [
    "import pandas as pd\n",
    "\n",
    "data = {'1':5, '2':11, '3':14, '4':30, '5':33, '6':38, 'bonus': 24}\n",
    "\n",
    "print(type(data))\n",
    "print(data)"
   ]
  },
  {
   "cell_type": "code",
   "execution_count": 7,
   "id": "f92eb416",
   "metadata": {},
   "outputs": [
    {
     "name": "stdout",
     "output_type": "stream",
     "text": [
      "1         5\n",
      "2        11\n",
      "3        14\n",
      "4        30\n",
      "5        33\n",
      "6        38\n",
      "bonus    24\n",
      "dtype: int64\n"
     ]
    }
   ],
   "source": [
    "s = pd.Series(data)\n",
    "\n",
    "print(s)"
   ]
  },
  {
   "cell_type": "code",
   "execution_count": null,
   "id": "1a967d13",
   "metadata": {},
   "outputs": [],
   "source": []
  }
 ],
 "metadata": {
  "kernelspec": {
   "display_name": "Python 3",
   "language": "python",
   "name": "python3"
  },
  "language_info": {
   "codemirror_mode": {
    "name": "ipython",
    "version": 3
   },
   "file_extension": ".py",
   "mimetype": "text/x-python",
   "name": "python",
   "nbconvert_exporter": "python",
   "pygments_lexer": "ipython3",
   "version": "3.13.4"
  }
 },
 "nbformat": 4,
 "nbformat_minor": 5
}
